{
  "nbformat": 4,
  "nbformat_minor": 0,
  "metadata": {
    "colab": {
      "provenance": [],
      "gpuType": "T4",
      "machine_shape": "hm",
      "collapsed_sections": [
        "fI0nuMGja7Wc",
        "ymSeRXaUklex"
      ],
      "include_colab_link": true
    },
    "kernelspec": {
      "name": "python3",
      "display_name": "Python 3"
    },
    "language_info": {
      "name": "python"
    },
    "gpuClass": "premium"
  },
  "cells": [
    {
      "cell_type": "markdown",
      "metadata": {
        "id": "view-in-github",
        "colab_type": "text"
      },
      "source": [
        "<a href=\"https://colab.research.google.com/github/EFTAY/testing/blob/main/img_restore.ipynb\" target=\"_parent\"><img src=\"https://colab.research.google.com/assets/colab-badge.svg\" alt=\"Open In Colab\"/></a>"
      ]
    },
    {
      "cell_type": "markdown",
      "source": [
        "Installing libraries and Importing modules"
      ],
      "metadata": {
        "id": "ca6vsHuoZQZo"
      }
    },
    {
      "cell_type": "code",
      "execution_count": null,
      "metadata": {
        "colab": {
          "base_uri": "https://localhost:8080/"
        },
        "id": "hN4ySSbX2iJn",
        "outputId": "a89b65ac-ba6d-40cf-ecf9-06df520bc308"
      },
      "outputs": [
        {
          "output_type": "stream",
          "name": "stdout",
          "text": [
            "Looking in indexes: https://pypi.org/simple, https://us-python.pkg.dev/colab-wheels/public/simple/\n",
            "Collecting basicsr\n",
            "  Downloading basicsr-1.4.2.tar.gz (172 kB)\n",
            "\u001b[2K     \u001b[90m━━━━━━━━━━━━━━━━━━━━━━━━━━━━━━━━━━━━━━━\u001b[0m \u001b[32m172.5/172.5 kB\u001b[0m \u001b[31m4.0 MB/s\u001b[0m eta \u001b[36m0:00:00\u001b[0m\n",
            "\u001b[?25h  Preparing metadata (setup.py) ... \u001b[?25l\u001b[?25hdone\n",
            "Collecting addict (from basicsr)\n",
            "  Downloading addict-2.4.0-py3-none-any.whl (3.8 kB)\n",
            "Requirement already satisfied: future in /usr/local/lib/python3.10/dist-packages (from basicsr) (0.18.3)\n",
            "Collecting lmdb (from basicsr)\n",
            "  Downloading lmdb-1.4.1-cp310-cp310-manylinux_2_17_x86_64.manylinux2014_x86_64.whl (299 kB)\n",
            "\u001b[2K     \u001b[90m━━━━━━━━━━━━━━━━━━━━━━━━━━━━━━━━━━━━━━\u001b[0m \u001b[32m299.2/299.2 kB\u001b[0m \u001b[31m14.1 MB/s\u001b[0m eta \u001b[36m0:00:00\u001b[0m\n",
            "\u001b[?25hRequirement already satisfied: numpy>=1.17 in /usr/local/lib/python3.10/dist-packages (from basicsr) (1.22.4)\n",
            "Requirement already satisfied: opencv-python in /usr/local/lib/python3.10/dist-packages (from basicsr) (4.7.0.72)\n",
            "Requirement already satisfied: Pillow in /usr/local/lib/python3.10/dist-packages (from basicsr) (8.4.0)\n",
            "Requirement already satisfied: pyyaml in /usr/local/lib/python3.10/dist-packages (from basicsr) (6.0)\n",
            "Requirement already satisfied: requests in /usr/local/lib/python3.10/dist-packages (from basicsr) (2.27.1)\n",
            "Requirement already satisfied: scikit-image in /usr/local/lib/python3.10/dist-packages (from basicsr) (0.19.3)\n",
            "Requirement already satisfied: scipy in /usr/local/lib/python3.10/dist-packages (from basicsr) (1.10.1)\n",
            "Collecting tb-nightly (from basicsr)\n",
            "  Downloading tb_nightly-2.14.0a20230523-py3-none-any.whl (5.6 MB)\n",
            "\u001b[2K     \u001b[90m━━━━━━━━━━━━━━━━━━━━━━━━━━━━━━━━━━━━━━━━\u001b[0m \u001b[32m5.6/5.6 MB\u001b[0m \u001b[31m70.7 MB/s\u001b[0m eta \u001b[36m0:00:00\u001b[0m\n",
            "\u001b[?25hRequirement already satisfied: torch>=1.7 in /usr/local/lib/python3.10/dist-packages (from basicsr) (2.0.1+cu118)\n",
            "Requirement already satisfied: torchvision in /usr/local/lib/python3.10/dist-packages (from basicsr) (0.15.2+cu118)\n",
            "Requirement already satisfied: tqdm in /usr/local/lib/python3.10/dist-packages (from basicsr) (4.65.0)\n",
            "Collecting yapf (from basicsr)\n",
            "  Downloading yapf-0.33.0-py2.py3-none-any.whl (200 kB)\n",
            "\u001b[2K     \u001b[90m━━━━━━━━━━━━━━━━━━━━━━━━━━━━━━━━━━━━━━\u001b[0m \u001b[32m200.9/200.9 kB\u001b[0m \u001b[31m21.6 MB/s\u001b[0m eta \u001b[36m0:00:00\u001b[0m\n",
            "\u001b[?25hRequirement already satisfied: filelock in /usr/local/lib/python3.10/dist-packages (from torch>=1.7->basicsr) (3.12.0)\n",
            "Requirement already satisfied: typing-extensions in /usr/local/lib/python3.10/dist-packages (from torch>=1.7->basicsr) (4.5.0)\n",
            "Requirement already satisfied: sympy in /usr/local/lib/python3.10/dist-packages (from torch>=1.7->basicsr) (1.11.1)\n",
            "Requirement already satisfied: networkx in /usr/local/lib/python3.10/dist-packages (from torch>=1.7->basicsr) (3.1)\n",
            "Requirement already satisfied: jinja2 in /usr/local/lib/python3.10/dist-packages (from torch>=1.7->basicsr) (3.1.2)\n",
            "Requirement already satisfied: triton==2.0.0 in /usr/local/lib/python3.10/dist-packages (from torch>=1.7->basicsr) (2.0.0)\n",
            "Requirement already satisfied: cmake in /usr/local/lib/python3.10/dist-packages (from triton==2.0.0->torch>=1.7->basicsr) (3.25.2)\n",
            "Requirement already satisfied: lit in /usr/local/lib/python3.10/dist-packages (from triton==2.0.0->torch>=1.7->basicsr) (16.0.5)\n",
            "Requirement already satisfied: urllib3<1.27,>=1.21.1 in /usr/local/lib/python3.10/dist-packages (from requests->basicsr) (1.26.15)\n",
            "Requirement already satisfied: certifi>=2017.4.17 in /usr/local/lib/python3.10/dist-packages (from requests->basicsr) (2022.12.7)\n",
            "Requirement already satisfied: charset-normalizer~=2.0.0 in /usr/local/lib/python3.10/dist-packages (from requests->basicsr) (2.0.12)\n",
            "Requirement already satisfied: idna<4,>=2.5 in /usr/local/lib/python3.10/dist-packages (from requests->basicsr) (3.4)\n",
            "Requirement already satisfied: imageio>=2.4.1 in /usr/local/lib/python3.10/dist-packages (from scikit-image->basicsr) (2.25.1)\n",
            "Requirement already satisfied: tifffile>=2019.7.26 in /usr/local/lib/python3.10/dist-packages (from scikit-image->basicsr) (2023.4.12)\n",
            "Requirement already satisfied: PyWavelets>=1.1.1 in /usr/local/lib/python3.10/dist-packages (from scikit-image->basicsr) (1.4.1)\n",
            "Requirement already satisfied: packaging>=20.0 in /usr/local/lib/python3.10/dist-packages (from scikit-image->basicsr) (23.1)\n",
            "Requirement already satisfied: absl-py>=0.4 in /usr/local/lib/python3.10/dist-packages (from tb-nightly->basicsr) (1.4.0)\n",
            "Requirement already satisfied: grpcio>=1.48.2 in /usr/local/lib/python3.10/dist-packages (from tb-nightly->basicsr) (1.54.0)\n",
            "Requirement already satisfied: google-auth<3,>=1.6.3 in /usr/local/lib/python3.10/dist-packages (from tb-nightly->basicsr) (2.17.3)\n",
            "Requirement already satisfied: google-auth-oauthlib<1.1,>=0.5 in /usr/local/lib/python3.10/dist-packages (from tb-nightly->basicsr) (1.0.0)\n",
            "Requirement already satisfied: markdown>=2.6.8 in /usr/local/lib/python3.10/dist-packages (from tb-nightly->basicsr) (3.4.3)\n",
            "Requirement already satisfied: protobuf>=3.19.6 in /usr/local/lib/python3.10/dist-packages (from tb-nightly->basicsr) (3.20.3)\n",
            "Requirement already satisfied: setuptools>=41.0.0 in /usr/local/lib/python3.10/dist-packages (from tb-nightly->basicsr) (67.7.2)\n",
            "Requirement already satisfied: tensorboard-data-server<0.8.0,>=0.7.0 in /usr/local/lib/python3.10/dist-packages (from tb-nightly->basicsr) (0.7.0)\n",
            "Requirement already satisfied: werkzeug>=1.0.1 in /usr/local/lib/python3.10/dist-packages (from tb-nightly->basicsr) (2.3.0)\n",
            "Requirement already satisfied: wheel>=0.26 in /usr/local/lib/python3.10/dist-packages (from tb-nightly->basicsr) (0.40.0)\n",
            "Requirement already satisfied: tomli>=2.0.1 in /usr/local/lib/python3.10/dist-packages (from yapf->basicsr) (2.0.1)\n",
            "Requirement already satisfied: cachetools<6.0,>=2.0.0 in /usr/local/lib/python3.10/dist-packages (from google-auth<3,>=1.6.3->tb-nightly->basicsr) (5.3.0)\n",
            "Requirement already satisfied: pyasn1-modules>=0.2.1 in /usr/local/lib/python3.10/dist-packages (from google-auth<3,>=1.6.3->tb-nightly->basicsr) (0.3.0)\n",
            "Requirement already satisfied: six>=1.9.0 in /usr/local/lib/python3.10/dist-packages (from google-auth<3,>=1.6.3->tb-nightly->basicsr) (1.16.0)\n",
            "Requirement already satisfied: rsa<5,>=3.1.4 in /usr/local/lib/python3.10/dist-packages (from google-auth<3,>=1.6.3->tb-nightly->basicsr) (4.9)\n",
            "Requirement already satisfied: requests-oauthlib>=0.7.0 in /usr/local/lib/python3.10/dist-packages (from google-auth-oauthlib<1.1,>=0.5->tb-nightly->basicsr) (1.3.1)\n",
            "Requirement already satisfied: MarkupSafe>=2.1.1 in /usr/local/lib/python3.10/dist-packages (from werkzeug>=1.0.1->tb-nightly->basicsr) (2.1.2)\n",
            "Requirement already satisfied: mpmath>=0.19 in /usr/local/lib/python3.10/dist-packages (from sympy->torch>=1.7->basicsr) (1.3.0)\n",
            "Requirement already satisfied: pyasn1<0.6.0,>=0.4.6 in /usr/local/lib/python3.10/dist-packages (from pyasn1-modules>=0.2.1->google-auth<3,>=1.6.3->tb-nightly->basicsr) (0.5.0)\n",
            "Requirement already satisfied: oauthlib>=3.0.0 in /usr/local/lib/python3.10/dist-packages (from requests-oauthlib>=0.7.0->google-auth-oauthlib<1.1,>=0.5->tb-nightly->basicsr) (3.2.2)\n",
            "Building wheels for collected packages: basicsr\n",
            "  Building wheel for basicsr (setup.py) ... \u001b[?25l\u001b[?25hdone\n",
            "  Created wheel for basicsr: filename=basicsr-1.4.2-py3-none-any.whl size=214823 sha256=84356470b6d7b140fb6f9cb4520b61663c67f5131b403a44238088a8f0aafce6\n",
            "  Stored in directory: /root/.cache/pip/wheels/38/83/99/2d8437cc652a01af27df5ff037a4075e95b52d67705c5f30ca\n",
            "Successfully built basicsr\n",
            "Installing collected packages: lmdb, addict, yapf, tb-nightly, basicsr\n",
            "Successfully installed addict-2.4.0 basicsr-1.4.2 lmdb-1.4.1 tb-nightly-2.14.0a20230523 yapf-0.33.0\n",
            "Looking in indexes: https://pypi.org/simple, https://us-python.pkg.dev/colab-wheels/public/simple/\n",
            "Collecting lpips\n",
            "  Downloading lpips-0.1.4-py3-none-any.whl (53 kB)\n",
            "\u001b[2K     \u001b[90m━━━━━━━━━━━━━━━━━━━━━━━━━━━━━━━━━━━━━━━━\u001b[0m \u001b[32m53.8/53.8 kB\u001b[0m \u001b[31m1.7 MB/s\u001b[0m eta \u001b[36m0:00:00\u001b[0m\n",
            "\u001b[?25hRequirement already satisfied: torch>=0.4.0 in /usr/local/lib/python3.10/dist-packages (from lpips) (2.0.1+cu118)\n",
            "Requirement already satisfied: torchvision>=0.2.1 in /usr/local/lib/python3.10/dist-packages (from lpips) (0.15.2+cu118)\n",
            "Requirement already satisfied: numpy>=1.14.3 in /usr/local/lib/python3.10/dist-packages (from lpips) (1.22.4)\n",
            "Requirement already satisfied: scipy>=1.0.1 in /usr/local/lib/python3.10/dist-packages (from lpips) (1.10.1)\n",
            "Requirement already satisfied: tqdm>=4.28.1 in /usr/local/lib/python3.10/dist-packages (from lpips) (4.65.0)\n",
            "Requirement already satisfied: filelock in /usr/local/lib/python3.10/dist-packages (from torch>=0.4.0->lpips) (3.12.0)\n",
            "Requirement already satisfied: typing-extensions in /usr/local/lib/python3.10/dist-packages (from torch>=0.4.0->lpips) (4.5.0)\n",
            "Requirement already satisfied: sympy in /usr/local/lib/python3.10/dist-packages (from torch>=0.4.0->lpips) (1.11.1)\n",
            "Requirement already satisfied: networkx in /usr/local/lib/python3.10/dist-packages (from torch>=0.4.0->lpips) (3.1)\n",
            "Requirement already satisfied: jinja2 in /usr/local/lib/python3.10/dist-packages (from torch>=0.4.0->lpips) (3.1.2)\n",
            "Requirement already satisfied: triton==2.0.0 in /usr/local/lib/python3.10/dist-packages (from torch>=0.4.0->lpips) (2.0.0)\n",
            "Requirement already satisfied: cmake in /usr/local/lib/python3.10/dist-packages (from triton==2.0.0->torch>=0.4.0->lpips) (3.25.2)\n",
            "Requirement already satisfied: lit in /usr/local/lib/python3.10/dist-packages (from triton==2.0.0->torch>=0.4.0->lpips) (16.0.5)\n",
            "Requirement already satisfied: requests in /usr/local/lib/python3.10/dist-packages (from torchvision>=0.2.1->lpips) (2.27.1)\n",
            "Requirement already satisfied: pillow!=8.3.*,>=5.3.0 in /usr/local/lib/python3.10/dist-packages (from torchvision>=0.2.1->lpips) (8.4.0)\n",
            "Requirement already satisfied: MarkupSafe>=2.0 in /usr/local/lib/python3.10/dist-packages (from jinja2->torch>=0.4.0->lpips) (2.1.2)\n",
            "Requirement already satisfied: urllib3<1.27,>=1.21.1 in /usr/local/lib/python3.10/dist-packages (from requests->torchvision>=0.2.1->lpips) (1.26.15)\n",
            "Requirement already satisfied: certifi>=2017.4.17 in /usr/local/lib/python3.10/dist-packages (from requests->torchvision>=0.2.1->lpips) (2022.12.7)\n",
            "Requirement already satisfied: charset-normalizer~=2.0.0 in /usr/local/lib/python3.10/dist-packages (from requests->torchvision>=0.2.1->lpips) (2.0.12)\n",
            "Requirement already satisfied: idna<4,>=2.5 in /usr/local/lib/python3.10/dist-packages (from requests->torchvision>=0.2.1->lpips) (3.4)\n",
            "Requirement already satisfied: mpmath>=0.19 in /usr/local/lib/python3.10/dist-packages (from sympy->torch>=0.4.0->lpips) (1.3.0)\n",
            "Installing collected packages: lpips\n",
            "Successfully installed lpips-0.1.4\n",
            "Looking in indexes: https://pypi.org/simple, https://us-python.pkg.dev/colab-wheels/public/simple/\n",
            "Collecting facexlib\n",
            "  Downloading facexlib-0.3.0-py3-none-any.whl (59 kB)\n",
            "\u001b[2K     \u001b[90m━━━━━━━━━━━━━━━━━━━━━━━━━━━━━━━━━━━━━━━━\u001b[0m \u001b[32m59.6/59.6 kB\u001b[0m \u001b[31m2.2 MB/s\u001b[0m eta \u001b[36m0:00:00\u001b[0m\n",
            "\u001b[?25hCollecting filterpy (from facexlib)\n",
            "  Downloading filterpy-1.4.5.zip (177 kB)\n",
            "\u001b[2K     \u001b[90m━━━━━━━━━━━━━━━━━━━━━━━━━━━━━━━━━━━━━━━\u001b[0m \u001b[32m178.0/178.0 kB\u001b[0m \u001b[31m7.5 MB/s\u001b[0m eta \u001b[36m0:00:00\u001b[0m\n",
            "\u001b[?25h  Preparing metadata (setup.py) ... \u001b[?25l\u001b[?25hdone\n",
            "Requirement already satisfied: numba in /usr/local/lib/python3.10/dist-packages (from facexlib) (0.56.4)\n",
            "Requirement already satisfied: numpy in /usr/local/lib/python3.10/dist-packages (from facexlib) (1.22.4)\n",
            "Requirement already satisfied: opencv-python in /usr/local/lib/python3.10/dist-packages (from facexlib) (4.7.0.72)\n",
            "Requirement already satisfied: Pillow in /usr/local/lib/python3.10/dist-packages (from facexlib) (8.4.0)\n",
            "Requirement already satisfied: scipy in /usr/local/lib/python3.10/dist-packages (from facexlib) (1.10.1)\n",
            "Requirement already satisfied: torch in /usr/local/lib/python3.10/dist-packages (from facexlib) (2.0.1+cu118)\n",
            "Requirement already satisfied: torchvision in /usr/local/lib/python3.10/dist-packages (from facexlib) (0.15.2+cu118)\n",
            "Requirement already satisfied: tqdm in /usr/local/lib/python3.10/dist-packages (from facexlib) (4.65.0)\n",
            "Requirement already satisfied: matplotlib in /usr/local/lib/python3.10/dist-packages (from filterpy->facexlib) (3.7.1)\n",
            "Requirement already satisfied: llvmlite<0.40,>=0.39.0dev0 in /usr/local/lib/python3.10/dist-packages (from numba->facexlib) (0.39.1)\n",
            "Requirement already satisfied: setuptools in /usr/local/lib/python3.10/dist-packages (from numba->facexlib) (67.7.2)\n",
            "Requirement already satisfied: filelock in /usr/local/lib/python3.10/dist-packages (from torch->facexlib) (3.12.0)\n",
            "Requirement already satisfied: typing-extensions in /usr/local/lib/python3.10/dist-packages (from torch->facexlib) (4.5.0)\n",
            "Requirement already satisfied: sympy in /usr/local/lib/python3.10/dist-packages (from torch->facexlib) (1.11.1)\n",
            "Requirement already satisfied: networkx in /usr/local/lib/python3.10/dist-packages (from torch->facexlib) (3.1)\n",
            "Requirement already satisfied: jinja2 in /usr/local/lib/python3.10/dist-packages (from torch->facexlib) (3.1.2)\n",
            "Requirement already satisfied: triton==2.0.0 in /usr/local/lib/python3.10/dist-packages (from torch->facexlib) (2.0.0)\n",
            "Requirement already satisfied: cmake in /usr/local/lib/python3.10/dist-packages (from triton==2.0.0->torch->facexlib) (3.25.2)\n",
            "Requirement already satisfied: lit in /usr/local/lib/python3.10/dist-packages (from triton==2.0.0->torch->facexlib) (16.0.5)\n",
            "Requirement already satisfied: requests in /usr/local/lib/python3.10/dist-packages (from torchvision->facexlib) (2.27.1)\n",
            "Requirement already satisfied: MarkupSafe>=2.0 in /usr/local/lib/python3.10/dist-packages (from jinja2->torch->facexlib) (2.1.2)\n",
            "Requirement already satisfied: contourpy>=1.0.1 in /usr/local/lib/python3.10/dist-packages (from matplotlib->filterpy->facexlib) (1.0.7)\n",
            "Requirement already satisfied: cycler>=0.10 in /usr/local/lib/python3.10/dist-packages (from matplotlib->filterpy->facexlib) (0.11.0)\n",
            "Requirement already satisfied: fonttools>=4.22.0 in /usr/local/lib/python3.10/dist-packages (from matplotlib->filterpy->facexlib) (4.39.3)\n",
            "Requirement already satisfied: kiwisolver>=1.0.1 in /usr/local/lib/python3.10/dist-packages (from matplotlib->filterpy->facexlib) (1.4.4)\n",
            "Requirement already satisfied: packaging>=20.0 in /usr/local/lib/python3.10/dist-packages (from matplotlib->filterpy->facexlib) (23.1)\n",
            "Requirement already satisfied: pyparsing>=2.3.1 in /usr/local/lib/python3.10/dist-packages (from matplotlib->filterpy->facexlib) (3.0.9)\n",
            "Requirement already satisfied: python-dateutil>=2.7 in /usr/local/lib/python3.10/dist-packages (from matplotlib->filterpy->facexlib) (2.8.2)\n",
            "Requirement already satisfied: urllib3<1.27,>=1.21.1 in /usr/local/lib/python3.10/dist-packages (from requests->torchvision->facexlib) (1.26.15)\n",
            "Requirement already satisfied: certifi>=2017.4.17 in /usr/local/lib/python3.10/dist-packages (from requests->torchvision->facexlib) (2022.12.7)\n",
            "Requirement already satisfied: charset-normalizer~=2.0.0 in /usr/local/lib/python3.10/dist-packages (from requests->torchvision->facexlib) (2.0.12)\n",
            "Requirement already satisfied: idna<4,>=2.5 in /usr/local/lib/python3.10/dist-packages (from requests->torchvision->facexlib) (3.4)\n",
            "Requirement already satisfied: mpmath>=0.19 in /usr/local/lib/python3.10/dist-packages (from sympy->torch->facexlib) (1.3.0)\n",
            "Requirement already satisfied: six>=1.5 in /usr/local/lib/python3.10/dist-packages (from python-dateutil>=2.7->matplotlib->filterpy->facexlib) (1.16.0)\n",
            "Building wheels for collected packages: filterpy\n",
            "  Building wheel for filterpy (setup.py) ... \u001b[?25l\u001b[?25hdone\n",
            "  Created wheel for filterpy: filename=filterpy-1.4.5-py3-none-any.whl size=110459 sha256=0e1f9b07ebaa35fe90fa1fb9ff0e0a845aea52145863997f4fb4310054a4943b\n",
            "  Stored in directory: /root/.cache/pip/wheels/0f/0c/ea/218f266af4ad626897562199fbbcba521b8497303200186102\n",
            "Successfully built filterpy\n",
            "Installing collected packages: filterpy, facexlib\n",
            "Successfully installed facexlib-0.3.0 filterpy-1.4.5\n"
          ]
        }
      ],
      "source": [
        "!pip install basicsr\n",
        "!pip install lpips\n",
        "!pip install facexlib"
      ]
    },
    {
      "cell_type": "code",
      "source": [
        "\n",
        "from basicsr.archs.arch_util import default_init_weights\n",
        "from torch import nn\n",
        "from torch.nn import functional as F\n",
        "import math\n",
        "import random\n",
        "import torch\n",
        "import cv2\n",
        "import math\n",
        "import datetime\n",
        "import logging\n",
        "import numpy as np\n",
        "import os.path as osp\n",
        "import torch\n",
        "import time\n",
        "import torch.utils.data as data\n",
        "from basicsr.data import degradations as degradations\n",
        "from basicsr.data.data_util import paths_from_folder\n",
        "from basicsr.archs.rrdbnet_arch import RRDBNet\n",
        "from basicsr.data.transforms import augment\n",
        "from basicsr.utils import FileClient, get_root_logger, imfrombytes, img2tensor\n",
        "from basicsr.utils.registry import DATASET_REGISTRY\n",
        "from torchvision.transforms.functional import (adjust_brightness, adjust_contrast, adjust_hue, adjust_saturation,\n",
        "                                               normalize)\n",
        "from basicsr.archs.stylegan2_arch import (ConvLayer, EqualConv2d, EqualLinear, ResBlock, ScaledLeakyReLU, StyleGAN2Generator)\n",
        "from basicsr.ops.fused_act import FusedLeakyReLU\n",
        "from basicsr.utils.download_util import load_file_from_url\n",
        "from facexlib.utils.face_restoration_helper import FaceRestoreHelper\n",
        "from torchvision.transforms.functional import normalize\n",
        "from basicsr.data import build_dataloader, build_dataset\n",
        "from basicsr.data.data_sampler import EnlargedSampler\n",
        "from basicsr.data.prefetch_dataloader import CPUPrefetcher, CUDAPrefetcher\n",
        "from basicsr.models import build_model\n",
        "from basicsr.utils import (AvgTimer, MessageLogger, check_resume, get_env_info, get_root_logger, get_time_str,\n",
        "                           init_tb_logger, init_wandb_logger, make_exp_dirs, mkdir_and_rename, scandir)\n",
        "from basicsr.utils.options import copy_opt_file, dict2str, parse_options\n",
        "from basicsr.utils import img2tensor, tensor2img\n",
        "from basicsr.utils.download_util import load_file_from_url\n",
        "from facexlib.utils.face_restoration_helper import FaceRestoreHelper\n",
        "from torchvision.transforms.functional import normalize\n",
        "from torchvision.models import inception_v3\n",
        "from scipy.linalg import sqrtm\n",
        "from torch.nn.functional import adaptive_avg_pool2d"
      ],
      "metadata": {
        "id": "qjO7YCBNY6nn",
        "colab": {
          "base_uri": "https://localhost:8080/"
        },
        "outputId": "a1db6b60-8974-401b-c1a7-35f818e56345"
      },
      "execution_count": null,
      "outputs": [
        {
          "output_type": "stream",
          "name": "stderr",
          "text": [
            "/usr/local/lib/python3.10/dist-packages/torchvision/transforms/functional_tensor.py:5: UserWarning: The torchvision.transforms.functional_tensor module is deprecated in 0.15 and will be **removed in 0.17**. Please don't rely on it. You probably just need to use APIs in torchvision.transforms.functional or in torchvision.transforms.v2.functional.\n",
            "  warnings.warn(\n"
          ]
        }
      ]
    },
    {
      "cell_type": "markdown",
      "source": [
        "# GFP GAN code For face enhancement and resotration"
      ],
      "metadata": {
        "id": "5TMCbHGManA3"
      }
    },
    {
      "cell_type": "markdown",
      "source": [
        "Model architecture classes"
      ],
      "metadata": {
        "id": "a8wxe48KZwa_"
      }
    },
    {
      "cell_type": "code",
      "source": [
        "########### GFP GAN paper version ###########################\n",
        "\n",
        "class StyleGAN2GeneratorSFT(StyleGAN2Generator):\n",
        "    \"\"\"StyleGAN2 Generator with SFT modulation (Spatial Feature Transform).\n",
        "\n",
        "    Args:\n",
        "        out_size (int): The spatial size of outputs.\n",
        "        num_style_feat (int): Channel number of style features. Default: 512.\n",
        "        num_mlp (int): Layer number of MLP style layers. Default: 8.\n",
        "        channel_multiplier (int): Channel multiplier for large networks of StyleGAN2. Default: 2.\n",
        "        resample_kernel (list[int]): A list indicating the 1D resample kernel magnitude. A cross production will be\n",
        "            applied to extent 1D resample kernel to 2D resample kernel. Default: (1, 3, 3, 1).\n",
        "        lr_mlp (float): Learning rate multiplier for mlp layers. Default: 0.01.\n",
        "        narrow (float): The narrow ratio for channels. Default: 1.\n",
        "        sft_half (bool): Whether to apply SFT on half of the input channels. Default: False.\n",
        "    \"\"\"\n",
        "\n",
        "    def __init__(self,\n",
        "                 out_size,\n",
        "                 num_style_feat=512,\n",
        "                 num_mlp=8,\n",
        "                 channel_multiplier=2,\n",
        "                 resample_kernel=(1, 3, 3, 1),\n",
        "                 lr_mlp=0.01,\n",
        "                 narrow=1,\n",
        "                 sft_half=False):\n",
        "        super(StyleGAN2GeneratorSFT, self).__init__(\n",
        "            out_size,\n",
        "            num_style_feat=num_style_feat,\n",
        "            num_mlp=num_mlp,\n",
        "            channel_multiplier=channel_multiplier,\n",
        "            resample_kernel=resample_kernel,\n",
        "            lr_mlp=lr_mlp,\n",
        "            narrow=narrow)\n",
        "        self.sft_half = sft_half\n",
        "\n",
        "    def forward(self,\n",
        "                styles,\n",
        "                conditions,\n",
        "                input_is_latent=False,\n",
        "                noise=None,\n",
        "                randomize_noise=True,\n",
        "                truncation=1,\n",
        "                truncation_latent=None,\n",
        "                inject_index=None,\n",
        "                return_latents=False):\n",
        "        \"\"\"Forward function for StyleGAN2GeneratorSFT.\n",
        "\n",
        "        Args:\n",
        "            styles (list[Tensor]): Sample codes of styles.\n",
        "            conditions (list[Tensor]): SFT conditions to generators.\n",
        "            input_is_latent (bool): Whether input is latent style. Default: False.\n",
        "            noise (Tensor | None): Input noise or None. Default: None.\n",
        "            randomize_noise (bool): Randomize noise, used when 'noise' is False. Default: True.\n",
        "            truncation (float): The truncation ratio. Default: 1.\n",
        "            truncation_latent (Tensor | None): The truncation latent tensor. Default: None.\n",
        "            inject_index (int | None): The injection index for mixing noise. Default: None.\n",
        "            return_latents (bool): Whether to return style latents. Default: False.\n",
        "        \"\"\"\n",
        "        # style codes -> latents with Style MLP layer\n",
        "        if not input_is_latent:\n",
        "            styles = [self.style_mlp(s) for s in styles]\n",
        "        # noises\n",
        "        if noise is None:\n",
        "            if randomize_noise:\n",
        "                noise = [None] * self.num_layers  # for each style conv layer\n",
        "            else:  # use the stored noise\n",
        "                noise = [getattr(self.noises, f'noise{i}') for i in range(self.num_layers)]\n",
        "        # style truncation\n",
        "        if truncation < 1:\n",
        "            style_truncation = []\n",
        "            for style in styles:\n",
        "                style_truncation.append(truncation_latent + truncation * (style - truncation_latent))\n",
        "            styles = style_truncation\n",
        "        # get style latents with injection\n",
        "        if len(styles) == 1:\n",
        "            inject_index = self.num_latent\n",
        "\n",
        "            if styles[0].ndim < 3:\n",
        "                # repeat latent code for all the layers\n",
        "                latent = styles[0].unsqueeze(1).repeat(1, inject_index, 1)\n",
        "            else:  # used for encoder with different latent code for each layer\n",
        "                latent = styles[0]\n",
        "        elif len(styles) == 2:  # mixing noises\n",
        "            if inject_index is None:\n",
        "                inject_index = random.randint(1, self.num_latent - 1)\n",
        "            latent1 = styles[0].unsqueeze(1).repeat(1, inject_index, 1)\n",
        "            latent2 = styles[1].unsqueeze(1).repeat(1, self.num_latent - inject_index, 1)\n",
        "            latent = torch.cat([latent1, latent2], 1)\n",
        "\n",
        "        # main generation\n",
        "        out = self.constant_input(latent.shape[0])\n",
        "        out = self.style_conv1(out, latent[:, 0], noise=noise[0])\n",
        "        skip = self.to_rgb1(out, latent[:, 1])\n",
        "\n",
        "        i = 1\n",
        "        for conv1, conv2, noise1, noise2, to_rgb in zip(self.style_convs[::2], self.style_convs[1::2], noise[1::2],\n",
        "                                                        noise[2::2], self.to_rgbs):\n",
        "            out = conv1(out, latent[:, i], noise=noise1)\n",
        "\n",
        "            # the conditions may have fewer levels\n",
        "            if i < len(conditions):\n",
        "                # SFT part to combine the conditions\n",
        "                if self.sft_half:  # only apply SFT to half of the channels\n",
        "                    out_same, out_sft = torch.split(out, int(out.size(1) // 2), dim=1)\n",
        "                    out_sft = out_sft * conditions[i - 1] + conditions[i]\n",
        "                    out = torch.cat([out_same, out_sft], dim=1)\n",
        "                else:  # apply SFT to all the channels\n",
        "                    out = out * conditions[i - 1] + conditions[i]\n",
        "\n",
        "            out = conv2(out, latent[:, i + 1], noise=noise2)\n",
        "            skip = to_rgb(out, latent[:, i + 2], skip)  # feature back to the rgb space\n",
        "            i += 2\n",
        "\n",
        "        image = skip\n",
        "\n",
        "        if return_latents:\n",
        "            return image, latent\n",
        "        else:\n",
        "            return image, None\n",
        "\n",
        "\n",
        "class ConvUpLayer(nn.Module):\n",
        "    \"\"\"Convolutional upsampling layer. It uses bilinear upsampler + Conv.\n",
        "\n",
        "    Args:\n",
        "        in_channels (int): Channel number of the input.\n",
        "        out_channels (int): Channel number of the output.\n",
        "        kernel_size (int): Size of the convolving kernel.\n",
        "        stride (int): Stride of the convolution. Default: 1\n",
        "        padding (int): Zero-padding added to both sides of the input. Default: 0.\n",
        "        bias (bool): If ``True``, adds a learnable bias to the output. Default: ``True``.\n",
        "        bias_init_val (float): Bias initialized value. Default: 0.\n",
        "        activate (bool): Whether use activateion. Default: True.\n",
        "    \"\"\"\n",
        "\n",
        "    def __init__(self,\n",
        "                 in_channels,\n",
        "                 out_channels,\n",
        "                 kernel_size,\n",
        "                 stride=1,\n",
        "                 padding=0,\n",
        "                 bias=True,\n",
        "                 bias_init_val=0,\n",
        "                 activate=True):\n",
        "        super(ConvUpLayer, self).__init__()\n",
        "        self.in_channels = in_channels\n",
        "        self.out_channels = out_channels\n",
        "        self.kernel_size = kernel_size\n",
        "        self.stride = stride\n",
        "        self.padding = padding\n",
        "        # self.scale is used to scale the convolution weights, which is related to the common initializations.\n",
        "        self.scale = 1 / math.sqrt(in_channels * kernel_size**2)\n",
        "\n",
        "        self.weight = nn.Parameter(torch.randn(out_channels, in_channels, kernel_size, kernel_size))\n",
        "\n",
        "        if bias and not activate:\n",
        "            self.bias = nn.Parameter(torch.zeros(out_channels).fill_(bias_init_val))\n",
        "        else:\n",
        "            self.register_parameter('bias', None)\n",
        "\n",
        "        # activation\n",
        "        if activate:\n",
        "            if bias:\n",
        "                self.activation = FusedLeakyReLU(out_channels)\n",
        "            else:\n",
        "                self.activation = ScaledLeakyReLU(0.2)\n",
        "        else:\n",
        "            self.activation = None\n",
        "\n",
        "    def forward(self, x):\n",
        "        # bilinear upsample\n",
        "        out = F.interpolate(x, scale_factor=2, mode='bilinear', align_corners=False)\n",
        "        # conv\n",
        "        out = F.conv2d(\n",
        "            out,\n",
        "            self.weight * self.scale,\n",
        "            bias=self.bias,\n",
        "            stride=self.stride,\n",
        "            padding=self.padding,\n",
        "        )\n",
        "        # activation\n",
        "        if self.activation is not None:\n",
        "            out = self.activation(out)\n",
        "        return out\n",
        "\n",
        "\n",
        "class ResUpBlock(nn.Module):\n",
        "    \"\"\"Residual block with upsampling.\n",
        "\n",
        "    Args:\n",
        "        in_channels (int): Channel number of the input.\n",
        "        out_channels (int): Channel number of the output.\n",
        "    \"\"\"\n",
        "\n",
        "    def __init__(self, in_channels, out_channels):\n",
        "        super(ResUpBlock, self).__init__()\n",
        "\n",
        "        self.conv1 = ConvLayer(in_channels, in_channels, 3, bias=True, activate=True)\n",
        "        self.conv2 = ConvUpLayer(in_channels, out_channels, 3, stride=1, padding=1, bias=True, activate=True)\n",
        "        self.skip = ConvUpLayer(in_channels, out_channels, 1, bias=False, activate=False)\n",
        "\n",
        "    def forward(self, x):\n",
        "        out = self.conv1(x)\n",
        "        out = self.conv2(out)\n",
        "        skip = self.skip(x)\n",
        "        out = (out + skip) / math.sqrt(2)\n",
        "        return out\n",
        "\n",
        "\n",
        "class GFPGANv1(nn.Module):\n",
        "    \"\"\"The GFPGAN architecture: Unet + StyleGAN2 decoder with SFT.\n",
        "\n",
        "    Ref: GFP-GAN: Towards Real-World Blind Face Restoration with Generative Facial Prior.\n",
        "\n",
        "    Args:\n",
        "        out_size (int): The spatial size of outputs.\n",
        "        num_style_feat (int): Channel number of style features. Default: 512.\n",
        "        channel_multiplier (int): Channel multiplier for large networks of StyleGAN2. Default: 2.\n",
        "        resample_kernel (list[int]): A list indicating the 1D resample kernel magnitude. A cross production will be\n",
        "            applied to extent 1D resample kernel to 2D resample kernel. Default: (1, 3, 3, 1).\n",
        "        decoder_load_path (str): The path to the pre-trained decoder model (usually, the StyleGAN2). Default: None.\n",
        "        fix_decoder (bool): Whether to fix the decoder. Default: True.\n",
        "\n",
        "        num_mlp (int): Layer number of MLP style layers. Default: 8.\n",
        "        lr_mlp (float): Learning rate multiplier for mlp layers. Default: 0.01.\n",
        "        input_is_latent (bool): Whether input is latent style. Default: False.\n",
        "        different_w (bool): Whether to use different latent w for different layers. Default: False.\n",
        "        narrow (float): The narrow ratio for channels. Default: 1.\n",
        "        sft_half (bool): Whether to apply SFT on half of the input channels. Default: False.\n",
        "    \"\"\"\n",
        "\n",
        "    def __init__(\n",
        "            self,\n",
        "            out_size,\n",
        "            num_style_feat=512,\n",
        "            channel_multiplier=1,\n",
        "            resample_kernel=(1, 3, 3, 1),\n",
        "            decoder_load_path=None,\n",
        "            fix_decoder=True,\n",
        "            # for stylegan decoder\n",
        "            num_mlp=8,\n",
        "            lr_mlp=0.01,\n",
        "            input_is_latent=False,\n",
        "            different_w=False,\n",
        "            narrow=1,\n",
        "            sft_half=False):\n",
        "\n",
        "        super(GFPGANv1, self).__init__()\n",
        "        self.input_is_latent = input_is_latent\n",
        "        self.different_w = different_w\n",
        "        self.num_style_feat = num_style_feat\n",
        "\n",
        "        unet_narrow = narrow * 0.5  # by default, use a half of input channels\n",
        "        channels = {\n",
        "            '4': int(512 * unet_narrow),\n",
        "            '8': int(512 * unet_narrow),\n",
        "            '16': int(512 * unet_narrow),\n",
        "            '32': int(512 * unet_narrow),\n",
        "            '64': int(256 * channel_multiplier * unet_narrow),\n",
        "            '128': int(128 * channel_multiplier * unet_narrow),\n",
        "            '256': int(64 * channel_multiplier * unet_narrow),\n",
        "            '512': int(32 * channel_multiplier * unet_narrow),\n",
        "            '1024': int(16 * channel_multiplier * unet_narrow)\n",
        "        }\n",
        "\n",
        "        self.log_size = int(math.log(out_size, 2))\n",
        "        first_out_size = 2**(int(math.log(out_size, 2)))\n",
        "\n",
        "        self.conv_body_first = ConvLayer(3, channels[f'{first_out_size}'], 1, bias=True, activate=True)\n",
        "\n",
        "        # downsample\n",
        "        in_channels = channels[f'{first_out_size}']\n",
        "        self.conv_body_down = nn.ModuleList()\n",
        "        for i in range(self.log_size, 2, -1):\n",
        "            out_channels = channels[f'{2**(i - 1)}']\n",
        "            self.conv_body_down.append(ResBlock(in_channels, out_channels, resample_kernel))\n",
        "            in_channels = out_channels\n",
        "\n",
        "        self.final_conv = ConvLayer(in_channels, channels['4'], 3, bias=True, activate=True)\n",
        "\n",
        "        # upsample\n",
        "        in_channels = channels['4']\n",
        "        self.conv_body_up = nn.ModuleList()\n",
        "        for i in range(3, self.log_size + 1):\n",
        "            out_channels = channels[f'{2**i}']\n",
        "            self.conv_body_up.append(ResUpBlock(in_channels, out_channels))\n",
        "            in_channels = out_channels\n",
        "\n",
        "        # to RGB\n",
        "        self.toRGB = nn.ModuleList()\n",
        "        for i in range(3, self.log_size + 1):\n",
        "            self.toRGB.append(EqualConv2d(channels[f'{2**i}'], 3, 1, stride=1, padding=0, bias=True, bias_init_val=0))\n",
        "\n",
        "        if different_w:\n",
        "            linear_out_channel = (int(math.log(out_size, 2)) * 2 - 2) * num_style_feat\n",
        "        else:\n",
        "            linear_out_channel = num_style_feat\n",
        "\n",
        "        self.final_linear = EqualLinear(\n",
        "            channels['4'] * 4 * 4, linear_out_channel, bias=True, bias_init_val=0, lr_mul=1, activation=None)\n",
        "\n",
        "        # the decoder: stylegan2 generator with SFT modulations\n",
        "        self.stylegan_decoder = StyleGAN2GeneratorSFT(\n",
        "            out_size=out_size,\n",
        "            num_style_feat=num_style_feat,\n",
        "            num_mlp=num_mlp,\n",
        "            channel_multiplier=channel_multiplier,\n",
        "            resample_kernel=resample_kernel,\n",
        "            lr_mlp=lr_mlp,\n",
        "            narrow=narrow,\n",
        "            sft_half=sft_half)\n",
        "\n",
        "        # load pre-trained stylegan2 model if necessary\n",
        "        if decoder_load_path:\n",
        "            self.stylegan_decoder.load_state_dict(\n",
        "                torch.load(decoder_load_path, map_location=lambda storage, loc: storage)['params_ema'])\n",
        "        # fix decoder without updating params\n",
        "        if fix_decoder:\n",
        "            for _, param in self.stylegan_decoder.named_parameters():\n",
        "                param.requires_grad = False\n",
        "\n",
        "        # for SFT modulations (scale and shift)\n",
        "        self.condition_scale = nn.ModuleList()\n",
        "        self.condition_shift = nn.ModuleList()\n",
        "        for i in range(3, self.log_size + 1):\n",
        "            out_channels = channels[f'{2**i}']\n",
        "            if sft_half:\n",
        "                sft_out_channels = out_channels\n",
        "            else:\n",
        "                sft_out_channels = out_channels * 2\n",
        "            self.condition_scale.append(\n",
        "                nn.Sequential(\n",
        "                    EqualConv2d(out_channels, out_channels, 3, stride=1, padding=1, bias=True, bias_init_val=0),\n",
        "                    ScaledLeakyReLU(0.2),\n",
        "                    EqualConv2d(out_channels, sft_out_channels, 3, stride=1, padding=1, bias=True, bias_init_val=1)))\n",
        "            self.condition_shift.append(\n",
        "                nn.Sequential(\n",
        "                    EqualConv2d(out_channels, out_channels, 3, stride=1, padding=1, bias=True, bias_init_val=0),\n",
        "                    ScaledLeakyReLU(0.2),\n",
        "                    EqualConv2d(out_channels, sft_out_channels, 3, stride=1, padding=1, bias=True, bias_init_val=0)))\n",
        "\n",
        "    def forward(self, x, return_latents=False, return_rgb=True, randomize_noise=True, **kwargs):\n",
        "        \"\"\"Forward function for GFPGANv1.\n",
        "\n",
        "        Args:\n",
        "            x (Tensor): Input images.\n",
        "            return_latents (bool): Whether to return style latents. Default: False.\n",
        "            return_rgb (bool): Whether return intermediate rgb images. Default: True.\n",
        "            randomize_noise (bool): Randomize noise, used when 'noise' is False. Default: True.\n",
        "        \"\"\"\n",
        "        conditions = []\n",
        "        unet_skips = []\n",
        "        out_rgbs = []\n",
        "\n",
        "        # encoder\n",
        "        feat = self.conv_body_first(x)\n",
        "        for i in range(self.log_size - 2):\n",
        "            feat = self.conv_body_down[i](feat)\n",
        "            unet_skips.insert(0, feat)\n",
        "\n",
        "        feat = self.final_conv(feat)\n",
        "\n",
        "        # style code\n",
        "        style_code = self.final_linear(feat.view(feat.size(0), -1))\n",
        "        if self.different_w:\n",
        "            style_code = style_code.view(style_code.size(0), -1, self.num_style_feat)\n",
        "\n",
        "        # decode\n",
        "        for i in range(self.log_size - 2):\n",
        "            # add unet skip\n",
        "            feat = feat + unet_skips[i]\n",
        "            # ResUpLayer\n",
        "            feat = self.conv_body_up[i](feat)\n",
        "            # generate scale and shift for SFT layers\n",
        "            scale = self.condition_scale[i](feat)\n",
        "            conditions.append(scale.clone())\n",
        "            shift = self.condition_shift[i](feat)\n",
        "            conditions.append(shift.clone())\n",
        "            # generate rgb images\n",
        "            if return_rgb:\n",
        "                out_rgbs.append(self.toRGB[i](feat))\n",
        "\n",
        "        # decoder\n",
        "        image, _ = self.stylegan_decoder([style_code],\n",
        "                                         conditions,\n",
        "                                         return_latents=return_latents,\n",
        "                                         input_is_latent=self.input_is_latent,\n",
        "                                         randomize_noise=randomize_noise)\n",
        "\n",
        "        return image, out_rgbs\n",
        "\n",
        "\n",
        "class FacialComponentDiscriminator(nn.Module):\n",
        "    \"\"\"Facial component (eyes, mouth) discriminator used in GFPGAN.\n",
        "    \"\"\"\n",
        "\n",
        "    def __init__(self):\n",
        "        super(FacialComponentDiscriminator, self).__init__()\n",
        "        # It now uses a VGG-style architectrue with fixed model size\n",
        "        self.conv1 = ConvLayer(3, 64, 3, downsample=False, resample_kernel=(1, 3, 3, 1), bias=True, activate=True)\n",
        "        self.conv2 = ConvLayer(64, 128, 3, downsample=True, resample_kernel=(1, 3, 3, 1), bias=True, activate=True)\n",
        "        self.conv3 = ConvLayer(128, 128, 3, downsample=False, resample_kernel=(1, 3, 3, 1), bias=True, activate=True)\n",
        "        self.conv4 = ConvLayer(128, 256, 3, downsample=True, resample_kernel=(1, 3, 3, 1), bias=True, activate=True)\n",
        "        self.conv5 = ConvLayer(256, 256, 3, downsample=False, resample_kernel=(1, 3, 3, 1), bias=True, activate=True)\n",
        "        self.final_conv = ConvLayer(256, 1, 3, bias=True, activate=False)\n",
        "\n",
        "    def forward(self, x, return_feats=False, **kwargs):\n",
        "        \"\"\"Forward function for FacialComponentDiscriminator.\n",
        "\n",
        "        Args:\n",
        "            x (Tensor): Input images.\n",
        "            return_feats (bool): Whether to return intermediate features. Default: False.\n",
        "        \"\"\"\n",
        "        feat = self.conv1(x)\n",
        "        feat = self.conv3(self.conv2(feat))\n",
        "        rlt_feats = []\n",
        "        if return_feats:\n",
        "            rlt_feats.append(feat.clone())\n",
        "        feat = self.conv5(self.conv4(feat))\n",
        "        if return_feats:\n",
        "            rlt_feats.append(feat.clone())\n",
        "        out = self.final_conv(feat)\n",
        "\n",
        "        if return_feats:\n",
        "            return out, rlt_feats\n",
        "        else:\n",
        "            return out, None\n",
        "\n"
      ],
      "metadata": {
        "id": "GpTSNlHWcAOd"
      },
      "execution_count": null,
      "outputs": []
    },
    {
      "cell_type": "code",
      "source": [
        "############### GFP GAN Our Version ########################################\n",
        "class NormStyleCode(nn.Module):\n",
        "\n",
        "    def forward(self, x):\n",
        "        \"\"\"Normalize the style codes.\n",
        "\n",
        "        Args:\n",
        "            x (Tensor): Style codes with shape (b, c).\n",
        "\n",
        "        Returns:\n",
        "            Tensor: Normalized tensor.\n",
        "        \"\"\"\n",
        "        return x * torch.rsqrt(torch.mean(x**2, dim=1, keepdim=True) + 1e-8)\n",
        "\n",
        "\n",
        "class ModulatedConv2d(nn.Module):\n",
        "    \"\"\"Modulated Conv2d used in StyleGAN2.\n",
        "\n",
        "    There is no bias in ModulatedConv2d.\n",
        "\n",
        "    Args:\n",
        "        in_channels (int): Channel number of the input.\n",
        "        out_channels (int): Channel number of the output.\n",
        "        kernel_size (int): Size of the convolving kernel.\n",
        "        num_style_feat (int): Channel number of style features.\n",
        "        demodulate (bool): Whether to demodulate in the conv layer. Default: True.\n",
        "        sample_mode (str | None): Indicating 'upsample', 'downsample' or None. Default: None.\n",
        "        eps (float): A value added to the denominator for numerical stability. Default: 1e-8.\n",
        "    \"\"\"\n",
        "\n",
        "    def __init__(self,\n",
        "                 in_channels,\n",
        "                 out_channels,\n",
        "                 kernel_size,\n",
        "                 num_style_feat,\n",
        "                 demodulate=True,\n",
        "                 sample_mode=None,\n",
        "                 eps=1e-8):\n",
        "        super(ModulatedConv2d, self).__init__()\n",
        "        self.in_channels = in_channels\n",
        "        self.out_channels = out_channels\n",
        "        self.kernel_size = kernel_size\n",
        "        self.demodulate = demodulate\n",
        "        self.sample_mode = sample_mode\n",
        "        self.eps = eps\n",
        "\n",
        "        # modulation inside each modulated conv\n",
        "        self.modulation = nn.Linear(num_style_feat, in_channels, bias=True)\n",
        "        # initialization\n",
        "        default_init_weights(self.modulation, scale=1, bias_fill=1, a=0, mode='fan_in', nonlinearity='linear')\n",
        "\n",
        "        self.weight = nn.Parameter(\n",
        "            torch.randn(1, out_channels, in_channels, kernel_size, kernel_size) /\n",
        "            math.sqrt(in_channels * kernel_size**2))\n",
        "        self.padding = kernel_size // 2\n",
        "\n",
        "    def forward(self, x, style):\n",
        "        \"\"\"Forward function.\n",
        "\n",
        "        Args:\n",
        "            x (Tensor): Tensor with shape (b, c, h, w).\n",
        "            style (Tensor): Tensor with shape (b, num_style_feat).\n",
        "\n",
        "        Returns:\n",
        "            Tensor: Modulated tensor after convolution.\n",
        "        \"\"\"\n",
        "        b, c, h, w = x.shape  # c = c_in\n",
        "        # weight modulation\n",
        "        style = self.modulation(style).view(b, 1, c, 1, 1)\n",
        "        # self.weight: (1, c_out, c_in, k, k); style: (b, 1, c, 1, 1)\n",
        "        weight = self.weight * style  # (b, c_out, c_in, k, k)\n",
        "\n",
        "        if self.demodulate:\n",
        "            demod = torch.rsqrt(weight.pow(2).sum([2, 3, 4]) + self.eps)\n",
        "            weight = weight * demod.view(b, self.out_channels, 1, 1, 1)\n",
        "\n",
        "        weight = weight.view(b * self.out_channels, c, self.kernel_size, self.kernel_size)\n",
        "\n",
        "        # upsample or downsample if necessary\n",
        "        if self.sample_mode == 'upsample':\n",
        "            x = F.interpolate(x, scale_factor=2, mode='bilinear', align_corners=False)\n",
        "        elif self.sample_mode == 'downsample':\n",
        "            x = F.interpolate(x, scale_factor=0.5, mode='bilinear', align_corners=False)\n",
        "\n",
        "        b, c, h, w = x.shape\n",
        "        x = x.view(1, b * c, h, w)\n",
        "        # weight: (b*c_out, c_in, k, k), groups=b\n",
        "        out = F.conv2d(x, weight, padding=self.padding, groups=b)\n",
        "        out = out.view(b, self.out_channels, *out.shape[2:4])\n",
        "\n",
        "        return out\n",
        "\n",
        "    def __repr__(self):\n",
        "        return (f'{self.__class__.__name__}(in_channels={self.in_channels}, out_channels={self.out_channels}, '\n",
        "                f'kernel_size={self.kernel_size}, demodulate={self.demodulate}, sample_mode={self.sample_mode})')\n",
        "\n",
        "\n",
        "class StyleConv(nn.Module):\n",
        "    \"\"\"Style conv used in StyleGAN2.\n",
        "\n",
        "    Args:\n",
        "        in_channels (int): Channel number of the input.\n",
        "        out_channels (int): Channel number of the output.\n",
        "        kernel_size (int): Size of the convolving kernel.\n",
        "        num_style_feat (int): Channel number of style features.\n",
        "        demodulate (bool): Whether demodulate in the conv layer. Default: True.\n",
        "        sample_mode (str | None): Indicating 'upsample', 'downsample' or None. Default: None.\n",
        "    \"\"\"\n",
        "\n",
        "    def __init__(self, in_channels, out_channels, kernel_size, num_style_feat, demodulate=True, sample_mode=None):\n",
        "        super(StyleConv, self).__init__()\n",
        "        self.modulated_conv = ModulatedConv2d(\n",
        "            in_channels, out_channels, kernel_size, num_style_feat, demodulate=demodulate, sample_mode=sample_mode)\n",
        "        self.weight = nn.Parameter(torch.zeros(1))  # for noise injection\n",
        "        self.bias = nn.Parameter(torch.zeros(1, out_channels, 1, 1))\n",
        "        self.activate = nn.LeakyReLU(negative_slope=0.2, inplace=True)\n",
        "\n",
        "    def forward(self, x, style, noise=None):\n",
        "        # modulate\n",
        "        out = self.modulated_conv(x, style) * 2**0.5  # for conversion\n",
        "        # noise injection\n",
        "        if noise is None:\n",
        "            b, _, h, w = out.shape\n",
        "            noise = out.new_empty(b, 1, h, w).normal_()\n",
        "        out = out + self.weight * noise\n",
        "        # add bias\n",
        "        out = out + self.bias\n",
        "        # activation\n",
        "        out = self.activate(out)\n",
        "        return out\n",
        "\n",
        "\n",
        "class ToRGB(nn.Module):\n",
        "    \"\"\"To RGB (image space) from features.\n",
        "\n",
        "    Args:\n",
        "        in_channels (int): Channel number of input.\n",
        "        num_style_feat (int): Channel number of style features.\n",
        "        upsample (bool): Whether to upsample. Default: True.\n",
        "    \"\"\"\n",
        "\n",
        "    def __init__(self, in_channels, num_style_feat, upsample=True):\n",
        "        super(ToRGB, self).__init__()\n",
        "        self.upsample = upsample\n",
        "        self.modulated_conv = ModulatedConv2d(\n",
        "            in_channels, 3, kernel_size=1, num_style_feat=num_style_feat, demodulate=False, sample_mode=None)\n",
        "        self.bias = nn.Parameter(torch.zeros(1, 3, 1, 1))\n",
        "\n",
        "    def forward(self, x, style, skip=None):\n",
        "        \"\"\"Forward function.\n",
        "\n",
        "        Args:\n",
        "            x (Tensor): Feature tensor with shape (b, c, h, w).\n",
        "            style (Tensor): Tensor with shape (b, num_style_feat).\n",
        "            skip (Tensor): Base/skip tensor. Default: None.\n",
        "\n",
        "        Returns:\n",
        "            Tensor: RGB images.\n",
        "        \"\"\"\n",
        "        out = self.modulated_conv(x, style)\n",
        "        out = out + self.bias\n",
        "        if skip is not None:\n",
        "            if self.upsample:\n",
        "                skip = F.interpolate(skip, scale_factor=2, mode='bilinear', align_corners=False)\n",
        "            out = out + skip\n",
        "        return out\n",
        "\n",
        "\n",
        "class ConstantInput(nn.Module):\n",
        "    \"\"\"Constant input.\n",
        "\n",
        "    Args:\n",
        "        num_channel (int): Channel number of constant input.\n",
        "        size (int): Spatial size of constant input.\n",
        "    \"\"\"\n",
        "\n",
        "    def __init__(self, num_channel, size):\n",
        "        super(ConstantInput, self).__init__()\n",
        "        self.weight = nn.Parameter(torch.randn(1, num_channel, size, size))\n",
        "\n",
        "    def forward(self, batch):\n",
        "        out = self.weight.repeat(batch, 1, 1, 1)\n",
        "        return out\n",
        "\n",
        "\n",
        "class StyleGAN2GeneratorClean(nn.Module):\n",
        "    \"\"\"Clean version of StyleGAN2 Generator.\n",
        "\n",
        "    Args:\n",
        "        out_size (int): The spatial size of outputs.\n",
        "        num_style_feat (int): Channel number of style features. Default: 512.\n",
        "        num_mlp (int): Layer number of MLP style layers. Default: 8.\n",
        "        channel_multiplier (int): Channel multiplier for large networks of StyleGAN2. Default: 2.\n",
        "        narrow (float): Narrow ratio for channels. Default: 1.0.\n",
        "    \"\"\"\n",
        "\n",
        "    def __init__(self, out_size, num_style_feat=512, num_mlp=8, channel_multiplier=2, narrow=1):\n",
        "        super(StyleGAN2GeneratorClean, self).__init__()\n",
        "        # Style MLP layers\n",
        "        self.num_style_feat = num_style_feat\n",
        "        style_mlp_layers = [NormStyleCode()]\n",
        "        for i in range(num_mlp):\n",
        "            style_mlp_layers.extend(\n",
        "                [nn.Linear(num_style_feat, num_style_feat, bias=True),\n",
        "                 nn.LeakyReLU(negative_slope=0.2, inplace=True)])\n",
        "        self.style_mlp = nn.Sequential(*style_mlp_layers)\n",
        "        # initialization\n",
        "        default_init_weights(self.style_mlp, scale=1, bias_fill=0, a=0.2, mode='fan_in', nonlinearity='leaky_relu')\n",
        "\n",
        "        # channel list\n",
        "        channels = {\n",
        "            '4': int(512 * narrow),\n",
        "            '8': int(512 * narrow),\n",
        "            '16': int(512 * narrow),\n",
        "            '32': int(512 * narrow),\n",
        "            '64': int(256 * channel_multiplier * narrow),\n",
        "            '128': int(128 * channel_multiplier * narrow),\n",
        "            '256': int(64 * channel_multiplier * narrow),\n",
        "            '512': int(32 * channel_multiplier * narrow),\n",
        "            '1024': int(16 * channel_multiplier * narrow)\n",
        "        }\n",
        "        self.channels = channels\n",
        "\n",
        "        self.constant_input = ConstantInput(channels['4'], size=4)\n",
        "        self.style_conv1 = StyleConv(\n",
        "            channels['4'],\n",
        "            channels['4'],\n",
        "            kernel_size=3,\n",
        "            num_style_feat=num_style_feat,\n",
        "            demodulate=True,\n",
        "            sample_mode=None)\n",
        "        self.to_rgb1 = ToRGB(channels['4'], num_style_feat, upsample=False)\n",
        "\n",
        "        self.log_size = int(math.log(out_size, 2))\n",
        "        self.num_layers = (self.log_size - 2) * 2 + 1\n",
        "        self.num_latent = self.log_size * 2 - 2\n",
        "\n",
        "        self.style_convs = nn.ModuleList()\n",
        "        self.to_rgbs = nn.ModuleList()\n",
        "        self.noises = nn.Module()\n",
        "\n",
        "        in_channels = channels['4']\n",
        "        # noise\n",
        "        for layer_idx in range(self.num_layers):\n",
        "            resolution = 2**((layer_idx + 5) // 2)\n",
        "            shape = [1, 1, resolution, resolution]\n",
        "            self.noises.register_buffer(f'noise{layer_idx}', torch.randn(*shape))\n",
        "        # style convs and to_rgbs\n",
        "        for i in range(3, self.log_size + 1):\n",
        "            out_channels = channels[f'{2**i}']\n",
        "            self.style_convs.append(\n",
        "                StyleConv(\n",
        "                    in_channels,\n",
        "                    out_channels,\n",
        "                    kernel_size=3,\n",
        "                    num_style_feat=num_style_feat,\n",
        "                    demodulate=True,\n",
        "                    sample_mode='upsample'))\n",
        "            self.style_convs.append(\n",
        "                StyleConv(\n",
        "                    out_channels,\n",
        "                    out_channels,\n",
        "                    kernel_size=3,\n",
        "                    num_style_feat=num_style_feat,\n",
        "                    demodulate=True,\n",
        "                    sample_mode=None))\n",
        "            self.to_rgbs.append(ToRGB(out_channels, num_style_feat, upsample=True))\n",
        "            in_channels = out_channels\n",
        "\n",
        "    def make_noise(self):\n",
        "        \"\"\"Make noise for noise injection.\"\"\"\n",
        "        device = self.constant_input.weight.device\n",
        "        noises = [torch.randn(1, 1, 4, 4, device=device)]\n",
        "\n",
        "        for i in range(3, self.log_size + 1):\n",
        "            for _ in range(2):\n",
        "                noises.append(torch.randn(1, 1, 2**i, 2**i, device=device))\n",
        "\n",
        "        return noises\n",
        "\n",
        "    def get_latent(self, x):\n",
        "        return self.style_mlp(x)\n",
        "\n",
        "    def mean_latent(self, num_latent):\n",
        "        latent_in = torch.randn(num_latent, self.num_style_feat, device=self.constant_input.weight.device)\n",
        "        latent = self.style_mlp(latent_in).mean(0, keepdim=True)\n",
        "        return latent\n",
        "\n",
        "    def forward(self,\n",
        "                styles,\n",
        "                input_is_latent=False,\n",
        "                noise=None,\n",
        "                randomize_noise=True,\n",
        "                truncation=1,\n",
        "                truncation_latent=None,\n",
        "                inject_index=None,\n",
        "                return_latents=False):\n",
        "        \"\"\"Forward function for StyleGAN2GeneratorClean.\n",
        "\n",
        "        Args:\n",
        "            styles (list[Tensor]): Sample codes of styles.\n",
        "            input_is_latent (bool): Whether input is latent style. Default: False.\n",
        "            noise (Tensor | None): Input noise or None. Default: None.\n",
        "            randomize_noise (bool): Randomize noise, used when 'noise' is False. Default: True.\n",
        "            truncation (float): The truncation ratio. Default: 1.\n",
        "            truncation_latent (Tensor | None): The truncation latent tensor. Default: None.\n",
        "            inject_index (int | None): The injection index for mixing noise. Default: None.\n",
        "            return_latents (bool): Whether to return style latents. Default: False.\n",
        "        \"\"\"\n",
        "        # style codes -> latents with Style MLP layer\n",
        "        if not input_is_latent:\n",
        "            styles = [self.style_mlp(s) for s in styles]\n",
        "        # noises\n",
        "        if noise is None:\n",
        "            if randomize_noise:\n",
        "                noise = [None] * self.num_layers  # for each style conv layer\n",
        "            else:  # use the stored noise\n",
        "                noise = [getattr(self.noises, f'noise{i}') for i in range(self.num_layers)]\n",
        "        # style truncation\n",
        "        if truncation < 1:\n",
        "            style_truncation = []\n",
        "            for style in styles:\n",
        "                style_truncation.append(truncation_latent + truncation * (style - truncation_latent))\n",
        "            styles = style_truncation\n",
        "        # get style latents with injection\n",
        "        if len(styles) == 1:\n",
        "            inject_index = self.num_latent\n",
        "\n",
        "            if styles[0].ndim < 3:\n",
        "                # repeat latent code for all the layers\n",
        "                latent = styles[0].unsqueeze(1).repeat(1, inject_index, 1)\n",
        "            else:  # used for encoder with different latent code for each layer\n",
        "                latent = styles[0]\n",
        "        elif len(styles) == 2:  # mixing noises\n",
        "            if inject_index is None:\n",
        "                inject_index = random.randint(1, self.num_latent - 1)\n",
        "            latent1 = styles[0].unsqueeze(1).repeat(1, inject_index, 1)\n",
        "            latent2 = styles[1].unsqueeze(1).repeat(1, self.num_latent - inject_index, 1)\n",
        "            latent = torch.cat([latent1, latent2], 1)\n",
        "\n",
        "        # main generation\n",
        "        out = self.constant_input(latent.shape[0])\n",
        "        out = self.style_conv1(out, latent[:, 0], noise=noise[0])\n",
        "        skip = self.to_rgb1(out, latent[:, 1])\n",
        "\n",
        "        i = 1\n",
        "        for conv1, conv2, noise1, noise2, to_rgb in zip(self.style_convs[::2], self.style_convs[1::2], noise[1::2],\n",
        "                                                        noise[2::2], self.to_rgbs):\n",
        "            out = conv1(out, latent[:, i], noise=noise1)\n",
        "            out = conv2(out, latent[:, i + 1], noise=noise2)\n",
        "            skip = to_rgb(out, latent[:, i + 2], skip)  # feature back to the rgb space\n",
        "            i += 2\n",
        "\n",
        "        image = skip\n",
        "\n",
        "        if return_latents:\n",
        "            return image, latent\n",
        "        else:\n",
        "            return image, None\n",
        "\n",
        "class StyleGAN2GeneratorCSFT(StyleGAN2GeneratorClean):\n",
        "    \"\"\"StyleGAN2 Generator with SFT modulation (Spatial Feature Transform).\n",
        "\n",
        "    It is the clean version without custom compiled CUDA extensions used in StyleGAN2.\n",
        "\n",
        "    Args:\n",
        "        out_size (int): The spatial size of outputs.\n",
        "        num_style_feat (int): Channel number of style features. Default: 512.\n",
        "        num_mlp (int): Layer number of MLP style layers. Default: 8.\n",
        "        channel_multiplier (int): Channel multiplier for large networks of StyleGAN2. Default: 2.\n",
        "        narrow (float): The narrow ratio for channels. Default: 1.\n",
        "        sft_half (bool): Whether to apply SFT on half of the input channels. Default: False.\n",
        "    \"\"\"\n",
        "\n",
        "    def __init__(self, out_size, num_style_feat=512, num_mlp=8, channel_multiplier=2, narrow=1, sft_half=False):\n",
        "        super(StyleGAN2GeneratorCSFT, self).__init__(\n",
        "            out_size,\n",
        "            num_style_feat=num_style_feat,\n",
        "            num_mlp=num_mlp,\n",
        "            channel_multiplier=channel_multiplier,\n",
        "            narrow=narrow)\n",
        "        self.sft_half = sft_half\n",
        "\n",
        "    def forward(self,\n",
        "                styles,\n",
        "                conditions,\n",
        "                input_is_latent=False,\n",
        "                noise=None,\n",
        "                randomize_noise=True,\n",
        "                truncation=1,\n",
        "                truncation_latent=None,\n",
        "                inject_index=None,\n",
        "                return_latents=False):\n",
        "        \"\"\"Forward function for StyleGAN2GeneratorCSFT.\n",
        "\n",
        "        Args:\n",
        "            styles (list[Tensor]): Sample codes of styles.\n",
        "            conditions (list[Tensor]): SFT conditions to generators.\n",
        "            input_is_latent (bool): Whether input is latent style. Default: False.\n",
        "            noise (Tensor | None): Input noise or None. Default: None.\n",
        "            randomize_noise (bool): Randomize noise, used when 'noise' is False. Default: True.\n",
        "            truncation (float): The truncation ratio. Default: 1.\n",
        "            truncation_latent (Tensor | None): The truncation latent tensor. Default: None.\n",
        "            inject_index (int | None): The injection index for mixing noise. Default: None.\n",
        "            return_latents (bool): Whether to return style latents. Default: False.\n",
        "        \"\"\"\n",
        "        # style codes -> latents with Style MLP layer\n",
        "        if not input_is_latent:\n",
        "            styles = [self.style_mlp(s) for s in styles]\n",
        "        # noises\n",
        "        if noise is None:\n",
        "            if randomize_noise:\n",
        "                noise = [None] * self.num_layers  # for each style conv layer\n",
        "            else:  # use the stored noise\n",
        "                noise = [getattr(self.noises, f'noise{i}') for i in range(self.num_layers)]\n",
        "        # style truncation\n",
        "        if truncation < 1:\n",
        "            style_truncation = []\n",
        "            for style in styles:\n",
        "                style_truncation.append(truncation_latent + truncation * (style - truncation_latent))\n",
        "            styles = style_truncation\n",
        "        # get style latents with injection\n",
        "        if len(styles) == 1:\n",
        "            inject_index = self.num_latent\n",
        "\n",
        "            if styles[0].ndim < 3:\n",
        "                # repeat latent code for all the layers\n",
        "                latent = styles[0].unsqueeze(1).repeat(1, inject_index, 1)\n",
        "            else:  # used for encoder with different latent code for each layer\n",
        "                latent = styles[0]\n",
        "        elif len(styles) == 2:  # mixing noises\n",
        "            if inject_index is None:\n",
        "                inject_index = random.randint(1, self.num_latent - 1)\n",
        "            latent1 = styles[0].unsqueeze(1).repeat(1, inject_index, 1)\n",
        "            latent2 = styles[1].unsqueeze(1).repeat(1, self.num_latent - inject_index, 1)\n",
        "            latent = torch.cat([latent1, latent2], 1)\n",
        "\n",
        "        # main generation\n",
        "        out = self.constant_input(latent.shape[0])\n",
        "        out = self.style_conv1(out, latent[:, 0], noise=noise[0])\n",
        "        skip = self.to_rgb1(out, latent[:, 1])\n",
        "\n",
        "        i = 1\n",
        "        for conv1, conv2, noise1, noise2, to_rgb in zip(self.style_convs[::2], self.style_convs[1::2], noise[1::2],\n",
        "                                                        noise[2::2], self.to_rgbs):\n",
        "            out = conv1(out, latent[:, i], noise=noise1)\n",
        "\n",
        "            # the conditions may have fewer levels\n",
        "            if i < len(conditions):\n",
        "                # SFT part to combine the conditions\n",
        "                if self.sft_half:  # only apply SFT to half of the channels\n",
        "                    out_same, out_sft = torch.split(out, int(out.size(1) // 2), dim=1)\n",
        "                    out_sft = out_sft * conditions[i - 1] + conditions[i]\n",
        "                    out = torch.cat([out_same, out_sft], dim=1)\n",
        "                else:  # apply SFT to all the channels\n",
        "                    out = out * conditions[i - 1] + conditions[i]\n",
        "\n",
        "            out = conv2(out, latent[:, i + 1], noise=noise2)\n",
        "            skip = to_rgb(out, latent[:, i + 2], skip)  # feature back to the rgb space\n",
        "            i += 2\n",
        "\n",
        "        image = skip\n",
        "\n",
        "        if return_latents:\n",
        "            return image, latent\n",
        "        else:\n",
        "            return image, None\n",
        "\n",
        "\n",
        "class ResBlock(nn.Module):\n",
        "    \"\"\"Residual block with bilinear upsampling/downsampling.\n",
        "\n",
        "    Args:\n",
        "        in_channels (int): Channel number of the input.\n",
        "        out_channels (int): Channel number of the output.\n",
        "        mode (str): Upsampling/downsampling mode. Options: down | up. Default: down.\n",
        "    \"\"\"\n",
        "\n",
        "    def __init__(self, in_channels, out_channels, mode='down'):\n",
        "        super(ResBlock, self).__init__()\n",
        "\n",
        "        self.conv1 = nn.Conv2d(in_channels, in_channels, 3, 1, 1)\n",
        "        self.conv2 = nn.Conv2d(in_channels, out_channels, 3, 1, 1)\n",
        "        self.skip = nn.Conv2d(in_channels, out_channels, 1, bias=False)\n",
        "        if mode == 'down':\n",
        "            self.scale_factor = 0.5\n",
        "        elif mode == 'up':\n",
        "            self.scale_factor = 2\n",
        "\n",
        "    def forward(self, x):\n",
        "        out = F.leaky_relu_(self.conv1(x), negative_slope=0.2)\n",
        "        # upsample/downsample\n",
        "        out = F.interpolate(out, scale_factor=self.scale_factor, mode='bilinear', align_corners=False)\n",
        "        out = F.leaky_relu_(self.conv2(out), negative_slope=0.2)\n",
        "        # skip\n",
        "        x = F.interpolate(x, scale_factor=self.scale_factor, mode='bilinear', align_corners=False)\n",
        "        skip = self.skip(x)\n",
        "        out = out + skip\n",
        "        return out\n",
        "\n",
        "\n",
        "class GFPGAN_custom(nn.Module):\n",
        "    \"\"\"The GFPGAN architecture: Unet + StyleGAN2 decoder with SFT.\n",
        "\n",
        "    It is the clean version without custom compiled CUDA extensions used in StyleGAN2.\n",
        "\n",
        "    Ref: GFP-GAN: Towards Real-World Blind Face Restoration with Generative Facial Prior.\n",
        "\n",
        "    Args:\n",
        "        out_size (int): The spatial size of outputs.\n",
        "        num_style_feat (int): Channel number of style features. Default: 512.\n",
        "        channel_multiplier (int): Channel multiplier for large networks of StyleGAN2. Default: 2.\n",
        "        decoder_load_path (str): The path to the pre-trained decoder model (usually, the StyleGAN2). Default: None.\n",
        "        fix_decoder (bool): Whether to fix the decoder. Default: True.\n",
        "\n",
        "        num_mlp (int): Layer number of MLP style layers. Default: 8.\n",
        "        input_is_latent (bool): Whether input is latent style. Default: False.\n",
        "        different_w (bool): Whether to use different latent w for different layers. Default: False.\n",
        "        narrow (float): The narrow ratio for channels. Default: 1.\n",
        "        sft_half (bool): Whether to apply SFT on half of the input channels. Default: False.\n",
        "    \"\"\"\n",
        "\n",
        "    def __init__(\n",
        "            self,\n",
        "            out_size,\n",
        "            num_style_feat=512,\n",
        "            channel_multiplier=1,\n",
        "            decoder_load_path=None,\n",
        "            fix_decoder=True,\n",
        "            # for stylegan decoder\n",
        "            num_mlp=8,\n",
        "            input_is_latent=False,\n",
        "            different_w=False,\n",
        "            narrow=1,\n",
        "            sft_half=False):\n",
        "\n",
        "        super(GFPGAN_custom, self).__init__()\n",
        "        self.input_is_latent = input_is_latent\n",
        "        self.different_w = different_w\n",
        "        self.num_style_feat = num_style_feat\n",
        "\n",
        "        unet_narrow = narrow * 0.5  # by default, use a half of input channels\n",
        "        channels = {\n",
        "            '4': int(512 * unet_narrow),\n",
        "            '8': int(512 * unet_narrow),\n",
        "            '16': int(512 * unet_narrow),\n",
        "            '32': int(512 * unet_narrow),\n",
        "            '64': int(256 * channel_multiplier * unet_narrow),\n",
        "            '128': int(128 * channel_multiplier * unet_narrow),\n",
        "            '256': int(64 * channel_multiplier * unet_narrow),\n",
        "            '512': int(32 * channel_multiplier * unet_narrow),\n",
        "            '1024': int(16 * channel_multiplier * unet_narrow)\n",
        "        }\n",
        "\n",
        "        self.log_size = int(math.log(out_size, 2))\n",
        "        first_out_size = 2**(int(math.log(out_size, 2)))\n",
        "\n",
        "        self.conv_body_first = nn.Conv2d(3, channels[f'{first_out_size}'], 1)\n",
        "\n",
        "        # downsample\n",
        "        in_channels = channels[f'{first_out_size}']\n",
        "        self.conv_body_down = nn.ModuleList()\n",
        "        for i in range(self.log_size, 2, -1):\n",
        "            out_channels = channels[f'{2**(i - 1)}']\n",
        "            self.conv_body_down.append(ResBlock(in_channels, out_channels, mode='down'))\n",
        "            in_channels = out_channels\n",
        "\n",
        "        self.final_conv = nn.Conv2d(in_channels, channels['4'], 3, 1, 1)\n",
        "\n",
        "        # upsample\n",
        "        in_channels = channels['4']\n",
        "        self.conv_body_up = nn.ModuleList()\n",
        "        for i in range(3, self.log_size + 1):\n",
        "            out_channels = channels[f'{2**i}']\n",
        "            self.conv_body_up.append(ResBlock(in_channels, out_channels, mode='up'))\n",
        "            in_channels = out_channels\n",
        "\n",
        "        # to RGB\n",
        "        self.toRGB = nn.ModuleList()\n",
        "        for i in range(3, self.log_size + 1):\n",
        "            self.toRGB.append(nn.Conv2d(channels[f'{2**i}'], 3, 1))\n",
        "\n",
        "        if different_w:\n",
        "            linear_out_channel = (int(math.log(out_size, 2)) * 2 - 2) * num_style_feat\n",
        "        else:\n",
        "            linear_out_channel = num_style_feat\n",
        "\n",
        "        self.final_linear = nn.Linear(channels['4'] * 4 * 4, linear_out_channel)\n",
        "\n",
        "        # the decoder: stylegan2 generator with SFT modulations\n",
        "        self.stylegan_decoder = StyleGAN2GeneratorCSFT(\n",
        "            out_size=out_size,\n",
        "            num_style_feat=num_style_feat,\n",
        "            num_mlp=num_mlp,\n",
        "            channel_multiplier=channel_multiplier,\n",
        "            narrow=narrow,\n",
        "            sft_half=sft_half)\n",
        "\n",
        "        # load pre-trained stylegan2 model if necessary\n",
        "        if decoder_load_path:\n",
        "            self.stylegan_decoder.load_state_dict(\n",
        "                torch.load(decoder_load_path, map_location=lambda storage, loc: storage)['params_ema'])\n",
        "        # fix decoder without updating params\n",
        "        if fix_decoder:\n",
        "            for _, param in self.stylegan_decoder.named_parameters():\n",
        "                param.requires_grad = False\n",
        "\n",
        "        # for SFT modulations (scale and shift)\n",
        "        self.condition_scale = nn.ModuleList()\n",
        "        self.condition_shift = nn.ModuleList()\n",
        "        for i in range(3, self.log_size + 1):\n",
        "            out_channels = channels[f'{2**i}']\n",
        "            if sft_half:\n",
        "                sft_out_channels = out_channels\n",
        "            else:\n",
        "                sft_out_channels = out_channels * 2\n",
        "            self.condition_scale.append(\n",
        "                nn.Sequential(\n",
        "                    nn.Conv2d(out_channels, out_channels, 3, 1, 1), nn.LeakyReLU(0.2, True),\n",
        "                    nn.Conv2d(out_channels, sft_out_channels, 3, 1, 1)))\n",
        "            self.condition_shift.append(\n",
        "                nn.Sequential(\n",
        "                    nn.Conv2d(out_channels, out_channels, 3, 1, 1), nn.LeakyReLU(0.2, True),\n",
        "                    nn.Conv2d(out_channels, sft_out_channels, 3, 1, 1)))\n",
        "\n",
        "    def forward(self, x, return_latents=False, return_rgb=True, randomize_noise=True, **kwargs):\n",
        "        \"\"\"Forward function for GFPGAN_custom.\n",
        "\n",
        "        Args:\n",
        "            x (Tensor): Input images.\n",
        "            return_latents (bool): Whether to return style latents. Default: False.\n",
        "            return_rgb (bool): Whether return intermediate rgb images. Default: True.\n",
        "            randomize_noise (bool): Randomize noise, used when 'noise' is False. Default: True.\n",
        "        \"\"\"\n",
        "        conditions = []\n",
        "        unet_skips = []\n",
        "        out_rgbs = []\n",
        "\n",
        "        # encoder\n",
        "        feat = F.leaky_relu_(self.conv_body_first(x), negative_slope=0.2)\n",
        "        for i in range(self.log_size - 2):\n",
        "            feat = self.conv_body_down[i](feat)\n",
        "            unet_skips.insert(0, feat)\n",
        "        feat = F.leaky_relu_(self.final_conv(feat), negative_slope=0.2)\n",
        "\n",
        "        # style code\n",
        "        style_code = self.final_linear(feat.view(feat.size(0), -1))\n",
        "        if self.different_w:\n",
        "            style_code = style_code.view(style_code.size(0), -1, self.num_style_feat)\n",
        "\n",
        "        # decode\n",
        "        for i in range(self.log_size - 2):\n",
        "            # add unet skip\n",
        "            feat = feat + unet_skips[i]\n",
        "            # ResUpLayer\n",
        "            feat = self.conv_body_up[i](feat)\n",
        "            # generate scale and shift for SFT layers\n",
        "            scale = self.condition_scale[i](feat)\n",
        "            conditions.append(scale.clone())\n",
        "            shift = self.condition_shift[i](feat)\n",
        "            conditions.append(shift.clone())\n",
        "            # generate rgb images\n",
        "            if return_rgb:\n",
        "                out_rgbs.append(self.toRGB[i](feat))\n",
        "\n",
        "        # decoder\n",
        "        image, _ = self.stylegan_decoder([style_code],\n",
        "                                         conditions,\n",
        "                                         return_latents=return_latents,\n",
        "                                         input_is_latent=self.input_is_latent,\n",
        "                                         randomize_noise=randomize_noise)\n",
        "\n",
        "        return image, out_rgbs\n",
        "\n",
        "class FacialComponentDiscriminator(nn.Module):\n",
        "    \"\"\"Facial component (eyes, mouth, noise) discriminator used in GFPGAN.\n",
        "    \"\"\"\n",
        "\n",
        "    def __init__(self):\n",
        "        super(FacialComponentDiscriminator, self).__init__()\n",
        "        # It now uses a VGG-style architectrue with fixed model size\n",
        "        self.conv1 = ConvLayer(3, 64, 3, downsample=False, resample_kernel=(1, 3, 3, 1), bias=True, activate=True)\n",
        "        self.conv2 = ConvLayer(64, 128, 3, downsample=True, resample_kernel=(1, 3, 3, 1), bias=True, activate=True)\n",
        "        self.conv3 = ConvLayer(128, 128, 3, downsample=False, resample_kernel=(1, 3, 3, 1), bias=True, activate=True)\n",
        "        self.conv4 = ConvLayer(128, 256, 3, downsample=True, resample_kernel=(1, 3, 3, 1), bias=True, activate=True)\n",
        "        self.conv5 = ConvLayer(256, 256, 3, downsample=False, resample_kernel=(1, 3, 3, 1), bias=True, activate=True)\n",
        "        self.final_conv = ConvLayer(256, 1, 3, bias=True, activate=False)\n",
        "\n",
        "    def forward(self, x, return_feats=False, **kwargs):\n",
        "        \"\"\"Forward function for FacialComponentDiscriminator.\n",
        "\n",
        "        Args:\n",
        "            x (Tensor): Input images.\n",
        "            return_feats (bool): Whether to return intermediate features. Default: False.\n",
        "        \"\"\"\n",
        "        feat = self.conv1(x)\n",
        "        feat = self.conv3(self.conv2(feat))\n",
        "        rlt_feats = []\n",
        "        if return_feats:\n",
        "            rlt_feats.append(feat.clone())\n",
        "        feat = self.conv5(self.conv4(feat))\n",
        "        if return_feats:\n",
        "            rlt_feats.append(feat.clone())\n",
        "        out = self.final_conv(feat)\n",
        "\n",
        "        if return_feats:\n",
        "            return out, rlt_feats\n",
        "        else:\n",
        "            return out, None\n",
        "\n"
      ],
      "metadata": {
        "id": "S4HcHMw3UnRj"
      },
      "execution_count": null,
      "outputs": []
    },
    {
      "cell_type": "markdown",
      "source": [
        "Data preparation classes"
      ],
      "metadata": {
        "id": "XudN4jYmZcPJ"
      }
    },
    {
      "cell_type": "code",
      "source": [
        "\n",
        "class FFHQDegradationDataset(data.Dataset):\n",
        "    \"\"\"FFHQ dataset for GFPGAN.\n",
        "\n",
        "    It reads high resolution images, and then generate low-quality (LQ) images on-the-fly.\n",
        "\n",
        "    Args:\n",
        "        opt (dict): Config for train datasets. It contains the following keys:\n",
        "            dataroot_gt (str): Data root path for gt.\n",
        "            io_backend (dict): IO backend type and other kwarg.\n",
        "            mean (list | tuple): Image mean.\n",
        "            std (list | tuple): Image std.\n",
        "            use_hflip (bool): Whether to horizontally flip.\n",
        "            Please see more options in the codes.\n",
        "    \"\"\"\n",
        "\n",
        "    def __init__(self, opt):\n",
        "        super(FFHQDegradationDataset, self).__init__()\n",
        "        self.opt = opt\n",
        "        # file client (io backend)\n",
        "        self.file_client = None\n",
        "        self.io_backend_opt = opt['io_backend']\n",
        "\n",
        "        self.gt_folder = opt['dataroot_gt']\n",
        "        self.mean = opt['mean']\n",
        "        self.std = opt['std']\n",
        "        self.out_size = opt['out_size']\n",
        "\n",
        "        self.crop_components = opt.get('crop_components', False)  # facial components\n",
        "        self.eye_enlarge_ratio = opt.get('eye_enlarge_ratio', 1)  # whether enlarge eye regions\n",
        "\n",
        "        if self.crop_components:\n",
        "            # load component list from a pre-process pth files\n",
        "            self.components_list = torch.load(opt.get('component_path'))\n",
        "\n",
        "        # file client (lmdb io backend)\n",
        "        if self.io_backend_opt['type'] == 'lmdb':\n",
        "            self.io_backend_opt['db_paths'] = self.gt_folder\n",
        "            if not self.gt_folder.endswith('.lmdb'):\n",
        "                raise ValueError(f\"'dataroot_gt' should end with '.lmdb', but received {self.gt_folder}\")\n",
        "            with open(osp.join(self.gt_folder, 'meta_info.txt')) as fin:\n",
        "                self.paths = [line.split('.')[0] for line in fin]\n",
        "        else:\n",
        "            # disk backend: scan file list from a folder\n",
        "            self.paths = paths_from_folder(self.gt_folder)\n",
        "\n",
        "        # degradation configurations\n",
        "        self.blur_kernel_size = opt['blur_kernel_size']\n",
        "        self.kernel_list = opt['kernel_list']\n",
        "        self.kernel_prob = opt['kernel_prob']\n",
        "        self.blur_sigma = opt['blur_sigma']\n",
        "        self.downsample_range = opt['downsample_range']\n",
        "        self.noise_range = opt['noise_range']\n",
        "        self.jpeg_range = opt['jpeg_range']\n",
        "\n",
        "        # color jitter\n",
        "        self.color_jitter_prob = opt.get('color_jitter_prob')\n",
        "        self.color_jitter_pt_prob = opt.get('color_jitter_pt_prob')\n",
        "        self.color_jitter_shift = opt.get('color_jitter_shift', 20)\n",
        "        # to gray\n",
        "        self.gray_prob = opt.get('gray_prob')\n",
        "\n",
        "        logger = get_root_logger()\n",
        "        logger.info(f'Blur: blur_kernel_size {self.blur_kernel_size}, sigma: [{\", \".join(map(str, self.blur_sigma))}]')\n",
        "        logger.info(f'Downsample: downsample_range [{\", \".join(map(str, self.downsample_range))}]')\n",
        "        logger.info(f'Noise: [{\", \".join(map(str, self.noise_range))}]')\n",
        "        logger.info(f'JPEG compression: [{\", \".join(map(str, self.jpeg_range))}]')\n",
        "\n",
        "        if self.color_jitter_prob is not None:\n",
        "            logger.info(f'Use random color jitter. Prob: {self.color_jitter_prob}, shift: {self.color_jitter_shift}')\n",
        "        if self.gray_prob is not None:\n",
        "            logger.info(f'Use random gray. Prob: {self.gray_prob}')\n",
        "        self.color_jitter_shift /= 255.\n",
        "\n",
        "    @staticmethod\n",
        "    def color_jitter(img, shift):\n",
        "        \"\"\"jitter color: randomly jitter the RGB values, in numpy formats\"\"\"\n",
        "        jitter_val = np.random.uniform(-shift, shift, 3).astype(np.float32)\n",
        "        img = img + jitter_val\n",
        "        img = np.clip(img, 0, 1)\n",
        "        return img\n",
        "\n",
        "    @staticmethod\n",
        "    def color_jitter_pt(img, brightness, contrast, saturation, hue):\n",
        "        \"\"\"jitter color: randomly jitter the brightness, contrast, saturation, and hue, in torch Tensor formats\"\"\"\n",
        "        fn_idx = torch.randperm(4)\n",
        "        for fn_id in fn_idx:\n",
        "            if fn_id == 0 and brightness is not None:\n",
        "                brightness_factor = torch.tensor(1.0).uniform_(brightness[0], brightness[1]).item()\n",
        "                img = adjust_brightness(img, brightness_factor)\n",
        "\n",
        "            if fn_id == 1 and contrast is not None:\n",
        "                contrast_factor = torch.tensor(1.0).uniform_(contrast[0], contrast[1]).item()\n",
        "                img = adjust_contrast(img, contrast_factor)\n",
        "\n",
        "            if fn_id == 2 and saturation is not None:\n",
        "                saturation_factor = torch.tensor(1.0).uniform_(saturation[0], saturation[1]).item()\n",
        "                img = adjust_saturation(img, saturation_factor)\n",
        "\n",
        "            if fn_id == 3 and hue is not None:\n",
        "                hue_factor = torch.tensor(1.0).uniform_(hue[0], hue[1]).item()\n",
        "                img = adjust_hue(img, hue_factor)\n",
        "        return img\n",
        "\n",
        "    def get_component_coordinates(self, index, status):\n",
        "        \"\"\"Get facial component (left_eye, right_eye, mouth) coordinates from a pre-loaded pth file\"\"\"\n",
        "        components_bbox = self.components_list[f'{index:08d}']\n",
        "        if status[0]:  # hflip\n",
        "            # exchange right and left eye\n",
        "            tmp = components_bbox['left_eye']\n",
        "            components_bbox['left_eye'] = components_bbox['right_eye']\n",
        "            components_bbox['right_eye'] = tmp\n",
        "            # modify the width coordinate\n",
        "            components_bbox['left_eye'][0] = self.out_size - components_bbox['left_eye'][0]\n",
        "            components_bbox['right_eye'][0] = self.out_size - components_bbox['right_eye'][0]\n",
        "            components_bbox['mouth'][0] = self.out_size - components_bbox['mouth'][0]\n",
        "\n",
        "        # get coordinates\n",
        "        locations = []\n",
        "        for part in ['left_eye', 'right_eye', 'mouth']:\n",
        "            mean = components_bbox[part][0:2]\n",
        "            half_len = components_bbox[part][2]\n",
        "            if 'eye' in part:\n",
        "                half_len *= self.eye_enlarge_ratio\n",
        "            loc = np.hstack((mean - half_len + 1, mean + half_len))\n",
        "            loc = torch.from_numpy(loc).float()\n",
        "            locations.append(loc)\n",
        "        return locations\n",
        "\n",
        "    def __getitem__(self, index):\n",
        "        if self.file_client is None:\n",
        "            self.file_client = FileClient(self.io_backend_opt.pop('type'), **self.io_backend_opt)\n",
        "\n",
        "        # load gt image\n",
        "        # Shape: (h, w, c); channel order: BGR; image range: [0, 1], float32.\n",
        "        gt_path = self.paths[index]\n",
        "        img_bytes = self.file_client.get(gt_path)\n",
        "        img_gt = imfrombytes(img_bytes, float32=True)\n",
        "\n",
        "        # random horizontal flip\n",
        "        img_gt, status = augment(img_gt, hflip=self.opt['use_hflip'], rotation=False, return_status=True)\n",
        "        h, w, _ = img_gt.shape\n",
        "\n",
        "        # get facial component coordinates\n",
        "        if self.crop_components:\n",
        "            locations = self.get_component_coordinates(index, status)\n",
        "            loc_left_eye, loc_right_eye, loc_mouth = locations\n",
        "\n",
        "        # ------------------------ generate lq image ------------------------ #\n",
        "        # blur\n",
        "        kernel = degradations.random_mixed_kernels(\n",
        "            self.kernel_list,\n",
        "            self.kernel_prob,\n",
        "            self.blur_kernel_size,\n",
        "            self.blur_sigma,\n",
        "            self.blur_sigma, [-math.pi, math.pi],\n",
        "            noise_range=None)\n",
        "        img_lq = cv2.filter2D(img_gt, -1, kernel)\n",
        "        # downsample\n",
        "        scale = np.random.uniform(self.downsample_range[0], self.downsample_range[1])\n",
        "        img_lq = cv2.resize(img_lq, (int(w // scale), int(h // scale)), interpolation=cv2.INTER_LINEAR)\n",
        "        # noise\n",
        "        if self.noise_range is not None:\n",
        "            img_lq = degradations.random_add_gaussian_noise(img_lq, self.noise_range)\n",
        "        # jpeg compression\n",
        "        if self.jpeg_range is not None:\n",
        "            img_lq = degradations.random_add_jpg_compression(img_lq, self.jpeg_range)\n",
        "\n",
        "        # resize to original size\n",
        "        img_lq = cv2.resize(img_lq, (w, h), interpolation=cv2.INTER_LINEAR)\n",
        "\n",
        "        # random color jitter (only for lq)\n",
        "        if self.color_jitter_prob is not None and (np.random.uniform() < self.color_jitter_prob):\n",
        "            img_lq = self.color_jitter(img_lq, self.color_jitter_shift)\n",
        "        # random to gray (only for lq)\n",
        "        if self.gray_prob and np.random.uniform() < self.gray_prob:\n",
        "            img_lq = cv2.cvtColor(img_lq, cv2.COLOR_BGR2GRAY)\n",
        "            img_lq = np.tile(img_lq[:, :, None], [1, 1, 3])\n",
        "            if self.opt.get('gt_gray'):  # whether convert GT to gray images\n",
        "                img_gt = cv2.cvtColor(img_gt, cv2.COLOR_BGR2GRAY)\n",
        "                img_gt = np.tile(img_gt[:, :, None], [1, 1, 3])  # repeat the color channels\n",
        "\n",
        "        # BGR to RGB, HWC to CHW, numpy to tensor\n",
        "        img_gt, img_lq = img2tensor([img_gt, img_lq], bgr2rgb=True, float32=True)\n",
        "\n",
        "        # random color jitter (pytorch version) (only for lq)\n",
        "        if self.color_jitter_pt_prob is not None and (np.random.uniform() < self.color_jitter_pt_prob):\n",
        "            brightness = self.opt.get('brightness', (0.5, 1.5))\n",
        "            contrast = self.opt.get('contrast', (0.5, 1.5))\n",
        "            saturation = self.opt.get('saturation', (0, 1.5))\n",
        "            hue = self.opt.get('hue', (-0.1, 0.1))\n",
        "            img_lq = self.color_jitter_pt(img_lq, brightness, contrast, saturation, hue)\n",
        "\n",
        "        # round and clip\n",
        "        img_lq = torch.clamp((img_lq * 255.0).round(), 0, 255) / 255.\n",
        "\n",
        "        # normalize\n",
        "        normalize(img_gt, self.mean, self.std, inplace=True)\n",
        "        normalize(img_lq, self.mean, self.std, inplace=True)\n",
        "\n",
        "        if self.crop_components:\n",
        "            return_dict = {\n",
        "                'lq': img_lq,\n",
        "                'gt': img_gt,\n",
        "                'gt_path': gt_path,\n",
        "                'loc_left_eye': loc_left_eye,\n",
        "                'loc_right_eye': loc_right_eye,\n",
        "                'loc_mouth': loc_mouth\n",
        "            }\n",
        "            return return_dict\n",
        "        else:\n",
        "            return {'lq': img_lq, 'gt': img_gt, 'gt_path': gt_path}\n",
        "\n",
        "    def __len__(self):\n",
        "        return len(self.paths)\n",
        "\n"
      ],
      "metadata": {
        "id": "JtrYeqfqY4Wy"
      },
      "execution_count": null,
      "outputs": []
    },
    {
      "cell_type": "markdown",
      "source": [
        "Training code"
      ],
      "metadata": {
        "id": "fuJ3US-Da39W"
      }
    },
    {
      "cell_type": "code",
      "source": [
        "\n",
        "\n",
        "def init_tb_loggers(opt):\n",
        "    # initialize wandb logger before tensorboard logger to allow proper sync\n",
        "    if (opt['logger'].get('wandb') is not None) and (opt['logger']['wandb'].get('project')\n",
        "                                                     is not None) and ('debug' not in opt['name']):\n",
        "        assert opt['logger'].get('use_tb_logger') is True, ('should turn on tensorboard when using wandb')\n",
        "        init_wandb_logger(opt)\n",
        "    tb_logger = None\n",
        "    if opt['logger'].get('use_tb_logger') and 'debug' not in opt['name']:\n",
        "        tb_logger = init_tb_logger(log_dir=osp.join(opt['root_path'], 'tb_logger', opt['name']))\n",
        "    return tb_logger\n",
        "\n",
        "\n",
        "def create_train_val_dataloader(opt, logger):\n",
        "    # create train and val dataloaders\n",
        "    train_loader, val_loaders = None, []\n",
        "    for phase, dataset_opt in opt['datasets'].items():\n",
        "        if phase == 'train':\n",
        "            dataset_enlarge_ratio = dataset_opt.get('dataset_enlarge_ratio', 1)\n",
        "            train_set = build_dataset(dataset_opt)\n",
        "            train_sampler = EnlargedSampler(train_set, opt['world_size'], opt['rank'], dataset_enlarge_ratio)\n",
        "            train_loader = build_dataloader(\n",
        "                train_set,\n",
        "                dataset_opt,\n",
        "                num_gpu=opt['num_gpu'],\n",
        "                dist=opt['dist'],\n",
        "                sampler=train_sampler,\n",
        "                seed=opt['manual_seed'])\n",
        "\n",
        "            num_iter_per_epoch = math.ceil(\n",
        "                len(train_set) * dataset_enlarge_ratio / (dataset_opt['batch_size_per_gpu'] * opt['world_size']))\n",
        "            total_iters = int(opt['train']['total_iter'])\n",
        "            total_epochs = math.ceil(total_iters / (num_iter_per_epoch))\n",
        "            logger.info('Training statistics:'\n",
        "                        f'\\n\\tNumber of train images: {len(train_set)}'\n",
        "                        f'\\n\\tDataset enlarge ratio: {dataset_enlarge_ratio}'\n",
        "                        f'\\n\\tBatch size per gpu: {dataset_opt[\"batch_size_per_gpu\"]}'\n",
        "                        f'\\n\\tWorld size (gpu number): {opt[\"world_size\"]}'\n",
        "                        f'\\n\\tRequire iter number per epoch: {num_iter_per_epoch}'\n",
        "                        f'\\n\\tTotal epochs: {total_epochs}; iters: {total_iters}.')\n",
        "        elif phase.split('_')[0] == 'val':\n",
        "            val_set = build_dataset(dataset_opt)\n",
        "            val_loader = build_dataloader(\n",
        "                val_set, dataset_opt, num_gpu=opt['num_gpu'], dist=opt['dist'], sampler=None, seed=opt['manual_seed'])\n",
        "            logger.info(f'Number of val images/folders in {dataset_opt[\"name\"]}: {len(val_set)}')\n",
        "            val_loaders.append(val_loader)\n",
        "        else:\n",
        "            raise ValueError(f'Dataset phase {phase} is not recognized.')\n",
        "\n",
        "    return train_loader, train_sampler, val_loaders, total_epochs, total_iters\n",
        "\n",
        "\n",
        "def load_resume_state(opt):\n",
        "    resume_state_path = None\n",
        "    if opt['auto_resume']:\n",
        "        state_path = osp.join('experiments', opt['name'], 'training_states')\n",
        "        if osp.isdir(state_path):\n",
        "            states = list(scandir(state_path, suffix='state', recursive=False, full_path=False))\n",
        "            if len(states) != 0:\n",
        "                states = [float(v.split('.state')[0]) for v in states]\n",
        "                resume_state_path = osp.join(state_path, f'{max(states):.0f}.state')\n",
        "                opt['path']['resume_state'] = resume_state_path\n",
        "    else:\n",
        "        if opt['path'].get('resume_state'):\n",
        "            resume_state_path = opt['path']['resume_state']\n",
        "\n",
        "    if resume_state_path is None:\n",
        "        resume_state = None\n",
        "    else:\n",
        "        device_id = torch.cuda.current_device()\n",
        "        resume_state = torch.load(resume_state_path, map_location=lambda storage, loc: storage.cuda(device_id))\n",
        "        check_resume(opt, resume_state['iter'])\n",
        "    return resume_state\n",
        "\n",
        "root_path = \"./\"\n",
        "def train(root_path):\n",
        "  # parse options, set distributed setting, set random seed\n",
        "  opt, args = parse_options(root_path, is_train=True)\n",
        "  opt['root_path'] = root_path\n",
        "  device = torch.device('cuda' if torch.cuda.is_available() else 'cpu') \n",
        "  model = GFPGAN_custom(\n",
        "                  out_size=512,\n",
        "                  num_style_feat=512,\n",
        "                  channel_multiplier=2,\n",
        "                  decoder_load_path=None,\n",
        "                  fix_decoder=False,\n",
        "                  num_mlp=8,\n",
        "                  input_is_latent=True,\n",
        "                  different_w=True,\n",
        "                  narrow=1,\n",
        "                  sft_half=True)\n",
        "  loadnet = torch.load(root_path + \"./model.pth\")\n",
        "  if 'params_ema' in loadnet:\n",
        "      keyname = 'params_ema'\n",
        "  else:\n",
        "      keyname = 'params'\n",
        "  model.load_state_dict(loadnet[keyname], strict=True)\n",
        "  model.eval()\n",
        "  model = model.to(device)\n",
        "  torch.backends.cudnn.benchmark = True\n",
        "  # torch.backends.cudnn.deterministic = True\n",
        "\n",
        "  # load resume states if necessary\n",
        "  resume_state = load_resume_state(opt)\n",
        "  # mkdir for experiments and logger\n",
        "  if resume_state is None:\n",
        "      make_exp_dirs(opt)\n",
        "      if opt['logger'].get('use_tb_logger') and 'debug' not in opt['name'] and opt['rank'] == 0:\n",
        "          mkdir_and_rename(osp.join(opt['root_path'], 'tb_logger', opt['name']))\n",
        "\n",
        "  # copy the yml file to the experiment root\n",
        "  copy_opt_file(args.opt, opt['path']['experiments_root'])\n",
        "\n",
        "  # WARNING: should not use get_root_logger in the above codes, including the called functions\n",
        "  # Otherwise the logger will not be properly initialized\n",
        "  log_file = osp.join(opt['path']['log'], f\"train_{opt['name']}_{get_time_str()}.log\")\n",
        "  logger = get_root_logger(logger_name='basicsr', log_level=logging.INFO, log_file=log_file)\n",
        "  logger.info(get_env_info())\n",
        "  logger.info(dict2str(opt))\n",
        "  # initialize wandb and tb loggers\n",
        "  tb_logger = init_tb_loggers(opt)\n",
        "\n",
        "  # create train and validation dataloaders\n",
        "  result = create_train_val_dataloader(opt, logger)\n",
        "  train_loader, train_sampler, val_loaders, total_epochs, total_iters = result\n",
        "\n",
        "  # create model\n",
        "  if resume_state:  # resume training\n",
        "      model.resume_training(resume_state)  # handle optimizers and schedulers\n",
        "      logger.info(f\"Resuming training from epoch: {resume_state['epoch']}, iter: {resume_state['iter']}.\")\n",
        "      start_epoch = resume_state['epoch']\n",
        "      current_iter = resume_state['iter']\n",
        "  else:\n",
        "      start_epoch = 0\n",
        "      current_iter = 0\n",
        "\n",
        "  # create message logger (formatted outputs)\n",
        "  msg_logger = MessageLogger(opt, current_iter, tb_logger)\n",
        "\n",
        "  # dataloader prefetcher\n",
        "  prefetch_mode = opt['datasets']['train'].get('prefetch_mode')\n",
        "  if prefetch_mode is None or prefetch_mode == 'cpu':\n",
        "      prefetcher = CPUPrefetcher(train_loader)\n",
        "  elif prefetch_mode == 'cuda':\n",
        "      prefetcher = CUDAPrefetcher(train_loader, opt)\n",
        "      logger.info(f'Use {prefetch_mode} prefetch dataloader')\n",
        "      if opt['datasets']['train'].get('pin_memory') is not True:\n",
        "          raise ValueError('Please set pin_memory=True for CUDAPrefetcher.')\n",
        "  else:\n",
        "      raise ValueError(f\"Wrong prefetch_mode {prefetch_mode}. Supported ones are: None, 'cuda', 'cpu'.\")\n",
        "\n",
        "  # training\n",
        "  logger.info(f'Start training from epoch: {start_epoch}, iter: {current_iter}')\n",
        "  data_timer, iter_timer = AvgTimer(), AvgTimer()\n",
        "  start_time = time.time()\n",
        "\n",
        "  for epoch in range(start_epoch, total_epochs + 1):\n",
        "      train_sampler.set_epoch(epoch)\n",
        "      prefetcher.reset()\n",
        "      train_data = prefetcher.next()\n",
        "\n",
        "      while train_data is not None:\n",
        "          data_timer.record()\n",
        "\n",
        "          current_iter += 1\n",
        "          if current_iter > total_iters:\n",
        "              break\n",
        "          # update learning rate\n",
        "          model.update_learning_rate(current_iter, warmup_iter=opt['train'].get('warmup_iter', -1))\n",
        "          # training\n",
        "          model.feed_data(train_data)\n",
        "          model.optimize_parameters(current_iter)\n",
        "          iter_timer.record()\n",
        "          if current_iter == 1:\n",
        "              # reset start time in msg_logger for more accurate eta_time\n",
        "              # not work in resume mode\n",
        "              msg_logger.reset_start_time()\n",
        "          # log\n",
        "          if current_iter % opt['logger']['print_freq'] == 0:\n",
        "              log_vars = {'epoch': epoch, 'iter': current_iter}\n",
        "              log_vars.update({'lrs': model.get_current_learning_rate()})\n",
        "              log_vars.update({'time': iter_timer.get_avg_time(), 'data_time': data_timer.get_avg_time()})\n",
        "              log_vars.update(model.get_current_log())\n",
        "              msg_logger(log_vars)\n",
        "\n",
        "          # save models and training states\n",
        "          if current_iter % opt['logger']['save_checkpoint_freq'] == 0:\n",
        "              logger.info('Saving models and training states.')\n",
        "              model.save(epoch, current_iter)\n",
        "\n",
        "          # validation\n",
        "          if opt.get('val') is not None and (current_iter % opt['val']['val_freq'] == 0):\n",
        "              if len(val_loaders) > 1:\n",
        "                  logger.warning('Multiple validation datasets are *only* supported by SRModel.')\n",
        "              for val_loader in val_loaders:\n",
        "                  model.validation(val_loader, current_iter, tb_logger, opt['val']['save_img'])\n",
        "\n",
        "          data_timer.start()\n",
        "          iter_timer.start()\n",
        "          train_data = prefetcher.next()\n",
        "      # end of iter\n",
        "\n",
        "  # end of epoch\n",
        "\n",
        "  consumed_time = str(datetime.timedelta(seconds=int(time.time() - start_time)))\n",
        "  logger.info(f'End of training. Time consumed: {consumed_time}')\n",
        "  logger.info('Save the latest model.')\n",
        "  model.save(epoch=-1, current_iter=-1)  # -1 stands for the latest\n",
        "  if opt.get('val') is not None:\n",
        "      for val_loader in val_loaders:\n",
        "          model.validation(val_loader, current_iter, tb_logger, opt['val']['save_img'])\n",
        "  if tb_logger:\n",
        "      tb_logger.close()\n",
        "\n"
      ],
      "metadata": {
        "id": "xrNYoVEIZ2zY"
      },
      "execution_count": null,
      "outputs": []
    },
    {
      "cell_type": "markdown",
      "source": [
        "# RealESR GAN for image noise reduction and super resolution"
      ],
      "metadata": {
        "id": "fI0nuMGja7Wc"
      }
    },
    {
      "cell_type": "code",
      "source": [
        "import cv2\n",
        "import math\n",
        "import numpy as np\n",
        "import os\n",
        "import queue\n",
        "import threading\n",
        "import torch\n",
        "from basicsr.utils.download_util import load_file_from_url\n",
        "from torch.nn import functional as F\n",
        "\n",
        "\n",
        "\n",
        "class RealESRGANer():\n",
        "    \"\"\"A helper class for upsampling images with RealESRGAN.\n",
        "\n",
        "    Args:\n",
        "        scale (int): Upsampling scale factor used in the networks. It is usually 2 or 4.\n",
        "        model_path (str): The path to the pretrained model. It can be urls (will first download it automatically).\n",
        "        model (nn.Module): The defined network. Default: None.\n",
        "        tile (int): As too large images result in the out of GPU memory issue, so this tile option will first crop\n",
        "            input images into tiles, and then process each of them. Finally, they will be merged into one image.\n",
        "            0 denotes for do not use tile. Default: 0.\n",
        "        tile_pad (int): The pad size for each tile, to remove border artifacts. Default: 10.\n",
        "        pre_pad (int): Pad the input images to avoid border artifacts. Default: 10.\n",
        "        half (float): Whether to use half precision during inference. Default: False.\n",
        "    \"\"\"\n",
        "\n",
        "    def __init__(self,\n",
        "                 scale,\n",
        "                 model_path,\n",
        "                 dni_weight=None,\n",
        "                 model=None,\n",
        "                 tile=0,\n",
        "                 tile_pad=10,\n",
        "                 pre_pad=10,\n",
        "                 half=False,\n",
        "                 device=None,\n",
        "                 gpu_id=None):\n",
        "        self.scale = scale\n",
        "        self.tile_size = tile\n",
        "        self.tile_pad = tile_pad\n",
        "        self.pre_pad = pre_pad\n",
        "        self.mod_scale = None\n",
        "        self.half = half\n",
        "\n",
        "        # initialize model\n",
        "        if gpu_id:\n",
        "            self.device = torch.device(\n",
        "                f'cuda:{gpu_id}' if torch.cuda.is_available() else 'cpu') if device is None else device\n",
        "        else:\n",
        "            self.device = torch.device('cuda' if torch.cuda.is_available() else 'cpu') if device is None else device\n",
        "\n",
        "        if isinstance(model_path, list):\n",
        "            # dni\n",
        "            assert len(model_path) == len(dni_weight), 'model_path and dni_weight should have the save length.'\n",
        "            loadnet = self.dni(model_path[0], model_path[1], dni_weight)\n",
        "        else:\n",
        "            # if the model_path starts with https, it will first download models to the folder: weights\n",
        "            if model_path.startswith('https://'):\n",
        "                model_path = load_file_from_url(\n",
        "                    url=model_path, model_dir=os.path.join(\"./\", 'weights'), progress=True, file_name=None)\n",
        "            loadnet = torch.load(model_path, map_location=torch.device('cpu'))\n",
        "\n",
        "        # prefer to use params_ema\n",
        "        if 'params_ema' in loadnet:\n",
        "            keyname = 'params_ema'\n",
        "        else:\n",
        "            keyname = 'params'\n",
        "        model.load_state_dict(loadnet[keyname], strict=True)\n",
        "\n",
        "        model.eval()\n",
        "        self.model = model.to(self.device)\n",
        "        if self.half:\n",
        "            self.model = self.model.half()\n",
        "\n",
        "    def dni(self, net_a, net_b, dni_weight, key='params', loc='cpu'):\n",
        "        \"\"\"Deep network interpolation.\n",
        "\n",
        "        ``Paper: Deep Network Interpolation for Continuous Imagery Effect Transition``\n",
        "        \"\"\"\n",
        "        net_a = torch.load(net_a, map_location=torch.device(loc))\n",
        "        net_b = torch.load(net_b, map_location=torch.device(loc))\n",
        "        for k, v_a in net_a[key].items():\n",
        "            net_a[key][k] = dni_weight[0] * v_a + dni_weight[1] * net_b[key][k]\n",
        "        return net_a\n",
        "\n",
        "    def pre_process(self, img):\n",
        "        \"\"\"Pre-process, such as pre-pad and mod pad, so that the images can be divisible\n",
        "        \"\"\"\n",
        "        img = torch.from_numpy(np.transpose(img, (2, 0, 1))).float()\n",
        "        self.img = img.unsqueeze(0).to(self.device)\n",
        "        if self.half:\n",
        "            self.img = self.img.half()\n",
        "\n",
        "        # pre_pad\n",
        "        if self.pre_pad != 0:\n",
        "            self.img = F.pad(self.img, (0, self.pre_pad, 0, self.pre_pad), 'reflect')\n",
        "        # mod pad for divisible borders\n",
        "        if self.scale == 2:\n",
        "            self.mod_scale = 2\n",
        "        elif self.scale == 1:\n",
        "            self.mod_scale = 4\n",
        "        if self.mod_scale is not None:\n",
        "            self.mod_pad_h, self.mod_pad_w = 0, 0\n",
        "            _, _, h, w = self.img.size()\n",
        "            if (h % self.mod_scale != 0):\n",
        "                self.mod_pad_h = (self.mod_scale - h % self.mod_scale)\n",
        "            if (w % self.mod_scale != 0):\n",
        "                self.mod_pad_w = (self.mod_scale - w % self.mod_scale)\n",
        "            self.img = F.pad(self.img, (0, self.mod_pad_w, 0, self.mod_pad_h), 'reflect')\n",
        "\n",
        "    def process(self):\n",
        "        # model inference\n",
        "        self.output = self.model(self.img)\n",
        "\n",
        "    def tile_process(self):\n",
        "        \"\"\"It will first crop input images to tiles, and then process each tile.\n",
        "        Finally, all the processed tiles are merged into one images.\n",
        "\n",
        "        Modified from: https://github.com/ata4/esrgan-launcher\n",
        "        \"\"\"\n",
        "        batch, channel, height, width = self.img.shape\n",
        "        output_height = height * self.scale\n",
        "        output_width = width * self.scale\n",
        "        output_shape = (batch, channel, output_height, output_width)\n",
        "\n",
        "        # start with black image\n",
        "        self.output = self.img.new_zeros(output_shape)\n",
        "        tiles_x = math.ceil(width / self.tile_size)\n",
        "        tiles_y = math.ceil(height / self.tile_size)\n",
        "\n",
        "        # loop over all tiles\n",
        "        for y in range(tiles_y):\n",
        "            for x in range(tiles_x):\n",
        "                # extract tile from input image\n",
        "                ofs_x = x * self.tile_size\n",
        "                ofs_y = y * self.tile_size\n",
        "                # input tile area on total image\n",
        "                input_start_x = ofs_x\n",
        "                input_end_x = min(ofs_x + self.tile_size, width)\n",
        "                input_start_y = ofs_y\n",
        "                input_end_y = min(ofs_y + self.tile_size, height)\n",
        "\n",
        "                # input tile area on total image with padding\n",
        "                input_start_x_pad = max(input_start_x - self.tile_pad, 0)\n",
        "                input_end_x_pad = min(input_end_x + self.tile_pad, width)\n",
        "                input_start_y_pad = max(input_start_y - self.tile_pad, 0)\n",
        "                input_end_y_pad = min(input_end_y + self.tile_pad, height)\n",
        "\n",
        "                # input tile dimensions\n",
        "                input_tile_width = input_end_x - input_start_x\n",
        "                input_tile_height = input_end_y - input_start_y\n",
        "                tile_idx = y * tiles_x + x + 1\n",
        "                input_tile = self.img[:, :, input_start_y_pad:input_end_y_pad, input_start_x_pad:input_end_x_pad]\n",
        "\n",
        "                # upscale tile\n",
        "                try:\n",
        "                    with torch.no_grad():\n",
        "                        output_tile = self.model(input_tile)\n",
        "                except RuntimeError as error:\n",
        "                    print('Error', error)\n",
        "                print(f'\\tTile {tile_idx}/{tiles_x * tiles_y}')\n",
        "\n",
        "                # output tile area on total image\n",
        "                output_start_x = input_start_x * self.scale\n",
        "                output_end_x = input_end_x * self.scale\n",
        "                output_start_y = input_start_y * self.scale\n",
        "                output_end_y = input_end_y * self.scale\n",
        "\n",
        "                # output tile area without padding\n",
        "                output_start_x_tile = (input_start_x - input_start_x_pad) * self.scale\n",
        "                output_end_x_tile = output_start_x_tile + input_tile_width * self.scale\n",
        "                output_start_y_tile = (input_start_y - input_start_y_pad) * self.scale\n",
        "                output_end_y_tile = output_start_y_tile + input_tile_height * self.scale\n",
        "\n",
        "                # put tile into output image\n",
        "                self.output[:, :, output_start_y:output_end_y,\n",
        "                            output_start_x:output_end_x] = output_tile[:, :, output_start_y_tile:output_end_y_tile,\n",
        "                                                                       output_start_x_tile:output_end_x_tile]\n",
        "\n",
        "    def post_process(self):\n",
        "        # remove extra pad\n",
        "        if self.mod_scale is not None:\n",
        "            _, _, h, w = self.output.size()\n",
        "            self.output = self.output[:, :, 0:h - self.mod_pad_h * self.scale, 0:w - self.mod_pad_w * self.scale]\n",
        "        # remove prepad\n",
        "        if self.pre_pad != 0:\n",
        "            _, _, h, w = self.output.size()\n",
        "            self.output = self.output[:, :, 0:h - self.pre_pad * self.scale, 0:w - self.pre_pad * self.scale]\n",
        "        return self.output\n",
        "\n",
        "    @torch.no_grad()\n",
        "    def enhance(self, img, outscale=None, alpha_upsampler='realesrgan'):\n",
        "        h_input, w_input = img.shape[0:2]\n",
        "        # img: numpy\n",
        "        img = img.astype(np.float32)\n",
        "        if np.max(img) > 256:  # 16-bit image\n",
        "            max_range = 65535\n",
        "            print('\\tInput is a 16-bit image')\n",
        "        else:\n",
        "            max_range = 255\n",
        "        img = img / max_range\n",
        "        if len(img.shape) == 2:  # gray image\n",
        "            img_mode = 'L'\n",
        "            img = cv2.cvtColor(img, cv2.COLOR_GRAY2RGB)\n",
        "        elif img.shape[2] == 4:  # RGBA image with alpha channel\n",
        "            img_mode = 'RGBA'\n",
        "            alpha = img[:, :, 3]\n",
        "            img = img[:, :, 0:3]\n",
        "            img = cv2.cvtColor(img, cv2.COLOR_BGR2RGB)\n",
        "            if alpha_upsampler == 'realesrgan':\n",
        "                alpha = cv2.cvtColor(alpha, cv2.COLOR_GRAY2RGB)\n",
        "        else:\n",
        "            img_mode = 'RGB'\n",
        "            img = cv2.cvtColor(img, cv2.COLOR_BGR2RGB)\n",
        "\n",
        "        # ------------------- process image (without the alpha channel) ------------------- #\n",
        "        self.pre_process(img)\n",
        "        if self.tile_size > 0:\n",
        "            self.tile_process()\n",
        "        else:\n",
        "            self.process()\n",
        "        output_img = self.post_process()\n",
        "        output_img = output_img.data.squeeze().float().cpu().clamp_(0, 1).numpy()\n",
        "        output_img = np.transpose(output_img[[2, 1, 0], :, :], (1, 2, 0))\n",
        "        if img_mode == 'L':\n",
        "            output_img = cv2.cvtColor(output_img, cv2.COLOR_BGR2GRAY)\n",
        "\n",
        "        # ------------------- process the alpha channel if necessary ------------------- #\n",
        "        if img_mode == 'RGBA':\n",
        "            if alpha_upsampler == 'realesrgan':\n",
        "                self.pre_process(alpha)\n",
        "                if self.tile_size > 0:\n",
        "                    self.tile_process()\n",
        "                else:\n",
        "                    self.process()\n",
        "                output_alpha = self.post_process()\n",
        "                output_alpha = output_alpha.data.squeeze().float().cpu().clamp_(0, 1).numpy()\n",
        "                output_alpha = np.transpose(output_alpha[[2, 1, 0], :, :], (1, 2, 0))\n",
        "                output_alpha = cv2.cvtColor(output_alpha, cv2.COLOR_BGR2GRAY)\n",
        "            else:  # use the cv2 resize for alpha channel\n",
        "                h, w = alpha.shape[0:2]\n",
        "                output_alpha = cv2.resize(alpha, (w * self.scale, h * self.scale), interpolation=cv2.INTER_LINEAR)\n",
        "\n",
        "            # merge the alpha channel\n",
        "            output_img = cv2.cvtColor(output_img, cv2.COLOR_BGR2BGRA)\n",
        "            output_img[:, :, 3] = output_alpha\n",
        "\n",
        "        # ------------------------------ return ------------------------------ #\n",
        "        if max_range == 65535:  # 16-bit image\n",
        "            output = (output_img * 65535.0).round().astype(np.uint16)\n",
        "        else:\n",
        "            output = (output_img * 255.0).round().astype(np.uint8)\n",
        "\n",
        "        if outscale is not None and outscale != float(self.scale):\n",
        "            output = cv2.resize(\n",
        "                output, (\n",
        "                    int(w_input * outscale),\n",
        "                    int(h_input * outscale),\n",
        "                ), interpolation=cv2.INTER_LANCZOS4)\n",
        "\n",
        "        return output, img_mode\n",
        "\n",
        "\n",
        "class PrefetchReader(threading.Thread):\n",
        "    \"\"\"Prefetch images.\n",
        "\n",
        "    Args:\n",
        "        img_list (list[str]): A image list of image paths to be read.\n",
        "        num_prefetch_queue (int): Number of prefetch queue.\n",
        "    \"\"\"\n",
        "\n",
        "    def __init__(self, img_list, num_prefetch_queue):\n",
        "        super().__init__()\n",
        "        self.que = queue.Queue(num_prefetch_queue)\n",
        "        self.img_list = img_list\n",
        "\n",
        "    def run(self):\n",
        "        for img_path in self.img_list:\n",
        "            img = cv2.imread(img_path, cv2.IMREAD_UNCHANGED)\n",
        "            self.que.put(img)\n",
        "\n",
        "        self.que.put(None)\n",
        "\n",
        "    def __next__(self):\n",
        "        next_item = self.que.get()\n",
        "        if next_item is None:\n",
        "            raise StopIteration\n",
        "        return next_item\n",
        "\n",
        "    def __iter__(self):\n",
        "        return self\n",
        "\n",
        "\n",
        "class IOConsumer(threading.Thread):\n",
        "\n",
        "    def __init__(self, opt, que, qid):\n",
        "        super().__init__()\n",
        "        self._queue = que\n",
        "        self.qid = qid\n",
        "        self.opt = opt\n",
        "\n",
        "    def run(self):\n",
        "        while True:\n",
        "            msg = self._queue.get()\n",
        "            if isinstance(msg, str) and msg == 'quit':\n",
        "                break\n",
        "\n",
        "            output = msg['output']\n",
        "            save_path = msg['save_path']\n",
        "            cv2.imwrite(save_path, output)\n",
        "        print(f'IO worker {self.qid} is done.')\n"
      ],
      "metadata": {
        "id": "5wPZqfxXdIdd"
      },
      "execution_count": null,
      "outputs": []
    },
    {
      "cell_type": "markdown",
      "source": [
        "# Inference and comparisons"
      ],
      "metadata": {
        "id": "d6TqSIJsD1dZ"
      }
    },
    {
      "cell_type": "markdown",
      "source": [
        "Inference helper class \n"
      ],
      "metadata": {
        "id": "nBIdGc2weNsK"
      }
    },
    {
      "cell_type": "code",
      "source": [
        "\n",
        "class GFPGAN():\n",
        "    \"\"\"Helper for restoration with GFPGAN.\n",
        "\n",
        "    It will detect and crop faces, and then resize the faces to 512x512.\n",
        "    GFPGAN is used to restored the resized faces.\n",
        "    The background is upsampled with the bg_upsampler.\n",
        "    Finally, the faces will be pasted back to the upsample background image.\n",
        "\n",
        "    Args:\n",
        "        model_path (str): The path to the GFPGAN model. It can be urls (will first download it automatically).\n",
        "        upscale (float): The upscale of the final output. Default: 2.\n",
        "        arch (str): The GFPGAN architecture. Option: clean | original. Default: clean.\n",
        "        channel_multiplier (int): Channel multiplier for large networks of StyleGAN2. Default: 2.\n",
        "        bg_upsampler (nn.Module): The upsampler for the background. Default: None.\n",
        "    \"\"\"\n",
        "\n",
        "    def __init__(self, model_path, upscale=2, arch='clean', channel_multiplier=2, bg_upsampler=None, device=None):\n",
        "        self.upscale = upscale\n",
        "        self.bg_upsampler = bg_upsampler\n",
        "\n",
        "        # initialize model\n",
        "        self.device = torch.device('cuda' if torch.cuda.is_available() else 'cpu') \n",
        "        # initialize the GFP-GAN\n",
        "        if arch == 'custom':\n",
        "            self.gfpgan = GFPGAN_custom(\n",
        "                out_size=512,\n",
        "                num_style_feat=512,\n",
        "                channel_multiplier=channel_multiplier,\n",
        "                decoder_load_path=None,\n",
        "                fix_decoder=False,\n",
        "                num_mlp=8,\n",
        "                input_is_latent=True,\n",
        "                different_w=True,\n",
        "                narrow=1,\n",
        "                sft_half=True)\n",
        "        elif arch == \"og\":\n",
        "            self.gfpgan = GFPGAN_custom(\n",
        "                out_size=512,\n",
        "                num_style_feat=512,\n",
        "                channel_multiplier=channel_multiplier,\n",
        "                decoder_load_path=None,\n",
        "                fix_decoder=False,\n",
        "                num_mlp=8,\n",
        "                input_is_latent=True,\n",
        "                different_w=True,\n",
        "                narrow=1,\n",
        "                sft_half=True)          \n",
        "        elif arch == 'original':\n",
        "            print(\"loading original\")\n",
        "            self.gfpgan = GFPGANv1(\n",
        "                out_size=512,\n",
        "                num_style_feat=512,\n",
        "                channel_multiplier=channel_multiplier,\n",
        "                decoder_load_path=None,\n",
        "                fix_decoder=True,\n",
        "                num_mlp=8,\n",
        "                input_is_latent=True,\n",
        "                different_w=True,\n",
        "                narrow=1,\n",
        "                sft_half=True)\n",
        "        # initialize face helper\n",
        "        self.face_helper = FaceRestoreHelper(\n",
        "            upscale,\n",
        "            face_size=512,\n",
        "            crop_ratio=(1, 1),\n",
        "            det_model='retinaface_resnet50',\n",
        "            save_ext='png',\n",
        "            use_parse=True,\n",
        "            device=self.device,\n",
        "            model_rootpath='gfpgan/weights')\n",
        "\n",
        "        if model_path.startswith('https://'):\n",
        "            model_path = load_file_from_url(\n",
        "                url=model_path, model_dir=os.path.join(\"./\", 'gfpgan/weights'), progress=True, file_name=None)\n",
        "        loadnet = torch.load(model_path)\n",
        "        if 'params_ema' in loadnet:\n",
        "            keyname = 'params_ema'\n",
        "        else:\n",
        "            keyname = 'params'\n",
        "        self.gfpgan.load_state_dict(loadnet[keyname], strict=True)\n",
        "        self.gfpgan.eval()\n",
        "        self.gfpgan = self.gfpgan.to(self.device)\n",
        "\n",
        "    @torch.no_grad()\n",
        "    def enhance(self, img, has_aligned=False, only_center_face=False, paste_back=True, weight=0.5):\n",
        "        self.face_helper.clean_all()\n",
        "\n",
        "        if has_aligned:  # the inputs are already aligned\n",
        "            img = cv2.resize(img, (512, 512))\n",
        "            self.face_helper.cropped_faces = [img]\n",
        "        else:\n",
        "            self.face_helper.read_image(img)\n",
        "            # get face landmarks for each face\n",
        "            self.face_helper.get_face_landmarks_5(only_center_face=only_center_face, eye_dist_threshold=5)\n",
        "            # eye_dist_threshold=5: skip faces whose eye distance is smaller than 5 pixels\n",
        "            # TODO: even with eye_dist_threshold, it will still introduce wrong detections and restorations.\n",
        "            # align and warp each face\n",
        "            self.face_helper.align_warp_face()\n",
        "\n",
        "        # face restoration\n",
        "        for cropped_face in self.face_helper.cropped_faces:\n",
        "            # prepare data\n",
        "            cropped_face_t = img2tensor(cropped_face / 255., bgr2rgb=True, float32=True)\n",
        "            normalize(cropped_face_t, (0.5, 0.5, 0.5), (0.5, 0.5, 0.5), inplace=True)\n",
        "            cropped_face_t = cropped_face_t.unsqueeze(0).to(self.device)\n",
        "\n",
        "            try:\n",
        "                output = self.gfpgan(cropped_face_t, return_rgb=False, weight=weight)[0]\n",
        "                # convert to image\n",
        "                restored_face = tensor2img(output.squeeze(0), rgb2bgr=True, min_max=(-1, 1))\n",
        "            except RuntimeError as error:\n",
        "                print(f'\\tFailed inference for GFPGAN: {error}.')\n",
        "                restored_face = cropped_face\n",
        "\n",
        "            restored_face = restored_face.astype('uint8')\n",
        "            self.face_helper.add_restored_face(restored_face)\n",
        "\n",
        "        if not has_aligned and paste_back:\n",
        "            # upsample the background\n",
        "            if self.bg_upsampler is not None:\n",
        "                # Now only support RealESRGAN for upsampling background\n",
        "                bg_img = self.bg_upsampler.enhance(img, outscale=self.upscale)[0]\n",
        "            else:\n",
        "                bg_img = None\n",
        "\n",
        "            self.face_helper.get_inverse_affine(None)\n",
        "            # paste each restored face to the input image\n",
        "            restored_img = self.face_helper.paste_faces_to_input_image(upsample_img=bg_img)\n",
        "            return self.face_helper.cropped_faces, self.face_helper.restored_faces, restored_img\n",
        "        else:\n",
        "            return self.face_helper.cropped_faces, self.face_helper.restored_faces, None\n",
        "    def infer(self,img):\n",
        "      return self.enhance(img)[2]\n",
        "\n",
        "\n",
        "def calculate_kid_loss(generator, real_images, batch_size=50, n_subsets=10):\n",
        "    # Generate synthetic images\n",
        "    synthetic_images = []\n",
        "    with torch.no_grad():\n",
        "        for i in range(len(real_images) // batch_size):\n",
        "            batch = real_images[i * batch_size: (i + 1) * batch_size]\n",
        "            fake_images = generator.infer(batch).cpu().numpy()\n",
        "            synthetic_images.append(fake_images)\n",
        "    synthetic_images = np.concatenate(synthetic_images, axis=0)\n",
        "\n",
        "    # Load pre-trained Inception-v3 model\n",
        "    inception_model = inception_v3(pretrained=True, aux_logits=False, transform_input=False)\n",
        "    inception_model.eval()\n",
        "\n",
        "    # Compute activations for real and synthetic images\n",
        "    real_activations = []\n",
        "    with torch.no_grad():\n",
        "        for i in range(n_subsets):\n",
        "            subset = real_images[i * batch_size * n_subsets: (i + 1) * batch_size * n_subsets]\n",
        "            subset = torch.tensor(subset, dtype=torch.float32).permute(0, 3, 1, 2)\n",
        "            activations = inception_model(subset)[0]\n",
        "            activations = adaptive_avg_pool2d(activations, output_size=(1, 1)).squeeze(3).squeeze(2)\n",
        "            real_activations.append(activations)\n",
        "    real_activations = torch.cat(real_activations, dim=0).numpy()\n",
        "\n",
        "    synthetic_activations = []\n",
        "    with torch.no_grad():\n",
        "        for i in range(n_subsets):\n",
        "            subset = synthetic_images[i * batch_size * n_subsets: (i + 1) * batch_size * n_subsets]\n",
        "            subset = torch.tensor(subset, dtype=torch.float32).permute(0, 3, 1, 2)\n",
        "            activations = inception_model(subset)[0]\n",
        "            activations = adaptive_avg_pool2d(activations, output_size=(1, 1)).squeeze(3).squeeze(2)\n",
        "            synthetic_activations.append(activations)\n",
        "    synthetic_activations = torch.cat(synthetic_activations, dim=0).numpy()\n",
        "\n",
        "    # Compute mean and covariance of activations\n",
        "    real_mean = np.mean(real_activations, axis=0)\n",
        "    synthetic_mean = np.mean(synthetic_activations, axis=0)\n",
        "    real_cov = np.cov(real_activations, rowvar=False)\n",
        "    synthetic_cov = np.cov(synthetic_activations, rowvar=False)\n",
        "\n",
        "    # Compute squared Frobenius norm between means and trace of product of covariances\n",
        "    diff = real_mean - synthetic_mean\n",
        "    norm = np.sum(diff ** 2)\n",
        "    cov_prod = real_cov.dot(synthetic_cov)\n",
        "    trace_sqrt = np.trace(sqrtm(cov_prod))\n",
        "    return norm + np.trace(real_cov) + np.trace(synthetic_cov) - 2 * trace_sqrt\n"
      ],
      "metadata": {
        "id": "_BLG6xEPEAzG"
      },
      "execution_count": null,
      "outputs": []
    },
    {
      "cell_type": "markdown",
      "source": [
        "**Comparisons** "
      ],
      "metadata": {
        "id": "FGhyTDRiyV0_"
      }
    },
    {
      "cell_type": "code",
      "source": [
        "# Load Custom model\n",
        "\n",
        "arch = 'custom'\n",
        "channel_multiplier = 2\n",
        "url = 'https://github.com/TencentARC/GFPGAN/releases/download/v1.3.0/GFPGANv1.4.pth'\n",
        "r_mdl = RRDBNet(num_in_ch=3, num_out_ch=3, num_feat=64, num_block=23, num_grow_ch=32, scale=2)\n",
        "bg_upsampler = RealESRGANer(\n",
        "                scale=2,\n",
        "                model_path='https://github.com/xinntao/Real-ESRGAN/releases/download/v0.2.1/RealESRGAN_x2plus.pth',\n",
        "                model=r_mdl,\n",
        "                tile=400,\n",
        "                tile_pad=10,\n",
        "                pre_pad=0)\n",
        "restorer = GFPGAN(\n",
        "        model_path=url,\n",
        "        upscale=2,\n",
        "        arch=arch,\n",
        "        channel_multiplier=channel_multiplier,\n",
        "        bg_upsampler=bg_upsampler)"
      ],
      "metadata": {
        "colab": {
          "base_uri": "https://localhost:8080/"
        },
        "id": "SRi3Zp61ygu-",
        "outputId": "7fff6b96-b315-49f1-9ce9-bad9264ff402"
      },
      "execution_count": null,
      "outputs": [
        {
          "output_type": "stream",
          "name": "stdout",
          "text": [
            "Downloading: \"https://github.com/xinntao/Real-ESRGAN/releases/download/v0.2.1/RealESRGAN_x2plus.pth\" to /content/weights/RealESRGAN_x2plus.pth\n",
            "\n"
          ]
        },
        {
          "output_type": "stream",
          "name": "stderr",
          "text": [
            "100%|██████████| 64.0M/64.0M [00:00<00:00, 210MB/s]\n",
            "/usr/local/lib/python3.10/dist-packages/torchvision/models/_utils.py:208: UserWarning: The parameter 'pretrained' is deprecated since 0.13 and may be removed in the future, please use 'weights' instead.\n",
            "  warnings.warn(\n",
            "/usr/local/lib/python3.10/dist-packages/torchvision/models/_utils.py:223: UserWarning: Arguments other than a weight enum or `None` for 'weights' are deprecated since 0.13 and may be removed in the future. The current behavior is equivalent to passing `weights=None`.\n",
            "  warnings.warn(msg)\n"
          ]
        },
        {
          "output_type": "stream",
          "name": "stdout",
          "text": [
            "Downloading: \"https://github.com/xinntao/facexlib/releases/download/v0.1.0/detection_Resnet50_Final.pth\" to /content/gfpgan/weights/detection_Resnet50_Final.pth\n",
            "\n"
          ]
        },
        {
          "output_type": "stream",
          "name": "stderr",
          "text": [
            "100%|██████████| 104M/104M [00:00<00:00, 206MB/s] \n"
          ]
        },
        {
          "output_type": "stream",
          "name": "stdout",
          "text": [
            "Downloading: \"https://github.com/xinntao/facexlib/releases/download/v0.2.2/parsing_parsenet.pth\" to /content/gfpgan/weights/parsing_parsenet.pth\n",
            "\n"
          ]
        },
        {
          "output_type": "stream",
          "name": "stderr",
          "text": [
            "100%|██████████| 81.4M/81.4M [00:00<00:00, 223MB/s]\n"
          ]
        },
        {
          "output_type": "stream",
          "name": "stdout",
          "text": [
            "Downloading: \"https://github.com/TencentARC/GFPGAN/releases/download/v1.3.0/GFPGANv1.4.pth\" to /content/gfpgan/weights/GFPGANv1.4.pth\n",
            "\n"
          ]
        },
        {
          "output_type": "stream",
          "name": "stderr",
          "text": [
            "100%|██████████| 332M/332M [00:01<00:00, 208MB/s]\n"
          ]
        }
      ]
    },
    {
      "cell_type": "code",
      "source": [
        "from google.colab.patches import cv2_imshow\n",
        "def inference(file_path):\n",
        "  image = cv2.imread(file_path)\n",
        "  cropped_faces, restored_faces, restored_img = restorer.enhance(image)\n",
        "  \n",
        "  cv2_imshow(image)\n",
        "  cv2_imshow(restored_img)\n",
        "# uncomment this for inference\n",
        "#inference( \"/content/Blake_Lively.jpg\")"
      ],
      "metadata": {
        "id": "Ro-8t2eUyHzF"
      },
      "execution_count": null,
      "outputs": []
    },
    {
      "cell_type": "markdown",
      "source": [
        "original model"
      ],
      "metadata": {
        "id": "TP5rSHzzyIvz"
      }
    },
    {
      "cell_type": "code",
      "source": [
        "!mkdir GFP_GAN\n",
        "!cd GFP_GAN\n",
        "!git clone https://github.com/TencentARC/GFPGAN.git"
      ],
      "metadata": {
        "id": "Z-H0Z6tQyOo3",
        "colab": {
          "base_uri": "https://localhost:8080/"
        },
        "outputId": "308c6013-00b9-402f-cf5b-caf90f4c702e"
      },
      "execution_count": null,
      "outputs": [
        {
          "output_type": "stream",
          "name": "stdout",
          "text": [
            "Cloning into 'GFPGAN'...\n",
            "remote: Enumerating objects: 523, done.\u001b[K\n",
            "remote: Total 523 (delta 0), reused 0 (delta 0), pack-reused 523\u001b[K\n",
            "Receiving objects: 100% (523/523), 5.39 MiB | 29.54 MiB/s, done.\n",
            "Resolving deltas: 100% (264/264), done.\n"
          ]
        }
      ]
    },
    {
      "cell_type": "code",
      "source": [
        "!rm -rf results\n",
        "!python inference_gfpgan.py -i inputs/upload -o results -v 1.3 -s 2 --bg_upsampler realesrgan"
      ],
      "metadata": {
        "id": "RptcLeKmyP_2",
        "colab": {
          "base_uri": "https://localhost:8080/"
        },
        "outputId": "d42043ad-27d0-44ef-f4c0-f88c8f695f3b"
      },
      "execution_count": null,
      "outputs": [
        {
          "output_type": "stream",
          "name": "stdout",
          "text": [
            "python3: can't open file '/content/inference_gfpgan.py': [Errno 2] No such file or directory\n"
          ]
        }
      ]
    },
    {
      "cell_type": "markdown",
      "source": [
        "accuracy elavulation and calculation"
      ],
      "metadata": {
        "id": "eHxcClC0oKXH"
      }
    },
    {
      "cell_type": "markdown",
      "source": [
        "downloading the data"
      ],
      "metadata": {
        "id": "ySi6L5ZghUP4"
      }
    },
    {
      "cell_type": "code",
      "source": [
        "!mkdir /content/data\n",
        "!cd /content/data\n",
        "!gdown --id 19Kt3QlvBWvdHxP-bB6m3X9AmYnIB83WU "
      ],
      "metadata": {
        "id": "IrYPdFtwuoED",
        "colab": {
          "base_uri": "https://localhost:8080/"
        },
        "outputId": "17e946d4-fb83-4852-e2e6-aad96d367075"
      },
      "execution_count": null,
      "outputs": [
        {
          "output_type": "stream",
          "name": "stdout",
          "text": [
            "/usr/local/lib/python3.10/dist-packages/gdown/cli.py:121: FutureWarning: Option `--id` was deprecated in version 4.3.1 and will be removed in 5.0. You don't need to pass it anymore to use a file ID.\n",
            "  warnings.warn(\n",
            "Downloading...\n",
            "From: https://drive.google.com/uc?id=19Kt3QlvBWvdHxP-bB6m3X9AmYnIB83WU\n",
            "To: /content/archive.zip\n",
            "100% 1.43G/1.43G [00:17<00:00, 81.3MB/s]\n"
          ]
        }
      ]
    },
    {
      "cell_type": "code",
      "source": [
        "!unzip ./archive.zip "
      ],
      "metadata": {
        "id": "k0gTH9iOvGxS",
        "colab": {
          "base_uri": "https://localhost:8080/"
        },
        "outputId": "f2accea3-d6e5-497e-ab50-f312cd7f020c"
      },
      "execution_count": null,
      "outputs": [
        {
          "output_type": "stream",
          "name": "stdout",
          "text": [
            "\u001b[1;30;43mStreaming output truncated to the last 5000 lines.\u001b[0m\n",
            "  inflating: img_align_celeba/img_align_celeba/197604.jpg  \n",
            "  inflating: img_align_celeba/img_align_celeba/197605.jpg  \n",
            "  inflating: img_align_celeba/img_align_celeba/197606.jpg  \n",
            "  inflating: img_align_celeba/img_align_celeba/197607.jpg  \n",
            "  inflating: img_align_celeba/img_align_celeba/197608.jpg  \n",
            "  inflating: img_align_celeba/img_align_celeba/197609.jpg  \n",
            "  inflating: img_align_celeba/img_align_celeba/197610.jpg  \n",
            "  inflating: img_align_celeba/img_align_celeba/197611.jpg  \n",
            "  inflating: img_align_celeba/img_align_celeba/197612.jpg  \n",
            "  inflating: img_align_celeba/img_align_celeba/197613.jpg  \n",
            "  inflating: img_align_celeba/img_align_celeba/197614.jpg  \n",
            "  inflating: img_align_celeba/img_align_celeba/197615.jpg  \n",
            "  inflating: img_align_celeba/img_align_celeba/197616.jpg  \n",
            "  inflating: img_align_celeba/img_align_celeba/197617.jpg  \n",
            "  inflating: img_align_celeba/img_align_celeba/197618.jpg  \n",
            "  inflating: img_align_celeba/img_align_celeba/197619.jpg  \n",
            "  inflating: img_align_celeba/img_align_celeba/197620.jpg  \n",
            "  inflating: img_align_celeba/img_align_celeba/197621.jpg  \n",
            "  inflating: img_align_celeba/img_align_celeba/197622.jpg  \n",
            "  inflating: img_align_celeba/img_align_celeba/197623.jpg  \n",
            "  inflating: img_align_celeba/img_align_celeba/197624.jpg  \n",
            "  inflating: img_align_celeba/img_align_celeba/197625.jpg  \n",
            "  inflating: img_align_celeba/img_align_celeba/197626.jpg  \n",
            "  inflating: img_align_celeba/img_align_celeba/197627.jpg  \n",
            "  inflating: img_align_celeba/img_align_celeba/197628.jpg  \n",
            "  inflating: img_align_celeba/img_align_celeba/197629.jpg  \n",
            "  inflating: img_align_celeba/img_align_celeba/197630.jpg  \n",
            "  inflating: img_align_celeba/img_align_celeba/197631.jpg  \n",
            "  inflating: img_align_celeba/img_align_celeba/197632.jpg  \n",
            "  inflating: img_align_celeba/img_align_celeba/197633.jpg  \n",
            "  inflating: img_align_celeba/img_align_celeba/197634.jpg  \n",
            "  inflating: img_align_celeba/img_align_celeba/197635.jpg  \n",
            "  inflating: img_align_celeba/img_align_celeba/197636.jpg  \n",
            "  inflating: img_align_celeba/img_align_celeba/197637.jpg  \n",
            "  inflating: img_align_celeba/img_align_celeba/197638.jpg  \n",
            "  inflating: img_align_celeba/img_align_celeba/197639.jpg  \n",
            "  inflating: img_align_celeba/img_align_celeba/197640.jpg  \n",
            "  inflating: img_align_celeba/img_align_celeba/197641.jpg  \n",
            "  inflating: img_align_celeba/img_align_celeba/197642.jpg  \n",
            "  inflating: img_align_celeba/img_align_celeba/197643.jpg  \n",
            "  inflating: img_align_celeba/img_align_celeba/197644.jpg  \n",
            "  inflating: img_align_celeba/img_align_celeba/197645.jpg  \n",
            "  inflating: img_align_celeba/img_align_celeba/197646.jpg  \n",
            "  inflating: img_align_celeba/img_align_celeba/197647.jpg  \n",
            "  inflating: img_align_celeba/img_align_celeba/197648.jpg  \n",
            "  inflating: img_align_celeba/img_align_celeba/197649.jpg  \n",
            "  inflating: img_align_celeba/img_align_celeba/197650.jpg  \n",
            "  inflating: img_align_celeba/img_align_celeba/197651.jpg  \n",
            "  inflating: img_align_celeba/img_align_celeba/197652.jpg  \n",
            "  inflating: img_align_celeba/img_align_celeba/197653.jpg  \n",
            "  inflating: img_align_celeba/img_align_celeba/197654.jpg  \n",
            "  inflating: img_align_celeba/img_align_celeba/197655.jpg  \n",
            "  inflating: img_align_celeba/img_align_celeba/197656.jpg  \n",
            "  inflating: img_align_celeba/img_align_celeba/197657.jpg  \n",
            "  inflating: img_align_celeba/img_align_celeba/197658.jpg  \n",
            "  inflating: img_align_celeba/img_align_celeba/197659.jpg  \n",
            "  inflating: img_align_celeba/img_align_celeba/197660.jpg  \n",
            "  inflating: img_align_celeba/img_align_celeba/197661.jpg  \n",
            "  inflating: img_align_celeba/img_align_celeba/197662.jpg  \n",
            "  inflating: img_align_celeba/img_align_celeba/197663.jpg  \n",
            "  inflating: img_align_celeba/img_align_celeba/197664.jpg  \n",
            "  inflating: img_align_celeba/img_align_celeba/197665.jpg  \n",
            "  inflating: img_align_celeba/img_align_celeba/197666.jpg  \n",
            "  inflating: img_align_celeba/img_align_celeba/197667.jpg  \n",
            "  inflating: img_align_celeba/img_align_celeba/197668.jpg  \n",
            "  inflating: img_align_celeba/img_align_celeba/197669.jpg  \n",
            "  inflating: img_align_celeba/img_align_celeba/197670.jpg  \n",
            "  inflating: img_align_celeba/img_align_celeba/197671.jpg  \n",
            "  inflating: img_align_celeba/img_align_celeba/197672.jpg  \n",
            "  inflating: img_align_celeba/img_align_celeba/197673.jpg  \n",
            "  inflating: img_align_celeba/img_align_celeba/197674.jpg  \n",
            "  inflating: img_align_celeba/img_align_celeba/197675.jpg  \n",
            "  inflating: img_align_celeba/img_align_celeba/197676.jpg  \n",
            "  inflating: img_align_celeba/img_align_celeba/197677.jpg  \n",
            "  inflating: img_align_celeba/img_align_celeba/197678.jpg  \n",
            "  inflating: img_align_celeba/img_align_celeba/197679.jpg  \n",
            "  inflating: img_align_celeba/img_align_celeba/197680.jpg  \n",
            "  inflating: img_align_celeba/img_align_celeba/197681.jpg  \n",
            "  inflating: img_align_celeba/img_align_celeba/197682.jpg  \n",
            "  inflating: img_align_celeba/img_align_celeba/197683.jpg  \n",
            "  inflating: img_align_celeba/img_align_celeba/197684.jpg  \n",
            "  inflating: img_align_celeba/img_align_celeba/197685.jpg  \n",
            "  inflating: img_align_celeba/img_align_celeba/197686.jpg  \n",
            "  inflating: img_align_celeba/img_align_celeba/197687.jpg  \n",
            "  inflating: img_align_celeba/img_align_celeba/197688.jpg  \n",
            "  inflating: img_align_celeba/img_align_celeba/197689.jpg  \n",
            "  inflating: img_align_celeba/img_align_celeba/197690.jpg  \n",
            "  inflating: img_align_celeba/img_align_celeba/197691.jpg  \n",
            "  inflating: img_align_celeba/img_align_celeba/197692.jpg  \n",
            "  inflating: img_align_celeba/img_align_celeba/197693.jpg  \n",
            "  inflating: img_align_celeba/img_align_celeba/197694.jpg  \n",
            "  inflating: img_align_celeba/img_align_celeba/197695.jpg  \n",
            "  inflating: img_align_celeba/img_align_celeba/197696.jpg  \n",
            "  inflating: img_align_celeba/img_align_celeba/197697.jpg  \n",
            "  inflating: img_align_celeba/img_align_celeba/197698.jpg  \n",
            "  inflating: img_align_celeba/img_align_celeba/197699.jpg  \n",
            "  inflating: img_align_celeba/img_align_celeba/197700.jpg  \n",
            "  inflating: img_align_celeba/img_align_celeba/197701.jpg  \n",
            "  inflating: img_align_celeba/img_align_celeba/197702.jpg  \n",
            "  inflating: img_align_celeba/img_align_celeba/197703.jpg  \n",
            "  inflating: img_align_celeba/img_align_celeba/197704.jpg  \n",
            "  inflating: img_align_celeba/img_align_celeba/197705.jpg  \n",
            "  inflating: img_align_celeba/img_align_celeba/197706.jpg  \n",
            "  inflating: img_align_celeba/img_align_celeba/197707.jpg  \n",
            "  inflating: img_align_celeba/img_align_celeba/197708.jpg  \n",
            "  inflating: img_align_celeba/img_align_celeba/197709.jpg  \n",
            "  inflating: img_align_celeba/img_align_celeba/197710.jpg  \n",
            "  inflating: img_align_celeba/img_align_celeba/197711.jpg  \n",
            "  inflating: img_align_celeba/img_align_celeba/197712.jpg  \n",
            "  inflating: img_align_celeba/img_align_celeba/197713.jpg  \n",
            "  inflating: img_align_celeba/img_align_celeba/197714.jpg  \n",
            "  inflating: img_align_celeba/img_align_celeba/197715.jpg  \n",
            "  inflating: img_align_celeba/img_align_celeba/197716.jpg  \n",
            "  inflating: img_align_celeba/img_align_celeba/197717.jpg  \n",
            "  inflating: img_align_celeba/img_align_celeba/197718.jpg  \n",
            "  inflating: img_align_celeba/img_align_celeba/197719.jpg  \n",
            "  inflating: img_align_celeba/img_align_celeba/197720.jpg  \n",
            "  inflating: img_align_celeba/img_align_celeba/197721.jpg  \n",
            "  inflating: img_align_celeba/img_align_celeba/197722.jpg  \n",
            "  inflating: img_align_celeba/img_align_celeba/197723.jpg  \n",
            "  inflating: img_align_celeba/img_align_celeba/197724.jpg  \n",
            "  inflating: img_align_celeba/img_align_celeba/197725.jpg  \n",
            "  inflating: img_align_celeba/img_align_celeba/197726.jpg  \n",
            "  inflating: img_align_celeba/img_align_celeba/197727.jpg  \n",
            "  inflating: img_align_celeba/img_align_celeba/197728.jpg  \n",
            "  inflating: img_align_celeba/img_align_celeba/197729.jpg  \n",
            "  inflating: img_align_celeba/img_align_celeba/197730.jpg  \n",
            "  inflating: img_align_celeba/img_align_celeba/197731.jpg  \n",
            "  inflating: img_align_celeba/img_align_celeba/197732.jpg  \n",
            "  inflating: img_align_celeba/img_align_celeba/197733.jpg  \n",
            "  inflating: img_align_celeba/img_align_celeba/197734.jpg  \n",
            "  inflating: img_align_celeba/img_align_celeba/197735.jpg  \n",
            "  inflating: img_align_celeba/img_align_celeba/197736.jpg  \n",
            "  inflating: img_align_celeba/img_align_celeba/197737.jpg  \n",
            "  inflating: img_align_celeba/img_align_celeba/197738.jpg  \n",
            "  inflating: img_align_celeba/img_align_celeba/197739.jpg  \n",
            "  inflating: img_align_celeba/img_align_celeba/197740.jpg  \n",
            "  inflating: img_align_celeba/img_align_celeba/197741.jpg  \n",
            "  inflating: img_align_celeba/img_align_celeba/197742.jpg  \n",
            "  inflating: img_align_celeba/img_align_celeba/197743.jpg  \n",
            "  inflating: img_align_celeba/img_align_celeba/197744.jpg  \n",
            "  inflating: img_align_celeba/img_align_celeba/197745.jpg  \n",
            "  inflating: img_align_celeba/img_align_celeba/197746.jpg  \n",
            "  inflating: img_align_celeba/img_align_celeba/197747.jpg  \n",
            "  inflating: img_align_celeba/img_align_celeba/197748.jpg  \n",
            "  inflating: img_align_celeba/img_align_celeba/197749.jpg  \n",
            "  inflating: img_align_celeba/img_align_celeba/197750.jpg  \n",
            "  inflating: img_align_celeba/img_align_celeba/197751.jpg  \n",
            "  inflating: img_align_celeba/img_align_celeba/197752.jpg  \n",
            "  inflating: img_align_celeba/img_align_celeba/197753.jpg  \n",
            "  inflating: img_align_celeba/img_align_celeba/197754.jpg  \n",
            "  inflating: img_align_celeba/img_align_celeba/197755.jpg  \n",
            "  inflating: img_align_celeba/img_align_celeba/197756.jpg  \n",
            "  inflating: img_align_celeba/img_align_celeba/197757.jpg  \n",
            "  inflating: img_align_celeba/img_align_celeba/197758.jpg  \n",
            "  inflating: img_align_celeba/img_align_celeba/197759.jpg  \n",
            "  inflating: img_align_celeba/img_align_celeba/197760.jpg  \n",
            "  inflating: img_align_celeba/img_align_celeba/197761.jpg  \n",
            "  inflating: img_align_celeba/img_align_celeba/197762.jpg  \n",
            "  inflating: img_align_celeba/img_align_celeba/197763.jpg  \n",
            "  inflating: img_align_celeba/img_align_celeba/197764.jpg  \n",
            "  inflating: img_align_celeba/img_align_celeba/197765.jpg  \n",
            "  inflating: img_align_celeba/img_align_celeba/197766.jpg  \n",
            "  inflating: img_align_celeba/img_align_celeba/197767.jpg  \n",
            "  inflating: img_align_celeba/img_align_celeba/197768.jpg  \n",
            "  inflating: img_align_celeba/img_align_celeba/197769.jpg  \n",
            "  inflating: img_align_celeba/img_align_celeba/197770.jpg  \n",
            "  inflating: img_align_celeba/img_align_celeba/197771.jpg  \n",
            "  inflating: img_align_celeba/img_align_celeba/197772.jpg  \n",
            "  inflating: img_align_celeba/img_align_celeba/197773.jpg  \n",
            "  inflating: img_align_celeba/img_align_celeba/197774.jpg  \n",
            "  inflating: img_align_celeba/img_align_celeba/197775.jpg  \n",
            "  inflating: img_align_celeba/img_align_celeba/197776.jpg  \n",
            "  inflating: img_align_celeba/img_align_celeba/197777.jpg  \n",
            "  inflating: img_align_celeba/img_align_celeba/197778.jpg  \n",
            "  inflating: img_align_celeba/img_align_celeba/197779.jpg  \n",
            "  inflating: img_align_celeba/img_align_celeba/197780.jpg  \n",
            "  inflating: img_align_celeba/img_align_celeba/197781.jpg  \n",
            "  inflating: img_align_celeba/img_align_celeba/197782.jpg  \n",
            "  inflating: img_align_celeba/img_align_celeba/197783.jpg  \n",
            "  inflating: img_align_celeba/img_align_celeba/197784.jpg  \n",
            "  inflating: img_align_celeba/img_align_celeba/197785.jpg  \n",
            "  inflating: img_align_celeba/img_align_celeba/197786.jpg  \n",
            "  inflating: img_align_celeba/img_align_celeba/197787.jpg  \n",
            "  inflating: img_align_celeba/img_align_celeba/197788.jpg  \n",
            "  inflating: img_align_celeba/img_align_celeba/197789.jpg  \n",
            "  inflating: img_align_celeba/img_align_celeba/197790.jpg  \n",
            "  inflating: img_align_celeba/img_align_celeba/197791.jpg  \n",
            "  inflating: img_align_celeba/img_align_celeba/197792.jpg  \n",
            "  inflating: img_align_celeba/img_align_celeba/197793.jpg  \n",
            "  inflating: img_align_celeba/img_align_celeba/197794.jpg  \n",
            "  inflating: img_align_celeba/img_align_celeba/197795.jpg  \n",
            "  inflating: img_align_celeba/img_align_celeba/197796.jpg  \n",
            "  inflating: img_align_celeba/img_align_celeba/197797.jpg  \n",
            "  inflating: img_align_celeba/img_align_celeba/197798.jpg  \n",
            "  inflating: img_align_celeba/img_align_celeba/197799.jpg  \n",
            "  inflating: img_align_celeba/img_align_celeba/197800.jpg  \n",
            "  inflating: img_align_celeba/img_align_celeba/197801.jpg  \n",
            "  inflating: img_align_celeba/img_align_celeba/197802.jpg  \n",
            "  inflating: img_align_celeba/img_align_celeba/197803.jpg  \n",
            "  inflating: img_align_celeba/img_align_celeba/197804.jpg  \n",
            "  inflating: img_align_celeba/img_align_celeba/197805.jpg  \n",
            "  inflating: img_align_celeba/img_align_celeba/197806.jpg  \n",
            "  inflating: img_align_celeba/img_align_celeba/197807.jpg  \n",
            "  inflating: img_align_celeba/img_align_celeba/197808.jpg  \n",
            "  inflating: img_align_celeba/img_align_celeba/197809.jpg  \n",
            "  inflating: img_align_celeba/img_align_celeba/197810.jpg  \n",
            "  inflating: img_align_celeba/img_align_celeba/197811.jpg  \n",
            "  inflating: img_align_celeba/img_align_celeba/197812.jpg  \n",
            "  inflating: img_align_celeba/img_align_celeba/197813.jpg  \n",
            "  inflating: img_align_celeba/img_align_celeba/197814.jpg  \n",
            "  inflating: img_align_celeba/img_align_celeba/197815.jpg  \n",
            "  inflating: img_align_celeba/img_align_celeba/197816.jpg  \n",
            "  inflating: img_align_celeba/img_align_celeba/197817.jpg  \n",
            "  inflating: img_align_celeba/img_align_celeba/197818.jpg  \n",
            "  inflating: img_align_celeba/img_align_celeba/197819.jpg  \n",
            "  inflating: img_align_celeba/img_align_celeba/197820.jpg  \n",
            "  inflating: img_align_celeba/img_align_celeba/197821.jpg  \n",
            "  inflating: img_align_celeba/img_align_celeba/197822.jpg  \n",
            "  inflating: img_align_celeba/img_align_celeba/197823.jpg  \n",
            "  inflating: img_align_celeba/img_align_celeba/197824.jpg  \n",
            "  inflating: img_align_celeba/img_align_celeba/197825.jpg  \n",
            "  inflating: img_align_celeba/img_align_celeba/197826.jpg  \n",
            "  inflating: img_align_celeba/img_align_celeba/197827.jpg  \n",
            "  inflating: img_align_celeba/img_align_celeba/197828.jpg  \n",
            "  inflating: img_align_celeba/img_align_celeba/197829.jpg  \n",
            "  inflating: img_align_celeba/img_align_celeba/197830.jpg  \n",
            "  inflating: img_align_celeba/img_align_celeba/197831.jpg  \n",
            "  inflating: img_align_celeba/img_align_celeba/197832.jpg  \n",
            "  inflating: img_align_celeba/img_align_celeba/197833.jpg  \n",
            "  inflating: img_align_celeba/img_align_celeba/197834.jpg  \n",
            "  inflating: img_align_celeba/img_align_celeba/197835.jpg  \n",
            "  inflating: img_align_celeba/img_align_celeba/197836.jpg  \n",
            "  inflating: img_align_celeba/img_align_celeba/197837.jpg  \n",
            "  inflating: img_align_celeba/img_align_celeba/197838.jpg  \n",
            "  inflating: img_align_celeba/img_align_celeba/197839.jpg  \n",
            "  inflating: img_align_celeba/img_align_celeba/197840.jpg  \n",
            "  inflating: img_align_celeba/img_align_celeba/197841.jpg  \n",
            "  inflating: img_align_celeba/img_align_celeba/197842.jpg  \n",
            "  inflating: img_align_celeba/img_align_celeba/197843.jpg  \n",
            "  inflating: img_align_celeba/img_align_celeba/197844.jpg  \n",
            "  inflating: img_align_celeba/img_align_celeba/197845.jpg  \n",
            "  inflating: img_align_celeba/img_align_celeba/197846.jpg  \n",
            "  inflating: img_align_celeba/img_align_celeba/197847.jpg  \n",
            "  inflating: img_align_celeba/img_align_celeba/197848.jpg  \n",
            "  inflating: img_align_celeba/img_align_celeba/197849.jpg  \n",
            "  inflating: img_align_celeba/img_align_celeba/197850.jpg  \n",
            "  inflating: img_align_celeba/img_align_celeba/197851.jpg  \n",
            "  inflating: img_align_celeba/img_align_celeba/197852.jpg  \n",
            "  inflating: img_align_celeba/img_align_celeba/197853.jpg  \n",
            "  inflating: img_align_celeba/img_align_celeba/197854.jpg  \n",
            "  inflating: img_align_celeba/img_align_celeba/197855.jpg  \n",
            "  inflating: img_align_celeba/img_align_celeba/197856.jpg  \n",
            "  inflating: img_align_celeba/img_align_celeba/197857.jpg  \n",
            "  inflating: img_align_celeba/img_align_celeba/197858.jpg  \n",
            "  inflating: img_align_celeba/img_align_celeba/197859.jpg  \n",
            "  inflating: img_align_celeba/img_align_celeba/197860.jpg  \n",
            "  inflating: img_align_celeba/img_align_celeba/197861.jpg  \n",
            "  inflating: img_align_celeba/img_align_celeba/197862.jpg  \n",
            "  inflating: img_align_celeba/img_align_celeba/197863.jpg  \n",
            "  inflating: img_align_celeba/img_align_celeba/197864.jpg  \n",
            "  inflating: img_align_celeba/img_align_celeba/197865.jpg  \n",
            "  inflating: img_align_celeba/img_align_celeba/197866.jpg  \n",
            "  inflating: img_align_celeba/img_align_celeba/197867.jpg  \n",
            "  inflating: img_align_celeba/img_align_celeba/197868.jpg  \n",
            "  inflating: img_align_celeba/img_align_celeba/197869.jpg  \n",
            "  inflating: img_align_celeba/img_align_celeba/197870.jpg  \n",
            "  inflating: img_align_celeba/img_align_celeba/197871.jpg  \n",
            "  inflating: img_align_celeba/img_align_celeba/197872.jpg  \n",
            "  inflating: img_align_celeba/img_align_celeba/197873.jpg  \n",
            "  inflating: img_align_celeba/img_align_celeba/197874.jpg  \n",
            "  inflating: img_align_celeba/img_align_celeba/197875.jpg  \n",
            "  inflating: img_align_celeba/img_align_celeba/197876.jpg  \n",
            "  inflating: img_align_celeba/img_align_celeba/197877.jpg  \n",
            "  inflating: img_align_celeba/img_align_celeba/197878.jpg  \n",
            "  inflating: img_align_celeba/img_align_celeba/197879.jpg  \n",
            "  inflating: img_align_celeba/img_align_celeba/197880.jpg  \n",
            "  inflating: img_align_celeba/img_align_celeba/197881.jpg  \n",
            "  inflating: img_align_celeba/img_align_celeba/197882.jpg  \n",
            "  inflating: img_align_celeba/img_align_celeba/197883.jpg  \n",
            "  inflating: img_align_celeba/img_align_celeba/197884.jpg  \n",
            "  inflating: img_align_celeba/img_align_celeba/197885.jpg  \n",
            "  inflating: img_align_celeba/img_align_celeba/197886.jpg  \n",
            "  inflating: img_align_celeba/img_align_celeba/197887.jpg  \n",
            "  inflating: img_align_celeba/img_align_celeba/197888.jpg  \n",
            "  inflating: img_align_celeba/img_align_celeba/197889.jpg  \n",
            "  inflating: img_align_celeba/img_align_celeba/197890.jpg  \n",
            "  inflating: img_align_celeba/img_align_celeba/197891.jpg  \n",
            "  inflating: img_align_celeba/img_align_celeba/197892.jpg  \n",
            "  inflating: img_align_celeba/img_align_celeba/197893.jpg  \n",
            "  inflating: img_align_celeba/img_align_celeba/197894.jpg  \n",
            "  inflating: img_align_celeba/img_align_celeba/197895.jpg  \n",
            "  inflating: img_align_celeba/img_align_celeba/197896.jpg  \n",
            "  inflating: img_align_celeba/img_align_celeba/197897.jpg  \n",
            "  inflating: img_align_celeba/img_align_celeba/197898.jpg  \n",
            "  inflating: img_align_celeba/img_align_celeba/197899.jpg  \n",
            "  inflating: img_align_celeba/img_align_celeba/197900.jpg  \n",
            "  inflating: img_align_celeba/img_align_celeba/197901.jpg  \n",
            "  inflating: img_align_celeba/img_align_celeba/197902.jpg  \n",
            "  inflating: img_align_celeba/img_align_celeba/197903.jpg  \n",
            "  inflating: img_align_celeba/img_align_celeba/197904.jpg  \n",
            "  inflating: img_align_celeba/img_align_celeba/197905.jpg  \n",
            "  inflating: img_align_celeba/img_align_celeba/197906.jpg  \n",
            "  inflating: img_align_celeba/img_align_celeba/197907.jpg  \n",
            "  inflating: img_align_celeba/img_align_celeba/197908.jpg  \n",
            "  inflating: img_align_celeba/img_align_celeba/197909.jpg  \n",
            "  inflating: img_align_celeba/img_align_celeba/197910.jpg  \n",
            "  inflating: img_align_celeba/img_align_celeba/197911.jpg  \n",
            "  inflating: img_align_celeba/img_align_celeba/197912.jpg  \n",
            "  inflating: img_align_celeba/img_align_celeba/197913.jpg  \n",
            "  inflating: img_align_celeba/img_align_celeba/197914.jpg  \n",
            "  inflating: img_align_celeba/img_align_celeba/197915.jpg  \n",
            "  inflating: img_align_celeba/img_align_celeba/197916.jpg  \n",
            "  inflating: img_align_celeba/img_align_celeba/197917.jpg  \n",
            "  inflating: img_align_celeba/img_align_celeba/197918.jpg  \n",
            "  inflating: img_align_celeba/img_align_celeba/197919.jpg  \n",
            "  inflating: img_align_celeba/img_align_celeba/197920.jpg  \n",
            "  inflating: img_align_celeba/img_align_celeba/197921.jpg  \n",
            "  inflating: img_align_celeba/img_align_celeba/197922.jpg  \n",
            "  inflating: img_align_celeba/img_align_celeba/197923.jpg  \n",
            "  inflating: img_align_celeba/img_align_celeba/197924.jpg  \n",
            "  inflating: img_align_celeba/img_align_celeba/197925.jpg  \n",
            "  inflating: img_align_celeba/img_align_celeba/197926.jpg  \n",
            "  inflating: img_align_celeba/img_align_celeba/197927.jpg  \n",
            "  inflating: img_align_celeba/img_align_celeba/197928.jpg  \n",
            "  inflating: img_align_celeba/img_align_celeba/197929.jpg  \n",
            "  inflating: img_align_celeba/img_align_celeba/197930.jpg  \n",
            "  inflating: img_align_celeba/img_align_celeba/197931.jpg  \n",
            "  inflating: img_align_celeba/img_align_celeba/197932.jpg  \n",
            "  inflating: img_align_celeba/img_align_celeba/197933.jpg  \n",
            "  inflating: img_align_celeba/img_align_celeba/197934.jpg  \n",
            "  inflating: img_align_celeba/img_align_celeba/197935.jpg  \n",
            "  inflating: img_align_celeba/img_align_celeba/197936.jpg  \n",
            "  inflating: img_align_celeba/img_align_celeba/197937.jpg  \n",
            "  inflating: img_align_celeba/img_align_celeba/197938.jpg  \n",
            "  inflating: img_align_celeba/img_align_celeba/197939.jpg  \n",
            "  inflating: img_align_celeba/img_align_celeba/197940.jpg  \n",
            "  inflating: img_align_celeba/img_align_celeba/197941.jpg  \n",
            "  inflating: img_align_celeba/img_align_celeba/197942.jpg  \n",
            "  inflating: img_align_celeba/img_align_celeba/197943.jpg  \n",
            "  inflating: img_align_celeba/img_align_celeba/197944.jpg  \n",
            "  inflating: img_align_celeba/img_align_celeba/197945.jpg  \n",
            "  inflating: img_align_celeba/img_align_celeba/197946.jpg  \n",
            "  inflating: img_align_celeba/img_align_celeba/197947.jpg  \n",
            "  inflating: img_align_celeba/img_align_celeba/197948.jpg  \n",
            "  inflating: img_align_celeba/img_align_celeba/197949.jpg  \n",
            "  inflating: img_align_celeba/img_align_celeba/197950.jpg  \n",
            "  inflating: img_align_celeba/img_align_celeba/197951.jpg  \n",
            "  inflating: img_align_celeba/img_align_celeba/197952.jpg  \n",
            "  inflating: img_align_celeba/img_align_celeba/197953.jpg  \n",
            "  inflating: img_align_celeba/img_align_celeba/197954.jpg  \n",
            "  inflating: img_align_celeba/img_align_celeba/197955.jpg  \n",
            "  inflating: img_align_celeba/img_align_celeba/197956.jpg  \n",
            "  inflating: img_align_celeba/img_align_celeba/197957.jpg  \n",
            "  inflating: img_align_celeba/img_align_celeba/197958.jpg  \n",
            "  inflating: img_align_celeba/img_align_celeba/197959.jpg  \n",
            "  inflating: img_align_celeba/img_align_celeba/197960.jpg  \n",
            "  inflating: img_align_celeba/img_align_celeba/197961.jpg  \n",
            "  inflating: img_align_celeba/img_align_celeba/197962.jpg  \n",
            "  inflating: img_align_celeba/img_align_celeba/197963.jpg  \n",
            "  inflating: img_align_celeba/img_align_celeba/197964.jpg  \n",
            "  inflating: img_align_celeba/img_align_celeba/197965.jpg  \n",
            "  inflating: img_align_celeba/img_align_celeba/197966.jpg  \n",
            "  inflating: img_align_celeba/img_align_celeba/197967.jpg  \n",
            "  inflating: img_align_celeba/img_align_celeba/197968.jpg  \n",
            "  inflating: img_align_celeba/img_align_celeba/197969.jpg  \n",
            "  inflating: img_align_celeba/img_align_celeba/197970.jpg  \n",
            "  inflating: img_align_celeba/img_align_celeba/197971.jpg  \n",
            "  inflating: img_align_celeba/img_align_celeba/197972.jpg  \n",
            "  inflating: img_align_celeba/img_align_celeba/197973.jpg  \n",
            "  inflating: img_align_celeba/img_align_celeba/197974.jpg  \n",
            "  inflating: img_align_celeba/img_align_celeba/197975.jpg  \n",
            "  inflating: img_align_celeba/img_align_celeba/197976.jpg  \n",
            "  inflating: img_align_celeba/img_align_celeba/197977.jpg  \n",
            "  inflating: img_align_celeba/img_align_celeba/197978.jpg  \n",
            "  inflating: img_align_celeba/img_align_celeba/197979.jpg  \n",
            "  inflating: img_align_celeba/img_align_celeba/197980.jpg  \n",
            "  inflating: img_align_celeba/img_align_celeba/197981.jpg  \n",
            "  inflating: img_align_celeba/img_align_celeba/197982.jpg  \n",
            "  inflating: img_align_celeba/img_align_celeba/197983.jpg  \n",
            "  inflating: img_align_celeba/img_align_celeba/197984.jpg  \n",
            "  inflating: img_align_celeba/img_align_celeba/197985.jpg  \n",
            "  inflating: img_align_celeba/img_align_celeba/197986.jpg  \n",
            "  inflating: img_align_celeba/img_align_celeba/197987.jpg  \n",
            "  inflating: img_align_celeba/img_align_celeba/197988.jpg  \n",
            "  inflating: img_align_celeba/img_align_celeba/197989.jpg  \n",
            "  inflating: img_align_celeba/img_align_celeba/197990.jpg  \n",
            "  inflating: img_align_celeba/img_align_celeba/197991.jpg  \n",
            "  inflating: img_align_celeba/img_align_celeba/197992.jpg  \n",
            "  inflating: img_align_celeba/img_align_celeba/197993.jpg  \n",
            "  inflating: img_align_celeba/img_align_celeba/197994.jpg  \n",
            "  inflating: img_align_celeba/img_align_celeba/197995.jpg  \n",
            "  inflating: img_align_celeba/img_align_celeba/197996.jpg  \n",
            "  inflating: img_align_celeba/img_align_celeba/197997.jpg  \n",
            "  inflating: img_align_celeba/img_align_celeba/197998.jpg  \n",
            "  inflating: img_align_celeba/img_align_celeba/197999.jpg  \n",
            "  inflating: img_align_celeba/img_align_celeba/198000.jpg  \n",
            "  inflating: img_align_celeba/img_align_celeba/198001.jpg  \n",
            "  inflating: img_align_celeba/img_align_celeba/198002.jpg  \n",
            "  inflating: img_align_celeba/img_align_celeba/198003.jpg  \n",
            "  inflating: img_align_celeba/img_align_celeba/198004.jpg  \n",
            "  inflating: img_align_celeba/img_align_celeba/198005.jpg  \n",
            "  inflating: img_align_celeba/img_align_celeba/198006.jpg  \n",
            "  inflating: img_align_celeba/img_align_celeba/198007.jpg  \n",
            "  inflating: img_align_celeba/img_align_celeba/198008.jpg  \n",
            "  inflating: img_align_celeba/img_align_celeba/198009.jpg  \n",
            "  inflating: img_align_celeba/img_align_celeba/198010.jpg  \n",
            "  inflating: img_align_celeba/img_align_celeba/198011.jpg  \n",
            "  inflating: img_align_celeba/img_align_celeba/198012.jpg  \n",
            "  inflating: img_align_celeba/img_align_celeba/198013.jpg  \n",
            "  inflating: img_align_celeba/img_align_celeba/198014.jpg  \n",
            "  inflating: img_align_celeba/img_align_celeba/198015.jpg  \n",
            "  inflating: img_align_celeba/img_align_celeba/198016.jpg  \n",
            "  inflating: img_align_celeba/img_align_celeba/198017.jpg  \n",
            "  inflating: img_align_celeba/img_align_celeba/198018.jpg  \n",
            "  inflating: img_align_celeba/img_align_celeba/198019.jpg  \n",
            "  inflating: img_align_celeba/img_align_celeba/198020.jpg  \n",
            "  inflating: img_align_celeba/img_align_celeba/198021.jpg  \n",
            "  inflating: img_align_celeba/img_align_celeba/198022.jpg  \n",
            "  inflating: img_align_celeba/img_align_celeba/198023.jpg  \n",
            "  inflating: img_align_celeba/img_align_celeba/198024.jpg  \n",
            "  inflating: img_align_celeba/img_align_celeba/198025.jpg  \n",
            "  inflating: img_align_celeba/img_align_celeba/198026.jpg  \n",
            "  inflating: img_align_celeba/img_align_celeba/198027.jpg  \n",
            "  inflating: img_align_celeba/img_align_celeba/198028.jpg  \n",
            "  inflating: img_align_celeba/img_align_celeba/198029.jpg  \n",
            "  inflating: img_align_celeba/img_align_celeba/198030.jpg  \n",
            "  inflating: img_align_celeba/img_align_celeba/198031.jpg  \n",
            "  inflating: img_align_celeba/img_align_celeba/198032.jpg  \n",
            "  inflating: img_align_celeba/img_align_celeba/198033.jpg  \n",
            "  inflating: img_align_celeba/img_align_celeba/198034.jpg  \n",
            "  inflating: img_align_celeba/img_align_celeba/198035.jpg  \n",
            "  inflating: img_align_celeba/img_align_celeba/198036.jpg  \n",
            "  inflating: img_align_celeba/img_align_celeba/198037.jpg  \n",
            "  inflating: img_align_celeba/img_align_celeba/198038.jpg  \n",
            "  inflating: img_align_celeba/img_align_celeba/198039.jpg  \n",
            "  inflating: img_align_celeba/img_align_celeba/198040.jpg  \n",
            "  inflating: img_align_celeba/img_align_celeba/198041.jpg  \n",
            "  inflating: img_align_celeba/img_align_celeba/198042.jpg  \n",
            "  inflating: img_align_celeba/img_align_celeba/198043.jpg  \n",
            "  inflating: img_align_celeba/img_align_celeba/198044.jpg  \n",
            "  inflating: img_align_celeba/img_align_celeba/198045.jpg  \n",
            "  inflating: img_align_celeba/img_align_celeba/198046.jpg  \n",
            "  inflating: img_align_celeba/img_align_celeba/198047.jpg  \n",
            "  inflating: img_align_celeba/img_align_celeba/198048.jpg  \n",
            "  inflating: img_align_celeba/img_align_celeba/198049.jpg  \n",
            "  inflating: img_align_celeba/img_align_celeba/198050.jpg  \n",
            "  inflating: img_align_celeba/img_align_celeba/198051.jpg  \n",
            "  inflating: img_align_celeba/img_align_celeba/198052.jpg  \n",
            "  inflating: img_align_celeba/img_align_celeba/198053.jpg  \n",
            "  inflating: img_align_celeba/img_align_celeba/198054.jpg  \n",
            "  inflating: img_align_celeba/img_align_celeba/198055.jpg  \n",
            "  inflating: img_align_celeba/img_align_celeba/198056.jpg  \n",
            "  inflating: img_align_celeba/img_align_celeba/198057.jpg  \n",
            "  inflating: img_align_celeba/img_align_celeba/198058.jpg  \n",
            "  inflating: img_align_celeba/img_align_celeba/198059.jpg  \n",
            "  inflating: img_align_celeba/img_align_celeba/198060.jpg  \n",
            "  inflating: img_align_celeba/img_align_celeba/198061.jpg  \n",
            "  inflating: img_align_celeba/img_align_celeba/198062.jpg  \n",
            "  inflating: img_align_celeba/img_align_celeba/198063.jpg  \n",
            "  inflating: img_align_celeba/img_align_celeba/198064.jpg  \n",
            "  inflating: img_align_celeba/img_align_celeba/198065.jpg  \n",
            "  inflating: img_align_celeba/img_align_celeba/198066.jpg  \n",
            "  inflating: img_align_celeba/img_align_celeba/198067.jpg  \n",
            "  inflating: img_align_celeba/img_align_celeba/198068.jpg  \n",
            "  inflating: img_align_celeba/img_align_celeba/198069.jpg  \n",
            "  inflating: img_align_celeba/img_align_celeba/198070.jpg  \n",
            "  inflating: img_align_celeba/img_align_celeba/198071.jpg  \n",
            "  inflating: img_align_celeba/img_align_celeba/198072.jpg  \n",
            "  inflating: img_align_celeba/img_align_celeba/198073.jpg  \n",
            "  inflating: img_align_celeba/img_align_celeba/198074.jpg  \n",
            "  inflating: img_align_celeba/img_align_celeba/198075.jpg  \n",
            "  inflating: img_align_celeba/img_align_celeba/198076.jpg  \n",
            "  inflating: img_align_celeba/img_align_celeba/198077.jpg  \n",
            "  inflating: img_align_celeba/img_align_celeba/198078.jpg  \n",
            "  inflating: img_align_celeba/img_align_celeba/198079.jpg  \n",
            "  inflating: img_align_celeba/img_align_celeba/198080.jpg  \n",
            "  inflating: img_align_celeba/img_align_celeba/198081.jpg  \n",
            "  inflating: img_align_celeba/img_align_celeba/198082.jpg  \n",
            "  inflating: img_align_celeba/img_align_celeba/198083.jpg  \n",
            "  inflating: img_align_celeba/img_align_celeba/198084.jpg  \n",
            "  inflating: img_align_celeba/img_align_celeba/198085.jpg  \n",
            "  inflating: img_align_celeba/img_align_celeba/198086.jpg  \n",
            "  inflating: img_align_celeba/img_align_celeba/198087.jpg  \n",
            "  inflating: img_align_celeba/img_align_celeba/198088.jpg  \n",
            "  inflating: img_align_celeba/img_align_celeba/198089.jpg  \n",
            "  inflating: img_align_celeba/img_align_celeba/198090.jpg  \n",
            "  inflating: img_align_celeba/img_align_celeba/198091.jpg  \n",
            "  inflating: img_align_celeba/img_align_celeba/198092.jpg  \n",
            "  inflating: img_align_celeba/img_align_celeba/198093.jpg  \n",
            "  inflating: img_align_celeba/img_align_celeba/198094.jpg  \n",
            "  inflating: img_align_celeba/img_align_celeba/198095.jpg  \n",
            "  inflating: img_align_celeba/img_align_celeba/198096.jpg  \n",
            "  inflating: img_align_celeba/img_align_celeba/198097.jpg  \n",
            "  inflating: img_align_celeba/img_align_celeba/198098.jpg  \n",
            "  inflating: img_align_celeba/img_align_celeba/198099.jpg  \n",
            "  inflating: img_align_celeba/img_align_celeba/198100.jpg  \n",
            "  inflating: img_align_celeba/img_align_celeba/198101.jpg  \n",
            "  inflating: img_align_celeba/img_align_celeba/198102.jpg  \n",
            "  inflating: img_align_celeba/img_align_celeba/198103.jpg  \n",
            "  inflating: img_align_celeba/img_align_celeba/198104.jpg  \n",
            "  inflating: img_align_celeba/img_align_celeba/198105.jpg  \n",
            "  inflating: img_align_celeba/img_align_celeba/198106.jpg  \n",
            "  inflating: img_align_celeba/img_align_celeba/198107.jpg  \n",
            "  inflating: img_align_celeba/img_align_celeba/198108.jpg  \n",
            "  inflating: img_align_celeba/img_align_celeba/198109.jpg  \n",
            "  inflating: img_align_celeba/img_align_celeba/198110.jpg  \n",
            "  inflating: img_align_celeba/img_align_celeba/198111.jpg  \n",
            "  inflating: img_align_celeba/img_align_celeba/198112.jpg  \n",
            "  inflating: img_align_celeba/img_align_celeba/198113.jpg  \n",
            "  inflating: img_align_celeba/img_align_celeba/198114.jpg  \n",
            "  inflating: img_align_celeba/img_align_celeba/198115.jpg  \n",
            "  inflating: img_align_celeba/img_align_celeba/198116.jpg  \n",
            "  inflating: img_align_celeba/img_align_celeba/198117.jpg  \n",
            "  inflating: img_align_celeba/img_align_celeba/198118.jpg  \n",
            "  inflating: img_align_celeba/img_align_celeba/198119.jpg  \n",
            "  inflating: img_align_celeba/img_align_celeba/198120.jpg  \n",
            "  inflating: img_align_celeba/img_align_celeba/198121.jpg  \n",
            "  inflating: img_align_celeba/img_align_celeba/198122.jpg  \n",
            "  inflating: img_align_celeba/img_align_celeba/198123.jpg  \n",
            "  inflating: img_align_celeba/img_align_celeba/198124.jpg  \n",
            "  inflating: img_align_celeba/img_align_celeba/198125.jpg  \n",
            "  inflating: img_align_celeba/img_align_celeba/198126.jpg  \n",
            "  inflating: img_align_celeba/img_align_celeba/198127.jpg  \n",
            "  inflating: img_align_celeba/img_align_celeba/198128.jpg  \n",
            "  inflating: img_align_celeba/img_align_celeba/198129.jpg  \n",
            "  inflating: img_align_celeba/img_align_celeba/198130.jpg  \n",
            "  inflating: img_align_celeba/img_align_celeba/198131.jpg  \n",
            "  inflating: img_align_celeba/img_align_celeba/198132.jpg  \n",
            "  inflating: img_align_celeba/img_align_celeba/198133.jpg  \n",
            "  inflating: img_align_celeba/img_align_celeba/198134.jpg  \n",
            "  inflating: img_align_celeba/img_align_celeba/198135.jpg  \n",
            "  inflating: img_align_celeba/img_align_celeba/198136.jpg  \n",
            "  inflating: img_align_celeba/img_align_celeba/198137.jpg  \n",
            "  inflating: img_align_celeba/img_align_celeba/198138.jpg  \n",
            "  inflating: img_align_celeba/img_align_celeba/198139.jpg  \n",
            "  inflating: img_align_celeba/img_align_celeba/198140.jpg  \n",
            "  inflating: img_align_celeba/img_align_celeba/198141.jpg  \n",
            "  inflating: img_align_celeba/img_align_celeba/198142.jpg  \n",
            "  inflating: img_align_celeba/img_align_celeba/198143.jpg  \n",
            "  inflating: img_align_celeba/img_align_celeba/198144.jpg  \n",
            "  inflating: img_align_celeba/img_align_celeba/198145.jpg  \n",
            "  inflating: img_align_celeba/img_align_celeba/198146.jpg  \n",
            "  inflating: img_align_celeba/img_align_celeba/198147.jpg  \n",
            "  inflating: img_align_celeba/img_align_celeba/198148.jpg  \n",
            "  inflating: img_align_celeba/img_align_celeba/198149.jpg  \n",
            "  inflating: img_align_celeba/img_align_celeba/198150.jpg  \n",
            "  inflating: img_align_celeba/img_align_celeba/198151.jpg  \n",
            "  inflating: img_align_celeba/img_align_celeba/198152.jpg  \n",
            "  inflating: img_align_celeba/img_align_celeba/198153.jpg  \n",
            "  inflating: img_align_celeba/img_align_celeba/198154.jpg  \n",
            "  inflating: img_align_celeba/img_align_celeba/198155.jpg  \n",
            "  inflating: img_align_celeba/img_align_celeba/198156.jpg  \n",
            "  inflating: img_align_celeba/img_align_celeba/198157.jpg  \n",
            "  inflating: img_align_celeba/img_align_celeba/198158.jpg  \n",
            "  inflating: img_align_celeba/img_align_celeba/198159.jpg  \n",
            "  inflating: img_align_celeba/img_align_celeba/198160.jpg  \n",
            "  inflating: img_align_celeba/img_align_celeba/198161.jpg  \n",
            "  inflating: img_align_celeba/img_align_celeba/198162.jpg  \n",
            "  inflating: img_align_celeba/img_align_celeba/198163.jpg  \n",
            "  inflating: img_align_celeba/img_align_celeba/198164.jpg  \n",
            "  inflating: img_align_celeba/img_align_celeba/198165.jpg  \n",
            "  inflating: img_align_celeba/img_align_celeba/198166.jpg  \n",
            "  inflating: img_align_celeba/img_align_celeba/198167.jpg  \n",
            "  inflating: img_align_celeba/img_align_celeba/198168.jpg  \n",
            "  inflating: img_align_celeba/img_align_celeba/198169.jpg  \n",
            "  inflating: img_align_celeba/img_align_celeba/198170.jpg  \n",
            "  inflating: img_align_celeba/img_align_celeba/198171.jpg  \n",
            "  inflating: img_align_celeba/img_align_celeba/198172.jpg  \n",
            "  inflating: img_align_celeba/img_align_celeba/198173.jpg  \n",
            "  inflating: img_align_celeba/img_align_celeba/198174.jpg  \n",
            "  inflating: img_align_celeba/img_align_celeba/198175.jpg  \n",
            "  inflating: img_align_celeba/img_align_celeba/198176.jpg  \n",
            "  inflating: img_align_celeba/img_align_celeba/198177.jpg  \n",
            "  inflating: img_align_celeba/img_align_celeba/198178.jpg  \n",
            "  inflating: img_align_celeba/img_align_celeba/198179.jpg  \n",
            "  inflating: img_align_celeba/img_align_celeba/198180.jpg  \n",
            "  inflating: img_align_celeba/img_align_celeba/198181.jpg  \n",
            "  inflating: img_align_celeba/img_align_celeba/198182.jpg  \n",
            "  inflating: img_align_celeba/img_align_celeba/198183.jpg  \n",
            "  inflating: img_align_celeba/img_align_celeba/198184.jpg  \n",
            "  inflating: img_align_celeba/img_align_celeba/198185.jpg  \n",
            "  inflating: img_align_celeba/img_align_celeba/198186.jpg  \n",
            "  inflating: img_align_celeba/img_align_celeba/198187.jpg  \n",
            "  inflating: img_align_celeba/img_align_celeba/198188.jpg  \n",
            "  inflating: img_align_celeba/img_align_celeba/198189.jpg  \n",
            "  inflating: img_align_celeba/img_align_celeba/198190.jpg  \n",
            "  inflating: img_align_celeba/img_align_celeba/198191.jpg  \n",
            "  inflating: img_align_celeba/img_align_celeba/198192.jpg  \n",
            "  inflating: img_align_celeba/img_align_celeba/198193.jpg  \n",
            "  inflating: img_align_celeba/img_align_celeba/198194.jpg  \n",
            "  inflating: img_align_celeba/img_align_celeba/198195.jpg  \n",
            "  inflating: img_align_celeba/img_align_celeba/198196.jpg  \n",
            "  inflating: img_align_celeba/img_align_celeba/198197.jpg  \n",
            "  inflating: img_align_celeba/img_align_celeba/198198.jpg  \n",
            "  inflating: img_align_celeba/img_align_celeba/198199.jpg  \n",
            "  inflating: img_align_celeba/img_align_celeba/198200.jpg  \n",
            "  inflating: img_align_celeba/img_align_celeba/198201.jpg  \n",
            "  inflating: img_align_celeba/img_align_celeba/198202.jpg  \n",
            "  inflating: img_align_celeba/img_align_celeba/198203.jpg  \n",
            "  inflating: img_align_celeba/img_align_celeba/198204.jpg  \n",
            "  inflating: img_align_celeba/img_align_celeba/198205.jpg  \n",
            "  inflating: img_align_celeba/img_align_celeba/198206.jpg  \n",
            "  inflating: img_align_celeba/img_align_celeba/198207.jpg  \n",
            "  inflating: img_align_celeba/img_align_celeba/198208.jpg  \n",
            "  inflating: img_align_celeba/img_align_celeba/198209.jpg  \n",
            "  inflating: img_align_celeba/img_align_celeba/198210.jpg  \n",
            "  inflating: img_align_celeba/img_align_celeba/198211.jpg  \n",
            "  inflating: img_align_celeba/img_align_celeba/198212.jpg  \n",
            "  inflating: img_align_celeba/img_align_celeba/198213.jpg  \n",
            "  inflating: img_align_celeba/img_align_celeba/198214.jpg  \n",
            "  inflating: img_align_celeba/img_align_celeba/198215.jpg  \n",
            "  inflating: img_align_celeba/img_align_celeba/198216.jpg  \n",
            "  inflating: img_align_celeba/img_align_celeba/198217.jpg  \n",
            "  inflating: img_align_celeba/img_align_celeba/198218.jpg  \n",
            "  inflating: img_align_celeba/img_align_celeba/198219.jpg  \n",
            "  inflating: img_align_celeba/img_align_celeba/198220.jpg  \n",
            "  inflating: img_align_celeba/img_align_celeba/198221.jpg  \n",
            "  inflating: img_align_celeba/img_align_celeba/198222.jpg  \n",
            "  inflating: img_align_celeba/img_align_celeba/198223.jpg  \n",
            "  inflating: img_align_celeba/img_align_celeba/198224.jpg  \n",
            "  inflating: img_align_celeba/img_align_celeba/198225.jpg  \n",
            "  inflating: img_align_celeba/img_align_celeba/198226.jpg  \n",
            "  inflating: img_align_celeba/img_align_celeba/198227.jpg  \n",
            "  inflating: img_align_celeba/img_align_celeba/198228.jpg  \n",
            "  inflating: img_align_celeba/img_align_celeba/198229.jpg  \n",
            "  inflating: img_align_celeba/img_align_celeba/198230.jpg  \n",
            "  inflating: img_align_celeba/img_align_celeba/198231.jpg  \n",
            "  inflating: img_align_celeba/img_align_celeba/198232.jpg  \n",
            "  inflating: img_align_celeba/img_align_celeba/198233.jpg  \n",
            "  inflating: img_align_celeba/img_align_celeba/198234.jpg  \n",
            "  inflating: img_align_celeba/img_align_celeba/198235.jpg  \n",
            "  inflating: img_align_celeba/img_align_celeba/198236.jpg  \n",
            "  inflating: img_align_celeba/img_align_celeba/198237.jpg  \n",
            "  inflating: img_align_celeba/img_align_celeba/198238.jpg  \n",
            "  inflating: img_align_celeba/img_align_celeba/198239.jpg  \n",
            "  inflating: img_align_celeba/img_align_celeba/198240.jpg  \n",
            "  inflating: img_align_celeba/img_align_celeba/198241.jpg  \n",
            "  inflating: img_align_celeba/img_align_celeba/198242.jpg  \n",
            "  inflating: img_align_celeba/img_align_celeba/198243.jpg  \n",
            "  inflating: img_align_celeba/img_align_celeba/198244.jpg  \n",
            "  inflating: img_align_celeba/img_align_celeba/198245.jpg  \n",
            "  inflating: img_align_celeba/img_align_celeba/198246.jpg  \n",
            "  inflating: img_align_celeba/img_align_celeba/198247.jpg  \n",
            "  inflating: img_align_celeba/img_align_celeba/198248.jpg  \n",
            "  inflating: img_align_celeba/img_align_celeba/198249.jpg  \n",
            "  inflating: img_align_celeba/img_align_celeba/198250.jpg  \n",
            "  inflating: img_align_celeba/img_align_celeba/198251.jpg  \n",
            "  inflating: img_align_celeba/img_align_celeba/198252.jpg  \n",
            "  inflating: img_align_celeba/img_align_celeba/198253.jpg  \n",
            "  inflating: img_align_celeba/img_align_celeba/198254.jpg  \n",
            "  inflating: img_align_celeba/img_align_celeba/198255.jpg  \n",
            "  inflating: img_align_celeba/img_align_celeba/198256.jpg  \n",
            "  inflating: img_align_celeba/img_align_celeba/198257.jpg  \n",
            "  inflating: img_align_celeba/img_align_celeba/198258.jpg  \n",
            "  inflating: img_align_celeba/img_align_celeba/198259.jpg  \n",
            "  inflating: img_align_celeba/img_align_celeba/198260.jpg  \n",
            "  inflating: img_align_celeba/img_align_celeba/198261.jpg  \n",
            "  inflating: img_align_celeba/img_align_celeba/198262.jpg  \n",
            "  inflating: img_align_celeba/img_align_celeba/198263.jpg  \n",
            "  inflating: img_align_celeba/img_align_celeba/198264.jpg  \n",
            "  inflating: img_align_celeba/img_align_celeba/198265.jpg  \n",
            "  inflating: img_align_celeba/img_align_celeba/198266.jpg  \n",
            "  inflating: img_align_celeba/img_align_celeba/198267.jpg  \n",
            "  inflating: img_align_celeba/img_align_celeba/198268.jpg  \n",
            "  inflating: img_align_celeba/img_align_celeba/198269.jpg  \n",
            "  inflating: img_align_celeba/img_align_celeba/198270.jpg  \n",
            "  inflating: img_align_celeba/img_align_celeba/198271.jpg  \n",
            "  inflating: img_align_celeba/img_align_celeba/198272.jpg  \n",
            "  inflating: img_align_celeba/img_align_celeba/198273.jpg  \n",
            "  inflating: img_align_celeba/img_align_celeba/198274.jpg  \n",
            "  inflating: img_align_celeba/img_align_celeba/198275.jpg  \n",
            "  inflating: img_align_celeba/img_align_celeba/198276.jpg  \n",
            "  inflating: img_align_celeba/img_align_celeba/198277.jpg  \n",
            "  inflating: img_align_celeba/img_align_celeba/198278.jpg  \n",
            "  inflating: img_align_celeba/img_align_celeba/198279.jpg  \n",
            "  inflating: img_align_celeba/img_align_celeba/198280.jpg  \n",
            "  inflating: img_align_celeba/img_align_celeba/198281.jpg  \n",
            "  inflating: img_align_celeba/img_align_celeba/198282.jpg  \n",
            "  inflating: img_align_celeba/img_align_celeba/198283.jpg  \n",
            "  inflating: img_align_celeba/img_align_celeba/198284.jpg  \n",
            "  inflating: img_align_celeba/img_align_celeba/198285.jpg  \n",
            "  inflating: img_align_celeba/img_align_celeba/198286.jpg  \n",
            "  inflating: img_align_celeba/img_align_celeba/198287.jpg  \n",
            "  inflating: img_align_celeba/img_align_celeba/198288.jpg  \n",
            "  inflating: img_align_celeba/img_align_celeba/198289.jpg  \n",
            "  inflating: img_align_celeba/img_align_celeba/198290.jpg  \n",
            "  inflating: img_align_celeba/img_align_celeba/198291.jpg  \n",
            "  inflating: img_align_celeba/img_align_celeba/198292.jpg  \n",
            "  inflating: img_align_celeba/img_align_celeba/198293.jpg  \n",
            "  inflating: img_align_celeba/img_align_celeba/198294.jpg  \n",
            "  inflating: img_align_celeba/img_align_celeba/198295.jpg  \n",
            "  inflating: img_align_celeba/img_align_celeba/198296.jpg  \n",
            "  inflating: img_align_celeba/img_align_celeba/198297.jpg  \n",
            "  inflating: img_align_celeba/img_align_celeba/198298.jpg  \n",
            "  inflating: img_align_celeba/img_align_celeba/198299.jpg  \n",
            "  inflating: img_align_celeba/img_align_celeba/198300.jpg  \n",
            "  inflating: img_align_celeba/img_align_celeba/198301.jpg  \n",
            "  inflating: img_align_celeba/img_align_celeba/198302.jpg  \n",
            "  inflating: img_align_celeba/img_align_celeba/198303.jpg  \n",
            "  inflating: img_align_celeba/img_align_celeba/198304.jpg  \n",
            "  inflating: img_align_celeba/img_align_celeba/198305.jpg  \n",
            "  inflating: img_align_celeba/img_align_celeba/198306.jpg  \n",
            "  inflating: img_align_celeba/img_align_celeba/198307.jpg  \n",
            "  inflating: img_align_celeba/img_align_celeba/198308.jpg  \n",
            "  inflating: img_align_celeba/img_align_celeba/198309.jpg  \n",
            "  inflating: img_align_celeba/img_align_celeba/198310.jpg  \n",
            "  inflating: img_align_celeba/img_align_celeba/198311.jpg  \n",
            "  inflating: img_align_celeba/img_align_celeba/198312.jpg  \n",
            "  inflating: img_align_celeba/img_align_celeba/198313.jpg  \n",
            "  inflating: img_align_celeba/img_align_celeba/198314.jpg  \n",
            "  inflating: img_align_celeba/img_align_celeba/198315.jpg  \n",
            "  inflating: img_align_celeba/img_align_celeba/198316.jpg  \n",
            "  inflating: img_align_celeba/img_align_celeba/198317.jpg  \n",
            "  inflating: img_align_celeba/img_align_celeba/198318.jpg  \n",
            "  inflating: img_align_celeba/img_align_celeba/198319.jpg  \n",
            "  inflating: img_align_celeba/img_align_celeba/198320.jpg  \n",
            "  inflating: img_align_celeba/img_align_celeba/198321.jpg  \n",
            "  inflating: img_align_celeba/img_align_celeba/198322.jpg  \n",
            "  inflating: img_align_celeba/img_align_celeba/198323.jpg  \n",
            "  inflating: img_align_celeba/img_align_celeba/198324.jpg  \n",
            "  inflating: img_align_celeba/img_align_celeba/198325.jpg  \n",
            "  inflating: img_align_celeba/img_align_celeba/198326.jpg  \n",
            "  inflating: img_align_celeba/img_align_celeba/198327.jpg  \n",
            "  inflating: img_align_celeba/img_align_celeba/198328.jpg  \n",
            "  inflating: img_align_celeba/img_align_celeba/198329.jpg  \n",
            "  inflating: img_align_celeba/img_align_celeba/198330.jpg  \n",
            "  inflating: img_align_celeba/img_align_celeba/198331.jpg  \n",
            "  inflating: img_align_celeba/img_align_celeba/198332.jpg  \n",
            "  inflating: img_align_celeba/img_align_celeba/198333.jpg  \n",
            "  inflating: img_align_celeba/img_align_celeba/198334.jpg  \n",
            "  inflating: img_align_celeba/img_align_celeba/198335.jpg  \n",
            "  inflating: img_align_celeba/img_align_celeba/198336.jpg  \n",
            "  inflating: img_align_celeba/img_align_celeba/198337.jpg  \n",
            "  inflating: img_align_celeba/img_align_celeba/198338.jpg  \n",
            "  inflating: img_align_celeba/img_align_celeba/198339.jpg  \n",
            "  inflating: img_align_celeba/img_align_celeba/198340.jpg  \n",
            "  inflating: img_align_celeba/img_align_celeba/198341.jpg  \n",
            "  inflating: img_align_celeba/img_align_celeba/198342.jpg  \n",
            "  inflating: img_align_celeba/img_align_celeba/198343.jpg  \n",
            "  inflating: img_align_celeba/img_align_celeba/198344.jpg  \n",
            "  inflating: img_align_celeba/img_align_celeba/198345.jpg  \n",
            "  inflating: img_align_celeba/img_align_celeba/198346.jpg  \n",
            "  inflating: img_align_celeba/img_align_celeba/198347.jpg  \n",
            "  inflating: img_align_celeba/img_align_celeba/198348.jpg  \n",
            "  inflating: img_align_celeba/img_align_celeba/198349.jpg  \n",
            "  inflating: img_align_celeba/img_align_celeba/198350.jpg  \n",
            "  inflating: img_align_celeba/img_align_celeba/198351.jpg  \n",
            "  inflating: img_align_celeba/img_align_celeba/198352.jpg  \n",
            "  inflating: img_align_celeba/img_align_celeba/198353.jpg  \n",
            "  inflating: img_align_celeba/img_align_celeba/198354.jpg  \n",
            "  inflating: img_align_celeba/img_align_celeba/198355.jpg  \n",
            "  inflating: img_align_celeba/img_align_celeba/198356.jpg  \n",
            "  inflating: img_align_celeba/img_align_celeba/198357.jpg  \n",
            "  inflating: img_align_celeba/img_align_celeba/198358.jpg  \n",
            "  inflating: img_align_celeba/img_align_celeba/198359.jpg  \n",
            "  inflating: img_align_celeba/img_align_celeba/198360.jpg  \n",
            "  inflating: img_align_celeba/img_align_celeba/198361.jpg  \n",
            "  inflating: img_align_celeba/img_align_celeba/198362.jpg  \n",
            "  inflating: img_align_celeba/img_align_celeba/198363.jpg  \n",
            "  inflating: img_align_celeba/img_align_celeba/198364.jpg  \n",
            "  inflating: img_align_celeba/img_align_celeba/198365.jpg  \n",
            "  inflating: img_align_celeba/img_align_celeba/198366.jpg  \n",
            "  inflating: img_align_celeba/img_align_celeba/198367.jpg  \n",
            "  inflating: img_align_celeba/img_align_celeba/198368.jpg  \n",
            "  inflating: img_align_celeba/img_align_celeba/198369.jpg  \n",
            "  inflating: img_align_celeba/img_align_celeba/198370.jpg  \n",
            "  inflating: img_align_celeba/img_align_celeba/198371.jpg  \n",
            "  inflating: img_align_celeba/img_align_celeba/198372.jpg  \n",
            "  inflating: img_align_celeba/img_align_celeba/198373.jpg  \n",
            "  inflating: img_align_celeba/img_align_celeba/198374.jpg  \n",
            "  inflating: img_align_celeba/img_align_celeba/198375.jpg  \n",
            "  inflating: img_align_celeba/img_align_celeba/198376.jpg  \n",
            "  inflating: img_align_celeba/img_align_celeba/198377.jpg  \n",
            "  inflating: img_align_celeba/img_align_celeba/198378.jpg  \n",
            "  inflating: img_align_celeba/img_align_celeba/198379.jpg  \n",
            "  inflating: img_align_celeba/img_align_celeba/198380.jpg  \n",
            "  inflating: img_align_celeba/img_align_celeba/198381.jpg  \n",
            "  inflating: img_align_celeba/img_align_celeba/198382.jpg  \n",
            "  inflating: img_align_celeba/img_align_celeba/198383.jpg  \n",
            "  inflating: img_align_celeba/img_align_celeba/198384.jpg  \n",
            "  inflating: img_align_celeba/img_align_celeba/198385.jpg  \n",
            "  inflating: img_align_celeba/img_align_celeba/198386.jpg  \n",
            "  inflating: img_align_celeba/img_align_celeba/198387.jpg  \n",
            "  inflating: img_align_celeba/img_align_celeba/198388.jpg  \n",
            "  inflating: img_align_celeba/img_align_celeba/198389.jpg  \n",
            "  inflating: img_align_celeba/img_align_celeba/198390.jpg  \n",
            "  inflating: img_align_celeba/img_align_celeba/198391.jpg  \n",
            "  inflating: img_align_celeba/img_align_celeba/198392.jpg  \n",
            "  inflating: img_align_celeba/img_align_celeba/198393.jpg  \n",
            "  inflating: img_align_celeba/img_align_celeba/198394.jpg  \n",
            "  inflating: img_align_celeba/img_align_celeba/198395.jpg  \n",
            "  inflating: img_align_celeba/img_align_celeba/198396.jpg  \n",
            "  inflating: img_align_celeba/img_align_celeba/198397.jpg  \n",
            "  inflating: img_align_celeba/img_align_celeba/198398.jpg  \n",
            "  inflating: img_align_celeba/img_align_celeba/198399.jpg  \n",
            "  inflating: img_align_celeba/img_align_celeba/198400.jpg  \n",
            "  inflating: img_align_celeba/img_align_celeba/198401.jpg  \n",
            "  inflating: img_align_celeba/img_align_celeba/198402.jpg  \n",
            "  inflating: img_align_celeba/img_align_celeba/198403.jpg  \n",
            "  inflating: img_align_celeba/img_align_celeba/198404.jpg  \n",
            "  inflating: img_align_celeba/img_align_celeba/198405.jpg  \n",
            "  inflating: img_align_celeba/img_align_celeba/198406.jpg  \n",
            "  inflating: img_align_celeba/img_align_celeba/198407.jpg  \n",
            "  inflating: img_align_celeba/img_align_celeba/198408.jpg  \n",
            "  inflating: img_align_celeba/img_align_celeba/198409.jpg  \n",
            "  inflating: img_align_celeba/img_align_celeba/198410.jpg  \n",
            "  inflating: img_align_celeba/img_align_celeba/198411.jpg  \n",
            "  inflating: img_align_celeba/img_align_celeba/198412.jpg  \n",
            "  inflating: img_align_celeba/img_align_celeba/198413.jpg  \n",
            "  inflating: img_align_celeba/img_align_celeba/198414.jpg  \n",
            "  inflating: img_align_celeba/img_align_celeba/198415.jpg  \n",
            "  inflating: img_align_celeba/img_align_celeba/198416.jpg  \n",
            "  inflating: img_align_celeba/img_align_celeba/198417.jpg  \n",
            "  inflating: img_align_celeba/img_align_celeba/198418.jpg  \n",
            "  inflating: img_align_celeba/img_align_celeba/198419.jpg  \n",
            "  inflating: img_align_celeba/img_align_celeba/198420.jpg  \n",
            "  inflating: img_align_celeba/img_align_celeba/198421.jpg  \n",
            "  inflating: img_align_celeba/img_align_celeba/198422.jpg  \n",
            "  inflating: img_align_celeba/img_align_celeba/198423.jpg  \n",
            "  inflating: img_align_celeba/img_align_celeba/198424.jpg  \n",
            "  inflating: img_align_celeba/img_align_celeba/198425.jpg  \n",
            "  inflating: img_align_celeba/img_align_celeba/198426.jpg  \n",
            "  inflating: img_align_celeba/img_align_celeba/198427.jpg  \n",
            "  inflating: img_align_celeba/img_align_celeba/198428.jpg  \n",
            "  inflating: img_align_celeba/img_align_celeba/198429.jpg  \n",
            "  inflating: img_align_celeba/img_align_celeba/198430.jpg  \n",
            "  inflating: img_align_celeba/img_align_celeba/198431.jpg  \n",
            "  inflating: img_align_celeba/img_align_celeba/198432.jpg  \n",
            "  inflating: img_align_celeba/img_align_celeba/198433.jpg  \n",
            "  inflating: img_align_celeba/img_align_celeba/198434.jpg  \n",
            "  inflating: img_align_celeba/img_align_celeba/198435.jpg  \n",
            "  inflating: img_align_celeba/img_align_celeba/198436.jpg  \n",
            "  inflating: img_align_celeba/img_align_celeba/198437.jpg  \n",
            "  inflating: img_align_celeba/img_align_celeba/198438.jpg  \n",
            "  inflating: img_align_celeba/img_align_celeba/198439.jpg  \n",
            "  inflating: img_align_celeba/img_align_celeba/198440.jpg  \n",
            "  inflating: img_align_celeba/img_align_celeba/198441.jpg  \n",
            "  inflating: img_align_celeba/img_align_celeba/198442.jpg  \n",
            "  inflating: img_align_celeba/img_align_celeba/198443.jpg  \n",
            "  inflating: img_align_celeba/img_align_celeba/198444.jpg  \n",
            "  inflating: img_align_celeba/img_align_celeba/198445.jpg  \n",
            "  inflating: img_align_celeba/img_align_celeba/198446.jpg  \n",
            "  inflating: img_align_celeba/img_align_celeba/198447.jpg  \n",
            "  inflating: img_align_celeba/img_align_celeba/198448.jpg  \n",
            "  inflating: img_align_celeba/img_align_celeba/198449.jpg  \n",
            "  inflating: img_align_celeba/img_align_celeba/198450.jpg  \n",
            "  inflating: img_align_celeba/img_align_celeba/198451.jpg  \n",
            "  inflating: img_align_celeba/img_align_celeba/198452.jpg  \n",
            "  inflating: img_align_celeba/img_align_celeba/198453.jpg  \n",
            "  inflating: img_align_celeba/img_align_celeba/198454.jpg  \n",
            "  inflating: img_align_celeba/img_align_celeba/198455.jpg  \n",
            "  inflating: img_align_celeba/img_align_celeba/198456.jpg  \n",
            "  inflating: img_align_celeba/img_align_celeba/198457.jpg  \n",
            "  inflating: img_align_celeba/img_align_celeba/198458.jpg  \n",
            "  inflating: img_align_celeba/img_align_celeba/198459.jpg  \n",
            "  inflating: img_align_celeba/img_align_celeba/198460.jpg  \n",
            "  inflating: img_align_celeba/img_align_celeba/198461.jpg  \n",
            "  inflating: img_align_celeba/img_align_celeba/198462.jpg  \n",
            "  inflating: img_align_celeba/img_align_celeba/198463.jpg  \n",
            "  inflating: img_align_celeba/img_align_celeba/198464.jpg  \n",
            "  inflating: img_align_celeba/img_align_celeba/198465.jpg  \n",
            "  inflating: img_align_celeba/img_align_celeba/198466.jpg  \n",
            "  inflating: img_align_celeba/img_align_celeba/198467.jpg  \n",
            "  inflating: img_align_celeba/img_align_celeba/198468.jpg  \n",
            "  inflating: img_align_celeba/img_align_celeba/198469.jpg  \n",
            "  inflating: img_align_celeba/img_align_celeba/198470.jpg  \n",
            "  inflating: img_align_celeba/img_align_celeba/198471.jpg  \n",
            "  inflating: img_align_celeba/img_align_celeba/198472.jpg  \n",
            "  inflating: img_align_celeba/img_align_celeba/198473.jpg  \n",
            "  inflating: img_align_celeba/img_align_celeba/198474.jpg  \n",
            "  inflating: img_align_celeba/img_align_celeba/198475.jpg  \n",
            "  inflating: img_align_celeba/img_align_celeba/198476.jpg  \n",
            "  inflating: img_align_celeba/img_align_celeba/198477.jpg  \n",
            "  inflating: img_align_celeba/img_align_celeba/198478.jpg  \n",
            "  inflating: img_align_celeba/img_align_celeba/198479.jpg  \n",
            "  inflating: img_align_celeba/img_align_celeba/198480.jpg  \n",
            "  inflating: img_align_celeba/img_align_celeba/198481.jpg  \n",
            "  inflating: img_align_celeba/img_align_celeba/198482.jpg  \n",
            "  inflating: img_align_celeba/img_align_celeba/198483.jpg  \n",
            "  inflating: img_align_celeba/img_align_celeba/198484.jpg  \n",
            "  inflating: img_align_celeba/img_align_celeba/198485.jpg  \n",
            "  inflating: img_align_celeba/img_align_celeba/198486.jpg  \n",
            "  inflating: img_align_celeba/img_align_celeba/198487.jpg  \n",
            "  inflating: img_align_celeba/img_align_celeba/198488.jpg  \n",
            "  inflating: img_align_celeba/img_align_celeba/198489.jpg  \n",
            "  inflating: img_align_celeba/img_align_celeba/198490.jpg  \n",
            "  inflating: img_align_celeba/img_align_celeba/198491.jpg  \n",
            "  inflating: img_align_celeba/img_align_celeba/198492.jpg  \n",
            "  inflating: img_align_celeba/img_align_celeba/198493.jpg  \n",
            "  inflating: img_align_celeba/img_align_celeba/198494.jpg  \n",
            "  inflating: img_align_celeba/img_align_celeba/198495.jpg  \n",
            "  inflating: img_align_celeba/img_align_celeba/198496.jpg  \n",
            "  inflating: img_align_celeba/img_align_celeba/198497.jpg  \n",
            "  inflating: img_align_celeba/img_align_celeba/198498.jpg  \n",
            "  inflating: img_align_celeba/img_align_celeba/198499.jpg  \n",
            "  inflating: img_align_celeba/img_align_celeba/198500.jpg  \n",
            "  inflating: img_align_celeba/img_align_celeba/198501.jpg  \n",
            "  inflating: img_align_celeba/img_align_celeba/198502.jpg  \n",
            "  inflating: img_align_celeba/img_align_celeba/198503.jpg  \n",
            "  inflating: img_align_celeba/img_align_celeba/198504.jpg  \n",
            "  inflating: img_align_celeba/img_align_celeba/198505.jpg  \n",
            "  inflating: img_align_celeba/img_align_celeba/198506.jpg  \n",
            "  inflating: img_align_celeba/img_align_celeba/198507.jpg  \n",
            "  inflating: img_align_celeba/img_align_celeba/198508.jpg  \n",
            "  inflating: img_align_celeba/img_align_celeba/198509.jpg  \n",
            "  inflating: img_align_celeba/img_align_celeba/198510.jpg  \n",
            "  inflating: img_align_celeba/img_align_celeba/198511.jpg  \n",
            "  inflating: img_align_celeba/img_align_celeba/198512.jpg  \n",
            "  inflating: img_align_celeba/img_align_celeba/198513.jpg  \n",
            "  inflating: img_align_celeba/img_align_celeba/198514.jpg  \n",
            "  inflating: img_align_celeba/img_align_celeba/198515.jpg  \n",
            "  inflating: img_align_celeba/img_align_celeba/198516.jpg  \n",
            "  inflating: img_align_celeba/img_align_celeba/198517.jpg  \n",
            "  inflating: img_align_celeba/img_align_celeba/198518.jpg  \n",
            "  inflating: img_align_celeba/img_align_celeba/198519.jpg  \n",
            "  inflating: img_align_celeba/img_align_celeba/198520.jpg  \n",
            "  inflating: img_align_celeba/img_align_celeba/198521.jpg  \n",
            "  inflating: img_align_celeba/img_align_celeba/198522.jpg  \n",
            "  inflating: img_align_celeba/img_align_celeba/198523.jpg  \n",
            "  inflating: img_align_celeba/img_align_celeba/198524.jpg  \n",
            "  inflating: img_align_celeba/img_align_celeba/198525.jpg  \n",
            "  inflating: img_align_celeba/img_align_celeba/198526.jpg  \n",
            "  inflating: img_align_celeba/img_align_celeba/198527.jpg  \n",
            "  inflating: img_align_celeba/img_align_celeba/198528.jpg  \n",
            "  inflating: img_align_celeba/img_align_celeba/198529.jpg  \n",
            "  inflating: img_align_celeba/img_align_celeba/198530.jpg  \n",
            "  inflating: img_align_celeba/img_align_celeba/198531.jpg  \n",
            "  inflating: img_align_celeba/img_align_celeba/198532.jpg  \n",
            "  inflating: img_align_celeba/img_align_celeba/198533.jpg  \n",
            "  inflating: img_align_celeba/img_align_celeba/198534.jpg  \n",
            "  inflating: img_align_celeba/img_align_celeba/198535.jpg  \n",
            "  inflating: img_align_celeba/img_align_celeba/198536.jpg  \n",
            "  inflating: img_align_celeba/img_align_celeba/198537.jpg  \n",
            "  inflating: img_align_celeba/img_align_celeba/198538.jpg  \n",
            "  inflating: img_align_celeba/img_align_celeba/198539.jpg  \n",
            "  inflating: img_align_celeba/img_align_celeba/198540.jpg  \n",
            "  inflating: img_align_celeba/img_align_celeba/198541.jpg  \n",
            "  inflating: img_align_celeba/img_align_celeba/198542.jpg  \n",
            "  inflating: img_align_celeba/img_align_celeba/198543.jpg  \n",
            "  inflating: img_align_celeba/img_align_celeba/198544.jpg  \n",
            "  inflating: img_align_celeba/img_align_celeba/198545.jpg  \n",
            "  inflating: img_align_celeba/img_align_celeba/198546.jpg  \n",
            "  inflating: img_align_celeba/img_align_celeba/198547.jpg  \n",
            "  inflating: img_align_celeba/img_align_celeba/198548.jpg  \n",
            "  inflating: img_align_celeba/img_align_celeba/198549.jpg  \n",
            "  inflating: img_align_celeba/img_align_celeba/198550.jpg  \n",
            "  inflating: img_align_celeba/img_align_celeba/198551.jpg  \n",
            "  inflating: img_align_celeba/img_align_celeba/198552.jpg  \n",
            "  inflating: img_align_celeba/img_align_celeba/198553.jpg  \n",
            "  inflating: img_align_celeba/img_align_celeba/198554.jpg  \n",
            "  inflating: img_align_celeba/img_align_celeba/198555.jpg  \n",
            "  inflating: img_align_celeba/img_align_celeba/198556.jpg  \n",
            "  inflating: img_align_celeba/img_align_celeba/198557.jpg  \n",
            "  inflating: img_align_celeba/img_align_celeba/198558.jpg  \n",
            "  inflating: img_align_celeba/img_align_celeba/198559.jpg  \n",
            "  inflating: img_align_celeba/img_align_celeba/198560.jpg  \n",
            "  inflating: img_align_celeba/img_align_celeba/198561.jpg  \n",
            "  inflating: img_align_celeba/img_align_celeba/198562.jpg  \n",
            "  inflating: img_align_celeba/img_align_celeba/198563.jpg  \n",
            "  inflating: img_align_celeba/img_align_celeba/198564.jpg  \n",
            "  inflating: img_align_celeba/img_align_celeba/198565.jpg  \n",
            "  inflating: img_align_celeba/img_align_celeba/198566.jpg  \n",
            "  inflating: img_align_celeba/img_align_celeba/198567.jpg  \n",
            "  inflating: img_align_celeba/img_align_celeba/198568.jpg  \n",
            "  inflating: img_align_celeba/img_align_celeba/198569.jpg  \n",
            "  inflating: img_align_celeba/img_align_celeba/198570.jpg  \n",
            "  inflating: img_align_celeba/img_align_celeba/198571.jpg  \n",
            "  inflating: img_align_celeba/img_align_celeba/198572.jpg  \n",
            "  inflating: img_align_celeba/img_align_celeba/198573.jpg  \n",
            "  inflating: img_align_celeba/img_align_celeba/198574.jpg  \n",
            "  inflating: img_align_celeba/img_align_celeba/198575.jpg  \n",
            "  inflating: img_align_celeba/img_align_celeba/198576.jpg  \n",
            "  inflating: img_align_celeba/img_align_celeba/198577.jpg  \n",
            "  inflating: img_align_celeba/img_align_celeba/198578.jpg  \n",
            "  inflating: img_align_celeba/img_align_celeba/198579.jpg  \n",
            "  inflating: img_align_celeba/img_align_celeba/198580.jpg  \n",
            "  inflating: img_align_celeba/img_align_celeba/198581.jpg  \n",
            "  inflating: img_align_celeba/img_align_celeba/198582.jpg  \n",
            "  inflating: img_align_celeba/img_align_celeba/198583.jpg  \n",
            "  inflating: img_align_celeba/img_align_celeba/198584.jpg  \n",
            "  inflating: img_align_celeba/img_align_celeba/198585.jpg  \n",
            "  inflating: img_align_celeba/img_align_celeba/198586.jpg  \n",
            "  inflating: img_align_celeba/img_align_celeba/198587.jpg  \n",
            "  inflating: img_align_celeba/img_align_celeba/198588.jpg  \n",
            "  inflating: img_align_celeba/img_align_celeba/198589.jpg  \n",
            "  inflating: img_align_celeba/img_align_celeba/198590.jpg  \n",
            "  inflating: img_align_celeba/img_align_celeba/198591.jpg  \n",
            "  inflating: img_align_celeba/img_align_celeba/198592.jpg  \n",
            "  inflating: img_align_celeba/img_align_celeba/198593.jpg  \n",
            "  inflating: img_align_celeba/img_align_celeba/198594.jpg  \n",
            "  inflating: img_align_celeba/img_align_celeba/198595.jpg  \n",
            "  inflating: img_align_celeba/img_align_celeba/198596.jpg  \n",
            "  inflating: img_align_celeba/img_align_celeba/198597.jpg  \n",
            "  inflating: img_align_celeba/img_align_celeba/198598.jpg  \n",
            "  inflating: img_align_celeba/img_align_celeba/198599.jpg  \n",
            "  inflating: img_align_celeba/img_align_celeba/198600.jpg  \n",
            "  inflating: img_align_celeba/img_align_celeba/198601.jpg  \n",
            "  inflating: img_align_celeba/img_align_celeba/198602.jpg  \n",
            "  inflating: img_align_celeba/img_align_celeba/198603.jpg  \n",
            "  inflating: img_align_celeba/img_align_celeba/198604.jpg  \n",
            "  inflating: img_align_celeba/img_align_celeba/198605.jpg  \n",
            "  inflating: img_align_celeba/img_align_celeba/198606.jpg  \n",
            "  inflating: img_align_celeba/img_align_celeba/198607.jpg  \n",
            "  inflating: img_align_celeba/img_align_celeba/198608.jpg  \n",
            "  inflating: img_align_celeba/img_align_celeba/198609.jpg  \n",
            "  inflating: img_align_celeba/img_align_celeba/198610.jpg  \n",
            "  inflating: img_align_celeba/img_align_celeba/198611.jpg  \n",
            "  inflating: img_align_celeba/img_align_celeba/198612.jpg  \n",
            "  inflating: img_align_celeba/img_align_celeba/198613.jpg  \n",
            "  inflating: img_align_celeba/img_align_celeba/198614.jpg  \n",
            "  inflating: img_align_celeba/img_align_celeba/198615.jpg  \n",
            "  inflating: img_align_celeba/img_align_celeba/198616.jpg  \n",
            "  inflating: img_align_celeba/img_align_celeba/198617.jpg  \n",
            "  inflating: img_align_celeba/img_align_celeba/198618.jpg  \n",
            "  inflating: img_align_celeba/img_align_celeba/198619.jpg  \n",
            "  inflating: img_align_celeba/img_align_celeba/198620.jpg  \n",
            "  inflating: img_align_celeba/img_align_celeba/198621.jpg  \n",
            "  inflating: img_align_celeba/img_align_celeba/198622.jpg  \n",
            "  inflating: img_align_celeba/img_align_celeba/198623.jpg  \n",
            "  inflating: img_align_celeba/img_align_celeba/198624.jpg  \n",
            "  inflating: img_align_celeba/img_align_celeba/198625.jpg  \n",
            "  inflating: img_align_celeba/img_align_celeba/198626.jpg  \n",
            "  inflating: img_align_celeba/img_align_celeba/198627.jpg  \n",
            "  inflating: img_align_celeba/img_align_celeba/198628.jpg  \n",
            "  inflating: img_align_celeba/img_align_celeba/198629.jpg  \n",
            "  inflating: img_align_celeba/img_align_celeba/198630.jpg  \n",
            "  inflating: img_align_celeba/img_align_celeba/198631.jpg  \n",
            "  inflating: img_align_celeba/img_align_celeba/198632.jpg  \n",
            "  inflating: img_align_celeba/img_align_celeba/198633.jpg  \n",
            "  inflating: img_align_celeba/img_align_celeba/198634.jpg  \n",
            "  inflating: img_align_celeba/img_align_celeba/198635.jpg  \n",
            "  inflating: img_align_celeba/img_align_celeba/198636.jpg  \n",
            "  inflating: img_align_celeba/img_align_celeba/198637.jpg  \n",
            "  inflating: img_align_celeba/img_align_celeba/198638.jpg  \n",
            "  inflating: img_align_celeba/img_align_celeba/198639.jpg  \n",
            "  inflating: img_align_celeba/img_align_celeba/198640.jpg  \n",
            "  inflating: img_align_celeba/img_align_celeba/198641.jpg  \n",
            "  inflating: img_align_celeba/img_align_celeba/198642.jpg  \n",
            "  inflating: img_align_celeba/img_align_celeba/198643.jpg  \n",
            "  inflating: img_align_celeba/img_align_celeba/198644.jpg  \n",
            "  inflating: img_align_celeba/img_align_celeba/198645.jpg  \n",
            "  inflating: img_align_celeba/img_align_celeba/198646.jpg  \n",
            "  inflating: img_align_celeba/img_align_celeba/198647.jpg  \n",
            "  inflating: img_align_celeba/img_align_celeba/198648.jpg  \n",
            "  inflating: img_align_celeba/img_align_celeba/198649.jpg  \n",
            "  inflating: img_align_celeba/img_align_celeba/198650.jpg  \n",
            "  inflating: img_align_celeba/img_align_celeba/198651.jpg  \n",
            "  inflating: img_align_celeba/img_align_celeba/198652.jpg  \n",
            "  inflating: img_align_celeba/img_align_celeba/198653.jpg  \n",
            "  inflating: img_align_celeba/img_align_celeba/198654.jpg  \n",
            "  inflating: img_align_celeba/img_align_celeba/198655.jpg  \n",
            "  inflating: img_align_celeba/img_align_celeba/198656.jpg  \n",
            "  inflating: img_align_celeba/img_align_celeba/198657.jpg  \n",
            "  inflating: img_align_celeba/img_align_celeba/198658.jpg  \n",
            "  inflating: img_align_celeba/img_align_celeba/198659.jpg  \n",
            "  inflating: img_align_celeba/img_align_celeba/198660.jpg  \n",
            "  inflating: img_align_celeba/img_align_celeba/198661.jpg  \n",
            "  inflating: img_align_celeba/img_align_celeba/198662.jpg  \n",
            "  inflating: img_align_celeba/img_align_celeba/198663.jpg  \n",
            "  inflating: img_align_celeba/img_align_celeba/198664.jpg  \n",
            "  inflating: img_align_celeba/img_align_celeba/198665.jpg  \n",
            "  inflating: img_align_celeba/img_align_celeba/198666.jpg  \n",
            "  inflating: img_align_celeba/img_align_celeba/198667.jpg  \n",
            "  inflating: img_align_celeba/img_align_celeba/198668.jpg  \n",
            "  inflating: img_align_celeba/img_align_celeba/198669.jpg  \n",
            "  inflating: img_align_celeba/img_align_celeba/198670.jpg  \n",
            "  inflating: img_align_celeba/img_align_celeba/198671.jpg  \n",
            "  inflating: img_align_celeba/img_align_celeba/198672.jpg  \n",
            "  inflating: img_align_celeba/img_align_celeba/198673.jpg  \n",
            "  inflating: img_align_celeba/img_align_celeba/198674.jpg  \n",
            "  inflating: img_align_celeba/img_align_celeba/198675.jpg  \n",
            "  inflating: img_align_celeba/img_align_celeba/198676.jpg  \n",
            "  inflating: img_align_celeba/img_align_celeba/198677.jpg  \n",
            "  inflating: img_align_celeba/img_align_celeba/198678.jpg  \n",
            "  inflating: img_align_celeba/img_align_celeba/198679.jpg  \n",
            "  inflating: img_align_celeba/img_align_celeba/198680.jpg  \n",
            "  inflating: img_align_celeba/img_align_celeba/198681.jpg  \n",
            "  inflating: img_align_celeba/img_align_celeba/198682.jpg  \n",
            "  inflating: img_align_celeba/img_align_celeba/198683.jpg  \n",
            "  inflating: img_align_celeba/img_align_celeba/198684.jpg  \n",
            "  inflating: img_align_celeba/img_align_celeba/198685.jpg  \n",
            "  inflating: img_align_celeba/img_align_celeba/198686.jpg  \n",
            "  inflating: img_align_celeba/img_align_celeba/198687.jpg  \n",
            "  inflating: img_align_celeba/img_align_celeba/198688.jpg  \n",
            "  inflating: img_align_celeba/img_align_celeba/198689.jpg  \n",
            "  inflating: img_align_celeba/img_align_celeba/198690.jpg  \n",
            "  inflating: img_align_celeba/img_align_celeba/198691.jpg  \n",
            "  inflating: img_align_celeba/img_align_celeba/198692.jpg  \n",
            "  inflating: img_align_celeba/img_align_celeba/198693.jpg  \n",
            "  inflating: img_align_celeba/img_align_celeba/198694.jpg  \n",
            "  inflating: img_align_celeba/img_align_celeba/198695.jpg  \n",
            "  inflating: img_align_celeba/img_align_celeba/198696.jpg  \n",
            "  inflating: img_align_celeba/img_align_celeba/198697.jpg  \n",
            "  inflating: img_align_celeba/img_align_celeba/198698.jpg  \n",
            "  inflating: img_align_celeba/img_align_celeba/198699.jpg  \n",
            "  inflating: img_align_celeba/img_align_celeba/198700.jpg  \n",
            "  inflating: img_align_celeba/img_align_celeba/198701.jpg  \n",
            "  inflating: img_align_celeba/img_align_celeba/198702.jpg  \n",
            "  inflating: img_align_celeba/img_align_celeba/198703.jpg  \n",
            "  inflating: img_align_celeba/img_align_celeba/198704.jpg  \n",
            "  inflating: img_align_celeba/img_align_celeba/198705.jpg  \n",
            "  inflating: img_align_celeba/img_align_celeba/198706.jpg  \n",
            "  inflating: img_align_celeba/img_align_celeba/198707.jpg  \n",
            "  inflating: img_align_celeba/img_align_celeba/198708.jpg  \n",
            "  inflating: img_align_celeba/img_align_celeba/198709.jpg  \n",
            "  inflating: img_align_celeba/img_align_celeba/198710.jpg  \n",
            "  inflating: img_align_celeba/img_align_celeba/198711.jpg  \n",
            "  inflating: img_align_celeba/img_align_celeba/198712.jpg  \n",
            "  inflating: img_align_celeba/img_align_celeba/198713.jpg  \n",
            "  inflating: img_align_celeba/img_align_celeba/198714.jpg  \n",
            "  inflating: img_align_celeba/img_align_celeba/198715.jpg  \n",
            "  inflating: img_align_celeba/img_align_celeba/198716.jpg  \n",
            "  inflating: img_align_celeba/img_align_celeba/198717.jpg  \n",
            "  inflating: img_align_celeba/img_align_celeba/198718.jpg  \n",
            "  inflating: img_align_celeba/img_align_celeba/198719.jpg  \n",
            "  inflating: img_align_celeba/img_align_celeba/198720.jpg  \n",
            "  inflating: img_align_celeba/img_align_celeba/198721.jpg  \n",
            "  inflating: img_align_celeba/img_align_celeba/198722.jpg  \n",
            "  inflating: img_align_celeba/img_align_celeba/198723.jpg  \n",
            "  inflating: img_align_celeba/img_align_celeba/198724.jpg  \n",
            "  inflating: img_align_celeba/img_align_celeba/198725.jpg  \n",
            "  inflating: img_align_celeba/img_align_celeba/198726.jpg  \n",
            "  inflating: img_align_celeba/img_align_celeba/198727.jpg  \n",
            "  inflating: img_align_celeba/img_align_celeba/198728.jpg  \n",
            "  inflating: img_align_celeba/img_align_celeba/198729.jpg  \n",
            "  inflating: img_align_celeba/img_align_celeba/198730.jpg  \n",
            "  inflating: img_align_celeba/img_align_celeba/198731.jpg  \n",
            "  inflating: img_align_celeba/img_align_celeba/198732.jpg  \n",
            "  inflating: img_align_celeba/img_align_celeba/198733.jpg  \n",
            "  inflating: img_align_celeba/img_align_celeba/198734.jpg  \n",
            "  inflating: img_align_celeba/img_align_celeba/198735.jpg  \n",
            "  inflating: img_align_celeba/img_align_celeba/198736.jpg  \n",
            "  inflating: img_align_celeba/img_align_celeba/198737.jpg  \n",
            "  inflating: img_align_celeba/img_align_celeba/198738.jpg  \n",
            "  inflating: img_align_celeba/img_align_celeba/198739.jpg  \n",
            "  inflating: img_align_celeba/img_align_celeba/198740.jpg  \n",
            "  inflating: img_align_celeba/img_align_celeba/198741.jpg  \n",
            "  inflating: img_align_celeba/img_align_celeba/198742.jpg  \n",
            "  inflating: img_align_celeba/img_align_celeba/198743.jpg  \n",
            "  inflating: img_align_celeba/img_align_celeba/198744.jpg  \n",
            "  inflating: img_align_celeba/img_align_celeba/198745.jpg  \n",
            "  inflating: img_align_celeba/img_align_celeba/198746.jpg  \n",
            "  inflating: img_align_celeba/img_align_celeba/198747.jpg  \n",
            "  inflating: img_align_celeba/img_align_celeba/198748.jpg  \n",
            "  inflating: img_align_celeba/img_align_celeba/198749.jpg  \n",
            "  inflating: img_align_celeba/img_align_celeba/198750.jpg  \n",
            "  inflating: img_align_celeba/img_align_celeba/198751.jpg  \n",
            "  inflating: img_align_celeba/img_align_celeba/198752.jpg  \n",
            "  inflating: img_align_celeba/img_align_celeba/198753.jpg  \n",
            "  inflating: img_align_celeba/img_align_celeba/198754.jpg  \n",
            "  inflating: img_align_celeba/img_align_celeba/198755.jpg  \n",
            "  inflating: img_align_celeba/img_align_celeba/198756.jpg  \n",
            "  inflating: img_align_celeba/img_align_celeba/198757.jpg  \n",
            "  inflating: img_align_celeba/img_align_celeba/198758.jpg  \n",
            "  inflating: img_align_celeba/img_align_celeba/198759.jpg  \n",
            "  inflating: img_align_celeba/img_align_celeba/198760.jpg  \n",
            "  inflating: img_align_celeba/img_align_celeba/198761.jpg  \n",
            "  inflating: img_align_celeba/img_align_celeba/198762.jpg  \n",
            "  inflating: img_align_celeba/img_align_celeba/198763.jpg  \n",
            "  inflating: img_align_celeba/img_align_celeba/198764.jpg  \n",
            "  inflating: img_align_celeba/img_align_celeba/198765.jpg  \n",
            "  inflating: img_align_celeba/img_align_celeba/198766.jpg  \n",
            "  inflating: img_align_celeba/img_align_celeba/198767.jpg  \n",
            "  inflating: img_align_celeba/img_align_celeba/198768.jpg  \n",
            "  inflating: img_align_celeba/img_align_celeba/198769.jpg  \n",
            "  inflating: img_align_celeba/img_align_celeba/198770.jpg  \n",
            "  inflating: img_align_celeba/img_align_celeba/198771.jpg  \n",
            "  inflating: img_align_celeba/img_align_celeba/198772.jpg  \n",
            "  inflating: img_align_celeba/img_align_celeba/198773.jpg  \n",
            "  inflating: img_align_celeba/img_align_celeba/198774.jpg  \n",
            "  inflating: img_align_celeba/img_align_celeba/198775.jpg  \n",
            "  inflating: img_align_celeba/img_align_celeba/198776.jpg  \n",
            "  inflating: img_align_celeba/img_align_celeba/198777.jpg  \n",
            "  inflating: img_align_celeba/img_align_celeba/198778.jpg  \n",
            "  inflating: img_align_celeba/img_align_celeba/198779.jpg  \n",
            "  inflating: img_align_celeba/img_align_celeba/198780.jpg  \n",
            "  inflating: img_align_celeba/img_align_celeba/198781.jpg  \n",
            "  inflating: img_align_celeba/img_align_celeba/198782.jpg  \n",
            "  inflating: img_align_celeba/img_align_celeba/198783.jpg  \n",
            "  inflating: img_align_celeba/img_align_celeba/198784.jpg  \n",
            "  inflating: img_align_celeba/img_align_celeba/198785.jpg  \n",
            "  inflating: img_align_celeba/img_align_celeba/198786.jpg  \n",
            "  inflating: img_align_celeba/img_align_celeba/198787.jpg  \n",
            "  inflating: img_align_celeba/img_align_celeba/198788.jpg  \n",
            "  inflating: img_align_celeba/img_align_celeba/198789.jpg  \n",
            "  inflating: img_align_celeba/img_align_celeba/198790.jpg  \n",
            "  inflating: img_align_celeba/img_align_celeba/198791.jpg  \n",
            "  inflating: img_align_celeba/img_align_celeba/198792.jpg  \n",
            "  inflating: img_align_celeba/img_align_celeba/198793.jpg  \n",
            "  inflating: img_align_celeba/img_align_celeba/198794.jpg  \n",
            "  inflating: img_align_celeba/img_align_celeba/198795.jpg  \n",
            "  inflating: img_align_celeba/img_align_celeba/198796.jpg  \n",
            "  inflating: img_align_celeba/img_align_celeba/198797.jpg  \n",
            "  inflating: img_align_celeba/img_align_celeba/198798.jpg  \n",
            "  inflating: img_align_celeba/img_align_celeba/198799.jpg  \n",
            "  inflating: img_align_celeba/img_align_celeba/198800.jpg  \n",
            "  inflating: img_align_celeba/img_align_celeba/198801.jpg  \n",
            "  inflating: img_align_celeba/img_align_celeba/198802.jpg  \n",
            "  inflating: img_align_celeba/img_align_celeba/198803.jpg  \n",
            "  inflating: img_align_celeba/img_align_celeba/198804.jpg  \n",
            "  inflating: img_align_celeba/img_align_celeba/198805.jpg  \n",
            "  inflating: img_align_celeba/img_align_celeba/198806.jpg  \n",
            "  inflating: img_align_celeba/img_align_celeba/198807.jpg  \n",
            "  inflating: img_align_celeba/img_align_celeba/198808.jpg  \n",
            "  inflating: img_align_celeba/img_align_celeba/198809.jpg  \n",
            "  inflating: img_align_celeba/img_align_celeba/198810.jpg  \n",
            "  inflating: img_align_celeba/img_align_celeba/198811.jpg  \n",
            "  inflating: img_align_celeba/img_align_celeba/198812.jpg  \n",
            "  inflating: img_align_celeba/img_align_celeba/198813.jpg  \n",
            "  inflating: img_align_celeba/img_align_celeba/198814.jpg  \n",
            "  inflating: img_align_celeba/img_align_celeba/198815.jpg  \n",
            "  inflating: img_align_celeba/img_align_celeba/198816.jpg  \n",
            "  inflating: img_align_celeba/img_align_celeba/198817.jpg  \n",
            "  inflating: img_align_celeba/img_align_celeba/198818.jpg  \n",
            "  inflating: img_align_celeba/img_align_celeba/198819.jpg  \n",
            "  inflating: img_align_celeba/img_align_celeba/198820.jpg  \n",
            "  inflating: img_align_celeba/img_align_celeba/198821.jpg  \n",
            "  inflating: img_align_celeba/img_align_celeba/198822.jpg  \n",
            "  inflating: img_align_celeba/img_align_celeba/198823.jpg  \n",
            "  inflating: img_align_celeba/img_align_celeba/198824.jpg  \n",
            "  inflating: img_align_celeba/img_align_celeba/198825.jpg  \n",
            "  inflating: img_align_celeba/img_align_celeba/198826.jpg  \n",
            "  inflating: img_align_celeba/img_align_celeba/198827.jpg  \n",
            "  inflating: img_align_celeba/img_align_celeba/198828.jpg  \n",
            "  inflating: img_align_celeba/img_align_celeba/198829.jpg  \n",
            "  inflating: img_align_celeba/img_align_celeba/198830.jpg  \n",
            "  inflating: img_align_celeba/img_align_celeba/198831.jpg  \n",
            "  inflating: img_align_celeba/img_align_celeba/198832.jpg  \n",
            "  inflating: img_align_celeba/img_align_celeba/198833.jpg  \n",
            "  inflating: img_align_celeba/img_align_celeba/198834.jpg  \n",
            "  inflating: img_align_celeba/img_align_celeba/198835.jpg  \n",
            "  inflating: img_align_celeba/img_align_celeba/198836.jpg  \n",
            "  inflating: img_align_celeba/img_align_celeba/198837.jpg  \n",
            "  inflating: img_align_celeba/img_align_celeba/198838.jpg  \n",
            "  inflating: img_align_celeba/img_align_celeba/198839.jpg  \n",
            "  inflating: img_align_celeba/img_align_celeba/198840.jpg  \n",
            "  inflating: img_align_celeba/img_align_celeba/198841.jpg  \n",
            "  inflating: img_align_celeba/img_align_celeba/198842.jpg  \n",
            "  inflating: img_align_celeba/img_align_celeba/198843.jpg  \n",
            "  inflating: img_align_celeba/img_align_celeba/198844.jpg  \n",
            "  inflating: img_align_celeba/img_align_celeba/198845.jpg  \n",
            "  inflating: img_align_celeba/img_align_celeba/198846.jpg  \n",
            "  inflating: img_align_celeba/img_align_celeba/198847.jpg  \n",
            "  inflating: img_align_celeba/img_align_celeba/198848.jpg  \n",
            "  inflating: img_align_celeba/img_align_celeba/198849.jpg  \n",
            "  inflating: img_align_celeba/img_align_celeba/198850.jpg  \n",
            "  inflating: img_align_celeba/img_align_celeba/198851.jpg  \n",
            "  inflating: img_align_celeba/img_align_celeba/198852.jpg  \n",
            "  inflating: img_align_celeba/img_align_celeba/198853.jpg  \n",
            "  inflating: img_align_celeba/img_align_celeba/198854.jpg  \n",
            "  inflating: img_align_celeba/img_align_celeba/198855.jpg  \n",
            "  inflating: img_align_celeba/img_align_celeba/198856.jpg  \n",
            "  inflating: img_align_celeba/img_align_celeba/198857.jpg  \n",
            "  inflating: img_align_celeba/img_align_celeba/198858.jpg  \n",
            "  inflating: img_align_celeba/img_align_celeba/198859.jpg  \n",
            "  inflating: img_align_celeba/img_align_celeba/198860.jpg  \n",
            "  inflating: img_align_celeba/img_align_celeba/198861.jpg  \n",
            "  inflating: img_align_celeba/img_align_celeba/198862.jpg  \n",
            "  inflating: img_align_celeba/img_align_celeba/198863.jpg  \n",
            "  inflating: img_align_celeba/img_align_celeba/198864.jpg  \n",
            "  inflating: img_align_celeba/img_align_celeba/198865.jpg  \n",
            "  inflating: img_align_celeba/img_align_celeba/198866.jpg  \n",
            "  inflating: img_align_celeba/img_align_celeba/198867.jpg  \n",
            "  inflating: img_align_celeba/img_align_celeba/198868.jpg  \n",
            "  inflating: img_align_celeba/img_align_celeba/198869.jpg  \n",
            "  inflating: img_align_celeba/img_align_celeba/198870.jpg  \n",
            "  inflating: img_align_celeba/img_align_celeba/198871.jpg  \n",
            "  inflating: img_align_celeba/img_align_celeba/198872.jpg  \n",
            "  inflating: img_align_celeba/img_align_celeba/198873.jpg  \n",
            "  inflating: img_align_celeba/img_align_celeba/198874.jpg  \n",
            "  inflating: img_align_celeba/img_align_celeba/198875.jpg  \n",
            "  inflating: img_align_celeba/img_align_celeba/198876.jpg  \n",
            "  inflating: img_align_celeba/img_align_celeba/198877.jpg  \n",
            "  inflating: img_align_celeba/img_align_celeba/198878.jpg  \n",
            "  inflating: img_align_celeba/img_align_celeba/198879.jpg  \n",
            "  inflating: img_align_celeba/img_align_celeba/198880.jpg  \n",
            "  inflating: img_align_celeba/img_align_celeba/198881.jpg  \n",
            "  inflating: img_align_celeba/img_align_celeba/198882.jpg  \n",
            "  inflating: img_align_celeba/img_align_celeba/198883.jpg  \n",
            "  inflating: img_align_celeba/img_align_celeba/198884.jpg  \n",
            "  inflating: img_align_celeba/img_align_celeba/198885.jpg  \n",
            "  inflating: img_align_celeba/img_align_celeba/198886.jpg  \n",
            "  inflating: img_align_celeba/img_align_celeba/198887.jpg  \n",
            "  inflating: img_align_celeba/img_align_celeba/198888.jpg  \n",
            "  inflating: img_align_celeba/img_align_celeba/198889.jpg  \n",
            "  inflating: img_align_celeba/img_align_celeba/198890.jpg  \n",
            "  inflating: img_align_celeba/img_align_celeba/198891.jpg  \n",
            "  inflating: img_align_celeba/img_align_celeba/198892.jpg  \n",
            "  inflating: img_align_celeba/img_align_celeba/198893.jpg  \n",
            "  inflating: img_align_celeba/img_align_celeba/198894.jpg  \n",
            "  inflating: img_align_celeba/img_align_celeba/198895.jpg  \n",
            "  inflating: img_align_celeba/img_align_celeba/198896.jpg  \n",
            "  inflating: img_align_celeba/img_align_celeba/198897.jpg  \n",
            "  inflating: img_align_celeba/img_align_celeba/198898.jpg  \n",
            "  inflating: img_align_celeba/img_align_celeba/198899.jpg  \n",
            "  inflating: img_align_celeba/img_align_celeba/198900.jpg  \n",
            "  inflating: img_align_celeba/img_align_celeba/198901.jpg  \n",
            "  inflating: img_align_celeba/img_align_celeba/198902.jpg  \n",
            "  inflating: img_align_celeba/img_align_celeba/198903.jpg  \n",
            "  inflating: img_align_celeba/img_align_celeba/198904.jpg  \n",
            "  inflating: img_align_celeba/img_align_celeba/198905.jpg  \n",
            "  inflating: img_align_celeba/img_align_celeba/198906.jpg  \n",
            "  inflating: img_align_celeba/img_align_celeba/198907.jpg  \n",
            "  inflating: img_align_celeba/img_align_celeba/198908.jpg  \n",
            "  inflating: img_align_celeba/img_align_celeba/198909.jpg  \n",
            "  inflating: img_align_celeba/img_align_celeba/198910.jpg  \n",
            "  inflating: img_align_celeba/img_align_celeba/198911.jpg  \n",
            "  inflating: img_align_celeba/img_align_celeba/198912.jpg  \n",
            "  inflating: img_align_celeba/img_align_celeba/198913.jpg  \n",
            "  inflating: img_align_celeba/img_align_celeba/198914.jpg  \n",
            "  inflating: img_align_celeba/img_align_celeba/198915.jpg  \n",
            "  inflating: img_align_celeba/img_align_celeba/198916.jpg  \n",
            "  inflating: img_align_celeba/img_align_celeba/198917.jpg  \n",
            "  inflating: img_align_celeba/img_align_celeba/198918.jpg  \n",
            "  inflating: img_align_celeba/img_align_celeba/198919.jpg  \n",
            "  inflating: img_align_celeba/img_align_celeba/198920.jpg  \n",
            "  inflating: img_align_celeba/img_align_celeba/198921.jpg  \n",
            "  inflating: img_align_celeba/img_align_celeba/198922.jpg  \n",
            "  inflating: img_align_celeba/img_align_celeba/198923.jpg  \n",
            "  inflating: img_align_celeba/img_align_celeba/198924.jpg  \n",
            "  inflating: img_align_celeba/img_align_celeba/198925.jpg  \n",
            "  inflating: img_align_celeba/img_align_celeba/198926.jpg  \n",
            "  inflating: img_align_celeba/img_align_celeba/198927.jpg  \n",
            "  inflating: img_align_celeba/img_align_celeba/198928.jpg  \n",
            "  inflating: img_align_celeba/img_align_celeba/198929.jpg  \n",
            "  inflating: img_align_celeba/img_align_celeba/198930.jpg  \n",
            "  inflating: img_align_celeba/img_align_celeba/198931.jpg  \n",
            "  inflating: img_align_celeba/img_align_celeba/198932.jpg  \n",
            "  inflating: img_align_celeba/img_align_celeba/198933.jpg  \n",
            "  inflating: img_align_celeba/img_align_celeba/198934.jpg  \n",
            "  inflating: img_align_celeba/img_align_celeba/198935.jpg  \n",
            "  inflating: img_align_celeba/img_align_celeba/198936.jpg  \n",
            "  inflating: img_align_celeba/img_align_celeba/198937.jpg  \n",
            "  inflating: img_align_celeba/img_align_celeba/198938.jpg  \n",
            "  inflating: img_align_celeba/img_align_celeba/198939.jpg  \n",
            "  inflating: img_align_celeba/img_align_celeba/198940.jpg  \n",
            "  inflating: img_align_celeba/img_align_celeba/198941.jpg  \n",
            "  inflating: img_align_celeba/img_align_celeba/198942.jpg  \n",
            "  inflating: img_align_celeba/img_align_celeba/198943.jpg  \n",
            "  inflating: img_align_celeba/img_align_celeba/198944.jpg  \n",
            "  inflating: img_align_celeba/img_align_celeba/198945.jpg  \n",
            "  inflating: img_align_celeba/img_align_celeba/198946.jpg  \n",
            "  inflating: img_align_celeba/img_align_celeba/198947.jpg  \n",
            "  inflating: img_align_celeba/img_align_celeba/198948.jpg  \n",
            "  inflating: img_align_celeba/img_align_celeba/198949.jpg  \n",
            "  inflating: img_align_celeba/img_align_celeba/198950.jpg  \n",
            "  inflating: img_align_celeba/img_align_celeba/198951.jpg  \n",
            "  inflating: img_align_celeba/img_align_celeba/198952.jpg  \n",
            "  inflating: img_align_celeba/img_align_celeba/198953.jpg  \n",
            "  inflating: img_align_celeba/img_align_celeba/198954.jpg  \n",
            "  inflating: img_align_celeba/img_align_celeba/198955.jpg  \n",
            "  inflating: img_align_celeba/img_align_celeba/198956.jpg  \n",
            "  inflating: img_align_celeba/img_align_celeba/198957.jpg  \n",
            "  inflating: img_align_celeba/img_align_celeba/198958.jpg  \n",
            "  inflating: img_align_celeba/img_align_celeba/198959.jpg  \n",
            "  inflating: img_align_celeba/img_align_celeba/198960.jpg  \n",
            "  inflating: img_align_celeba/img_align_celeba/198961.jpg  \n",
            "  inflating: img_align_celeba/img_align_celeba/198962.jpg  \n",
            "  inflating: img_align_celeba/img_align_celeba/198963.jpg  \n",
            "  inflating: img_align_celeba/img_align_celeba/198964.jpg  \n",
            "  inflating: img_align_celeba/img_align_celeba/198965.jpg  \n",
            "  inflating: img_align_celeba/img_align_celeba/198966.jpg  \n",
            "  inflating: img_align_celeba/img_align_celeba/198967.jpg  \n",
            "  inflating: img_align_celeba/img_align_celeba/198968.jpg  \n",
            "  inflating: img_align_celeba/img_align_celeba/198969.jpg  \n",
            "  inflating: img_align_celeba/img_align_celeba/198970.jpg  \n",
            "  inflating: img_align_celeba/img_align_celeba/198971.jpg  \n",
            "  inflating: img_align_celeba/img_align_celeba/198972.jpg  \n",
            "  inflating: img_align_celeba/img_align_celeba/198973.jpg  \n",
            "  inflating: img_align_celeba/img_align_celeba/198974.jpg  \n",
            "  inflating: img_align_celeba/img_align_celeba/198975.jpg  \n",
            "  inflating: img_align_celeba/img_align_celeba/198976.jpg  \n",
            "  inflating: img_align_celeba/img_align_celeba/198977.jpg  \n",
            "  inflating: img_align_celeba/img_align_celeba/198978.jpg  \n",
            "  inflating: img_align_celeba/img_align_celeba/198979.jpg  \n",
            "  inflating: img_align_celeba/img_align_celeba/198980.jpg  \n",
            "  inflating: img_align_celeba/img_align_celeba/198981.jpg  \n",
            "  inflating: img_align_celeba/img_align_celeba/198982.jpg  \n",
            "  inflating: img_align_celeba/img_align_celeba/198983.jpg  \n",
            "  inflating: img_align_celeba/img_align_celeba/198984.jpg  \n",
            "  inflating: img_align_celeba/img_align_celeba/198985.jpg  \n",
            "  inflating: img_align_celeba/img_align_celeba/198986.jpg  \n",
            "  inflating: img_align_celeba/img_align_celeba/198987.jpg  \n",
            "  inflating: img_align_celeba/img_align_celeba/198988.jpg  \n",
            "  inflating: img_align_celeba/img_align_celeba/198989.jpg  \n",
            "  inflating: img_align_celeba/img_align_celeba/198990.jpg  \n",
            "  inflating: img_align_celeba/img_align_celeba/198991.jpg  \n",
            "  inflating: img_align_celeba/img_align_celeba/198992.jpg  \n",
            "  inflating: img_align_celeba/img_align_celeba/198993.jpg  \n",
            "  inflating: img_align_celeba/img_align_celeba/198994.jpg  \n",
            "  inflating: img_align_celeba/img_align_celeba/198995.jpg  \n",
            "  inflating: img_align_celeba/img_align_celeba/198996.jpg  \n",
            "  inflating: img_align_celeba/img_align_celeba/198997.jpg  \n",
            "  inflating: img_align_celeba/img_align_celeba/198998.jpg  \n",
            "  inflating: img_align_celeba/img_align_celeba/198999.jpg  \n",
            "  inflating: img_align_celeba/img_align_celeba/199000.jpg  \n",
            "  inflating: img_align_celeba/img_align_celeba/199001.jpg  \n",
            "  inflating: img_align_celeba/img_align_celeba/199002.jpg  \n",
            "  inflating: img_align_celeba/img_align_celeba/199003.jpg  \n",
            "  inflating: img_align_celeba/img_align_celeba/199004.jpg  \n",
            "  inflating: img_align_celeba/img_align_celeba/199005.jpg  \n",
            "  inflating: img_align_celeba/img_align_celeba/199006.jpg  \n",
            "  inflating: img_align_celeba/img_align_celeba/199007.jpg  \n",
            "  inflating: img_align_celeba/img_align_celeba/199008.jpg  \n",
            "  inflating: img_align_celeba/img_align_celeba/199009.jpg  \n",
            "  inflating: img_align_celeba/img_align_celeba/199010.jpg  \n",
            "  inflating: img_align_celeba/img_align_celeba/199011.jpg  \n",
            "  inflating: img_align_celeba/img_align_celeba/199012.jpg  \n",
            "  inflating: img_align_celeba/img_align_celeba/199013.jpg  \n",
            "  inflating: img_align_celeba/img_align_celeba/199014.jpg  \n",
            "  inflating: img_align_celeba/img_align_celeba/199015.jpg  \n",
            "  inflating: img_align_celeba/img_align_celeba/199016.jpg  \n",
            "  inflating: img_align_celeba/img_align_celeba/199017.jpg  \n",
            "  inflating: img_align_celeba/img_align_celeba/199018.jpg  \n",
            "  inflating: img_align_celeba/img_align_celeba/199019.jpg  \n",
            "  inflating: img_align_celeba/img_align_celeba/199020.jpg  \n",
            "  inflating: img_align_celeba/img_align_celeba/199021.jpg  \n",
            "  inflating: img_align_celeba/img_align_celeba/199022.jpg  \n",
            "  inflating: img_align_celeba/img_align_celeba/199023.jpg  \n",
            "  inflating: img_align_celeba/img_align_celeba/199024.jpg  \n",
            "  inflating: img_align_celeba/img_align_celeba/199025.jpg  \n",
            "  inflating: img_align_celeba/img_align_celeba/199026.jpg  \n",
            "  inflating: img_align_celeba/img_align_celeba/199027.jpg  \n",
            "  inflating: img_align_celeba/img_align_celeba/199028.jpg  \n",
            "  inflating: img_align_celeba/img_align_celeba/199029.jpg  \n",
            "  inflating: img_align_celeba/img_align_celeba/199030.jpg  \n",
            "  inflating: img_align_celeba/img_align_celeba/199031.jpg  \n",
            "  inflating: img_align_celeba/img_align_celeba/199032.jpg  \n",
            "  inflating: img_align_celeba/img_align_celeba/199033.jpg  \n",
            "  inflating: img_align_celeba/img_align_celeba/199034.jpg  \n",
            "  inflating: img_align_celeba/img_align_celeba/199035.jpg  \n",
            "  inflating: img_align_celeba/img_align_celeba/199036.jpg  \n",
            "  inflating: img_align_celeba/img_align_celeba/199037.jpg  \n",
            "  inflating: img_align_celeba/img_align_celeba/199038.jpg  \n",
            "  inflating: img_align_celeba/img_align_celeba/199039.jpg  \n",
            "  inflating: img_align_celeba/img_align_celeba/199040.jpg  \n",
            "  inflating: img_align_celeba/img_align_celeba/199041.jpg  \n",
            "  inflating: img_align_celeba/img_align_celeba/199042.jpg  \n",
            "  inflating: img_align_celeba/img_align_celeba/199043.jpg  \n",
            "  inflating: img_align_celeba/img_align_celeba/199044.jpg  \n",
            "  inflating: img_align_celeba/img_align_celeba/199045.jpg  \n",
            "  inflating: img_align_celeba/img_align_celeba/199046.jpg  \n",
            "  inflating: img_align_celeba/img_align_celeba/199047.jpg  \n",
            "  inflating: img_align_celeba/img_align_celeba/199048.jpg  \n",
            "  inflating: img_align_celeba/img_align_celeba/199049.jpg  \n",
            "  inflating: img_align_celeba/img_align_celeba/199050.jpg  \n",
            "  inflating: img_align_celeba/img_align_celeba/199051.jpg  \n",
            "  inflating: img_align_celeba/img_align_celeba/199052.jpg  \n",
            "  inflating: img_align_celeba/img_align_celeba/199053.jpg  \n",
            "  inflating: img_align_celeba/img_align_celeba/199054.jpg  \n",
            "  inflating: img_align_celeba/img_align_celeba/199055.jpg  \n",
            "  inflating: img_align_celeba/img_align_celeba/199056.jpg  \n",
            "  inflating: img_align_celeba/img_align_celeba/199057.jpg  \n",
            "  inflating: img_align_celeba/img_align_celeba/199058.jpg  \n",
            "  inflating: img_align_celeba/img_align_celeba/199059.jpg  \n",
            "  inflating: img_align_celeba/img_align_celeba/199060.jpg  \n",
            "  inflating: img_align_celeba/img_align_celeba/199061.jpg  \n",
            "  inflating: img_align_celeba/img_align_celeba/199062.jpg  \n",
            "  inflating: img_align_celeba/img_align_celeba/199063.jpg  \n",
            "  inflating: img_align_celeba/img_align_celeba/199064.jpg  \n",
            "  inflating: img_align_celeba/img_align_celeba/199065.jpg  \n",
            "  inflating: img_align_celeba/img_align_celeba/199066.jpg  \n",
            "  inflating: img_align_celeba/img_align_celeba/199067.jpg  \n",
            "  inflating: img_align_celeba/img_align_celeba/199068.jpg  \n",
            "  inflating: img_align_celeba/img_align_celeba/199069.jpg  \n",
            "  inflating: img_align_celeba/img_align_celeba/199070.jpg  \n",
            "  inflating: img_align_celeba/img_align_celeba/199071.jpg  \n",
            "  inflating: img_align_celeba/img_align_celeba/199072.jpg  \n",
            "  inflating: img_align_celeba/img_align_celeba/199073.jpg  \n",
            "  inflating: img_align_celeba/img_align_celeba/199074.jpg  \n",
            "  inflating: img_align_celeba/img_align_celeba/199075.jpg  \n",
            "  inflating: img_align_celeba/img_align_celeba/199076.jpg  \n",
            "  inflating: img_align_celeba/img_align_celeba/199077.jpg  \n",
            "  inflating: img_align_celeba/img_align_celeba/199078.jpg  \n",
            "  inflating: img_align_celeba/img_align_celeba/199079.jpg  \n",
            "  inflating: img_align_celeba/img_align_celeba/199080.jpg  \n",
            "  inflating: img_align_celeba/img_align_celeba/199081.jpg  \n",
            "  inflating: img_align_celeba/img_align_celeba/199082.jpg  \n",
            "  inflating: img_align_celeba/img_align_celeba/199083.jpg  \n",
            "  inflating: img_align_celeba/img_align_celeba/199084.jpg  \n",
            "  inflating: img_align_celeba/img_align_celeba/199085.jpg  \n",
            "  inflating: img_align_celeba/img_align_celeba/199086.jpg  \n",
            "  inflating: img_align_celeba/img_align_celeba/199087.jpg  \n",
            "  inflating: img_align_celeba/img_align_celeba/199088.jpg  \n",
            "  inflating: img_align_celeba/img_align_celeba/199089.jpg  \n",
            "  inflating: img_align_celeba/img_align_celeba/199090.jpg  \n",
            "  inflating: img_align_celeba/img_align_celeba/199091.jpg  \n",
            "  inflating: img_align_celeba/img_align_celeba/199092.jpg  \n",
            "  inflating: img_align_celeba/img_align_celeba/199093.jpg  \n",
            "  inflating: img_align_celeba/img_align_celeba/199094.jpg  \n",
            "  inflating: img_align_celeba/img_align_celeba/199095.jpg  \n",
            "  inflating: img_align_celeba/img_align_celeba/199096.jpg  \n",
            "  inflating: img_align_celeba/img_align_celeba/199097.jpg  \n",
            "  inflating: img_align_celeba/img_align_celeba/199098.jpg  \n",
            "  inflating: img_align_celeba/img_align_celeba/199099.jpg  \n",
            "  inflating: img_align_celeba/img_align_celeba/199100.jpg  \n",
            "  inflating: img_align_celeba/img_align_celeba/199101.jpg  \n",
            "  inflating: img_align_celeba/img_align_celeba/199102.jpg  \n",
            "  inflating: img_align_celeba/img_align_celeba/199103.jpg  \n",
            "  inflating: img_align_celeba/img_align_celeba/199104.jpg  \n",
            "  inflating: img_align_celeba/img_align_celeba/199105.jpg  \n",
            "  inflating: img_align_celeba/img_align_celeba/199106.jpg  \n",
            "  inflating: img_align_celeba/img_align_celeba/199107.jpg  \n",
            "  inflating: img_align_celeba/img_align_celeba/199108.jpg  \n",
            "  inflating: img_align_celeba/img_align_celeba/199109.jpg  \n",
            "  inflating: img_align_celeba/img_align_celeba/199110.jpg  \n",
            "  inflating: img_align_celeba/img_align_celeba/199111.jpg  \n",
            "  inflating: img_align_celeba/img_align_celeba/199112.jpg  \n",
            "  inflating: img_align_celeba/img_align_celeba/199113.jpg  \n",
            "  inflating: img_align_celeba/img_align_celeba/199114.jpg  \n",
            "  inflating: img_align_celeba/img_align_celeba/199115.jpg  \n",
            "  inflating: img_align_celeba/img_align_celeba/199116.jpg  \n",
            "  inflating: img_align_celeba/img_align_celeba/199117.jpg  \n",
            "  inflating: img_align_celeba/img_align_celeba/199118.jpg  \n",
            "  inflating: img_align_celeba/img_align_celeba/199119.jpg  \n",
            "  inflating: img_align_celeba/img_align_celeba/199120.jpg  \n",
            "  inflating: img_align_celeba/img_align_celeba/199121.jpg  \n",
            "  inflating: img_align_celeba/img_align_celeba/199122.jpg  \n",
            "  inflating: img_align_celeba/img_align_celeba/199123.jpg  \n",
            "  inflating: img_align_celeba/img_align_celeba/199124.jpg  \n",
            "  inflating: img_align_celeba/img_align_celeba/199125.jpg  \n",
            "  inflating: img_align_celeba/img_align_celeba/199126.jpg  \n",
            "  inflating: img_align_celeba/img_align_celeba/199127.jpg  \n",
            "  inflating: img_align_celeba/img_align_celeba/199128.jpg  \n",
            "  inflating: img_align_celeba/img_align_celeba/199129.jpg  \n",
            "  inflating: img_align_celeba/img_align_celeba/199130.jpg  \n",
            "  inflating: img_align_celeba/img_align_celeba/199131.jpg  \n",
            "  inflating: img_align_celeba/img_align_celeba/199132.jpg  \n",
            "  inflating: img_align_celeba/img_align_celeba/199133.jpg  \n",
            "  inflating: img_align_celeba/img_align_celeba/199134.jpg  \n",
            "  inflating: img_align_celeba/img_align_celeba/199135.jpg  \n",
            "  inflating: img_align_celeba/img_align_celeba/199136.jpg  \n",
            "  inflating: img_align_celeba/img_align_celeba/199137.jpg  \n",
            "  inflating: img_align_celeba/img_align_celeba/199138.jpg  \n",
            "  inflating: img_align_celeba/img_align_celeba/199139.jpg  \n",
            "  inflating: img_align_celeba/img_align_celeba/199140.jpg  \n",
            "  inflating: img_align_celeba/img_align_celeba/199141.jpg  \n",
            "  inflating: img_align_celeba/img_align_celeba/199142.jpg  \n",
            "  inflating: img_align_celeba/img_align_celeba/199143.jpg  \n",
            "  inflating: img_align_celeba/img_align_celeba/199144.jpg  \n",
            "  inflating: img_align_celeba/img_align_celeba/199145.jpg  \n",
            "  inflating: img_align_celeba/img_align_celeba/199146.jpg  \n",
            "  inflating: img_align_celeba/img_align_celeba/199147.jpg  \n",
            "  inflating: img_align_celeba/img_align_celeba/199148.jpg  \n",
            "  inflating: img_align_celeba/img_align_celeba/199149.jpg  \n",
            "  inflating: img_align_celeba/img_align_celeba/199150.jpg  \n",
            "  inflating: img_align_celeba/img_align_celeba/199151.jpg  \n",
            "  inflating: img_align_celeba/img_align_celeba/199152.jpg  \n",
            "  inflating: img_align_celeba/img_align_celeba/199153.jpg  \n",
            "  inflating: img_align_celeba/img_align_celeba/199154.jpg  \n",
            "  inflating: img_align_celeba/img_align_celeba/199155.jpg  \n",
            "  inflating: img_align_celeba/img_align_celeba/199156.jpg  \n",
            "  inflating: img_align_celeba/img_align_celeba/199157.jpg  \n",
            "  inflating: img_align_celeba/img_align_celeba/199158.jpg  \n",
            "  inflating: img_align_celeba/img_align_celeba/199159.jpg  \n",
            "  inflating: img_align_celeba/img_align_celeba/199160.jpg  \n",
            "  inflating: img_align_celeba/img_align_celeba/199161.jpg  \n",
            "  inflating: img_align_celeba/img_align_celeba/199162.jpg  \n",
            "  inflating: img_align_celeba/img_align_celeba/199163.jpg  \n",
            "  inflating: img_align_celeba/img_align_celeba/199164.jpg  \n",
            "  inflating: img_align_celeba/img_align_celeba/199165.jpg  \n",
            "  inflating: img_align_celeba/img_align_celeba/199166.jpg  \n",
            "  inflating: img_align_celeba/img_align_celeba/199167.jpg  \n",
            "  inflating: img_align_celeba/img_align_celeba/199168.jpg  \n",
            "  inflating: img_align_celeba/img_align_celeba/199169.jpg  \n",
            "  inflating: img_align_celeba/img_align_celeba/199170.jpg  \n",
            "  inflating: img_align_celeba/img_align_celeba/199171.jpg  \n",
            "  inflating: img_align_celeba/img_align_celeba/199172.jpg  \n",
            "  inflating: img_align_celeba/img_align_celeba/199173.jpg  \n",
            "  inflating: img_align_celeba/img_align_celeba/199174.jpg  \n",
            "  inflating: img_align_celeba/img_align_celeba/199175.jpg  \n",
            "  inflating: img_align_celeba/img_align_celeba/199176.jpg  \n",
            "  inflating: img_align_celeba/img_align_celeba/199177.jpg  \n",
            "  inflating: img_align_celeba/img_align_celeba/199178.jpg  \n",
            "  inflating: img_align_celeba/img_align_celeba/199179.jpg  \n",
            "  inflating: img_align_celeba/img_align_celeba/199180.jpg  \n",
            "  inflating: img_align_celeba/img_align_celeba/199181.jpg  \n",
            "  inflating: img_align_celeba/img_align_celeba/199182.jpg  \n",
            "  inflating: img_align_celeba/img_align_celeba/199183.jpg  \n",
            "  inflating: img_align_celeba/img_align_celeba/199184.jpg  \n",
            "  inflating: img_align_celeba/img_align_celeba/199185.jpg  \n",
            "  inflating: img_align_celeba/img_align_celeba/199186.jpg  \n",
            "  inflating: img_align_celeba/img_align_celeba/199187.jpg  \n",
            "  inflating: img_align_celeba/img_align_celeba/199188.jpg  \n",
            "  inflating: img_align_celeba/img_align_celeba/199189.jpg  \n",
            "  inflating: img_align_celeba/img_align_celeba/199190.jpg  \n",
            "  inflating: img_align_celeba/img_align_celeba/199191.jpg  \n",
            "  inflating: img_align_celeba/img_align_celeba/199192.jpg  \n",
            "  inflating: img_align_celeba/img_align_celeba/199193.jpg  \n",
            "  inflating: img_align_celeba/img_align_celeba/199194.jpg  \n",
            "  inflating: img_align_celeba/img_align_celeba/199195.jpg  \n",
            "  inflating: img_align_celeba/img_align_celeba/199196.jpg  \n",
            "  inflating: img_align_celeba/img_align_celeba/199197.jpg  \n",
            "  inflating: img_align_celeba/img_align_celeba/199198.jpg  \n",
            "  inflating: img_align_celeba/img_align_celeba/199199.jpg  \n",
            "  inflating: img_align_celeba/img_align_celeba/199200.jpg  \n",
            "  inflating: img_align_celeba/img_align_celeba/199201.jpg  \n",
            "  inflating: img_align_celeba/img_align_celeba/199202.jpg  \n",
            "  inflating: img_align_celeba/img_align_celeba/199203.jpg  \n",
            "  inflating: img_align_celeba/img_align_celeba/199204.jpg  \n",
            "  inflating: img_align_celeba/img_align_celeba/199205.jpg  \n",
            "  inflating: img_align_celeba/img_align_celeba/199206.jpg  \n",
            "  inflating: img_align_celeba/img_align_celeba/199207.jpg  \n",
            "  inflating: img_align_celeba/img_align_celeba/199208.jpg  \n",
            "  inflating: img_align_celeba/img_align_celeba/199209.jpg  \n",
            "  inflating: img_align_celeba/img_align_celeba/199210.jpg  \n",
            "  inflating: img_align_celeba/img_align_celeba/199211.jpg  \n",
            "  inflating: img_align_celeba/img_align_celeba/199212.jpg  \n",
            "  inflating: img_align_celeba/img_align_celeba/199213.jpg  \n",
            "  inflating: img_align_celeba/img_align_celeba/199214.jpg  \n",
            "  inflating: img_align_celeba/img_align_celeba/199215.jpg  \n",
            "  inflating: img_align_celeba/img_align_celeba/199216.jpg  \n",
            "  inflating: img_align_celeba/img_align_celeba/199217.jpg  \n",
            "  inflating: img_align_celeba/img_align_celeba/199218.jpg  \n",
            "  inflating: img_align_celeba/img_align_celeba/199219.jpg  \n",
            "  inflating: img_align_celeba/img_align_celeba/199220.jpg  \n",
            "  inflating: img_align_celeba/img_align_celeba/199221.jpg  \n",
            "  inflating: img_align_celeba/img_align_celeba/199222.jpg  \n",
            "  inflating: img_align_celeba/img_align_celeba/199223.jpg  \n",
            "  inflating: img_align_celeba/img_align_celeba/199224.jpg  \n",
            "  inflating: img_align_celeba/img_align_celeba/199225.jpg  \n",
            "  inflating: img_align_celeba/img_align_celeba/199226.jpg  \n",
            "  inflating: img_align_celeba/img_align_celeba/199227.jpg  \n",
            "  inflating: img_align_celeba/img_align_celeba/199228.jpg  \n",
            "  inflating: img_align_celeba/img_align_celeba/199229.jpg  \n",
            "  inflating: img_align_celeba/img_align_celeba/199230.jpg  \n",
            "  inflating: img_align_celeba/img_align_celeba/199231.jpg  \n",
            "  inflating: img_align_celeba/img_align_celeba/199232.jpg  \n",
            "  inflating: img_align_celeba/img_align_celeba/199233.jpg  \n",
            "  inflating: img_align_celeba/img_align_celeba/199234.jpg  \n",
            "  inflating: img_align_celeba/img_align_celeba/199235.jpg  \n",
            "  inflating: img_align_celeba/img_align_celeba/199236.jpg  \n",
            "  inflating: img_align_celeba/img_align_celeba/199237.jpg  \n",
            "  inflating: img_align_celeba/img_align_celeba/199238.jpg  \n",
            "  inflating: img_align_celeba/img_align_celeba/199239.jpg  \n",
            "  inflating: img_align_celeba/img_align_celeba/199240.jpg  \n",
            "  inflating: img_align_celeba/img_align_celeba/199241.jpg  \n",
            "  inflating: img_align_celeba/img_align_celeba/199242.jpg  \n",
            "  inflating: img_align_celeba/img_align_celeba/199243.jpg  \n",
            "  inflating: img_align_celeba/img_align_celeba/199244.jpg  \n",
            "  inflating: img_align_celeba/img_align_celeba/199245.jpg  \n",
            "  inflating: img_align_celeba/img_align_celeba/199246.jpg  \n",
            "  inflating: img_align_celeba/img_align_celeba/199247.jpg  \n",
            "  inflating: img_align_celeba/img_align_celeba/199248.jpg  \n",
            "  inflating: img_align_celeba/img_align_celeba/199249.jpg  \n",
            "  inflating: img_align_celeba/img_align_celeba/199250.jpg  \n",
            "  inflating: img_align_celeba/img_align_celeba/199251.jpg  \n",
            "  inflating: img_align_celeba/img_align_celeba/199252.jpg  \n",
            "  inflating: img_align_celeba/img_align_celeba/199253.jpg  \n",
            "  inflating: img_align_celeba/img_align_celeba/199254.jpg  \n",
            "  inflating: img_align_celeba/img_align_celeba/199255.jpg  \n",
            "  inflating: img_align_celeba/img_align_celeba/199256.jpg  \n",
            "  inflating: img_align_celeba/img_align_celeba/199257.jpg  \n",
            "  inflating: img_align_celeba/img_align_celeba/199258.jpg  \n",
            "  inflating: img_align_celeba/img_align_celeba/199259.jpg  \n",
            "  inflating: img_align_celeba/img_align_celeba/199260.jpg  \n",
            "  inflating: img_align_celeba/img_align_celeba/199261.jpg  \n",
            "  inflating: img_align_celeba/img_align_celeba/199262.jpg  \n",
            "  inflating: img_align_celeba/img_align_celeba/199263.jpg  \n",
            "  inflating: img_align_celeba/img_align_celeba/199264.jpg  \n",
            "  inflating: img_align_celeba/img_align_celeba/199265.jpg  \n",
            "  inflating: img_align_celeba/img_align_celeba/199266.jpg  \n",
            "  inflating: img_align_celeba/img_align_celeba/199267.jpg  \n",
            "  inflating: img_align_celeba/img_align_celeba/199268.jpg  \n",
            "  inflating: img_align_celeba/img_align_celeba/199269.jpg  \n",
            "  inflating: img_align_celeba/img_align_celeba/199270.jpg  \n",
            "  inflating: img_align_celeba/img_align_celeba/199271.jpg  \n",
            "  inflating: img_align_celeba/img_align_celeba/199272.jpg  \n",
            "  inflating: img_align_celeba/img_align_celeba/199273.jpg  \n",
            "  inflating: img_align_celeba/img_align_celeba/199274.jpg  \n",
            "  inflating: img_align_celeba/img_align_celeba/199275.jpg  \n",
            "  inflating: img_align_celeba/img_align_celeba/199276.jpg  \n",
            "  inflating: img_align_celeba/img_align_celeba/199277.jpg  \n",
            "  inflating: img_align_celeba/img_align_celeba/199278.jpg  \n",
            "  inflating: img_align_celeba/img_align_celeba/199279.jpg  \n",
            "  inflating: img_align_celeba/img_align_celeba/199280.jpg  \n",
            "  inflating: img_align_celeba/img_align_celeba/199281.jpg  \n",
            "  inflating: img_align_celeba/img_align_celeba/199282.jpg  \n",
            "  inflating: img_align_celeba/img_align_celeba/199283.jpg  \n",
            "  inflating: img_align_celeba/img_align_celeba/199284.jpg  \n",
            "  inflating: img_align_celeba/img_align_celeba/199285.jpg  \n",
            "  inflating: img_align_celeba/img_align_celeba/199286.jpg  \n",
            "  inflating: img_align_celeba/img_align_celeba/199287.jpg  \n",
            "  inflating: img_align_celeba/img_align_celeba/199288.jpg  \n",
            "  inflating: img_align_celeba/img_align_celeba/199289.jpg  \n",
            "  inflating: img_align_celeba/img_align_celeba/199290.jpg  \n",
            "  inflating: img_align_celeba/img_align_celeba/199291.jpg  \n",
            "  inflating: img_align_celeba/img_align_celeba/199292.jpg  \n",
            "  inflating: img_align_celeba/img_align_celeba/199293.jpg  \n",
            "  inflating: img_align_celeba/img_align_celeba/199294.jpg  \n",
            "  inflating: img_align_celeba/img_align_celeba/199295.jpg  \n",
            "  inflating: img_align_celeba/img_align_celeba/199296.jpg  \n",
            "  inflating: img_align_celeba/img_align_celeba/199297.jpg  \n",
            "  inflating: img_align_celeba/img_align_celeba/199298.jpg  \n",
            "  inflating: img_align_celeba/img_align_celeba/199299.jpg  \n",
            "  inflating: img_align_celeba/img_align_celeba/199300.jpg  \n",
            "  inflating: img_align_celeba/img_align_celeba/199301.jpg  \n",
            "  inflating: img_align_celeba/img_align_celeba/199302.jpg  \n",
            "  inflating: img_align_celeba/img_align_celeba/199303.jpg  \n",
            "  inflating: img_align_celeba/img_align_celeba/199304.jpg  \n",
            "  inflating: img_align_celeba/img_align_celeba/199305.jpg  \n",
            "  inflating: img_align_celeba/img_align_celeba/199306.jpg  \n",
            "  inflating: img_align_celeba/img_align_celeba/199307.jpg  \n",
            "  inflating: img_align_celeba/img_align_celeba/199308.jpg  \n",
            "  inflating: img_align_celeba/img_align_celeba/199309.jpg  \n",
            "  inflating: img_align_celeba/img_align_celeba/199310.jpg  \n",
            "  inflating: img_align_celeba/img_align_celeba/199311.jpg  \n",
            "  inflating: img_align_celeba/img_align_celeba/199312.jpg  \n",
            "  inflating: img_align_celeba/img_align_celeba/199313.jpg  \n",
            "  inflating: img_align_celeba/img_align_celeba/199314.jpg  \n",
            "  inflating: img_align_celeba/img_align_celeba/199315.jpg  \n",
            "  inflating: img_align_celeba/img_align_celeba/199316.jpg  \n",
            "  inflating: img_align_celeba/img_align_celeba/199317.jpg  \n",
            "  inflating: img_align_celeba/img_align_celeba/199318.jpg  \n",
            "  inflating: img_align_celeba/img_align_celeba/199319.jpg  \n",
            "  inflating: img_align_celeba/img_align_celeba/199320.jpg  \n",
            "  inflating: img_align_celeba/img_align_celeba/199321.jpg  \n",
            "  inflating: img_align_celeba/img_align_celeba/199322.jpg  \n",
            "  inflating: img_align_celeba/img_align_celeba/199323.jpg  \n",
            "  inflating: img_align_celeba/img_align_celeba/199324.jpg  \n",
            "  inflating: img_align_celeba/img_align_celeba/199325.jpg  \n",
            "  inflating: img_align_celeba/img_align_celeba/199326.jpg  \n",
            "  inflating: img_align_celeba/img_align_celeba/199327.jpg  \n",
            "  inflating: img_align_celeba/img_align_celeba/199328.jpg  \n",
            "  inflating: img_align_celeba/img_align_celeba/199329.jpg  \n",
            "  inflating: img_align_celeba/img_align_celeba/199330.jpg  \n",
            "  inflating: img_align_celeba/img_align_celeba/199331.jpg  \n",
            "  inflating: img_align_celeba/img_align_celeba/199332.jpg  \n",
            "  inflating: img_align_celeba/img_align_celeba/199333.jpg  \n",
            "  inflating: img_align_celeba/img_align_celeba/199334.jpg  \n",
            "  inflating: img_align_celeba/img_align_celeba/199335.jpg  \n",
            "  inflating: img_align_celeba/img_align_celeba/199336.jpg  \n",
            "  inflating: img_align_celeba/img_align_celeba/199337.jpg  \n",
            "  inflating: img_align_celeba/img_align_celeba/199338.jpg  \n",
            "  inflating: img_align_celeba/img_align_celeba/199339.jpg  \n",
            "  inflating: img_align_celeba/img_align_celeba/199340.jpg  \n",
            "  inflating: img_align_celeba/img_align_celeba/199341.jpg  \n",
            "  inflating: img_align_celeba/img_align_celeba/199342.jpg  \n",
            "  inflating: img_align_celeba/img_align_celeba/199343.jpg  \n",
            "  inflating: img_align_celeba/img_align_celeba/199344.jpg  \n",
            "  inflating: img_align_celeba/img_align_celeba/199345.jpg  \n",
            "  inflating: img_align_celeba/img_align_celeba/199346.jpg  \n",
            "  inflating: img_align_celeba/img_align_celeba/199347.jpg  \n",
            "  inflating: img_align_celeba/img_align_celeba/199348.jpg  \n",
            "  inflating: img_align_celeba/img_align_celeba/199349.jpg  \n",
            "  inflating: img_align_celeba/img_align_celeba/199350.jpg  \n",
            "  inflating: img_align_celeba/img_align_celeba/199351.jpg  \n",
            "  inflating: img_align_celeba/img_align_celeba/199352.jpg  \n",
            "  inflating: img_align_celeba/img_align_celeba/199353.jpg  \n",
            "  inflating: img_align_celeba/img_align_celeba/199354.jpg  \n",
            "  inflating: img_align_celeba/img_align_celeba/199355.jpg  \n",
            "  inflating: img_align_celeba/img_align_celeba/199356.jpg  \n",
            "  inflating: img_align_celeba/img_align_celeba/199357.jpg  \n",
            "  inflating: img_align_celeba/img_align_celeba/199358.jpg  \n",
            "  inflating: img_align_celeba/img_align_celeba/199359.jpg  \n",
            "  inflating: img_align_celeba/img_align_celeba/199360.jpg  \n",
            "  inflating: img_align_celeba/img_align_celeba/199361.jpg  \n",
            "  inflating: img_align_celeba/img_align_celeba/199362.jpg  \n",
            "  inflating: img_align_celeba/img_align_celeba/199363.jpg  \n",
            "  inflating: img_align_celeba/img_align_celeba/199364.jpg  \n",
            "  inflating: img_align_celeba/img_align_celeba/199365.jpg  \n",
            "  inflating: img_align_celeba/img_align_celeba/199366.jpg  \n",
            "  inflating: img_align_celeba/img_align_celeba/199367.jpg  \n",
            "  inflating: img_align_celeba/img_align_celeba/199368.jpg  \n",
            "  inflating: img_align_celeba/img_align_celeba/199369.jpg  \n",
            "  inflating: img_align_celeba/img_align_celeba/199370.jpg  \n",
            "  inflating: img_align_celeba/img_align_celeba/199371.jpg  \n",
            "  inflating: img_align_celeba/img_align_celeba/199372.jpg  \n",
            "  inflating: img_align_celeba/img_align_celeba/199373.jpg  \n",
            "  inflating: img_align_celeba/img_align_celeba/199374.jpg  \n",
            "  inflating: img_align_celeba/img_align_celeba/199375.jpg  \n",
            "  inflating: img_align_celeba/img_align_celeba/199376.jpg  \n",
            "  inflating: img_align_celeba/img_align_celeba/199377.jpg  \n",
            "  inflating: img_align_celeba/img_align_celeba/199378.jpg  \n",
            "  inflating: img_align_celeba/img_align_celeba/199379.jpg  \n",
            "  inflating: img_align_celeba/img_align_celeba/199380.jpg  \n",
            "  inflating: img_align_celeba/img_align_celeba/199381.jpg  \n",
            "  inflating: img_align_celeba/img_align_celeba/199382.jpg  \n",
            "  inflating: img_align_celeba/img_align_celeba/199383.jpg  \n",
            "  inflating: img_align_celeba/img_align_celeba/199384.jpg  \n",
            "  inflating: img_align_celeba/img_align_celeba/199385.jpg  \n",
            "  inflating: img_align_celeba/img_align_celeba/199386.jpg  \n",
            "  inflating: img_align_celeba/img_align_celeba/199387.jpg  \n",
            "  inflating: img_align_celeba/img_align_celeba/199388.jpg  \n",
            "  inflating: img_align_celeba/img_align_celeba/199389.jpg  \n",
            "  inflating: img_align_celeba/img_align_celeba/199390.jpg  \n",
            "  inflating: img_align_celeba/img_align_celeba/199391.jpg  \n",
            "  inflating: img_align_celeba/img_align_celeba/199392.jpg  \n",
            "  inflating: img_align_celeba/img_align_celeba/199393.jpg  \n",
            "  inflating: img_align_celeba/img_align_celeba/199394.jpg  \n",
            "  inflating: img_align_celeba/img_align_celeba/199395.jpg  \n",
            "  inflating: img_align_celeba/img_align_celeba/199396.jpg  \n",
            "  inflating: img_align_celeba/img_align_celeba/199397.jpg  \n",
            "  inflating: img_align_celeba/img_align_celeba/199398.jpg  \n",
            "  inflating: img_align_celeba/img_align_celeba/199399.jpg  \n",
            "  inflating: img_align_celeba/img_align_celeba/199400.jpg  \n",
            "  inflating: img_align_celeba/img_align_celeba/199401.jpg  \n",
            "  inflating: img_align_celeba/img_align_celeba/199402.jpg  \n",
            "  inflating: img_align_celeba/img_align_celeba/199403.jpg  \n",
            "  inflating: img_align_celeba/img_align_celeba/199404.jpg  \n",
            "  inflating: img_align_celeba/img_align_celeba/199405.jpg  \n",
            "  inflating: img_align_celeba/img_align_celeba/199406.jpg  \n",
            "  inflating: img_align_celeba/img_align_celeba/199407.jpg  \n",
            "  inflating: img_align_celeba/img_align_celeba/199408.jpg  \n",
            "  inflating: img_align_celeba/img_align_celeba/199409.jpg  \n",
            "  inflating: img_align_celeba/img_align_celeba/199410.jpg  \n",
            "  inflating: img_align_celeba/img_align_celeba/199411.jpg  \n",
            "  inflating: img_align_celeba/img_align_celeba/199412.jpg  \n",
            "  inflating: img_align_celeba/img_align_celeba/199413.jpg  \n",
            "  inflating: img_align_celeba/img_align_celeba/199414.jpg  \n",
            "  inflating: img_align_celeba/img_align_celeba/199415.jpg  \n",
            "  inflating: img_align_celeba/img_align_celeba/199416.jpg  \n",
            "  inflating: img_align_celeba/img_align_celeba/199417.jpg  \n",
            "  inflating: img_align_celeba/img_align_celeba/199418.jpg  \n",
            "  inflating: img_align_celeba/img_align_celeba/199419.jpg  \n",
            "  inflating: img_align_celeba/img_align_celeba/199420.jpg  \n",
            "  inflating: img_align_celeba/img_align_celeba/199421.jpg  \n",
            "  inflating: img_align_celeba/img_align_celeba/199422.jpg  \n",
            "  inflating: img_align_celeba/img_align_celeba/199423.jpg  \n",
            "  inflating: img_align_celeba/img_align_celeba/199424.jpg  \n",
            "  inflating: img_align_celeba/img_align_celeba/199425.jpg  \n",
            "  inflating: img_align_celeba/img_align_celeba/199426.jpg  \n",
            "  inflating: img_align_celeba/img_align_celeba/199427.jpg  \n",
            "  inflating: img_align_celeba/img_align_celeba/199428.jpg  \n",
            "  inflating: img_align_celeba/img_align_celeba/199429.jpg  \n",
            "  inflating: img_align_celeba/img_align_celeba/199430.jpg  \n",
            "  inflating: img_align_celeba/img_align_celeba/199431.jpg  \n",
            "  inflating: img_align_celeba/img_align_celeba/199432.jpg  \n",
            "  inflating: img_align_celeba/img_align_celeba/199433.jpg  \n",
            "  inflating: img_align_celeba/img_align_celeba/199434.jpg  \n",
            "  inflating: img_align_celeba/img_align_celeba/199435.jpg  \n",
            "  inflating: img_align_celeba/img_align_celeba/199436.jpg  \n",
            "  inflating: img_align_celeba/img_align_celeba/199437.jpg  \n",
            "  inflating: img_align_celeba/img_align_celeba/199438.jpg  \n",
            "  inflating: img_align_celeba/img_align_celeba/199439.jpg  \n",
            "  inflating: img_align_celeba/img_align_celeba/199440.jpg  \n",
            "  inflating: img_align_celeba/img_align_celeba/199441.jpg  \n",
            "  inflating: img_align_celeba/img_align_celeba/199442.jpg  \n",
            "  inflating: img_align_celeba/img_align_celeba/199443.jpg  \n",
            "  inflating: img_align_celeba/img_align_celeba/199444.jpg  \n",
            "  inflating: img_align_celeba/img_align_celeba/199445.jpg  \n",
            "  inflating: img_align_celeba/img_align_celeba/199446.jpg  \n",
            "  inflating: img_align_celeba/img_align_celeba/199447.jpg  \n",
            "  inflating: img_align_celeba/img_align_celeba/199448.jpg  \n",
            "  inflating: img_align_celeba/img_align_celeba/199449.jpg  \n",
            "  inflating: img_align_celeba/img_align_celeba/199450.jpg  \n",
            "  inflating: img_align_celeba/img_align_celeba/199451.jpg  \n",
            "  inflating: img_align_celeba/img_align_celeba/199452.jpg  \n",
            "  inflating: img_align_celeba/img_align_celeba/199453.jpg  \n",
            "  inflating: img_align_celeba/img_align_celeba/199454.jpg  \n",
            "  inflating: img_align_celeba/img_align_celeba/199455.jpg  \n",
            "  inflating: img_align_celeba/img_align_celeba/199456.jpg  \n",
            "  inflating: img_align_celeba/img_align_celeba/199457.jpg  \n",
            "  inflating: img_align_celeba/img_align_celeba/199458.jpg  \n",
            "  inflating: img_align_celeba/img_align_celeba/199459.jpg  \n",
            "  inflating: img_align_celeba/img_align_celeba/199460.jpg  \n",
            "  inflating: img_align_celeba/img_align_celeba/199461.jpg  \n",
            "  inflating: img_align_celeba/img_align_celeba/199462.jpg  \n",
            "  inflating: img_align_celeba/img_align_celeba/199463.jpg  \n",
            "  inflating: img_align_celeba/img_align_celeba/199464.jpg  \n",
            "  inflating: img_align_celeba/img_align_celeba/199465.jpg  \n",
            "  inflating: img_align_celeba/img_align_celeba/199466.jpg  \n",
            "  inflating: img_align_celeba/img_align_celeba/199467.jpg  \n",
            "  inflating: img_align_celeba/img_align_celeba/199468.jpg  \n",
            "  inflating: img_align_celeba/img_align_celeba/199469.jpg  \n",
            "  inflating: img_align_celeba/img_align_celeba/199470.jpg  \n",
            "  inflating: img_align_celeba/img_align_celeba/199471.jpg  \n",
            "  inflating: img_align_celeba/img_align_celeba/199472.jpg  \n",
            "  inflating: img_align_celeba/img_align_celeba/199473.jpg  \n",
            "  inflating: img_align_celeba/img_align_celeba/199474.jpg  \n",
            "  inflating: img_align_celeba/img_align_celeba/199475.jpg  \n",
            "  inflating: img_align_celeba/img_align_celeba/199476.jpg  \n",
            "  inflating: img_align_celeba/img_align_celeba/199477.jpg  \n",
            "  inflating: img_align_celeba/img_align_celeba/199478.jpg  \n",
            "  inflating: img_align_celeba/img_align_celeba/199479.jpg  \n",
            "  inflating: img_align_celeba/img_align_celeba/199480.jpg  \n",
            "  inflating: img_align_celeba/img_align_celeba/199481.jpg  \n",
            "  inflating: img_align_celeba/img_align_celeba/199482.jpg  \n",
            "  inflating: img_align_celeba/img_align_celeba/199483.jpg  \n",
            "  inflating: img_align_celeba/img_align_celeba/199484.jpg  \n",
            "  inflating: img_align_celeba/img_align_celeba/199485.jpg  \n",
            "  inflating: img_align_celeba/img_align_celeba/199486.jpg  \n",
            "  inflating: img_align_celeba/img_align_celeba/199487.jpg  \n",
            "  inflating: img_align_celeba/img_align_celeba/199488.jpg  \n",
            "  inflating: img_align_celeba/img_align_celeba/199489.jpg  \n",
            "  inflating: img_align_celeba/img_align_celeba/199490.jpg  \n",
            "  inflating: img_align_celeba/img_align_celeba/199491.jpg  \n",
            "  inflating: img_align_celeba/img_align_celeba/199492.jpg  \n",
            "  inflating: img_align_celeba/img_align_celeba/199493.jpg  \n",
            "  inflating: img_align_celeba/img_align_celeba/199494.jpg  \n",
            "  inflating: img_align_celeba/img_align_celeba/199495.jpg  \n",
            "  inflating: img_align_celeba/img_align_celeba/199496.jpg  \n",
            "  inflating: img_align_celeba/img_align_celeba/199497.jpg  \n",
            "  inflating: img_align_celeba/img_align_celeba/199498.jpg  \n",
            "  inflating: img_align_celeba/img_align_celeba/199499.jpg  \n",
            "  inflating: img_align_celeba/img_align_celeba/199500.jpg  \n",
            "  inflating: img_align_celeba/img_align_celeba/199501.jpg  \n",
            "  inflating: img_align_celeba/img_align_celeba/199502.jpg  \n",
            "  inflating: img_align_celeba/img_align_celeba/199503.jpg  \n",
            "  inflating: img_align_celeba/img_align_celeba/199504.jpg  \n",
            "  inflating: img_align_celeba/img_align_celeba/199505.jpg  \n",
            "  inflating: img_align_celeba/img_align_celeba/199506.jpg  \n",
            "  inflating: img_align_celeba/img_align_celeba/199507.jpg  \n",
            "  inflating: img_align_celeba/img_align_celeba/199508.jpg  \n",
            "  inflating: img_align_celeba/img_align_celeba/199509.jpg  \n",
            "  inflating: img_align_celeba/img_align_celeba/199510.jpg  \n",
            "  inflating: img_align_celeba/img_align_celeba/199511.jpg  \n",
            "  inflating: img_align_celeba/img_align_celeba/199512.jpg  \n",
            "  inflating: img_align_celeba/img_align_celeba/199513.jpg  \n",
            "  inflating: img_align_celeba/img_align_celeba/199514.jpg  \n",
            "  inflating: img_align_celeba/img_align_celeba/199515.jpg  \n",
            "  inflating: img_align_celeba/img_align_celeba/199516.jpg  \n",
            "  inflating: img_align_celeba/img_align_celeba/199517.jpg  \n",
            "  inflating: img_align_celeba/img_align_celeba/199518.jpg  \n",
            "  inflating: img_align_celeba/img_align_celeba/199519.jpg  \n",
            "  inflating: img_align_celeba/img_align_celeba/199520.jpg  \n",
            "  inflating: img_align_celeba/img_align_celeba/199521.jpg  \n",
            "  inflating: img_align_celeba/img_align_celeba/199522.jpg  \n",
            "  inflating: img_align_celeba/img_align_celeba/199523.jpg  \n",
            "  inflating: img_align_celeba/img_align_celeba/199524.jpg  \n",
            "  inflating: img_align_celeba/img_align_celeba/199525.jpg  \n",
            "  inflating: img_align_celeba/img_align_celeba/199526.jpg  \n",
            "  inflating: img_align_celeba/img_align_celeba/199527.jpg  \n",
            "  inflating: img_align_celeba/img_align_celeba/199528.jpg  \n",
            "  inflating: img_align_celeba/img_align_celeba/199529.jpg  \n",
            "  inflating: img_align_celeba/img_align_celeba/199530.jpg  \n",
            "  inflating: img_align_celeba/img_align_celeba/199531.jpg  \n",
            "  inflating: img_align_celeba/img_align_celeba/199532.jpg  \n",
            "  inflating: img_align_celeba/img_align_celeba/199533.jpg  \n",
            "  inflating: img_align_celeba/img_align_celeba/199534.jpg  \n",
            "  inflating: img_align_celeba/img_align_celeba/199535.jpg  \n",
            "  inflating: img_align_celeba/img_align_celeba/199536.jpg  \n",
            "  inflating: img_align_celeba/img_align_celeba/199537.jpg  \n",
            "  inflating: img_align_celeba/img_align_celeba/199538.jpg  \n",
            "  inflating: img_align_celeba/img_align_celeba/199539.jpg  \n",
            "  inflating: img_align_celeba/img_align_celeba/199540.jpg  \n",
            "  inflating: img_align_celeba/img_align_celeba/199541.jpg  \n",
            "  inflating: img_align_celeba/img_align_celeba/199542.jpg  \n",
            "  inflating: img_align_celeba/img_align_celeba/199543.jpg  \n",
            "  inflating: img_align_celeba/img_align_celeba/199544.jpg  \n",
            "  inflating: img_align_celeba/img_align_celeba/199545.jpg  \n",
            "  inflating: img_align_celeba/img_align_celeba/199546.jpg  \n",
            "  inflating: img_align_celeba/img_align_celeba/199547.jpg  \n",
            "  inflating: img_align_celeba/img_align_celeba/199548.jpg  \n",
            "  inflating: img_align_celeba/img_align_celeba/199549.jpg  \n",
            "  inflating: img_align_celeba/img_align_celeba/199550.jpg  \n",
            "  inflating: img_align_celeba/img_align_celeba/199551.jpg  \n",
            "  inflating: img_align_celeba/img_align_celeba/199552.jpg  \n",
            "  inflating: img_align_celeba/img_align_celeba/199553.jpg  \n",
            "  inflating: img_align_celeba/img_align_celeba/199554.jpg  \n",
            "  inflating: img_align_celeba/img_align_celeba/199555.jpg  \n",
            "  inflating: img_align_celeba/img_align_celeba/199556.jpg  \n",
            "  inflating: img_align_celeba/img_align_celeba/199557.jpg  \n",
            "  inflating: img_align_celeba/img_align_celeba/199558.jpg  \n",
            "  inflating: img_align_celeba/img_align_celeba/199559.jpg  \n",
            "  inflating: img_align_celeba/img_align_celeba/199560.jpg  \n",
            "  inflating: img_align_celeba/img_align_celeba/199561.jpg  \n",
            "  inflating: img_align_celeba/img_align_celeba/199562.jpg  \n",
            "  inflating: img_align_celeba/img_align_celeba/199563.jpg  \n",
            "  inflating: img_align_celeba/img_align_celeba/199564.jpg  \n",
            "  inflating: img_align_celeba/img_align_celeba/199565.jpg  \n",
            "  inflating: img_align_celeba/img_align_celeba/199566.jpg  \n",
            "  inflating: img_align_celeba/img_align_celeba/199567.jpg  \n",
            "  inflating: img_align_celeba/img_align_celeba/199568.jpg  \n",
            "  inflating: img_align_celeba/img_align_celeba/199569.jpg  \n",
            "  inflating: img_align_celeba/img_align_celeba/199570.jpg  \n",
            "  inflating: img_align_celeba/img_align_celeba/199571.jpg  \n",
            "  inflating: img_align_celeba/img_align_celeba/199572.jpg  \n",
            "  inflating: img_align_celeba/img_align_celeba/199573.jpg  \n",
            "  inflating: img_align_celeba/img_align_celeba/199574.jpg  \n",
            "  inflating: img_align_celeba/img_align_celeba/199575.jpg  \n",
            "  inflating: img_align_celeba/img_align_celeba/199576.jpg  \n",
            "  inflating: img_align_celeba/img_align_celeba/199577.jpg  \n",
            "  inflating: img_align_celeba/img_align_celeba/199578.jpg  \n",
            "  inflating: img_align_celeba/img_align_celeba/199579.jpg  \n",
            "  inflating: img_align_celeba/img_align_celeba/199580.jpg  \n",
            "  inflating: img_align_celeba/img_align_celeba/199581.jpg  \n",
            "  inflating: img_align_celeba/img_align_celeba/199582.jpg  \n",
            "  inflating: img_align_celeba/img_align_celeba/199583.jpg  \n",
            "  inflating: img_align_celeba/img_align_celeba/199584.jpg  \n",
            "  inflating: img_align_celeba/img_align_celeba/199585.jpg  \n",
            "  inflating: img_align_celeba/img_align_celeba/199586.jpg  \n",
            "  inflating: img_align_celeba/img_align_celeba/199587.jpg  \n",
            "  inflating: img_align_celeba/img_align_celeba/199588.jpg  \n",
            "  inflating: img_align_celeba/img_align_celeba/199589.jpg  \n",
            "  inflating: img_align_celeba/img_align_celeba/199590.jpg  \n",
            "  inflating: img_align_celeba/img_align_celeba/199591.jpg  \n",
            "  inflating: img_align_celeba/img_align_celeba/199592.jpg  \n",
            "  inflating: img_align_celeba/img_align_celeba/199593.jpg  \n",
            "  inflating: img_align_celeba/img_align_celeba/199594.jpg  \n",
            "  inflating: img_align_celeba/img_align_celeba/199595.jpg  \n",
            "  inflating: img_align_celeba/img_align_celeba/199596.jpg  \n",
            "  inflating: img_align_celeba/img_align_celeba/199597.jpg  \n",
            "  inflating: img_align_celeba/img_align_celeba/199598.jpg  \n",
            "  inflating: img_align_celeba/img_align_celeba/199599.jpg  \n",
            "  inflating: img_align_celeba/img_align_celeba/199600.jpg  \n",
            "  inflating: img_align_celeba/img_align_celeba/199601.jpg  \n",
            "  inflating: img_align_celeba/img_align_celeba/199602.jpg  \n",
            "  inflating: img_align_celeba/img_align_celeba/199603.jpg  \n",
            "  inflating: img_align_celeba/img_align_celeba/199604.jpg  \n",
            "  inflating: img_align_celeba/img_align_celeba/199605.jpg  \n",
            "  inflating: img_align_celeba/img_align_celeba/199606.jpg  \n",
            "  inflating: img_align_celeba/img_align_celeba/199607.jpg  \n",
            "  inflating: img_align_celeba/img_align_celeba/199608.jpg  \n",
            "  inflating: img_align_celeba/img_align_celeba/199609.jpg  \n",
            "  inflating: img_align_celeba/img_align_celeba/199610.jpg  \n",
            "  inflating: img_align_celeba/img_align_celeba/199611.jpg  \n",
            "  inflating: img_align_celeba/img_align_celeba/199612.jpg  \n",
            "  inflating: img_align_celeba/img_align_celeba/199613.jpg  \n",
            "  inflating: img_align_celeba/img_align_celeba/199614.jpg  \n",
            "  inflating: img_align_celeba/img_align_celeba/199615.jpg  \n",
            "  inflating: img_align_celeba/img_align_celeba/199616.jpg  \n",
            "  inflating: img_align_celeba/img_align_celeba/199617.jpg  \n",
            "  inflating: img_align_celeba/img_align_celeba/199618.jpg  \n",
            "  inflating: img_align_celeba/img_align_celeba/199619.jpg  \n",
            "  inflating: img_align_celeba/img_align_celeba/199620.jpg  \n",
            "  inflating: img_align_celeba/img_align_celeba/199621.jpg  \n",
            "  inflating: img_align_celeba/img_align_celeba/199622.jpg  \n",
            "  inflating: img_align_celeba/img_align_celeba/199623.jpg  \n",
            "  inflating: img_align_celeba/img_align_celeba/199624.jpg  \n",
            "  inflating: img_align_celeba/img_align_celeba/199625.jpg  \n",
            "  inflating: img_align_celeba/img_align_celeba/199626.jpg  \n",
            "  inflating: img_align_celeba/img_align_celeba/199627.jpg  \n",
            "  inflating: img_align_celeba/img_align_celeba/199628.jpg  \n",
            "  inflating: img_align_celeba/img_align_celeba/199629.jpg  \n",
            "  inflating: img_align_celeba/img_align_celeba/199630.jpg  \n",
            "  inflating: img_align_celeba/img_align_celeba/199631.jpg  \n",
            "  inflating: img_align_celeba/img_align_celeba/199632.jpg  \n",
            "  inflating: img_align_celeba/img_align_celeba/199633.jpg  \n",
            "  inflating: img_align_celeba/img_align_celeba/199634.jpg  \n",
            "  inflating: img_align_celeba/img_align_celeba/199635.jpg  \n",
            "  inflating: img_align_celeba/img_align_celeba/199636.jpg  \n",
            "  inflating: img_align_celeba/img_align_celeba/199637.jpg  \n",
            "  inflating: img_align_celeba/img_align_celeba/199638.jpg  \n",
            "  inflating: img_align_celeba/img_align_celeba/199639.jpg  \n",
            "  inflating: img_align_celeba/img_align_celeba/199640.jpg  \n",
            "  inflating: img_align_celeba/img_align_celeba/199641.jpg  \n",
            "  inflating: img_align_celeba/img_align_celeba/199642.jpg  \n",
            "  inflating: img_align_celeba/img_align_celeba/199643.jpg  \n",
            "  inflating: img_align_celeba/img_align_celeba/199644.jpg  \n",
            "  inflating: img_align_celeba/img_align_celeba/199645.jpg  \n",
            "  inflating: img_align_celeba/img_align_celeba/199646.jpg  \n",
            "  inflating: img_align_celeba/img_align_celeba/199647.jpg  \n",
            "  inflating: img_align_celeba/img_align_celeba/199648.jpg  \n",
            "  inflating: img_align_celeba/img_align_celeba/199649.jpg  \n",
            "  inflating: img_align_celeba/img_align_celeba/199650.jpg  \n",
            "  inflating: img_align_celeba/img_align_celeba/199651.jpg  \n",
            "  inflating: img_align_celeba/img_align_celeba/199652.jpg  \n",
            "  inflating: img_align_celeba/img_align_celeba/199653.jpg  \n",
            "  inflating: img_align_celeba/img_align_celeba/199654.jpg  \n",
            "  inflating: img_align_celeba/img_align_celeba/199655.jpg  \n",
            "  inflating: img_align_celeba/img_align_celeba/199656.jpg  \n",
            "  inflating: img_align_celeba/img_align_celeba/199657.jpg  \n",
            "  inflating: img_align_celeba/img_align_celeba/199658.jpg  \n",
            "  inflating: img_align_celeba/img_align_celeba/199659.jpg  \n",
            "  inflating: img_align_celeba/img_align_celeba/199660.jpg  \n",
            "  inflating: img_align_celeba/img_align_celeba/199661.jpg  \n",
            "  inflating: img_align_celeba/img_align_celeba/199662.jpg  \n",
            "  inflating: img_align_celeba/img_align_celeba/199663.jpg  \n",
            "  inflating: img_align_celeba/img_align_celeba/199664.jpg  \n",
            "  inflating: img_align_celeba/img_align_celeba/199665.jpg  \n",
            "  inflating: img_align_celeba/img_align_celeba/199666.jpg  \n",
            "  inflating: img_align_celeba/img_align_celeba/199667.jpg  \n",
            "  inflating: img_align_celeba/img_align_celeba/199668.jpg  \n",
            "  inflating: img_align_celeba/img_align_celeba/199669.jpg  \n",
            "  inflating: img_align_celeba/img_align_celeba/199670.jpg  \n",
            "  inflating: img_align_celeba/img_align_celeba/199671.jpg  \n",
            "  inflating: img_align_celeba/img_align_celeba/199672.jpg  \n",
            "  inflating: img_align_celeba/img_align_celeba/199673.jpg  \n",
            "  inflating: img_align_celeba/img_align_celeba/199674.jpg  \n",
            "  inflating: img_align_celeba/img_align_celeba/199675.jpg  \n",
            "  inflating: img_align_celeba/img_align_celeba/199676.jpg  \n",
            "  inflating: img_align_celeba/img_align_celeba/199677.jpg  \n",
            "  inflating: img_align_celeba/img_align_celeba/199678.jpg  \n",
            "  inflating: img_align_celeba/img_align_celeba/199679.jpg  \n",
            "  inflating: img_align_celeba/img_align_celeba/199680.jpg  \n",
            "  inflating: img_align_celeba/img_align_celeba/199681.jpg  \n",
            "  inflating: img_align_celeba/img_align_celeba/199682.jpg  \n",
            "  inflating: img_align_celeba/img_align_celeba/199683.jpg  \n",
            "  inflating: img_align_celeba/img_align_celeba/199684.jpg  \n",
            "  inflating: img_align_celeba/img_align_celeba/199685.jpg  \n",
            "  inflating: img_align_celeba/img_align_celeba/199686.jpg  \n",
            "  inflating: img_align_celeba/img_align_celeba/199687.jpg  \n",
            "  inflating: img_align_celeba/img_align_celeba/199688.jpg  \n",
            "  inflating: img_align_celeba/img_align_celeba/199689.jpg  \n",
            "  inflating: img_align_celeba/img_align_celeba/199690.jpg  \n",
            "  inflating: img_align_celeba/img_align_celeba/199691.jpg  \n",
            "  inflating: img_align_celeba/img_align_celeba/199692.jpg  \n",
            "  inflating: img_align_celeba/img_align_celeba/199693.jpg  \n",
            "  inflating: img_align_celeba/img_align_celeba/199694.jpg  \n",
            "  inflating: img_align_celeba/img_align_celeba/199695.jpg  \n",
            "  inflating: img_align_celeba/img_align_celeba/199696.jpg  \n",
            "  inflating: img_align_celeba/img_align_celeba/199697.jpg  \n",
            "  inflating: img_align_celeba/img_align_celeba/199698.jpg  \n",
            "  inflating: img_align_celeba/img_align_celeba/199699.jpg  \n",
            "  inflating: img_align_celeba/img_align_celeba/199700.jpg  \n",
            "  inflating: img_align_celeba/img_align_celeba/199701.jpg  \n",
            "  inflating: img_align_celeba/img_align_celeba/199702.jpg  \n",
            "  inflating: img_align_celeba/img_align_celeba/199703.jpg  \n",
            "  inflating: img_align_celeba/img_align_celeba/199704.jpg  \n",
            "  inflating: img_align_celeba/img_align_celeba/199705.jpg  \n",
            "  inflating: img_align_celeba/img_align_celeba/199706.jpg  \n",
            "  inflating: img_align_celeba/img_align_celeba/199707.jpg  \n",
            "  inflating: img_align_celeba/img_align_celeba/199708.jpg  \n",
            "  inflating: img_align_celeba/img_align_celeba/199709.jpg  \n",
            "  inflating: img_align_celeba/img_align_celeba/199710.jpg  \n",
            "  inflating: img_align_celeba/img_align_celeba/199711.jpg  \n",
            "  inflating: img_align_celeba/img_align_celeba/199712.jpg  \n",
            "  inflating: img_align_celeba/img_align_celeba/199713.jpg  \n",
            "  inflating: img_align_celeba/img_align_celeba/199714.jpg  \n",
            "  inflating: img_align_celeba/img_align_celeba/199715.jpg  \n",
            "  inflating: img_align_celeba/img_align_celeba/199716.jpg  \n",
            "  inflating: img_align_celeba/img_align_celeba/199717.jpg  \n",
            "  inflating: img_align_celeba/img_align_celeba/199718.jpg  \n",
            "  inflating: img_align_celeba/img_align_celeba/199719.jpg  \n",
            "  inflating: img_align_celeba/img_align_celeba/199720.jpg  \n",
            "  inflating: img_align_celeba/img_align_celeba/199721.jpg  \n",
            "  inflating: img_align_celeba/img_align_celeba/199722.jpg  \n",
            "  inflating: img_align_celeba/img_align_celeba/199723.jpg  \n",
            "  inflating: img_align_celeba/img_align_celeba/199724.jpg  \n",
            "  inflating: img_align_celeba/img_align_celeba/199725.jpg  \n",
            "  inflating: img_align_celeba/img_align_celeba/199726.jpg  \n",
            "  inflating: img_align_celeba/img_align_celeba/199727.jpg  \n",
            "  inflating: img_align_celeba/img_align_celeba/199728.jpg  \n",
            "  inflating: img_align_celeba/img_align_celeba/199729.jpg  \n",
            "  inflating: img_align_celeba/img_align_celeba/199730.jpg  \n",
            "  inflating: img_align_celeba/img_align_celeba/199731.jpg  \n",
            "  inflating: img_align_celeba/img_align_celeba/199732.jpg  \n",
            "  inflating: img_align_celeba/img_align_celeba/199733.jpg  \n",
            "  inflating: img_align_celeba/img_align_celeba/199734.jpg  \n",
            "  inflating: img_align_celeba/img_align_celeba/199735.jpg  \n",
            "  inflating: img_align_celeba/img_align_celeba/199736.jpg  \n",
            "  inflating: img_align_celeba/img_align_celeba/199737.jpg  \n",
            "  inflating: img_align_celeba/img_align_celeba/199738.jpg  \n",
            "  inflating: img_align_celeba/img_align_celeba/199739.jpg  \n",
            "  inflating: img_align_celeba/img_align_celeba/199740.jpg  \n",
            "  inflating: img_align_celeba/img_align_celeba/199741.jpg  \n",
            "  inflating: img_align_celeba/img_align_celeba/199742.jpg  \n",
            "  inflating: img_align_celeba/img_align_celeba/199743.jpg  \n",
            "  inflating: img_align_celeba/img_align_celeba/199744.jpg  \n",
            "  inflating: img_align_celeba/img_align_celeba/199745.jpg  \n",
            "  inflating: img_align_celeba/img_align_celeba/199746.jpg  \n",
            "  inflating: img_align_celeba/img_align_celeba/199747.jpg  \n",
            "  inflating: img_align_celeba/img_align_celeba/199748.jpg  \n",
            "  inflating: img_align_celeba/img_align_celeba/199749.jpg  \n",
            "  inflating: img_align_celeba/img_align_celeba/199750.jpg  \n",
            "  inflating: img_align_celeba/img_align_celeba/199751.jpg  \n",
            "  inflating: img_align_celeba/img_align_celeba/199752.jpg  \n",
            "  inflating: img_align_celeba/img_align_celeba/199753.jpg  \n",
            "  inflating: img_align_celeba/img_align_celeba/199754.jpg  \n",
            "  inflating: img_align_celeba/img_align_celeba/199755.jpg  \n",
            "  inflating: img_align_celeba/img_align_celeba/199756.jpg  \n",
            "  inflating: img_align_celeba/img_align_celeba/199757.jpg  \n",
            "  inflating: img_align_celeba/img_align_celeba/199758.jpg  \n",
            "  inflating: img_align_celeba/img_align_celeba/199759.jpg  \n",
            "  inflating: img_align_celeba/img_align_celeba/199760.jpg  \n",
            "  inflating: img_align_celeba/img_align_celeba/199761.jpg  \n",
            "  inflating: img_align_celeba/img_align_celeba/199762.jpg  \n",
            "  inflating: img_align_celeba/img_align_celeba/199763.jpg  \n",
            "  inflating: img_align_celeba/img_align_celeba/199764.jpg  \n",
            "  inflating: img_align_celeba/img_align_celeba/199765.jpg  \n",
            "  inflating: img_align_celeba/img_align_celeba/199766.jpg  \n",
            "  inflating: img_align_celeba/img_align_celeba/199767.jpg  \n",
            "  inflating: img_align_celeba/img_align_celeba/199768.jpg  \n",
            "  inflating: img_align_celeba/img_align_celeba/199769.jpg  \n",
            "  inflating: img_align_celeba/img_align_celeba/199770.jpg  \n",
            "  inflating: img_align_celeba/img_align_celeba/199771.jpg  \n",
            "  inflating: img_align_celeba/img_align_celeba/199772.jpg  \n",
            "  inflating: img_align_celeba/img_align_celeba/199773.jpg  \n",
            "  inflating: img_align_celeba/img_align_celeba/199774.jpg  \n",
            "  inflating: img_align_celeba/img_align_celeba/199775.jpg  \n",
            "  inflating: img_align_celeba/img_align_celeba/199776.jpg  \n",
            "  inflating: img_align_celeba/img_align_celeba/199777.jpg  \n",
            "  inflating: img_align_celeba/img_align_celeba/199778.jpg  \n",
            "  inflating: img_align_celeba/img_align_celeba/199779.jpg  \n",
            "  inflating: img_align_celeba/img_align_celeba/199780.jpg  \n",
            "  inflating: img_align_celeba/img_align_celeba/199781.jpg  \n",
            "  inflating: img_align_celeba/img_align_celeba/199782.jpg  \n",
            "  inflating: img_align_celeba/img_align_celeba/199783.jpg  \n",
            "  inflating: img_align_celeba/img_align_celeba/199784.jpg  \n",
            "  inflating: img_align_celeba/img_align_celeba/199785.jpg  \n",
            "  inflating: img_align_celeba/img_align_celeba/199786.jpg  \n",
            "  inflating: img_align_celeba/img_align_celeba/199787.jpg  \n",
            "  inflating: img_align_celeba/img_align_celeba/199788.jpg  \n",
            "  inflating: img_align_celeba/img_align_celeba/199789.jpg  \n",
            "  inflating: img_align_celeba/img_align_celeba/199790.jpg  \n",
            "  inflating: img_align_celeba/img_align_celeba/199791.jpg  \n",
            "  inflating: img_align_celeba/img_align_celeba/199792.jpg  \n",
            "  inflating: img_align_celeba/img_align_celeba/199793.jpg  \n",
            "  inflating: img_align_celeba/img_align_celeba/199794.jpg  \n",
            "  inflating: img_align_celeba/img_align_celeba/199795.jpg  \n",
            "  inflating: img_align_celeba/img_align_celeba/199796.jpg  \n",
            "  inflating: img_align_celeba/img_align_celeba/199797.jpg  \n",
            "  inflating: img_align_celeba/img_align_celeba/199798.jpg  \n",
            "  inflating: img_align_celeba/img_align_celeba/199799.jpg  \n",
            "  inflating: img_align_celeba/img_align_celeba/199800.jpg  \n",
            "  inflating: img_align_celeba/img_align_celeba/199801.jpg  \n",
            "  inflating: img_align_celeba/img_align_celeba/199802.jpg  \n",
            "  inflating: img_align_celeba/img_align_celeba/199803.jpg  \n",
            "  inflating: img_align_celeba/img_align_celeba/199804.jpg  \n",
            "  inflating: img_align_celeba/img_align_celeba/199805.jpg  \n",
            "  inflating: img_align_celeba/img_align_celeba/199806.jpg  \n",
            "  inflating: img_align_celeba/img_align_celeba/199807.jpg  \n",
            "  inflating: img_align_celeba/img_align_celeba/199808.jpg  \n",
            "  inflating: img_align_celeba/img_align_celeba/199809.jpg  \n",
            "  inflating: img_align_celeba/img_align_celeba/199810.jpg  \n",
            "  inflating: img_align_celeba/img_align_celeba/199811.jpg  \n",
            "  inflating: img_align_celeba/img_align_celeba/199812.jpg  \n",
            "  inflating: img_align_celeba/img_align_celeba/199813.jpg  \n",
            "  inflating: img_align_celeba/img_align_celeba/199814.jpg  \n",
            "  inflating: img_align_celeba/img_align_celeba/199815.jpg  \n",
            "  inflating: img_align_celeba/img_align_celeba/199816.jpg  \n",
            "  inflating: img_align_celeba/img_align_celeba/199817.jpg  \n",
            "  inflating: img_align_celeba/img_align_celeba/199818.jpg  \n",
            "  inflating: img_align_celeba/img_align_celeba/199819.jpg  \n",
            "  inflating: img_align_celeba/img_align_celeba/199820.jpg  \n",
            "  inflating: img_align_celeba/img_align_celeba/199821.jpg  \n",
            "  inflating: img_align_celeba/img_align_celeba/199822.jpg  \n",
            "  inflating: img_align_celeba/img_align_celeba/199823.jpg  \n",
            "  inflating: img_align_celeba/img_align_celeba/199824.jpg  \n",
            "  inflating: img_align_celeba/img_align_celeba/199825.jpg  \n",
            "  inflating: img_align_celeba/img_align_celeba/199826.jpg  \n",
            "  inflating: img_align_celeba/img_align_celeba/199827.jpg  \n",
            "  inflating: img_align_celeba/img_align_celeba/199828.jpg  \n",
            "  inflating: img_align_celeba/img_align_celeba/199829.jpg  \n",
            "  inflating: img_align_celeba/img_align_celeba/199830.jpg  \n",
            "  inflating: img_align_celeba/img_align_celeba/199831.jpg  \n",
            "  inflating: img_align_celeba/img_align_celeba/199832.jpg  \n",
            "  inflating: img_align_celeba/img_align_celeba/199833.jpg  \n",
            "  inflating: img_align_celeba/img_align_celeba/199834.jpg  \n",
            "  inflating: img_align_celeba/img_align_celeba/199835.jpg  \n",
            "  inflating: img_align_celeba/img_align_celeba/199836.jpg  \n",
            "  inflating: img_align_celeba/img_align_celeba/199837.jpg  \n",
            "  inflating: img_align_celeba/img_align_celeba/199838.jpg  \n",
            "  inflating: img_align_celeba/img_align_celeba/199839.jpg  \n",
            "  inflating: img_align_celeba/img_align_celeba/199840.jpg  \n",
            "  inflating: img_align_celeba/img_align_celeba/199841.jpg  \n",
            "  inflating: img_align_celeba/img_align_celeba/199842.jpg  \n",
            "  inflating: img_align_celeba/img_align_celeba/199843.jpg  \n",
            "  inflating: img_align_celeba/img_align_celeba/199844.jpg  \n",
            "  inflating: img_align_celeba/img_align_celeba/199845.jpg  \n",
            "  inflating: img_align_celeba/img_align_celeba/199846.jpg  \n",
            "  inflating: img_align_celeba/img_align_celeba/199847.jpg  \n",
            "  inflating: img_align_celeba/img_align_celeba/199848.jpg  \n",
            "  inflating: img_align_celeba/img_align_celeba/199849.jpg  \n",
            "  inflating: img_align_celeba/img_align_celeba/199850.jpg  \n",
            "  inflating: img_align_celeba/img_align_celeba/199851.jpg  \n",
            "  inflating: img_align_celeba/img_align_celeba/199852.jpg  \n",
            "  inflating: img_align_celeba/img_align_celeba/199853.jpg  \n",
            "  inflating: img_align_celeba/img_align_celeba/199854.jpg  \n",
            "  inflating: img_align_celeba/img_align_celeba/199855.jpg  \n",
            "  inflating: img_align_celeba/img_align_celeba/199856.jpg  \n",
            "  inflating: img_align_celeba/img_align_celeba/199857.jpg  \n",
            "  inflating: img_align_celeba/img_align_celeba/199858.jpg  \n",
            "  inflating: img_align_celeba/img_align_celeba/199859.jpg  \n",
            "  inflating: img_align_celeba/img_align_celeba/199860.jpg  \n",
            "  inflating: img_align_celeba/img_align_celeba/199861.jpg  \n",
            "  inflating: img_align_celeba/img_align_celeba/199862.jpg  \n",
            "  inflating: img_align_celeba/img_align_celeba/199863.jpg  \n",
            "  inflating: img_align_celeba/img_align_celeba/199864.jpg  \n",
            "  inflating: img_align_celeba/img_align_celeba/199865.jpg  \n",
            "  inflating: img_align_celeba/img_align_celeba/199866.jpg  \n",
            "  inflating: img_align_celeba/img_align_celeba/199867.jpg  \n",
            "  inflating: img_align_celeba/img_align_celeba/199868.jpg  \n",
            "  inflating: img_align_celeba/img_align_celeba/199869.jpg  \n",
            "  inflating: img_align_celeba/img_align_celeba/199870.jpg  \n",
            "  inflating: img_align_celeba/img_align_celeba/199871.jpg  \n",
            "  inflating: img_align_celeba/img_align_celeba/199872.jpg  \n",
            "  inflating: img_align_celeba/img_align_celeba/199873.jpg  \n",
            "  inflating: img_align_celeba/img_align_celeba/199874.jpg  \n",
            "  inflating: img_align_celeba/img_align_celeba/199875.jpg  \n",
            "  inflating: img_align_celeba/img_align_celeba/199876.jpg  \n",
            "  inflating: img_align_celeba/img_align_celeba/199877.jpg  \n",
            "  inflating: img_align_celeba/img_align_celeba/199878.jpg  \n",
            "  inflating: img_align_celeba/img_align_celeba/199879.jpg  \n",
            "  inflating: img_align_celeba/img_align_celeba/199880.jpg  \n",
            "  inflating: img_align_celeba/img_align_celeba/199881.jpg  \n",
            "  inflating: img_align_celeba/img_align_celeba/199882.jpg  \n",
            "  inflating: img_align_celeba/img_align_celeba/199883.jpg  \n",
            "  inflating: img_align_celeba/img_align_celeba/199884.jpg  \n",
            "  inflating: img_align_celeba/img_align_celeba/199885.jpg  \n",
            "  inflating: img_align_celeba/img_align_celeba/199886.jpg  \n",
            "  inflating: img_align_celeba/img_align_celeba/199887.jpg  \n",
            "  inflating: img_align_celeba/img_align_celeba/199888.jpg  \n",
            "  inflating: img_align_celeba/img_align_celeba/199889.jpg  \n",
            "  inflating: img_align_celeba/img_align_celeba/199890.jpg  \n",
            "  inflating: img_align_celeba/img_align_celeba/199891.jpg  \n",
            "  inflating: img_align_celeba/img_align_celeba/199892.jpg  \n",
            "  inflating: img_align_celeba/img_align_celeba/199893.jpg  \n",
            "  inflating: img_align_celeba/img_align_celeba/199894.jpg  \n",
            "  inflating: img_align_celeba/img_align_celeba/199895.jpg  \n",
            "  inflating: img_align_celeba/img_align_celeba/199896.jpg  \n",
            "  inflating: img_align_celeba/img_align_celeba/199897.jpg  \n",
            "  inflating: img_align_celeba/img_align_celeba/199898.jpg  \n",
            "  inflating: img_align_celeba/img_align_celeba/199899.jpg  \n",
            "  inflating: img_align_celeba/img_align_celeba/199900.jpg  \n",
            "  inflating: img_align_celeba/img_align_celeba/199901.jpg  \n",
            "  inflating: img_align_celeba/img_align_celeba/199902.jpg  \n",
            "  inflating: img_align_celeba/img_align_celeba/199903.jpg  \n",
            "  inflating: img_align_celeba/img_align_celeba/199904.jpg  \n",
            "  inflating: img_align_celeba/img_align_celeba/199905.jpg  \n",
            "  inflating: img_align_celeba/img_align_celeba/199906.jpg  \n",
            "  inflating: img_align_celeba/img_align_celeba/199907.jpg  \n",
            "  inflating: img_align_celeba/img_align_celeba/199908.jpg  \n",
            "  inflating: img_align_celeba/img_align_celeba/199909.jpg  \n",
            "  inflating: img_align_celeba/img_align_celeba/199910.jpg  \n",
            "  inflating: img_align_celeba/img_align_celeba/199911.jpg  \n",
            "  inflating: img_align_celeba/img_align_celeba/199912.jpg  \n",
            "  inflating: img_align_celeba/img_align_celeba/199913.jpg  \n",
            "  inflating: img_align_celeba/img_align_celeba/199914.jpg  \n",
            "  inflating: img_align_celeba/img_align_celeba/199915.jpg  \n",
            "  inflating: img_align_celeba/img_align_celeba/199916.jpg  \n",
            "  inflating: img_align_celeba/img_align_celeba/199917.jpg  \n",
            "  inflating: img_align_celeba/img_align_celeba/199918.jpg  \n",
            "  inflating: img_align_celeba/img_align_celeba/199919.jpg  \n",
            "  inflating: img_align_celeba/img_align_celeba/199920.jpg  \n",
            "  inflating: img_align_celeba/img_align_celeba/199921.jpg  \n",
            "  inflating: img_align_celeba/img_align_celeba/199922.jpg  \n",
            "  inflating: img_align_celeba/img_align_celeba/199923.jpg  \n",
            "  inflating: img_align_celeba/img_align_celeba/199924.jpg  \n",
            "  inflating: img_align_celeba/img_align_celeba/199925.jpg  \n",
            "  inflating: img_align_celeba/img_align_celeba/199926.jpg  \n",
            "  inflating: img_align_celeba/img_align_celeba/199927.jpg  \n",
            "  inflating: img_align_celeba/img_align_celeba/199928.jpg  \n",
            "  inflating: img_align_celeba/img_align_celeba/199929.jpg  \n",
            "  inflating: img_align_celeba/img_align_celeba/199930.jpg  \n",
            "  inflating: img_align_celeba/img_align_celeba/199931.jpg  \n",
            "  inflating: img_align_celeba/img_align_celeba/199932.jpg  \n",
            "  inflating: img_align_celeba/img_align_celeba/199933.jpg  \n",
            "  inflating: img_align_celeba/img_align_celeba/199934.jpg  \n",
            "  inflating: img_align_celeba/img_align_celeba/199935.jpg  \n",
            "  inflating: img_align_celeba/img_align_celeba/199936.jpg  \n",
            "  inflating: img_align_celeba/img_align_celeba/199937.jpg  \n",
            "  inflating: img_align_celeba/img_align_celeba/199938.jpg  \n",
            "  inflating: img_align_celeba/img_align_celeba/199939.jpg  \n",
            "  inflating: img_align_celeba/img_align_celeba/199940.jpg  \n",
            "  inflating: img_align_celeba/img_align_celeba/199941.jpg  \n",
            "  inflating: img_align_celeba/img_align_celeba/199942.jpg  \n",
            "  inflating: img_align_celeba/img_align_celeba/199943.jpg  \n",
            "  inflating: img_align_celeba/img_align_celeba/199944.jpg  \n",
            "  inflating: img_align_celeba/img_align_celeba/199945.jpg  \n",
            "  inflating: img_align_celeba/img_align_celeba/199946.jpg  \n",
            "  inflating: img_align_celeba/img_align_celeba/199947.jpg  \n",
            "  inflating: img_align_celeba/img_align_celeba/199948.jpg  \n",
            "  inflating: img_align_celeba/img_align_celeba/199949.jpg  \n",
            "  inflating: img_align_celeba/img_align_celeba/199950.jpg  \n",
            "  inflating: img_align_celeba/img_align_celeba/199951.jpg  \n",
            "  inflating: img_align_celeba/img_align_celeba/199952.jpg  \n",
            "  inflating: img_align_celeba/img_align_celeba/199953.jpg  \n",
            "  inflating: img_align_celeba/img_align_celeba/199954.jpg  \n",
            "  inflating: img_align_celeba/img_align_celeba/199955.jpg  \n",
            "  inflating: img_align_celeba/img_align_celeba/199956.jpg  \n",
            "  inflating: img_align_celeba/img_align_celeba/199957.jpg  \n",
            "  inflating: img_align_celeba/img_align_celeba/199958.jpg  \n",
            "  inflating: img_align_celeba/img_align_celeba/199959.jpg  \n",
            "  inflating: img_align_celeba/img_align_celeba/199960.jpg  \n",
            "  inflating: img_align_celeba/img_align_celeba/199961.jpg  \n",
            "  inflating: img_align_celeba/img_align_celeba/199962.jpg  \n",
            "  inflating: img_align_celeba/img_align_celeba/199963.jpg  \n",
            "  inflating: img_align_celeba/img_align_celeba/199964.jpg  \n",
            "  inflating: img_align_celeba/img_align_celeba/199965.jpg  \n",
            "  inflating: img_align_celeba/img_align_celeba/199966.jpg  \n",
            "  inflating: img_align_celeba/img_align_celeba/199967.jpg  \n",
            "  inflating: img_align_celeba/img_align_celeba/199968.jpg  \n",
            "  inflating: img_align_celeba/img_align_celeba/199969.jpg  \n",
            "  inflating: img_align_celeba/img_align_celeba/199970.jpg  \n",
            "  inflating: img_align_celeba/img_align_celeba/199971.jpg  \n",
            "  inflating: img_align_celeba/img_align_celeba/199972.jpg  \n",
            "  inflating: img_align_celeba/img_align_celeba/199973.jpg  \n",
            "  inflating: img_align_celeba/img_align_celeba/199974.jpg  \n",
            "  inflating: img_align_celeba/img_align_celeba/199975.jpg  \n",
            "  inflating: img_align_celeba/img_align_celeba/199976.jpg  \n",
            "  inflating: img_align_celeba/img_align_celeba/199977.jpg  \n",
            "  inflating: img_align_celeba/img_align_celeba/199978.jpg  \n",
            "  inflating: img_align_celeba/img_align_celeba/199979.jpg  \n",
            "  inflating: img_align_celeba/img_align_celeba/199980.jpg  \n",
            "  inflating: img_align_celeba/img_align_celeba/199981.jpg  \n",
            "  inflating: img_align_celeba/img_align_celeba/199982.jpg  \n",
            "  inflating: img_align_celeba/img_align_celeba/199983.jpg  \n",
            "  inflating: img_align_celeba/img_align_celeba/199984.jpg  \n",
            "  inflating: img_align_celeba/img_align_celeba/199985.jpg  \n",
            "  inflating: img_align_celeba/img_align_celeba/199986.jpg  \n",
            "  inflating: img_align_celeba/img_align_celeba/199987.jpg  \n",
            "  inflating: img_align_celeba/img_align_celeba/199988.jpg  \n",
            "  inflating: img_align_celeba/img_align_celeba/199989.jpg  \n",
            "  inflating: img_align_celeba/img_align_celeba/199990.jpg  \n",
            "  inflating: img_align_celeba/img_align_celeba/199991.jpg  \n",
            "  inflating: img_align_celeba/img_align_celeba/199992.jpg  \n",
            "  inflating: img_align_celeba/img_align_celeba/199993.jpg  \n",
            "  inflating: img_align_celeba/img_align_celeba/199994.jpg  \n",
            "  inflating: img_align_celeba/img_align_celeba/199995.jpg  \n",
            "  inflating: img_align_celeba/img_align_celeba/199996.jpg  \n",
            "  inflating: img_align_celeba/img_align_celeba/199997.jpg  \n",
            "  inflating: img_align_celeba/img_align_celeba/199998.jpg  \n",
            "  inflating: img_align_celeba/img_align_celeba/199999.jpg  \n",
            "  inflating: img_align_celeba/img_align_celeba/200000.jpg  \n",
            "  inflating: img_align_celeba/img_align_celeba/200001.jpg  \n",
            "  inflating: img_align_celeba/img_align_celeba/200002.jpg  \n",
            "  inflating: img_align_celeba/img_align_celeba/200003.jpg  \n",
            "  inflating: img_align_celeba/img_align_celeba/200004.jpg  \n",
            "  inflating: img_align_celeba/img_align_celeba/200005.jpg  \n",
            "  inflating: img_align_celeba/img_align_celeba/200006.jpg  \n",
            "  inflating: img_align_celeba/img_align_celeba/200007.jpg  \n",
            "  inflating: img_align_celeba/img_align_celeba/200008.jpg  \n",
            "  inflating: img_align_celeba/img_align_celeba/200009.jpg  \n",
            "  inflating: img_align_celeba/img_align_celeba/200010.jpg  \n",
            "  inflating: img_align_celeba/img_align_celeba/200011.jpg  \n",
            "  inflating: img_align_celeba/img_align_celeba/200012.jpg  \n",
            "  inflating: img_align_celeba/img_align_celeba/200013.jpg  \n",
            "  inflating: img_align_celeba/img_align_celeba/200014.jpg  \n",
            "  inflating: img_align_celeba/img_align_celeba/200015.jpg  \n",
            "  inflating: img_align_celeba/img_align_celeba/200016.jpg  \n",
            "  inflating: img_align_celeba/img_align_celeba/200017.jpg  \n",
            "  inflating: img_align_celeba/img_align_celeba/200018.jpg  \n",
            "  inflating: img_align_celeba/img_align_celeba/200019.jpg  \n",
            "  inflating: img_align_celeba/img_align_celeba/200020.jpg  \n",
            "  inflating: img_align_celeba/img_align_celeba/200021.jpg  \n",
            "  inflating: img_align_celeba/img_align_celeba/200022.jpg  \n",
            "  inflating: img_align_celeba/img_align_celeba/200023.jpg  \n",
            "  inflating: img_align_celeba/img_align_celeba/200024.jpg  \n",
            "  inflating: img_align_celeba/img_align_celeba/200025.jpg  \n",
            "  inflating: img_align_celeba/img_align_celeba/200026.jpg  \n",
            "  inflating: img_align_celeba/img_align_celeba/200027.jpg  \n",
            "  inflating: img_align_celeba/img_align_celeba/200028.jpg  \n",
            "  inflating: img_align_celeba/img_align_celeba/200029.jpg  \n",
            "  inflating: img_align_celeba/img_align_celeba/200030.jpg  \n",
            "  inflating: img_align_celeba/img_align_celeba/200031.jpg  \n",
            "  inflating: img_align_celeba/img_align_celeba/200032.jpg  \n",
            "  inflating: img_align_celeba/img_align_celeba/200033.jpg  \n",
            "  inflating: img_align_celeba/img_align_celeba/200034.jpg  \n",
            "  inflating: img_align_celeba/img_align_celeba/200035.jpg  \n",
            "  inflating: img_align_celeba/img_align_celeba/200036.jpg  \n",
            "  inflating: img_align_celeba/img_align_celeba/200037.jpg  \n",
            "  inflating: img_align_celeba/img_align_celeba/200038.jpg  \n",
            "  inflating: img_align_celeba/img_align_celeba/200039.jpg  \n",
            "  inflating: img_align_celeba/img_align_celeba/200040.jpg  \n",
            "  inflating: img_align_celeba/img_align_celeba/200041.jpg  \n",
            "  inflating: img_align_celeba/img_align_celeba/200042.jpg  \n",
            "  inflating: img_align_celeba/img_align_celeba/200043.jpg  \n",
            "  inflating: img_align_celeba/img_align_celeba/200044.jpg  \n",
            "  inflating: img_align_celeba/img_align_celeba/200045.jpg  \n",
            "  inflating: img_align_celeba/img_align_celeba/200046.jpg  \n",
            "  inflating: img_align_celeba/img_align_celeba/200047.jpg  \n",
            "  inflating: img_align_celeba/img_align_celeba/200048.jpg  \n",
            "  inflating: img_align_celeba/img_align_celeba/200049.jpg  \n",
            "  inflating: img_align_celeba/img_align_celeba/200050.jpg  \n",
            "  inflating: img_align_celeba/img_align_celeba/200051.jpg  \n",
            "  inflating: img_align_celeba/img_align_celeba/200052.jpg  \n",
            "  inflating: img_align_celeba/img_align_celeba/200053.jpg  \n",
            "  inflating: img_align_celeba/img_align_celeba/200054.jpg  \n",
            "  inflating: img_align_celeba/img_align_celeba/200055.jpg  \n",
            "  inflating: img_align_celeba/img_align_celeba/200056.jpg  \n",
            "  inflating: img_align_celeba/img_align_celeba/200057.jpg  \n",
            "  inflating: img_align_celeba/img_align_celeba/200058.jpg  \n",
            "  inflating: img_align_celeba/img_align_celeba/200059.jpg  \n",
            "  inflating: img_align_celeba/img_align_celeba/200060.jpg  \n",
            "  inflating: img_align_celeba/img_align_celeba/200061.jpg  \n",
            "  inflating: img_align_celeba/img_align_celeba/200062.jpg  \n",
            "  inflating: img_align_celeba/img_align_celeba/200063.jpg  \n",
            "  inflating: img_align_celeba/img_align_celeba/200064.jpg  \n",
            "  inflating: img_align_celeba/img_align_celeba/200065.jpg  \n",
            "  inflating: img_align_celeba/img_align_celeba/200066.jpg  \n",
            "  inflating: img_align_celeba/img_align_celeba/200067.jpg  \n",
            "  inflating: img_align_celeba/img_align_celeba/200068.jpg  \n",
            "  inflating: img_align_celeba/img_align_celeba/200069.jpg  \n",
            "  inflating: img_align_celeba/img_align_celeba/200070.jpg  \n",
            "  inflating: img_align_celeba/img_align_celeba/200071.jpg  \n",
            "  inflating: img_align_celeba/img_align_celeba/200072.jpg  \n",
            "  inflating: img_align_celeba/img_align_celeba/200073.jpg  \n",
            "  inflating: img_align_celeba/img_align_celeba/200074.jpg  \n",
            "  inflating: img_align_celeba/img_align_celeba/200075.jpg  \n",
            "  inflating: img_align_celeba/img_align_celeba/200076.jpg  \n",
            "  inflating: img_align_celeba/img_align_celeba/200077.jpg  \n",
            "  inflating: img_align_celeba/img_align_celeba/200078.jpg  \n",
            "  inflating: img_align_celeba/img_align_celeba/200079.jpg  \n",
            "  inflating: img_align_celeba/img_align_celeba/200080.jpg  \n",
            "  inflating: img_align_celeba/img_align_celeba/200081.jpg  \n",
            "  inflating: img_align_celeba/img_align_celeba/200082.jpg  \n",
            "  inflating: img_align_celeba/img_align_celeba/200083.jpg  \n",
            "  inflating: img_align_celeba/img_align_celeba/200084.jpg  \n",
            "  inflating: img_align_celeba/img_align_celeba/200085.jpg  \n",
            "  inflating: img_align_celeba/img_align_celeba/200086.jpg  \n",
            "  inflating: img_align_celeba/img_align_celeba/200087.jpg  \n",
            "  inflating: img_align_celeba/img_align_celeba/200088.jpg  \n",
            "  inflating: img_align_celeba/img_align_celeba/200089.jpg  \n",
            "  inflating: img_align_celeba/img_align_celeba/200090.jpg  \n",
            "  inflating: img_align_celeba/img_align_celeba/200091.jpg  \n",
            "  inflating: img_align_celeba/img_align_celeba/200092.jpg  \n",
            "  inflating: img_align_celeba/img_align_celeba/200093.jpg  \n",
            "  inflating: img_align_celeba/img_align_celeba/200094.jpg  \n",
            "  inflating: img_align_celeba/img_align_celeba/200095.jpg  \n",
            "  inflating: img_align_celeba/img_align_celeba/200096.jpg  \n",
            "  inflating: img_align_celeba/img_align_celeba/200097.jpg  \n",
            "  inflating: img_align_celeba/img_align_celeba/200098.jpg  \n",
            "  inflating: img_align_celeba/img_align_celeba/200099.jpg  \n",
            "  inflating: img_align_celeba/img_align_celeba/200100.jpg  \n",
            "  inflating: img_align_celeba/img_align_celeba/200101.jpg  \n",
            "  inflating: img_align_celeba/img_align_celeba/200102.jpg  \n",
            "  inflating: img_align_celeba/img_align_celeba/200103.jpg  \n",
            "  inflating: img_align_celeba/img_align_celeba/200104.jpg  \n",
            "  inflating: img_align_celeba/img_align_celeba/200105.jpg  \n",
            "  inflating: img_align_celeba/img_align_celeba/200106.jpg  \n",
            "  inflating: img_align_celeba/img_align_celeba/200107.jpg  \n",
            "  inflating: img_align_celeba/img_align_celeba/200108.jpg  \n",
            "  inflating: img_align_celeba/img_align_celeba/200109.jpg  \n",
            "  inflating: img_align_celeba/img_align_celeba/200110.jpg  \n",
            "  inflating: img_align_celeba/img_align_celeba/200111.jpg  \n",
            "  inflating: img_align_celeba/img_align_celeba/200112.jpg  \n",
            "  inflating: img_align_celeba/img_align_celeba/200113.jpg  \n",
            "  inflating: img_align_celeba/img_align_celeba/200114.jpg  \n",
            "  inflating: img_align_celeba/img_align_celeba/200115.jpg  \n",
            "  inflating: img_align_celeba/img_align_celeba/200116.jpg  \n",
            "  inflating: img_align_celeba/img_align_celeba/200117.jpg  \n",
            "  inflating: img_align_celeba/img_align_celeba/200118.jpg  \n",
            "  inflating: img_align_celeba/img_align_celeba/200119.jpg  \n",
            "  inflating: img_align_celeba/img_align_celeba/200120.jpg  \n",
            "  inflating: img_align_celeba/img_align_celeba/200121.jpg  \n",
            "  inflating: img_align_celeba/img_align_celeba/200122.jpg  \n",
            "  inflating: img_align_celeba/img_align_celeba/200123.jpg  \n",
            "  inflating: img_align_celeba/img_align_celeba/200124.jpg  \n",
            "  inflating: img_align_celeba/img_align_celeba/200125.jpg  \n",
            "  inflating: img_align_celeba/img_align_celeba/200126.jpg  \n",
            "  inflating: img_align_celeba/img_align_celeba/200127.jpg  \n",
            "  inflating: img_align_celeba/img_align_celeba/200128.jpg  \n",
            "  inflating: img_align_celeba/img_align_celeba/200129.jpg  \n",
            "  inflating: img_align_celeba/img_align_celeba/200130.jpg  \n",
            "  inflating: img_align_celeba/img_align_celeba/200131.jpg  \n",
            "  inflating: img_align_celeba/img_align_celeba/200132.jpg  \n",
            "  inflating: img_align_celeba/img_align_celeba/200133.jpg  \n",
            "  inflating: img_align_celeba/img_align_celeba/200134.jpg  \n",
            "  inflating: img_align_celeba/img_align_celeba/200135.jpg  \n",
            "  inflating: img_align_celeba/img_align_celeba/200136.jpg  \n",
            "  inflating: img_align_celeba/img_align_celeba/200137.jpg  \n",
            "  inflating: img_align_celeba/img_align_celeba/200138.jpg  \n",
            "  inflating: img_align_celeba/img_align_celeba/200139.jpg  \n",
            "  inflating: img_align_celeba/img_align_celeba/200140.jpg  \n",
            "  inflating: img_align_celeba/img_align_celeba/200141.jpg  \n",
            "  inflating: img_align_celeba/img_align_celeba/200142.jpg  \n",
            "  inflating: img_align_celeba/img_align_celeba/200143.jpg  \n",
            "  inflating: img_align_celeba/img_align_celeba/200144.jpg  \n",
            "  inflating: img_align_celeba/img_align_celeba/200145.jpg  \n",
            "  inflating: img_align_celeba/img_align_celeba/200146.jpg  \n",
            "  inflating: img_align_celeba/img_align_celeba/200147.jpg  \n",
            "  inflating: img_align_celeba/img_align_celeba/200148.jpg  \n",
            "  inflating: img_align_celeba/img_align_celeba/200149.jpg  \n",
            "  inflating: img_align_celeba/img_align_celeba/200150.jpg  \n",
            "  inflating: img_align_celeba/img_align_celeba/200151.jpg  \n",
            "  inflating: img_align_celeba/img_align_celeba/200152.jpg  \n",
            "  inflating: img_align_celeba/img_align_celeba/200153.jpg  \n",
            "  inflating: img_align_celeba/img_align_celeba/200154.jpg  \n",
            "  inflating: img_align_celeba/img_align_celeba/200155.jpg  \n",
            "  inflating: img_align_celeba/img_align_celeba/200156.jpg  \n",
            "  inflating: img_align_celeba/img_align_celeba/200157.jpg  \n",
            "  inflating: img_align_celeba/img_align_celeba/200158.jpg  \n",
            "  inflating: img_align_celeba/img_align_celeba/200159.jpg  \n",
            "  inflating: img_align_celeba/img_align_celeba/200160.jpg  \n",
            "  inflating: img_align_celeba/img_align_celeba/200161.jpg  \n",
            "  inflating: img_align_celeba/img_align_celeba/200162.jpg  \n",
            "  inflating: img_align_celeba/img_align_celeba/200163.jpg  \n",
            "  inflating: img_align_celeba/img_align_celeba/200164.jpg  \n",
            "  inflating: img_align_celeba/img_align_celeba/200165.jpg  \n",
            "  inflating: img_align_celeba/img_align_celeba/200166.jpg  \n",
            "  inflating: img_align_celeba/img_align_celeba/200167.jpg  \n",
            "  inflating: img_align_celeba/img_align_celeba/200168.jpg  \n",
            "  inflating: img_align_celeba/img_align_celeba/200169.jpg  \n",
            "  inflating: img_align_celeba/img_align_celeba/200170.jpg  \n",
            "  inflating: img_align_celeba/img_align_celeba/200171.jpg  \n",
            "  inflating: img_align_celeba/img_align_celeba/200172.jpg  \n",
            "  inflating: img_align_celeba/img_align_celeba/200173.jpg  \n",
            "  inflating: img_align_celeba/img_align_celeba/200174.jpg  \n",
            "  inflating: img_align_celeba/img_align_celeba/200175.jpg  \n",
            "  inflating: img_align_celeba/img_align_celeba/200176.jpg  \n",
            "  inflating: img_align_celeba/img_align_celeba/200177.jpg  \n",
            "  inflating: img_align_celeba/img_align_celeba/200178.jpg  \n",
            "  inflating: img_align_celeba/img_align_celeba/200179.jpg  \n",
            "  inflating: img_align_celeba/img_align_celeba/200180.jpg  \n",
            "  inflating: img_align_celeba/img_align_celeba/200181.jpg  \n",
            "  inflating: img_align_celeba/img_align_celeba/200182.jpg  \n",
            "  inflating: img_align_celeba/img_align_celeba/200183.jpg  \n",
            "  inflating: img_align_celeba/img_align_celeba/200184.jpg  \n",
            "  inflating: img_align_celeba/img_align_celeba/200185.jpg  \n",
            "  inflating: img_align_celeba/img_align_celeba/200186.jpg  \n",
            "  inflating: img_align_celeba/img_align_celeba/200187.jpg  \n",
            "  inflating: img_align_celeba/img_align_celeba/200188.jpg  \n",
            "  inflating: img_align_celeba/img_align_celeba/200189.jpg  \n",
            "  inflating: img_align_celeba/img_align_celeba/200190.jpg  \n",
            "  inflating: img_align_celeba/img_align_celeba/200191.jpg  \n",
            "  inflating: img_align_celeba/img_align_celeba/200192.jpg  \n",
            "  inflating: img_align_celeba/img_align_celeba/200193.jpg  \n",
            "  inflating: img_align_celeba/img_align_celeba/200194.jpg  \n",
            "  inflating: img_align_celeba/img_align_celeba/200195.jpg  \n",
            "  inflating: img_align_celeba/img_align_celeba/200196.jpg  \n",
            "  inflating: img_align_celeba/img_align_celeba/200197.jpg  \n",
            "  inflating: img_align_celeba/img_align_celeba/200198.jpg  \n",
            "  inflating: img_align_celeba/img_align_celeba/200199.jpg  \n",
            "  inflating: img_align_celeba/img_align_celeba/200200.jpg  \n",
            "  inflating: img_align_celeba/img_align_celeba/200201.jpg  \n",
            "  inflating: img_align_celeba/img_align_celeba/200202.jpg  \n",
            "  inflating: img_align_celeba/img_align_celeba/200203.jpg  \n",
            "  inflating: img_align_celeba/img_align_celeba/200204.jpg  \n",
            "  inflating: img_align_celeba/img_align_celeba/200205.jpg  \n",
            "  inflating: img_align_celeba/img_align_celeba/200206.jpg  \n",
            "  inflating: img_align_celeba/img_align_celeba/200207.jpg  \n",
            "  inflating: img_align_celeba/img_align_celeba/200208.jpg  \n",
            "  inflating: img_align_celeba/img_align_celeba/200209.jpg  \n",
            "  inflating: img_align_celeba/img_align_celeba/200210.jpg  \n",
            "  inflating: img_align_celeba/img_align_celeba/200211.jpg  \n",
            "  inflating: img_align_celeba/img_align_celeba/200212.jpg  \n",
            "  inflating: img_align_celeba/img_align_celeba/200213.jpg  \n",
            "  inflating: img_align_celeba/img_align_celeba/200214.jpg  \n",
            "  inflating: img_align_celeba/img_align_celeba/200215.jpg  \n",
            "  inflating: img_align_celeba/img_align_celeba/200216.jpg  \n",
            "  inflating: img_align_celeba/img_align_celeba/200217.jpg  \n",
            "  inflating: img_align_celeba/img_align_celeba/200218.jpg  \n",
            "  inflating: img_align_celeba/img_align_celeba/200219.jpg  \n",
            "  inflating: img_align_celeba/img_align_celeba/200220.jpg  \n",
            "  inflating: img_align_celeba/img_align_celeba/200221.jpg  \n",
            "  inflating: img_align_celeba/img_align_celeba/200222.jpg  \n",
            "  inflating: img_align_celeba/img_align_celeba/200223.jpg  \n",
            "  inflating: img_align_celeba/img_align_celeba/200224.jpg  \n",
            "  inflating: img_align_celeba/img_align_celeba/200225.jpg  \n",
            "  inflating: img_align_celeba/img_align_celeba/200226.jpg  \n",
            "  inflating: img_align_celeba/img_align_celeba/200227.jpg  \n",
            "  inflating: img_align_celeba/img_align_celeba/200228.jpg  \n",
            "  inflating: img_align_celeba/img_align_celeba/200229.jpg  \n",
            "  inflating: img_align_celeba/img_align_celeba/200230.jpg  \n",
            "  inflating: img_align_celeba/img_align_celeba/200231.jpg  \n",
            "  inflating: img_align_celeba/img_align_celeba/200232.jpg  \n",
            "  inflating: img_align_celeba/img_align_celeba/200233.jpg  \n",
            "  inflating: img_align_celeba/img_align_celeba/200234.jpg  \n",
            "  inflating: img_align_celeba/img_align_celeba/200235.jpg  \n",
            "  inflating: img_align_celeba/img_align_celeba/200236.jpg  \n",
            "  inflating: img_align_celeba/img_align_celeba/200237.jpg  \n",
            "  inflating: img_align_celeba/img_align_celeba/200238.jpg  \n",
            "  inflating: img_align_celeba/img_align_celeba/200239.jpg  \n",
            "  inflating: img_align_celeba/img_align_celeba/200240.jpg  \n",
            "  inflating: img_align_celeba/img_align_celeba/200241.jpg  \n",
            "  inflating: img_align_celeba/img_align_celeba/200242.jpg  \n",
            "  inflating: img_align_celeba/img_align_celeba/200243.jpg  \n",
            "  inflating: img_align_celeba/img_align_celeba/200244.jpg  \n",
            "  inflating: img_align_celeba/img_align_celeba/200245.jpg  \n",
            "  inflating: img_align_celeba/img_align_celeba/200246.jpg  \n",
            "  inflating: img_align_celeba/img_align_celeba/200247.jpg  \n",
            "  inflating: img_align_celeba/img_align_celeba/200248.jpg  \n",
            "  inflating: img_align_celeba/img_align_celeba/200249.jpg  \n",
            "  inflating: img_align_celeba/img_align_celeba/200250.jpg  \n",
            "  inflating: img_align_celeba/img_align_celeba/200251.jpg  \n",
            "  inflating: img_align_celeba/img_align_celeba/200252.jpg  \n",
            "  inflating: img_align_celeba/img_align_celeba/200253.jpg  \n",
            "  inflating: img_align_celeba/img_align_celeba/200254.jpg  \n",
            "  inflating: img_align_celeba/img_align_celeba/200255.jpg  \n",
            "  inflating: img_align_celeba/img_align_celeba/200256.jpg  \n",
            "  inflating: img_align_celeba/img_align_celeba/200257.jpg  \n",
            "  inflating: img_align_celeba/img_align_celeba/200258.jpg  \n",
            "  inflating: img_align_celeba/img_align_celeba/200259.jpg  \n",
            "  inflating: img_align_celeba/img_align_celeba/200260.jpg  \n",
            "  inflating: img_align_celeba/img_align_celeba/200261.jpg  \n",
            "  inflating: img_align_celeba/img_align_celeba/200262.jpg  \n",
            "  inflating: img_align_celeba/img_align_celeba/200263.jpg  \n",
            "  inflating: img_align_celeba/img_align_celeba/200264.jpg  \n",
            "  inflating: img_align_celeba/img_align_celeba/200265.jpg  \n",
            "  inflating: img_align_celeba/img_align_celeba/200266.jpg  \n",
            "  inflating: img_align_celeba/img_align_celeba/200267.jpg  \n",
            "  inflating: img_align_celeba/img_align_celeba/200268.jpg  \n",
            "  inflating: img_align_celeba/img_align_celeba/200269.jpg  \n",
            "  inflating: img_align_celeba/img_align_celeba/200270.jpg  \n",
            "  inflating: img_align_celeba/img_align_celeba/200271.jpg  \n",
            "  inflating: img_align_celeba/img_align_celeba/200272.jpg  \n",
            "  inflating: img_align_celeba/img_align_celeba/200273.jpg  \n",
            "  inflating: img_align_celeba/img_align_celeba/200274.jpg  \n",
            "  inflating: img_align_celeba/img_align_celeba/200275.jpg  \n",
            "  inflating: img_align_celeba/img_align_celeba/200276.jpg  \n",
            "  inflating: img_align_celeba/img_align_celeba/200277.jpg  \n",
            "  inflating: img_align_celeba/img_align_celeba/200278.jpg  \n",
            "  inflating: img_align_celeba/img_align_celeba/200279.jpg  \n",
            "  inflating: img_align_celeba/img_align_celeba/200280.jpg  \n",
            "  inflating: img_align_celeba/img_align_celeba/200281.jpg  \n",
            "  inflating: img_align_celeba/img_align_celeba/200282.jpg  \n",
            "  inflating: img_align_celeba/img_align_celeba/200283.jpg  \n",
            "  inflating: img_align_celeba/img_align_celeba/200284.jpg  \n",
            "  inflating: img_align_celeba/img_align_celeba/200285.jpg  \n",
            "  inflating: img_align_celeba/img_align_celeba/200286.jpg  \n",
            "  inflating: img_align_celeba/img_align_celeba/200287.jpg  \n",
            "  inflating: img_align_celeba/img_align_celeba/200288.jpg  \n",
            "  inflating: img_align_celeba/img_align_celeba/200289.jpg  \n",
            "  inflating: img_align_celeba/img_align_celeba/200290.jpg  \n",
            "  inflating: img_align_celeba/img_align_celeba/200291.jpg  \n",
            "  inflating: img_align_celeba/img_align_celeba/200292.jpg  \n",
            "  inflating: img_align_celeba/img_align_celeba/200293.jpg  \n",
            "  inflating: img_align_celeba/img_align_celeba/200294.jpg  \n",
            "  inflating: img_align_celeba/img_align_celeba/200295.jpg  \n",
            "  inflating: img_align_celeba/img_align_celeba/200296.jpg  \n",
            "  inflating: img_align_celeba/img_align_celeba/200297.jpg  \n",
            "  inflating: img_align_celeba/img_align_celeba/200298.jpg  \n",
            "  inflating: img_align_celeba/img_align_celeba/200299.jpg  \n",
            "  inflating: img_align_celeba/img_align_celeba/200300.jpg  \n",
            "  inflating: img_align_celeba/img_align_celeba/200301.jpg  \n",
            "  inflating: img_align_celeba/img_align_celeba/200302.jpg  \n",
            "  inflating: img_align_celeba/img_align_celeba/200303.jpg  \n",
            "  inflating: img_align_celeba/img_align_celeba/200304.jpg  \n",
            "  inflating: img_align_celeba/img_align_celeba/200305.jpg  \n",
            "  inflating: img_align_celeba/img_align_celeba/200306.jpg  \n",
            "  inflating: img_align_celeba/img_align_celeba/200307.jpg  \n",
            "  inflating: img_align_celeba/img_align_celeba/200308.jpg  \n",
            "  inflating: img_align_celeba/img_align_celeba/200309.jpg  \n",
            "  inflating: img_align_celeba/img_align_celeba/200310.jpg  \n",
            "  inflating: img_align_celeba/img_align_celeba/200311.jpg  \n",
            "  inflating: img_align_celeba/img_align_celeba/200312.jpg  \n",
            "  inflating: img_align_celeba/img_align_celeba/200313.jpg  \n",
            "  inflating: img_align_celeba/img_align_celeba/200314.jpg  \n",
            "  inflating: img_align_celeba/img_align_celeba/200315.jpg  \n",
            "  inflating: img_align_celeba/img_align_celeba/200316.jpg  \n",
            "  inflating: img_align_celeba/img_align_celeba/200317.jpg  \n",
            "  inflating: img_align_celeba/img_align_celeba/200318.jpg  \n",
            "  inflating: img_align_celeba/img_align_celeba/200319.jpg  \n",
            "  inflating: img_align_celeba/img_align_celeba/200320.jpg  \n",
            "  inflating: img_align_celeba/img_align_celeba/200321.jpg  \n",
            "  inflating: img_align_celeba/img_align_celeba/200322.jpg  \n",
            "  inflating: img_align_celeba/img_align_celeba/200323.jpg  \n",
            "  inflating: img_align_celeba/img_align_celeba/200324.jpg  \n",
            "  inflating: img_align_celeba/img_align_celeba/200325.jpg  \n",
            "  inflating: img_align_celeba/img_align_celeba/200326.jpg  \n",
            "  inflating: img_align_celeba/img_align_celeba/200327.jpg  \n",
            "  inflating: img_align_celeba/img_align_celeba/200328.jpg  \n",
            "  inflating: img_align_celeba/img_align_celeba/200329.jpg  \n",
            "  inflating: img_align_celeba/img_align_celeba/200330.jpg  \n",
            "  inflating: img_align_celeba/img_align_celeba/200331.jpg  \n",
            "  inflating: img_align_celeba/img_align_celeba/200332.jpg  \n",
            "  inflating: img_align_celeba/img_align_celeba/200333.jpg  \n",
            "  inflating: img_align_celeba/img_align_celeba/200334.jpg  \n",
            "  inflating: img_align_celeba/img_align_celeba/200335.jpg  \n",
            "  inflating: img_align_celeba/img_align_celeba/200336.jpg  \n",
            "  inflating: img_align_celeba/img_align_celeba/200337.jpg  \n",
            "  inflating: img_align_celeba/img_align_celeba/200338.jpg  \n",
            "  inflating: img_align_celeba/img_align_celeba/200339.jpg  \n",
            "  inflating: img_align_celeba/img_align_celeba/200340.jpg  \n",
            "  inflating: img_align_celeba/img_align_celeba/200341.jpg  \n",
            "  inflating: img_align_celeba/img_align_celeba/200342.jpg  \n",
            "  inflating: img_align_celeba/img_align_celeba/200343.jpg  \n",
            "  inflating: img_align_celeba/img_align_celeba/200344.jpg  \n",
            "  inflating: img_align_celeba/img_align_celeba/200345.jpg  \n",
            "  inflating: img_align_celeba/img_align_celeba/200346.jpg  \n",
            "  inflating: img_align_celeba/img_align_celeba/200347.jpg  \n",
            "  inflating: img_align_celeba/img_align_celeba/200348.jpg  \n",
            "  inflating: img_align_celeba/img_align_celeba/200349.jpg  \n",
            "  inflating: img_align_celeba/img_align_celeba/200350.jpg  \n",
            "  inflating: img_align_celeba/img_align_celeba/200351.jpg  \n",
            "  inflating: img_align_celeba/img_align_celeba/200352.jpg  \n",
            "  inflating: img_align_celeba/img_align_celeba/200353.jpg  \n",
            "  inflating: img_align_celeba/img_align_celeba/200354.jpg  \n",
            "  inflating: img_align_celeba/img_align_celeba/200355.jpg  \n",
            "  inflating: img_align_celeba/img_align_celeba/200356.jpg  \n",
            "  inflating: img_align_celeba/img_align_celeba/200357.jpg  \n",
            "  inflating: img_align_celeba/img_align_celeba/200358.jpg  \n",
            "  inflating: img_align_celeba/img_align_celeba/200359.jpg  \n",
            "  inflating: img_align_celeba/img_align_celeba/200360.jpg  \n",
            "  inflating: img_align_celeba/img_align_celeba/200361.jpg  \n",
            "  inflating: img_align_celeba/img_align_celeba/200362.jpg  \n",
            "  inflating: img_align_celeba/img_align_celeba/200363.jpg  \n",
            "  inflating: img_align_celeba/img_align_celeba/200364.jpg  \n",
            "  inflating: img_align_celeba/img_align_celeba/200365.jpg  \n",
            "  inflating: img_align_celeba/img_align_celeba/200366.jpg  \n",
            "  inflating: img_align_celeba/img_align_celeba/200367.jpg  \n",
            "  inflating: img_align_celeba/img_align_celeba/200368.jpg  \n",
            "  inflating: img_align_celeba/img_align_celeba/200369.jpg  \n",
            "  inflating: img_align_celeba/img_align_celeba/200370.jpg  \n",
            "  inflating: img_align_celeba/img_align_celeba/200371.jpg  \n",
            "  inflating: img_align_celeba/img_align_celeba/200372.jpg  \n",
            "  inflating: img_align_celeba/img_align_celeba/200373.jpg  \n",
            "  inflating: img_align_celeba/img_align_celeba/200374.jpg  \n",
            "  inflating: img_align_celeba/img_align_celeba/200375.jpg  \n",
            "  inflating: img_align_celeba/img_align_celeba/200376.jpg  \n",
            "  inflating: img_align_celeba/img_align_celeba/200377.jpg  \n",
            "  inflating: img_align_celeba/img_align_celeba/200378.jpg  \n",
            "  inflating: img_align_celeba/img_align_celeba/200379.jpg  \n",
            "  inflating: img_align_celeba/img_align_celeba/200380.jpg  \n",
            "  inflating: img_align_celeba/img_align_celeba/200381.jpg  \n",
            "  inflating: img_align_celeba/img_align_celeba/200382.jpg  \n",
            "  inflating: img_align_celeba/img_align_celeba/200383.jpg  \n",
            "  inflating: img_align_celeba/img_align_celeba/200384.jpg  \n",
            "  inflating: img_align_celeba/img_align_celeba/200385.jpg  \n",
            "  inflating: img_align_celeba/img_align_celeba/200386.jpg  \n",
            "  inflating: img_align_celeba/img_align_celeba/200387.jpg  \n",
            "  inflating: img_align_celeba/img_align_celeba/200388.jpg  \n",
            "  inflating: img_align_celeba/img_align_celeba/200389.jpg  \n",
            "  inflating: img_align_celeba/img_align_celeba/200390.jpg  \n",
            "  inflating: img_align_celeba/img_align_celeba/200391.jpg  \n",
            "  inflating: img_align_celeba/img_align_celeba/200392.jpg  \n",
            "  inflating: img_align_celeba/img_align_celeba/200393.jpg  \n",
            "  inflating: img_align_celeba/img_align_celeba/200394.jpg  \n",
            "  inflating: img_align_celeba/img_align_celeba/200395.jpg  \n",
            "  inflating: img_align_celeba/img_align_celeba/200396.jpg  \n",
            "  inflating: img_align_celeba/img_align_celeba/200397.jpg  \n",
            "  inflating: img_align_celeba/img_align_celeba/200398.jpg  \n",
            "  inflating: img_align_celeba/img_align_celeba/200399.jpg  \n",
            "  inflating: img_align_celeba/img_align_celeba/200400.jpg  \n",
            "  inflating: img_align_celeba/img_align_celeba/200401.jpg  \n",
            "  inflating: img_align_celeba/img_align_celeba/200402.jpg  \n",
            "  inflating: img_align_celeba/img_align_celeba/200403.jpg  \n",
            "  inflating: img_align_celeba/img_align_celeba/200404.jpg  \n",
            "  inflating: img_align_celeba/img_align_celeba/200405.jpg  \n",
            "  inflating: img_align_celeba/img_align_celeba/200406.jpg  \n",
            "  inflating: img_align_celeba/img_align_celeba/200407.jpg  \n",
            "  inflating: img_align_celeba/img_align_celeba/200408.jpg  \n",
            "  inflating: img_align_celeba/img_align_celeba/200409.jpg  \n",
            "  inflating: img_align_celeba/img_align_celeba/200410.jpg  \n",
            "  inflating: img_align_celeba/img_align_celeba/200411.jpg  \n",
            "  inflating: img_align_celeba/img_align_celeba/200412.jpg  \n",
            "  inflating: img_align_celeba/img_align_celeba/200413.jpg  \n",
            "  inflating: img_align_celeba/img_align_celeba/200414.jpg  \n",
            "  inflating: img_align_celeba/img_align_celeba/200415.jpg  \n",
            "  inflating: img_align_celeba/img_align_celeba/200416.jpg  \n",
            "  inflating: img_align_celeba/img_align_celeba/200417.jpg  \n",
            "  inflating: img_align_celeba/img_align_celeba/200418.jpg  \n",
            "  inflating: img_align_celeba/img_align_celeba/200419.jpg  \n",
            "  inflating: img_align_celeba/img_align_celeba/200420.jpg  \n",
            "  inflating: img_align_celeba/img_align_celeba/200421.jpg  \n",
            "  inflating: img_align_celeba/img_align_celeba/200422.jpg  \n",
            "  inflating: img_align_celeba/img_align_celeba/200423.jpg  \n",
            "  inflating: img_align_celeba/img_align_celeba/200424.jpg  \n",
            "  inflating: img_align_celeba/img_align_celeba/200425.jpg  \n",
            "  inflating: img_align_celeba/img_align_celeba/200426.jpg  \n",
            "  inflating: img_align_celeba/img_align_celeba/200427.jpg  \n",
            "  inflating: img_align_celeba/img_align_celeba/200428.jpg  \n",
            "  inflating: img_align_celeba/img_align_celeba/200429.jpg  \n",
            "  inflating: img_align_celeba/img_align_celeba/200430.jpg  \n",
            "  inflating: img_align_celeba/img_align_celeba/200431.jpg  \n",
            "  inflating: img_align_celeba/img_align_celeba/200432.jpg  \n",
            "  inflating: img_align_celeba/img_align_celeba/200433.jpg  \n",
            "  inflating: img_align_celeba/img_align_celeba/200434.jpg  \n",
            "  inflating: img_align_celeba/img_align_celeba/200435.jpg  \n",
            "  inflating: img_align_celeba/img_align_celeba/200436.jpg  \n",
            "  inflating: img_align_celeba/img_align_celeba/200437.jpg  \n",
            "  inflating: img_align_celeba/img_align_celeba/200438.jpg  \n",
            "  inflating: img_align_celeba/img_align_celeba/200439.jpg  \n",
            "  inflating: img_align_celeba/img_align_celeba/200440.jpg  \n",
            "  inflating: img_align_celeba/img_align_celeba/200441.jpg  \n",
            "  inflating: img_align_celeba/img_align_celeba/200442.jpg  \n",
            "  inflating: img_align_celeba/img_align_celeba/200443.jpg  \n",
            "  inflating: img_align_celeba/img_align_celeba/200444.jpg  \n",
            "  inflating: img_align_celeba/img_align_celeba/200445.jpg  \n",
            "  inflating: img_align_celeba/img_align_celeba/200446.jpg  \n",
            "  inflating: img_align_celeba/img_align_celeba/200447.jpg  \n",
            "  inflating: img_align_celeba/img_align_celeba/200448.jpg  \n",
            "  inflating: img_align_celeba/img_align_celeba/200449.jpg  \n",
            "  inflating: img_align_celeba/img_align_celeba/200450.jpg  \n",
            "  inflating: img_align_celeba/img_align_celeba/200451.jpg  \n",
            "  inflating: img_align_celeba/img_align_celeba/200452.jpg  \n",
            "  inflating: img_align_celeba/img_align_celeba/200453.jpg  \n",
            "  inflating: img_align_celeba/img_align_celeba/200454.jpg  \n",
            "  inflating: img_align_celeba/img_align_celeba/200455.jpg  \n",
            "  inflating: img_align_celeba/img_align_celeba/200456.jpg  \n",
            "  inflating: img_align_celeba/img_align_celeba/200457.jpg  \n",
            "  inflating: img_align_celeba/img_align_celeba/200458.jpg  \n",
            "  inflating: img_align_celeba/img_align_celeba/200459.jpg  \n",
            "  inflating: img_align_celeba/img_align_celeba/200460.jpg  \n",
            "  inflating: img_align_celeba/img_align_celeba/200461.jpg  \n",
            "  inflating: img_align_celeba/img_align_celeba/200462.jpg  \n",
            "  inflating: img_align_celeba/img_align_celeba/200463.jpg  \n",
            "  inflating: img_align_celeba/img_align_celeba/200464.jpg  \n",
            "  inflating: img_align_celeba/img_align_celeba/200465.jpg  \n",
            "  inflating: img_align_celeba/img_align_celeba/200466.jpg  \n",
            "  inflating: img_align_celeba/img_align_celeba/200467.jpg  \n",
            "  inflating: img_align_celeba/img_align_celeba/200468.jpg  \n",
            "  inflating: img_align_celeba/img_align_celeba/200469.jpg  \n",
            "  inflating: img_align_celeba/img_align_celeba/200470.jpg  \n",
            "  inflating: img_align_celeba/img_align_celeba/200471.jpg  \n",
            "  inflating: img_align_celeba/img_align_celeba/200472.jpg  \n",
            "  inflating: img_align_celeba/img_align_celeba/200473.jpg  \n",
            "  inflating: img_align_celeba/img_align_celeba/200474.jpg  \n",
            "  inflating: img_align_celeba/img_align_celeba/200475.jpg  \n",
            "  inflating: img_align_celeba/img_align_celeba/200476.jpg  \n",
            "  inflating: img_align_celeba/img_align_celeba/200477.jpg  \n",
            "  inflating: img_align_celeba/img_align_celeba/200478.jpg  \n",
            "  inflating: img_align_celeba/img_align_celeba/200479.jpg  \n",
            "  inflating: img_align_celeba/img_align_celeba/200480.jpg  \n",
            "  inflating: img_align_celeba/img_align_celeba/200481.jpg  \n",
            "  inflating: img_align_celeba/img_align_celeba/200482.jpg  \n",
            "  inflating: img_align_celeba/img_align_celeba/200483.jpg  \n",
            "  inflating: img_align_celeba/img_align_celeba/200484.jpg  \n",
            "  inflating: img_align_celeba/img_align_celeba/200485.jpg  \n",
            "  inflating: img_align_celeba/img_align_celeba/200486.jpg  \n",
            "  inflating: img_align_celeba/img_align_celeba/200487.jpg  \n",
            "  inflating: img_align_celeba/img_align_celeba/200488.jpg  \n",
            "  inflating: img_align_celeba/img_align_celeba/200489.jpg  \n",
            "  inflating: img_align_celeba/img_align_celeba/200490.jpg  \n",
            "  inflating: img_align_celeba/img_align_celeba/200491.jpg  \n",
            "  inflating: img_align_celeba/img_align_celeba/200492.jpg  \n",
            "  inflating: img_align_celeba/img_align_celeba/200493.jpg  \n",
            "  inflating: img_align_celeba/img_align_celeba/200494.jpg  \n",
            "  inflating: img_align_celeba/img_align_celeba/200495.jpg  \n",
            "  inflating: img_align_celeba/img_align_celeba/200496.jpg  \n",
            "  inflating: img_align_celeba/img_align_celeba/200497.jpg  \n",
            "  inflating: img_align_celeba/img_align_celeba/200498.jpg  \n",
            "  inflating: img_align_celeba/img_align_celeba/200499.jpg  \n",
            "  inflating: img_align_celeba/img_align_celeba/200500.jpg  \n",
            "  inflating: img_align_celeba/img_align_celeba/200501.jpg  \n",
            "  inflating: img_align_celeba/img_align_celeba/200502.jpg  \n",
            "  inflating: img_align_celeba/img_align_celeba/200503.jpg  \n",
            "  inflating: img_align_celeba/img_align_celeba/200504.jpg  \n",
            "  inflating: img_align_celeba/img_align_celeba/200505.jpg  \n",
            "  inflating: img_align_celeba/img_align_celeba/200506.jpg  \n",
            "  inflating: img_align_celeba/img_align_celeba/200507.jpg  \n",
            "  inflating: img_align_celeba/img_align_celeba/200508.jpg  \n",
            "  inflating: img_align_celeba/img_align_celeba/200509.jpg  \n",
            "  inflating: img_align_celeba/img_align_celeba/200510.jpg  \n",
            "  inflating: img_align_celeba/img_align_celeba/200511.jpg  \n",
            "  inflating: img_align_celeba/img_align_celeba/200512.jpg  \n",
            "  inflating: img_align_celeba/img_align_celeba/200513.jpg  \n",
            "  inflating: img_align_celeba/img_align_celeba/200514.jpg  \n",
            "  inflating: img_align_celeba/img_align_celeba/200515.jpg  \n",
            "  inflating: img_align_celeba/img_align_celeba/200516.jpg  \n",
            "  inflating: img_align_celeba/img_align_celeba/200517.jpg  \n",
            "  inflating: img_align_celeba/img_align_celeba/200518.jpg  \n",
            "  inflating: img_align_celeba/img_align_celeba/200519.jpg  \n",
            "  inflating: img_align_celeba/img_align_celeba/200520.jpg  \n",
            "  inflating: img_align_celeba/img_align_celeba/200521.jpg  \n",
            "  inflating: img_align_celeba/img_align_celeba/200522.jpg  \n",
            "  inflating: img_align_celeba/img_align_celeba/200523.jpg  \n",
            "  inflating: img_align_celeba/img_align_celeba/200524.jpg  \n",
            "  inflating: img_align_celeba/img_align_celeba/200525.jpg  \n",
            "  inflating: img_align_celeba/img_align_celeba/200526.jpg  \n",
            "  inflating: img_align_celeba/img_align_celeba/200527.jpg  \n",
            "  inflating: img_align_celeba/img_align_celeba/200528.jpg  \n",
            "  inflating: img_align_celeba/img_align_celeba/200529.jpg  \n",
            "  inflating: img_align_celeba/img_align_celeba/200530.jpg  \n",
            "  inflating: img_align_celeba/img_align_celeba/200531.jpg  \n",
            "  inflating: img_align_celeba/img_align_celeba/200532.jpg  \n",
            "  inflating: img_align_celeba/img_align_celeba/200533.jpg  \n",
            "  inflating: img_align_celeba/img_align_celeba/200534.jpg  \n",
            "  inflating: img_align_celeba/img_align_celeba/200535.jpg  \n",
            "  inflating: img_align_celeba/img_align_celeba/200536.jpg  \n",
            "  inflating: img_align_celeba/img_align_celeba/200537.jpg  \n",
            "  inflating: img_align_celeba/img_align_celeba/200538.jpg  \n",
            "  inflating: img_align_celeba/img_align_celeba/200539.jpg  \n",
            "  inflating: img_align_celeba/img_align_celeba/200540.jpg  \n",
            "  inflating: img_align_celeba/img_align_celeba/200541.jpg  \n",
            "  inflating: img_align_celeba/img_align_celeba/200542.jpg  \n",
            "  inflating: img_align_celeba/img_align_celeba/200543.jpg  \n",
            "  inflating: img_align_celeba/img_align_celeba/200544.jpg  \n",
            "  inflating: img_align_celeba/img_align_celeba/200545.jpg  \n",
            "  inflating: img_align_celeba/img_align_celeba/200546.jpg  \n",
            "  inflating: img_align_celeba/img_align_celeba/200547.jpg  \n",
            "  inflating: img_align_celeba/img_align_celeba/200548.jpg  \n",
            "  inflating: img_align_celeba/img_align_celeba/200549.jpg  \n",
            "  inflating: img_align_celeba/img_align_celeba/200550.jpg  \n",
            "  inflating: img_align_celeba/img_align_celeba/200551.jpg  \n",
            "  inflating: img_align_celeba/img_align_celeba/200552.jpg  \n",
            "  inflating: img_align_celeba/img_align_celeba/200553.jpg  \n",
            "  inflating: img_align_celeba/img_align_celeba/200554.jpg  \n",
            "  inflating: img_align_celeba/img_align_celeba/200555.jpg  \n",
            "  inflating: img_align_celeba/img_align_celeba/200556.jpg  \n",
            "  inflating: img_align_celeba/img_align_celeba/200557.jpg  \n",
            "  inflating: img_align_celeba/img_align_celeba/200558.jpg  \n",
            "  inflating: img_align_celeba/img_align_celeba/200559.jpg  \n",
            "  inflating: img_align_celeba/img_align_celeba/200560.jpg  \n",
            "  inflating: img_align_celeba/img_align_celeba/200561.jpg  \n",
            "  inflating: img_align_celeba/img_align_celeba/200562.jpg  \n",
            "  inflating: img_align_celeba/img_align_celeba/200563.jpg  \n",
            "  inflating: img_align_celeba/img_align_celeba/200564.jpg  \n",
            "  inflating: img_align_celeba/img_align_celeba/200565.jpg  \n",
            "  inflating: img_align_celeba/img_align_celeba/200566.jpg  \n",
            "  inflating: img_align_celeba/img_align_celeba/200567.jpg  \n",
            "  inflating: img_align_celeba/img_align_celeba/200568.jpg  \n",
            "  inflating: img_align_celeba/img_align_celeba/200569.jpg  \n",
            "  inflating: img_align_celeba/img_align_celeba/200570.jpg  \n",
            "  inflating: img_align_celeba/img_align_celeba/200571.jpg  \n",
            "  inflating: img_align_celeba/img_align_celeba/200572.jpg  \n",
            "  inflating: img_align_celeba/img_align_celeba/200573.jpg  \n",
            "  inflating: img_align_celeba/img_align_celeba/200574.jpg  \n",
            "  inflating: img_align_celeba/img_align_celeba/200575.jpg  \n",
            "  inflating: img_align_celeba/img_align_celeba/200576.jpg  \n",
            "  inflating: img_align_celeba/img_align_celeba/200577.jpg  \n",
            "  inflating: img_align_celeba/img_align_celeba/200578.jpg  \n",
            "  inflating: img_align_celeba/img_align_celeba/200579.jpg  \n",
            "  inflating: img_align_celeba/img_align_celeba/200580.jpg  \n",
            "  inflating: img_align_celeba/img_align_celeba/200581.jpg  \n",
            "  inflating: img_align_celeba/img_align_celeba/200582.jpg  \n",
            "  inflating: img_align_celeba/img_align_celeba/200583.jpg  \n",
            "  inflating: img_align_celeba/img_align_celeba/200584.jpg  \n",
            "  inflating: img_align_celeba/img_align_celeba/200585.jpg  \n",
            "  inflating: img_align_celeba/img_align_celeba/200586.jpg  \n",
            "  inflating: img_align_celeba/img_align_celeba/200587.jpg  \n",
            "  inflating: img_align_celeba/img_align_celeba/200588.jpg  \n",
            "  inflating: img_align_celeba/img_align_celeba/200589.jpg  \n",
            "  inflating: img_align_celeba/img_align_celeba/200590.jpg  \n",
            "  inflating: img_align_celeba/img_align_celeba/200591.jpg  \n",
            "  inflating: img_align_celeba/img_align_celeba/200592.jpg  \n",
            "  inflating: img_align_celeba/img_align_celeba/200593.jpg  \n",
            "  inflating: img_align_celeba/img_align_celeba/200594.jpg  \n",
            "  inflating: img_align_celeba/img_align_celeba/200595.jpg  \n",
            "  inflating: img_align_celeba/img_align_celeba/200596.jpg  \n",
            "  inflating: img_align_celeba/img_align_celeba/200597.jpg  \n",
            "  inflating: img_align_celeba/img_align_celeba/200598.jpg  \n",
            "  inflating: img_align_celeba/img_align_celeba/200599.jpg  \n",
            "  inflating: img_align_celeba/img_align_celeba/200600.jpg  \n",
            "  inflating: img_align_celeba/img_align_celeba/200601.jpg  \n",
            "  inflating: img_align_celeba/img_align_celeba/200602.jpg  \n",
            "  inflating: img_align_celeba/img_align_celeba/200603.jpg  \n",
            "  inflating: img_align_celeba/img_align_celeba/200604.jpg  \n",
            "  inflating: img_align_celeba/img_align_celeba/200605.jpg  \n",
            "  inflating: img_align_celeba/img_align_celeba/200606.jpg  \n",
            "  inflating: img_align_celeba/img_align_celeba/200607.jpg  \n",
            "  inflating: img_align_celeba/img_align_celeba/200608.jpg  \n",
            "  inflating: img_align_celeba/img_align_celeba/200609.jpg  \n",
            "  inflating: img_align_celeba/img_align_celeba/200610.jpg  \n",
            "  inflating: img_align_celeba/img_align_celeba/200611.jpg  \n",
            "  inflating: img_align_celeba/img_align_celeba/200612.jpg  \n",
            "  inflating: img_align_celeba/img_align_celeba/200613.jpg  \n",
            "  inflating: img_align_celeba/img_align_celeba/200614.jpg  \n",
            "  inflating: img_align_celeba/img_align_celeba/200615.jpg  \n",
            "  inflating: img_align_celeba/img_align_celeba/200616.jpg  \n",
            "  inflating: img_align_celeba/img_align_celeba/200617.jpg  \n",
            "  inflating: img_align_celeba/img_align_celeba/200618.jpg  \n",
            "  inflating: img_align_celeba/img_align_celeba/200619.jpg  \n",
            "  inflating: img_align_celeba/img_align_celeba/200620.jpg  \n",
            "  inflating: img_align_celeba/img_align_celeba/200621.jpg  \n",
            "  inflating: img_align_celeba/img_align_celeba/200622.jpg  \n",
            "  inflating: img_align_celeba/img_align_celeba/200623.jpg  \n",
            "  inflating: img_align_celeba/img_align_celeba/200624.jpg  \n",
            "  inflating: img_align_celeba/img_align_celeba/200625.jpg  \n",
            "  inflating: img_align_celeba/img_align_celeba/200626.jpg  \n",
            "  inflating: img_align_celeba/img_align_celeba/200627.jpg  \n",
            "  inflating: img_align_celeba/img_align_celeba/200628.jpg  \n",
            "  inflating: img_align_celeba/img_align_celeba/200629.jpg  \n",
            "  inflating: img_align_celeba/img_align_celeba/200630.jpg  \n",
            "  inflating: img_align_celeba/img_align_celeba/200631.jpg  \n",
            "  inflating: img_align_celeba/img_align_celeba/200632.jpg  \n",
            "  inflating: img_align_celeba/img_align_celeba/200633.jpg  \n",
            "  inflating: img_align_celeba/img_align_celeba/200634.jpg  \n",
            "  inflating: img_align_celeba/img_align_celeba/200635.jpg  \n",
            "  inflating: img_align_celeba/img_align_celeba/200636.jpg  \n",
            "  inflating: img_align_celeba/img_align_celeba/200637.jpg  \n",
            "  inflating: img_align_celeba/img_align_celeba/200638.jpg  \n",
            "  inflating: img_align_celeba/img_align_celeba/200639.jpg  \n",
            "  inflating: img_align_celeba/img_align_celeba/200640.jpg  \n",
            "  inflating: img_align_celeba/img_align_celeba/200641.jpg  \n",
            "  inflating: img_align_celeba/img_align_celeba/200642.jpg  \n",
            "  inflating: img_align_celeba/img_align_celeba/200643.jpg  \n",
            "  inflating: img_align_celeba/img_align_celeba/200644.jpg  \n",
            "  inflating: img_align_celeba/img_align_celeba/200645.jpg  \n",
            "  inflating: img_align_celeba/img_align_celeba/200646.jpg  \n",
            "  inflating: img_align_celeba/img_align_celeba/200647.jpg  \n",
            "  inflating: img_align_celeba/img_align_celeba/200648.jpg  \n",
            "  inflating: img_align_celeba/img_align_celeba/200649.jpg  \n",
            "  inflating: img_align_celeba/img_align_celeba/200650.jpg  \n",
            "  inflating: img_align_celeba/img_align_celeba/200651.jpg  \n",
            "  inflating: img_align_celeba/img_align_celeba/200652.jpg  \n",
            "  inflating: img_align_celeba/img_align_celeba/200653.jpg  \n",
            "  inflating: img_align_celeba/img_align_celeba/200654.jpg  \n",
            "  inflating: img_align_celeba/img_align_celeba/200655.jpg  \n",
            "  inflating: img_align_celeba/img_align_celeba/200656.jpg  \n",
            "  inflating: img_align_celeba/img_align_celeba/200657.jpg  \n",
            "  inflating: img_align_celeba/img_align_celeba/200658.jpg  \n",
            "  inflating: img_align_celeba/img_align_celeba/200659.jpg  \n",
            "  inflating: img_align_celeba/img_align_celeba/200660.jpg  \n",
            "  inflating: img_align_celeba/img_align_celeba/200661.jpg  \n",
            "  inflating: img_align_celeba/img_align_celeba/200662.jpg  \n",
            "  inflating: img_align_celeba/img_align_celeba/200663.jpg  \n",
            "  inflating: img_align_celeba/img_align_celeba/200664.jpg  \n",
            "  inflating: img_align_celeba/img_align_celeba/200665.jpg  \n",
            "  inflating: img_align_celeba/img_align_celeba/200666.jpg  \n",
            "  inflating: img_align_celeba/img_align_celeba/200667.jpg  \n",
            "  inflating: img_align_celeba/img_align_celeba/200668.jpg  \n",
            "  inflating: img_align_celeba/img_align_celeba/200669.jpg  \n",
            "  inflating: img_align_celeba/img_align_celeba/200670.jpg  \n",
            "  inflating: img_align_celeba/img_align_celeba/200671.jpg  \n",
            "  inflating: img_align_celeba/img_align_celeba/200672.jpg  \n",
            "  inflating: img_align_celeba/img_align_celeba/200673.jpg  \n",
            "  inflating: img_align_celeba/img_align_celeba/200674.jpg  \n",
            "  inflating: img_align_celeba/img_align_celeba/200675.jpg  \n",
            "  inflating: img_align_celeba/img_align_celeba/200676.jpg  \n",
            "  inflating: img_align_celeba/img_align_celeba/200677.jpg  \n",
            "  inflating: img_align_celeba/img_align_celeba/200678.jpg  \n",
            "  inflating: img_align_celeba/img_align_celeba/200679.jpg  \n",
            "  inflating: img_align_celeba/img_align_celeba/200680.jpg  \n",
            "  inflating: img_align_celeba/img_align_celeba/200681.jpg  \n",
            "  inflating: img_align_celeba/img_align_celeba/200682.jpg  \n",
            "  inflating: img_align_celeba/img_align_celeba/200683.jpg  \n",
            "  inflating: img_align_celeba/img_align_celeba/200684.jpg  \n",
            "  inflating: img_align_celeba/img_align_celeba/200685.jpg  \n",
            "  inflating: img_align_celeba/img_align_celeba/200686.jpg  \n",
            "  inflating: img_align_celeba/img_align_celeba/200687.jpg  \n",
            "  inflating: img_align_celeba/img_align_celeba/200688.jpg  \n",
            "  inflating: img_align_celeba/img_align_celeba/200689.jpg  \n",
            "  inflating: img_align_celeba/img_align_celeba/200690.jpg  \n",
            "  inflating: img_align_celeba/img_align_celeba/200691.jpg  \n",
            "  inflating: img_align_celeba/img_align_celeba/200692.jpg  \n",
            "  inflating: img_align_celeba/img_align_celeba/200693.jpg  \n",
            "  inflating: img_align_celeba/img_align_celeba/200694.jpg  \n",
            "  inflating: img_align_celeba/img_align_celeba/200695.jpg  \n",
            "  inflating: img_align_celeba/img_align_celeba/200696.jpg  \n",
            "  inflating: img_align_celeba/img_align_celeba/200697.jpg  \n",
            "  inflating: img_align_celeba/img_align_celeba/200698.jpg  \n",
            "  inflating: img_align_celeba/img_align_celeba/200699.jpg  \n",
            "  inflating: img_align_celeba/img_align_celeba/200700.jpg  \n",
            "  inflating: img_align_celeba/img_align_celeba/200701.jpg  \n",
            "  inflating: img_align_celeba/img_align_celeba/200702.jpg  \n",
            "  inflating: img_align_celeba/img_align_celeba/200703.jpg  \n",
            "  inflating: img_align_celeba/img_align_celeba/200704.jpg  \n",
            "  inflating: img_align_celeba/img_align_celeba/200705.jpg  \n",
            "  inflating: img_align_celeba/img_align_celeba/200706.jpg  \n",
            "  inflating: img_align_celeba/img_align_celeba/200707.jpg  \n",
            "  inflating: img_align_celeba/img_align_celeba/200708.jpg  \n",
            "  inflating: img_align_celeba/img_align_celeba/200709.jpg  \n",
            "  inflating: img_align_celeba/img_align_celeba/200710.jpg  \n",
            "  inflating: img_align_celeba/img_align_celeba/200711.jpg  \n",
            "  inflating: img_align_celeba/img_align_celeba/200712.jpg  \n",
            "  inflating: img_align_celeba/img_align_celeba/200713.jpg  \n",
            "  inflating: img_align_celeba/img_align_celeba/200714.jpg  \n",
            "  inflating: img_align_celeba/img_align_celeba/200715.jpg  \n",
            "  inflating: img_align_celeba/img_align_celeba/200716.jpg  \n",
            "  inflating: img_align_celeba/img_align_celeba/200717.jpg  \n",
            "  inflating: img_align_celeba/img_align_celeba/200718.jpg  \n",
            "  inflating: img_align_celeba/img_align_celeba/200719.jpg  \n",
            "  inflating: img_align_celeba/img_align_celeba/200720.jpg  \n",
            "  inflating: img_align_celeba/img_align_celeba/200721.jpg  \n",
            "  inflating: img_align_celeba/img_align_celeba/200722.jpg  \n",
            "  inflating: img_align_celeba/img_align_celeba/200723.jpg  \n",
            "  inflating: img_align_celeba/img_align_celeba/200724.jpg  \n",
            "  inflating: img_align_celeba/img_align_celeba/200725.jpg  \n",
            "  inflating: img_align_celeba/img_align_celeba/200726.jpg  \n",
            "  inflating: img_align_celeba/img_align_celeba/200727.jpg  \n",
            "  inflating: img_align_celeba/img_align_celeba/200728.jpg  \n",
            "  inflating: img_align_celeba/img_align_celeba/200729.jpg  \n",
            "  inflating: img_align_celeba/img_align_celeba/200730.jpg  \n",
            "  inflating: img_align_celeba/img_align_celeba/200731.jpg  \n",
            "  inflating: img_align_celeba/img_align_celeba/200732.jpg  \n",
            "  inflating: img_align_celeba/img_align_celeba/200733.jpg  \n",
            "  inflating: img_align_celeba/img_align_celeba/200734.jpg  \n",
            "  inflating: img_align_celeba/img_align_celeba/200735.jpg  \n",
            "  inflating: img_align_celeba/img_align_celeba/200736.jpg  \n",
            "  inflating: img_align_celeba/img_align_celeba/200737.jpg  \n",
            "  inflating: img_align_celeba/img_align_celeba/200738.jpg  \n",
            "  inflating: img_align_celeba/img_align_celeba/200739.jpg  \n",
            "  inflating: img_align_celeba/img_align_celeba/200740.jpg  \n",
            "  inflating: img_align_celeba/img_align_celeba/200741.jpg  \n",
            "  inflating: img_align_celeba/img_align_celeba/200742.jpg  \n",
            "  inflating: img_align_celeba/img_align_celeba/200743.jpg  \n",
            "  inflating: img_align_celeba/img_align_celeba/200744.jpg  \n",
            "  inflating: img_align_celeba/img_align_celeba/200745.jpg  \n",
            "  inflating: img_align_celeba/img_align_celeba/200746.jpg  \n",
            "  inflating: img_align_celeba/img_align_celeba/200747.jpg  \n",
            "  inflating: img_align_celeba/img_align_celeba/200748.jpg  \n",
            "  inflating: img_align_celeba/img_align_celeba/200749.jpg  \n",
            "  inflating: img_align_celeba/img_align_celeba/200750.jpg  \n",
            "  inflating: img_align_celeba/img_align_celeba/200751.jpg  \n",
            "  inflating: img_align_celeba/img_align_celeba/200752.jpg  \n",
            "  inflating: img_align_celeba/img_align_celeba/200753.jpg  \n",
            "  inflating: img_align_celeba/img_align_celeba/200754.jpg  \n",
            "  inflating: img_align_celeba/img_align_celeba/200755.jpg  \n",
            "  inflating: img_align_celeba/img_align_celeba/200756.jpg  \n",
            "  inflating: img_align_celeba/img_align_celeba/200757.jpg  \n",
            "  inflating: img_align_celeba/img_align_celeba/200758.jpg  \n",
            "  inflating: img_align_celeba/img_align_celeba/200759.jpg  \n",
            "  inflating: img_align_celeba/img_align_celeba/200760.jpg  \n",
            "  inflating: img_align_celeba/img_align_celeba/200761.jpg  \n",
            "  inflating: img_align_celeba/img_align_celeba/200762.jpg  \n",
            "  inflating: img_align_celeba/img_align_celeba/200763.jpg  \n",
            "  inflating: img_align_celeba/img_align_celeba/200764.jpg  \n",
            "  inflating: img_align_celeba/img_align_celeba/200765.jpg  \n",
            "  inflating: img_align_celeba/img_align_celeba/200766.jpg  \n",
            "  inflating: img_align_celeba/img_align_celeba/200767.jpg  \n",
            "  inflating: img_align_celeba/img_align_celeba/200768.jpg  \n",
            "  inflating: img_align_celeba/img_align_celeba/200769.jpg  \n",
            "  inflating: img_align_celeba/img_align_celeba/200770.jpg  \n",
            "  inflating: img_align_celeba/img_align_celeba/200771.jpg  \n",
            "  inflating: img_align_celeba/img_align_celeba/200772.jpg  \n",
            "  inflating: img_align_celeba/img_align_celeba/200773.jpg  \n",
            "  inflating: img_align_celeba/img_align_celeba/200774.jpg  \n",
            "  inflating: img_align_celeba/img_align_celeba/200775.jpg  \n",
            "  inflating: img_align_celeba/img_align_celeba/200776.jpg  \n",
            "  inflating: img_align_celeba/img_align_celeba/200777.jpg  \n",
            "  inflating: img_align_celeba/img_align_celeba/200778.jpg  \n",
            "  inflating: img_align_celeba/img_align_celeba/200779.jpg  \n",
            "  inflating: img_align_celeba/img_align_celeba/200780.jpg  \n",
            "  inflating: img_align_celeba/img_align_celeba/200781.jpg  \n",
            "  inflating: img_align_celeba/img_align_celeba/200782.jpg  \n",
            "  inflating: img_align_celeba/img_align_celeba/200783.jpg  \n",
            "  inflating: img_align_celeba/img_align_celeba/200784.jpg  \n",
            "  inflating: img_align_celeba/img_align_celeba/200785.jpg  \n",
            "  inflating: img_align_celeba/img_align_celeba/200786.jpg  \n",
            "  inflating: img_align_celeba/img_align_celeba/200787.jpg  \n",
            "  inflating: img_align_celeba/img_align_celeba/200788.jpg  \n",
            "  inflating: img_align_celeba/img_align_celeba/200789.jpg  \n",
            "  inflating: img_align_celeba/img_align_celeba/200790.jpg  \n",
            "  inflating: img_align_celeba/img_align_celeba/200791.jpg  \n",
            "  inflating: img_align_celeba/img_align_celeba/200792.jpg  \n",
            "  inflating: img_align_celeba/img_align_celeba/200793.jpg  \n",
            "  inflating: img_align_celeba/img_align_celeba/200794.jpg  \n",
            "  inflating: img_align_celeba/img_align_celeba/200795.jpg  \n",
            "  inflating: img_align_celeba/img_align_celeba/200796.jpg  \n",
            "  inflating: img_align_celeba/img_align_celeba/200797.jpg  \n",
            "  inflating: img_align_celeba/img_align_celeba/200798.jpg  \n",
            "  inflating: img_align_celeba/img_align_celeba/200799.jpg  \n",
            "  inflating: img_align_celeba/img_align_celeba/200800.jpg  \n",
            "  inflating: img_align_celeba/img_align_celeba/200801.jpg  \n",
            "  inflating: img_align_celeba/img_align_celeba/200802.jpg  \n",
            "  inflating: img_align_celeba/img_align_celeba/200803.jpg  \n",
            "  inflating: img_align_celeba/img_align_celeba/200804.jpg  \n",
            "  inflating: img_align_celeba/img_align_celeba/200805.jpg  \n",
            "  inflating: img_align_celeba/img_align_celeba/200806.jpg  \n",
            "  inflating: img_align_celeba/img_align_celeba/200807.jpg  \n",
            "  inflating: img_align_celeba/img_align_celeba/200808.jpg  \n",
            "  inflating: img_align_celeba/img_align_celeba/200809.jpg  \n",
            "  inflating: img_align_celeba/img_align_celeba/200810.jpg  \n",
            "  inflating: img_align_celeba/img_align_celeba/200811.jpg  \n",
            "  inflating: img_align_celeba/img_align_celeba/200812.jpg  \n",
            "  inflating: img_align_celeba/img_align_celeba/200813.jpg  \n",
            "  inflating: img_align_celeba/img_align_celeba/200814.jpg  \n",
            "  inflating: img_align_celeba/img_align_celeba/200815.jpg  \n",
            "  inflating: img_align_celeba/img_align_celeba/200816.jpg  \n",
            "  inflating: img_align_celeba/img_align_celeba/200817.jpg  \n",
            "  inflating: img_align_celeba/img_align_celeba/200818.jpg  \n",
            "  inflating: img_align_celeba/img_align_celeba/200819.jpg  \n",
            "  inflating: img_align_celeba/img_align_celeba/200820.jpg  \n",
            "  inflating: img_align_celeba/img_align_celeba/200821.jpg  \n",
            "  inflating: img_align_celeba/img_align_celeba/200822.jpg  \n",
            "  inflating: img_align_celeba/img_align_celeba/200823.jpg  \n",
            "  inflating: img_align_celeba/img_align_celeba/200824.jpg  \n",
            "  inflating: img_align_celeba/img_align_celeba/200825.jpg  \n",
            "  inflating: img_align_celeba/img_align_celeba/200826.jpg  \n",
            "  inflating: img_align_celeba/img_align_celeba/200827.jpg  \n",
            "  inflating: img_align_celeba/img_align_celeba/200828.jpg  \n",
            "  inflating: img_align_celeba/img_align_celeba/200829.jpg  \n",
            "  inflating: img_align_celeba/img_align_celeba/200830.jpg  \n",
            "  inflating: img_align_celeba/img_align_celeba/200831.jpg  \n",
            "  inflating: img_align_celeba/img_align_celeba/200832.jpg  \n",
            "  inflating: img_align_celeba/img_align_celeba/200833.jpg  \n",
            "  inflating: img_align_celeba/img_align_celeba/200834.jpg  \n",
            "  inflating: img_align_celeba/img_align_celeba/200835.jpg  \n",
            "  inflating: img_align_celeba/img_align_celeba/200836.jpg  \n",
            "  inflating: img_align_celeba/img_align_celeba/200837.jpg  \n",
            "  inflating: img_align_celeba/img_align_celeba/200838.jpg  \n",
            "  inflating: img_align_celeba/img_align_celeba/200839.jpg  \n",
            "  inflating: img_align_celeba/img_align_celeba/200840.jpg  \n",
            "  inflating: img_align_celeba/img_align_celeba/200841.jpg  \n",
            "  inflating: img_align_celeba/img_align_celeba/200842.jpg  \n",
            "  inflating: img_align_celeba/img_align_celeba/200843.jpg  \n",
            "  inflating: img_align_celeba/img_align_celeba/200844.jpg  \n",
            "  inflating: img_align_celeba/img_align_celeba/200845.jpg  \n",
            "  inflating: img_align_celeba/img_align_celeba/200846.jpg  \n",
            "  inflating: img_align_celeba/img_align_celeba/200847.jpg  \n",
            "  inflating: img_align_celeba/img_align_celeba/200848.jpg  \n",
            "  inflating: img_align_celeba/img_align_celeba/200849.jpg  \n",
            "  inflating: img_align_celeba/img_align_celeba/200850.jpg  \n",
            "  inflating: img_align_celeba/img_align_celeba/200851.jpg  \n",
            "  inflating: img_align_celeba/img_align_celeba/200852.jpg  \n",
            "  inflating: img_align_celeba/img_align_celeba/200853.jpg  \n",
            "  inflating: img_align_celeba/img_align_celeba/200854.jpg  \n",
            "  inflating: img_align_celeba/img_align_celeba/200855.jpg  \n",
            "  inflating: img_align_celeba/img_align_celeba/200856.jpg  \n",
            "  inflating: img_align_celeba/img_align_celeba/200857.jpg  \n",
            "  inflating: img_align_celeba/img_align_celeba/200858.jpg  \n",
            "  inflating: img_align_celeba/img_align_celeba/200859.jpg  \n",
            "  inflating: img_align_celeba/img_align_celeba/200860.jpg  \n",
            "  inflating: img_align_celeba/img_align_celeba/200861.jpg  \n",
            "  inflating: img_align_celeba/img_align_celeba/200862.jpg  \n",
            "  inflating: img_align_celeba/img_align_celeba/200863.jpg  \n",
            "  inflating: img_align_celeba/img_align_celeba/200864.jpg  \n",
            "  inflating: img_align_celeba/img_align_celeba/200865.jpg  \n",
            "  inflating: img_align_celeba/img_align_celeba/200866.jpg  \n",
            "  inflating: img_align_celeba/img_align_celeba/200867.jpg  \n",
            "  inflating: img_align_celeba/img_align_celeba/200868.jpg  \n",
            "  inflating: img_align_celeba/img_align_celeba/200869.jpg  \n",
            "  inflating: img_align_celeba/img_align_celeba/200870.jpg  \n",
            "  inflating: img_align_celeba/img_align_celeba/200871.jpg  \n",
            "  inflating: img_align_celeba/img_align_celeba/200872.jpg  \n",
            "  inflating: img_align_celeba/img_align_celeba/200873.jpg  \n",
            "  inflating: img_align_celeba/img_align_celeba/200874.jpg  \n",
            "  inflating: img_align_celeba/img_align_celeba/200875.jpg  \n",
            "  inflating: img_align_celeba/img_align_celeba/200876.jpg  \n",
            "  inflating: img_align_celeba/img_align_celeba/200877.jpg  \n",
            "  inflating: img_align_celeba/img_align_celeba/200878.jpg  \n",
            "  inflating: img_align_celeba/img_align_celeba/200879.jpg  \n",
            "  inflating: img_align_celeba/img_align_celeba/200880.jpg  \n",
            "  inflating: img_align_celeba/img_align_celeba/200881.jpg  \n",
            "  inflating: img_align_celeba/img_align_celeba/200882.jpg  \n",
            "  inflating: img_align_celeba/img_align_celeba/200883.jpg  \n",
            "  inflating: img_align_celeba/img_align_celeba/200884.jpg  \n",
            "  inflating: img_align_celeba/img_align_celeba/200885.jpg  \n",
            "  inflating: img_align_celeba/img_align_celeba/200886.jpg  \n",
            "  inflating: img_align_celeba/img_align_celeba/200887.jpg  \n",
            "  inflating: img_align_celeba/img_align_celeba/200888.jpg  \n",
            "  inflating: img_align_celeba/img_align_celeba/200889.jpg  \n",
            "  inflating: img_align_celeba/img_align_celeba/200890.jpg  \n",
            "  inflating: img_align_celeba/img_align_celeba/200891.jpg  \n",
            "  inflating: img_align_celeba/img_align_celeba/200892.jpg  \n",
            "  inflating: img_align_celeba/img_align_celeba/200893.jpg  \n",
            "  inflating: img_align_celeba/img_align_celeba/200894.jpg  \n",
            "  inflating: img_align_celeba/img_align_celeba/200895.jpg  \n",
            "  inflating: img_align_celeba/img_align_celeba/200896.jpg  \n",
            "  inflating: img_align_celeba/img_align_celeba/200897.jpg  \n",
            "  inflating: img_align_celeba/img_align_celeba/200898.jpg  \n",
            "  inflating: img_align_celeba/img_align_celeba/200899.jpg  \n",
            "  inflating: img_align_celeba/img_align_celeba/200900.jpg  \n",
            "  inflating: img_align_celeba/img_align_celeba/200901.jpg  \n",
            "  inflating: img_align_celeba/img_align_celeba/200902.jpg  \n",
            "  inflating: img_align_celeba/img_align_celeba/200903.jpg  \n",
            "  inflating: img_align_celeba/img_align_celeba/200904.jpg  \n",
            "  inflating: img_align_celeba/img_align_celeba/200905.jpg  \n",
            "  inflating: img_align_celeba/img_align_celeba/200906.jpg  \n",
            "  inflating: img_align_celeba/img_align_celeba/200907.jpg  \n",
            "  inflating: img_align_celeba/img_align_celeba/200908.jpg  \n",
            "  inflating: img_align_celeba/img_align_celeba/200909.jpg  \n",
            "  inflating: img_align_celeba/img_align_celeba/200910.jpg  \n",
            "  inflating: img_align_celeba/img_align_celeba/200911.jpg  \n",
            "  inflating: img_align_celeba/img_align_celeba/200912.jpg  \n",
            "  inflating: img_align_celeba/img_align_celeba/200913.jpg  \n",
            "  inflating: img_align_celeba/img_align_celeba/200914.jpg  \n",
            "  inflating: img_align_celeba/img_align_celeba/200915.jpg  \n",
            "  inflating: img_align_celeba/img_align_celeba/200916.jpg  \n",
            "  inflating: img_align_celeba/img_align_celeba/200917.jpg  \n",
            "  inflating: img_align_celeba/img_align_celeba/200918.jpg  \n",
            "  inflating: img_align_celeba/img_align_celeba/200919.jpg  \n",
            "  inflating: img_align_celeba/img_align_celeba/200920.jpg  \n",
            "  inflating: img_align_celeba/img_align_celeba/200921.jpg  \n",
            "  inflating: img_align_celeba/img_align_celeba/200922.jpg  \n",
            "  inflating: img_align_celeba/img_align_celeba/200923.jpg  \n",
            "  inflating: img_align_celeba/img_align_celeba/200924.jpg  \n",
            "  inflating: img_align_celeba/img_align_celeba/200925.jpg  \n",
            "  inflating: img_align_celeba/img_align_celeba/200926.jpg  \n",
            "  inflating: img_align_celeba/img_align_celeba/200927.jpg  \n",
            "  inflating: img_align_celeba/img_align_celeba/200928.jpg  \n",
            "  inflating: img_align_celeba/img_align_celeba/200929.jpg  \n",
            "  inflating: img_align_celeba/img_align_celeba/200930.jpg  \n",
            "  inflating: img_align_celeba/img_align_celeba/200931.jpg  \n",
            "  inflating: img_align_celeba/img_align_celeba/200932.jpg  \n",
            "  inflating: img_align_celeba/img_align_celeba/200933.jpg  \n",
            "  inflating: img_align_celeba/img_align_celeba/200934.jpg  \n",
            "  inflating: img_align_celeba/img_align_celeba/200935.jpg  \n",
            "  inflating: img_align_celeba/img_align_celeba/200936.jpg  \n",
            "  inflating: img_align_celeba/img_align_celeba/200937.jpg  \n",
            "  inflating: img_align_celeba/img_align_celeba/200938.jpg  \n",
            "  inflating: img_align_celeba/img_align_celeba/200939.jpg  \n",
            "  inflating: img_align_celeba/img_align_celeba/200940.jpg  \n",
            "  inflating: img_align_celeba/img_align_celeba/200941.jpg  \n",
            "  inflating: img_align_celeba/img_align_celeba/200942.jpg  \n",
            "  inflating: img_align_celeba/img_align_celeba/200943.jpg  \n",
            "  inflating: img_align_celeba/img_align_celeba/200944.jpg  \n",
            "  inflating: img_align_celeba/img_align_celeba/200945.jpg  \n",
            "  inflating: img_align_celeba/img_align_celeba/200946.jpg  \n",
            "  inflating: img_align_celeba/img_align_celeba/200947.jpg  \n",
            "  inflating: img_align_celeba/img_align_celeba/200948.jpg  \n",
            "  inflating: img_align_celeba/img_align_celeba/200949.jpg  \n",
            "  inflating: img_align_celeba/img_align_celeba/200950.jpg  \n",
            "  inflating: img_align_celeba/img_align_celeba/200951.jpg  \n",
            "  inflating: img_align_celeba/img_align_celeba/200952.jpg  \n",
            "  inflating: img_align_celeba/img_align_celeba/200953.jpg  \n",
            "  inflating: img_align_celeba/img_align_celeba/200954.jpg  \n",
            "  inflating: img_align_celeba/img_align_celeba/200955.jpg  \n",
            "  inflating: img_align_celeba/img_align_celeba/200956.jpg  \n",
            "  inflating: img_align_celeba/img_align_celeba/200957.jpg  \n",
            "  inflating: img_align_celeba/img_align_celeba/200958.jpg  \n",
            "  inflating: img_align_celeba/img_align_celeba/200959.jpg  \n",
            "  inflating: img_align_celeba/img_align_celeba/200960.jpg  \n",
            "  inflating: img_align_celeba/img_align_celeba/200961.jpg  \n",
            "  inflating: img_align_celeba/img_align_celeba/200962.jpg  \n",
            "  inflating: img_align_celeba/img_align_celeba/200963.jpg  \n",
            "  inflating: img_align_celeba/img_align_celeba/200964.jpg  \n",
            "  inflating: img_align_celeba/img_align_celeba/200965.jpg  \n",
            "  inflating: img_align_celeba/img_align_celeba/200966.jpg  \n",
            "  inflating: img_align_celeba/img_align_celeba/200967.jpg  \n",
            "  inflating: img_align_celeba/img_align_celeba/200968.jpg  \n",
            "  inflating: img_align_celeba/img_align_celeba/200969.jpg  \n",
            "  inflating: img_align_celeba/img_align_celeba/200970.jpg  \n",
            "  inflating: img_align_celeba/img_align_celeba/200971.jpg  \n",
            "  inflating: img_align_celeba/img_align_celeba/200972.jpg  \n",
            "  inflating: img_align_celeba/img_align_celeba/200973.jpg  \n",
            "  inflating: img_align_celeba/img_align_celeba/200974.jpg  \n",
            "  inflating: img_align_celeba/img_align_celeba/200975.jpg  \n",
            "  inflating: img_align_celeba/img_align_celeba/200976.jpg  \n",
            "  inflating: img_align_celeba/img_align_celeba/200977.jpg  \n",
            "  inflating: img_align_celeba/img_align_celeba/200978.jpg  \n",
            "  inflating: img_align_celeba/img_align_celeba/200979.jpg  \n",
            "  inflating: img_align_celeba/img_align_celeba/200980.jpg  \n",
            "  inflating: img_align_celeba/img_align_celeba/200981.jpg  \n",
            "  inflating: img_align_celeba/img_align_celeba/200982.jpg  \n",
            "  inflating: img_align_celeba/img_align_celeba/200983.jpg  \n",
            "  inflating: img_align_celeba/img_align_celeba/200984.jpg  \n",
            "  inflating: img_align_celeba/img_align_celeba/200985.jpg  \n",
            "  inflating: img_align_celeba/img_align_celeba/200986.jpg  \n",
            "  inflating: img_align_celeba/img_align_celeba/200987.jpg  \n",
            "  inflating: img_align_celeba/img_align_celeba/200988.jpg  \n",
            "  inflating: img_align_celeba/img_align_celeba/200989.jpg  \n",
            "  inflating: img_align_celeba/img_align_celeba/200990.jpg  \n",
            "  inflating: img_align_celeba/img_align_celeba/200991.jpg  \n",
            "  inflating: img_align_celeba/img_align_celeba/200992.jpg  \n",
            "  inflating: img_align_celeba/img_align_celeba/200993.jpg  \n",
            "  inflating: img_align_celeba/img_align_celeba/200994.jpg  \n",
            "  inflating: img_align_celeba/img_align_celeba/200995.jpg  \n",
            "  inflating: img_align_celeba/img_align_celeba/200996.jpg  \n",
            "  inflating: img_align_celeba/img_align_celeba/200997.jpg  \n",
            "  inflating: img_align_celeba/img_align_celeba/200998.jpg  \n",
            "  inflating: img_align_celeba/img_align_celeba/200999.jpg  \n",
            "  inflating: img_align_celeba/img_align_celeba/201000.jpg  \n",
            "  inflating: img_align_celeba/img_align_celeba/201001.jpg  \n",
            "  inflating: img_align_celeba/img_align_celeba/201002.jpg  \n",
            "  inflating: img_align_celeba/img_align_celeba/201003.jpg  \n",
            "  inflating: img_align_celeba/img_align_celeba/201004.jpg  \n",
            "  inflating: img_align_celeba/img_align_celeba/201005.jpg  \n",
            "  inflating: img_align_celeba/img_align_celeba/201006.jpg  \n",
            "  inflating: img_align_celeba/img_align_celeba/201007.jpg  \n",
            "  inflating: img_align_celeba/img_align_celeba/201008.jpg  \n",
            "  inflating: img_align_celeba/img_align_celeba/201009.jpg  \n",
            "  inflating: img_align_celeba/img_align_celeba/201010.jpg  \n",
            "  inflating: img_align_celeba/img_align_celeba/201011.jpg  \n",
            "  inflating: img_align_celeba/img_align_celeba/201012.jpg  \n",
            "  inflating: img_align_celeba/img_align_celeba/201013.jpg  \n",
            "  inflating: img_align_celeba/img_align_celeba/201014.jpg  \n",
            "  inflating: img_align_celeba/img_align_celeba/201015.jpg  \n",
            "  inflating: img_align_celeba/img_align_celeba/201016.jpg  \n",
            "  inflating: img_align_celeba/img_align_celeba/201017.jpg  \n",
            "  inflating: img_align_celeba/img_align_celeba/201018.jpg  \n",
            "  inflating: img_align_celeba/img_align_celeba/201019.jpg  \n",
            "  inflating: img_align_celeba/img_align_celeba/201020.jpg  \n",
            "  inflating: img_align_celeba/img_align_celeba/201021.jpg  \n",
            "  inflating: img_align_celeba/img_align_celeba/201022.jpg  \n",
            "  inflating: img_align_celeba/img_align_celeba/201023.jpg  \n",
            "  inflating: img_align_celeba/img_align_celeba/201024.jpg  \n",
            "  inflating: img_align_celeba/img_align_celeba/201025.jpg  \n",
            "  inflating: img_align_celeba/img_align_celeba/201026.jpg  \n",
            "  inflating: img_align_celeba/img_align_celeba/201027.jpg  \n",
            "  inflating: img_align_celeba/img_align_celeba/201028.jpg  \n",
            "  inflating: img_align_celeba/img_align_celeba/201029.jpg  \n",
            "  inflating: img_align_celeba/img_align_celeba/201030.jpg  \n",
            "  inflating: img_align_celeba/img_align_celeba/201031.jpg  \n",
            "  inflating: img_align_celeba/img_align_celeba/201032.jpg  \n",
            "  inflating: img_align_celeba/img_align_celeba/201033.jpg  \n",
            "  inflating: img_align_celeba/img_align_celeba/201034.jpg  \n",
            "  inflating: img_align_celeba/img_align_celeba/201035.jpg  \n",
            "  inflating: img_align_celeba/img_align_celeba/201036.jpg  \n",
            "  inflating: img_align_celeba/img_align_celeba/201037.jpg  \n",
            "  inflating: img_align_celeba/img_align_celeba/201038.jpg  \n",
            "  inflating: img_align_celeba/img_align_celeba/201039.jpg  \n",
            "  inflating: img_align_celeba/img_align_celeba/201040.jpg  \n",
            "  inflating: img_align_celeba/img_align_celeba/201041.jpg  \n",
            "  inflating: img_align_celeba/img_align_celeba/201042.jpg  \n",
            "  inflating: img_align_celeba/img_align_celeba/201043.jpg  \n",
            "  inflating: img_align_celeba/img_align_celeba/201044.jpg  \n",
            "  inflating: img_align_celeba/img_align_celeba/201045.jpg  \n",
            "  inflating: img_align_celeba/img_align_celeba/201046.jpg  \n",
            "  inflating: img_align_celeba/img_align_celeba/201047.jpg  \n",
            "  inflating: img_align_celeba/img_align_celeba/201048.jpg  \n",
            "  inflating: img_align_celeba/img_align_celeba/201049.jpg  \n",
            "  inflating: img_align_celeba/img_align_celeba/201050.jpg  \n",
            "  inflating: img_align_celeba/img_align_celeba/201051.jpg  \n",
            "  inflating: img_align_celeba/img_align_celeba/201052.jpg  \n",
            "  inflating: img_align_celeba/img_align_celeba/201053.jpg  \n",
            "  inflating: img_align_celeba/img_align_celeba/201054.jpg  \n",
            "  inflating: img_align_celeba/img_align_celeba/201055.jpg  \n",
            "  inflating: img_align_celeba/img_align_celeba/201056.jpg  \n",
            "  inflating: img_align_celeba/img_align_celeba/201057.jpg  \n",
            "  inflating: img_align_celeba/img_align_celeba/201058.jpg  \n",
            "  inflating: img_align_celeba/img_align_celeba/201059.jpg  \n",
            "  inflating: img_align_celeba/img_align_celeba/201060.jpg  \n",
            "  inflating: img_align_celeba/img_align_celeba/201061.jpg  \n",
            "  inflating: img_align_celeba/img_align_celeba/201062.jpg  \n",
            "  inflating: img_align_celeba/img_align_celeba/201063.jpg  \n",
            "  inflating: img_align_celeba/img_align_celeba/201064.jpg  \n",
            "  inflating: img_align_celeba/img_align_celeba/201065.jpg  \n",
            "  inflating: img_align_celeba/img_align_celeba/201066.jpg  \n",
            "  inflating: img_align_celeba/img_align_celeba/201067.jpg  \n",
            "  inflating: img_align_celeba/img_align_celeba/201068.jpg  \n",
            "  inflating: img_align_celeba/img_align_celeba/201069.jpg  \n",
            "  inflating: img_align_celeba/img_align_celeba/201070.jpg  \n",
            "  inflating: img_align_celeba/img_align_celeba/201071.jpg  \n",
            "  inflating: img_align_celeba/img_align_celeba/201072.jpg  \n",
            "  inflating: img_align_celeba/img_align_celeba/201073.jpg  \n",
            "  inflating: img_align_celeba/img_align_celeba/201074.jpg  \n",
            "  inflating: img_align_celeba/img_align_celeba/201075.jpg  \n",
            "  inflating: img_align_celeba/img_align_celeba/201076.jpg  \n",
            "  inflating: img_align_celeba/img_align_celeba/201077.jpg  \n",
            "  inflating: img_align_celeba/img_align_celeba/201078.jpg  \n",
            "  inflating: img_align_celeba/img_align_celeba/201079.jpg  \n",
            "  inflating: img_align_celeba/img_align_celeba/201080.jpg  \n",
            "  inflating: img_align_celeba/img_align_celeba/201081.jpg  \n",
            "  inflating: img_align_celeba/img_align_celeba/201082.jpg  \n",
            "  inflating: img_align_celeba/img_align_celeba/201083.jpg  \n",
            "  inflating: img_align_celeba/img_align_celeba/201084.jpg  \n",
            "  inflating: img_align_celeba/img_align_celeba/201085.jpg  \n",
            "  inflating: img_align_celeba/img_align_celeba/201086.jpg  \n",
            "  inflating: img_align_celeba/img_align_celeba/201087.jpg  \n",
            "  inflating: img_align_celeba/img_align_celeba/201088.jpg  \n",
            "  inflating: img_align_celeba/img_align_celeba/201089.jpg  \n",
            "  inflating: img_align_celeba/img_align_celeba/201090.jpg  \n",
            "  inflating: img_align_celeba/img_align_celeba/201091.jpg  \n",
            "  inflating: img_align_celeba/img_align_celeba/201092.jpg  \n",
            "  inflating: img_align_celeba/img_align_celeba/201093.jpg  \n",
            "  inflating: img_align_celeba/img_align_celeba/201094.jpg  \n",
            "  inflating: img_align_celeba/img_align_celeba/201095.jpg  \n",
            "  inflating: img_align_celeba/img_align_celeba/201096.jpg  \n",
            "  inflating: img_align_celeba/img_align_celeba/201097.jpg  \n",
            "  inflating: img_align_celeba/img_align_celeba/201098.jpg  \n",
            "  inflating: img_align_celeba/img_align_celeba/201099.jpg  \n",
            "  inflating: img_align_celeba/img_align_celeba/201100.jpg  \n",
            "  inflating: img_align_celeba/img_align_celeba/201101.jpg  \n",
            "  inflating: img_align_celeba/img_align_celeba/201102.jpg  \n",
            "  inflating: img_align_celeba/img_align_celeba/201103.jpg  \n",
            "  inflating: img_align_celeba/img_align_celeba/201104.jpg  \n",
            "  inflating: img_align_celeba/img_align_celeba/201105.jpg  \n",
            "  inflating: img_align_celeba/img_align_celeba/201106.jpg  \n",
            "  inflating: img_align_celeba/img_align_celeba/201107.jpg  \n",
            "  inflating: img_align_celeba/img_align_celeba/201108.jpg  \n",
            "  inflating: img_align_celeba/img_align_celeba/201109.jpg  \n",
            "  inflating: img_align_celeba/img_align_celeba/201110.jpg  \n",
            "  inflating: img_align_celeba/img_align_celeba/201111.jpg  \n",
            "  inflating: img_align_celeba/img_align_celeba/201112.jpg  \n",
            "  inflating: img_align_celeba/img_align_celeba/201113.jpg  \n",
            "  inflating: img_align_celeba/img_align_celeba/201114.jpg  \n",
            "  inflating: img_align_celeba/img_align_celeba/201115.jpg  \n",
            "  inflating: img_align_celeba/img_align_celeba/201116.jpg  \n",
            "  inflating: img_align_celeba/img_align_celeba/201117.jpg  \n",
            "  inflating: img_align_celeba/img_align_celeba/201118.jpg  \n",
            "  inflating: img_align_celeba/img_align_celeba/201119.jpg  \n",
            "  inflating: img_align_celeba/img_align_celeba/201120.jpg  \n",
            "  inflating: img_align_celeba/img_align_celeba/201121.jpg  \n",
            "  inflating: img_align_celeba/img_align_celeba/201122.jpg  \n",
            "  inflating: img_align_celeba/img_align_celeba/201123.jpg  \n",
            "  inflating: img_align_celeba/img_align_celeba/201124.jpg  \n",
            "  inflating: img_align_celeba/img_align_celeba/201125.jpg  \n",
            "  inflating: img_align_celeba/img_align_celeba/201126.jpg  \n",
            "  inflating: img_align_celeba/img_align_celeba/201127.jpg  \n",
            "  inflating: img_align_celeba/img_align_celeba/201128.jpg  \n",
            "  inflating: img_align_celeba/img_align_celeba/201129.jpg  \n",
            "  inflating: img_align_celeba/img_align_celeba/201130.jpg  \n",
            "  inflating: img_align_celeba/img_align_celeba/201131.jpg  \n",
            "  inflating: img_align_celeba/img_align_celeba/201132.jpg  \n",
            "  inflating: img_align_celeba/img_align_celeba/201133.jpg  \n",
            "  inflating: img_align_celeba/img_align_celeba/201134.jpg  \n",
            "  inflating: img_align_celeba/img_align_celeba/201135.jpg  \n",
            "  inflating: img_align_celeba/img_align_celeba/201136.jpg  \n",
            "  inflating: img_align_celeba/img_align_celeba/201137.jpg  \n",
            "  inflating: img_align_celeba/img_align_celeba/201138.jpg  \n",
            "  inflating: img_align_celeba/img_align_celeba/201139.jpg  \n",
            "  inflating: img_align_celeba/img_align_celeba/201140.jpg  \n",
            "  inflating: img_align_celeba/img_align_celeba/201141.jpg  \n",
            "  inflating: img_align_celeba/img_align_celeba/201142.jpg  \n",
            "  inflating: img_align_celeba/img_align_celeba/201143.jpg  \n",
            "  inflating: img_align_celeba/img_align_celeba/201144.jpg  \n",
            "  inflating: img_align_celeba/img_align_celeba/201145.jpg  \n",
            "  inflating: img_align_celeba/img_align_celeba/201146.jpg  \n",
            "  inflating: img_align_celeba/img_align_celeba/201147.jpg  \n",
            "  inflating: img_align_celeba/img_align_celeba/201148.jpg  \n",
            "  inflating: img_align_celeba/img_align_celeba/201149.jpg  \n",
            "  inflating: img_align_celeba/img_align_celeba/201150.jpg  \n",
            "  inflating: img_align_celeba/img_align_celeba/201151.jpg  \n",
            "  inflating: img_align_celeba/img_align_celeba/201152.jpg  \n",
            "  inflating: img_align_celeba/img_align_celeba/201153.jpg  \n",
            "  inflating: img_align_celeba/img_align_celeba/201154.jpg  \n",
            "  inflating: img_align_celeba/img_align_celeba/201155.jpg  \n",
            "  inflating: img_align_celeba/img_align_celeba/201156.jpg  \n",
            "  inflating: img_align_celeba/img_align_celeba/201157.jpg  \n",
            "  inflating: img_align_celeba/img_align_celeba/201158.jpg  \n",
            "  inflating: img_align_celeba/img_align_celeba/201159.jpg  \n",
            "  inflating: img_align_celeba/img_align_celeba/201160.jpg  \n",
            "  inflating: img_align_celeba/img_align_celeba/201161.jpg  \n",
            "  inflating: img_align_celeba/img_align_celeba/201162.jpg  \n",
            "  inflating: img_align_celeba/img_align_celeba/201163.jpg  \n",
            "  inflating: img_align_celeba/img_align_celeba/201164.jpg  \n",
            "  inflating: img_align_celeba/img_align_celeba/201165.jpg  \n",
            "  inflating: img_align_celeba/img_align_celeba/201166.jpg  \n",
            "  inflating: img_align_celeba/img_align_celeba/201167.jpg  \n",
            "  inflating: img_align_celeba/img_align_celeba/201168.jpg  \n",
            "  inflating: img_align_celeba/img_align_celeba/201169.jpg  \n",
            "  inflating: img_align_celeba/img_align_celeba/201170.jpg  \n",
            "  inflating: img_align_celeba/img_align_celeba/201171.jpg  \n",
            "  inflating: img_align_celeba/img_align_celeba/201172.jpg  \n",
            "  inflating: img_align_celeba/img_align_celeba/201173.jpg  \n",
            "  inflating: img_align_celeba/img_align_celeba/201174.jpg  \n",
            "  inflating: img_align_celeba/img_align_celeba/201175.jpg  \n",
            "  inflating: img_align_celeba/img_align_celeba/201176.jpg  \n",
            "  inflating: img_align_celeba/img_align_celeba/201177.jpg  \n",
            "  inflating: img_align_celeba/img_align_celeba/201178.jpg  \n",
            "  inflating: img_align_celeba/img_align_celeba/201179.jpg  \n",
            "  inflating: img_align_celeba/img_align_celeba/201180.jpg  \n",
            "  inflating: img_align_celeba/img_align_celeba/201181.jpg  \n",
            "  inflating: img_align_celeba/img_align_celeba/201182.jpg  \n",
            "  inflating: img_align_celeba/img_align_celeba/201183.jpg  \n",
            "  inflating: img_align_celeba/img_align_celeba/201184.jpg  \n",
            "  inflating: img_align_celeba/img_align_celeba/201185.jpg  \n",
            "  inflating: img_align_celeba/img_align_celeba/201186.jpg  \n",
            "  inflating: img_align_celeba/img_align_celeba/201187.jpg  \n",
            "  inflating: img_align_celeba/img_align_celeba/201188.jpg  \n",
            "  inflating: img_align_celeba/img_align_celeba/201189.jpg  \n",
            "  inflating: img_align_celeba/img_align_celeba/201190.jpg  \n",
            "  inflating: img_align_celeba/img_align_celeba/201191.jpg  \n",
            "  inflating: img_align_celeba/img_align_celeba/201192.jpg  \n",
            "  inflating: img_align_celeba/img_align_celeba/201193.jpg  \n",
            "  inflating: img_align_celeba/img_align_celeba/201194.jpg  \n",
            "  inflating: img_align_celeba/img_align_celeba/201195.jpg  \n",
            "  inflating: img_align_celeba/img_align_celeba/201196.jpg  \n",
            "  inflating: img_align_celeba/img_align_celeba/201197.jpg  \n",
            "  inflating: img_align_celeba/img_align_celeba/201198.jpg  \n",
            "  inflating: img_align_celeba/img_align_celeba/201199.jpg  \n",
            "  inflating: img_align_celeba/img_align_celeba/201200.jpg  \n",
            "  inflating: img_align_celeba/img_align_celeba/201201.jpg  \n",
            "  inflating: img_align_celeba/img_align_celeba/201202.jpg  \n",
            "  inflating: img_align_celeba/img_align_celeba/201203.jpg  \n",
            "  inflating: img_align_celeba/img_align_celeba/201204.jpg  \n",
            "  inflating: img_align_celeba/img_align_celeba/201205.jpg  \n",
            "  inflating: img_align_celeba/img_align_celeba/201206.jpg  \n",
            "  inflating: img_align_celeba/img_align_celeba/201207.jpg  \n",
            "  inflating: img_align_celeba/img_align_celeba/201208.jpg  \n",
            "  inflating: img_align_celeba/img_align_celeba/201209.jpg  \n",
            "  inflating: img_align_celeba/img_align_celeba/201210.jpg  \n",
            "  inflating: img_align_celeba/img_align_celeba/201211.jpg  \n",
            "  inflating: img_align_celeba/img_align_celeba/201212.jpg  \n",
            "  inflating: img_align_celeba/img_align_celeba/201213.jpg  \n",
            "  inflating: img_align_celeba/img_align_celeba/201214.jpg  \n",
            "  inflating: img_align_celeba/img_align_celeba/201215.jpg  \n",
            "  inflating: img_align_celeba/img_align_celeba/201216.jpg  \n",
            "  inflating: img_align_celeba/img_align_celeba/201217.jpg  \n",
            "  inflating: img_align_celeba/img_align_celeba/201218.jpg  \n",
            "  inflating: img_align_celeba/img_align_celeba/201219.jpg  \n",
            "  inflating: img_align_celeba/img_align_celeba/201220.jpg  \n",
            "  inflating: img_align_celeba/img_align_celeba/201221.jpg  \n",
            "  inflating: img_align_celeba/img_align_celeba/201222.jpg  \n",
            "  inflating: img_align_celeba/img_align_celeba/201223.jpg  \n",
            "  inflating: img_align_celeba/img_align_celeba/201224.jpg  \n",
            "  inflating: img_align_celeba/img_align_celeba/201225.jpg  \n",
            "  inflating: img_align_celeba/img_align_celeba/201226.jpg  \n",
            "  inflating: img_align_celeba/img_align_celeba/201227.jpg  \n",
            "  inflating: img_align_celeba/img_align_celeba/201228.jpg  \n",
            "  inflating: img_align_celeba/img_align_celeba/201229.jpg  \n",
            "  inflating: img_align_celeba/img_align_celeba/201230.jpg  \n",
            "  inflating: img_align_celeba/img_align_celeba/201231.jpg  \n",
            "  inflating: img_align_celeba/img_align_celeba/201232.jpg  \n",
            "  inflating: img_align_celeba/img_align_celeba/201233.jpg  \n",
            "  inflating: img_align_celeba/img_align_celeba/201234.jpg  \n",
            "  inflating: img_align_celeba/img_align_celeba/201235.jpg  \n",
            "  inflating: img_align_celeba/img_align_celeba/201236.jpg  \n",
            "  inflating: img_align_celeba/img_align_celeba/201237.jpg  \n",
            "  inflating: img_align_celeba/img_align_celeba/201238.jpg  \n",
            "  inflating: img_align_celeba/img_align_celeba/201239.jpg  \n",
            "  inflating: img_align_celeba/img_align_celeba/201240.jpg  \n",
            "  inflating: img_align_celeba/img_align_celeba/201241.jpg  \n",
            "  inflating: img_align_celeba/img_align_celeba/201242.jpg  \n",
            "  inflating: img_align_celeba/img_align_celeba/201243.jpg  \n",
            "  inflating: img_align_celeba/img_align_celeba/201244.jpg  \n",
            "  inflating: img_align_celeba/img_align_celeba/201245.jpg  \n",
            "  inflating: img_align_celeba/img_align_celeba/201246.jpg  \n",
            "  inflating: img_align_celeba/img_align_celeba/201247.jpg  \n",
            "  inflating: img_align_celeba/img_align_celeba/201248.jpg  \n",
            "  inflating: img_align_celeba/img_align_celeba/201249.jpg  \n",
            "  inflating: img_align_celeba/img_align_celeba/201250.jpg  \n",
            "  inflating: img_align_celeba/img_align_celeba/201251.jpg  \n",
            "  inflating: img_align_celeba/img_align_celeba/201252.jpg  \n",
            "  inflating: img_align_celeba/img_align_celeba/201253.jpg  \n",
            "  inflating: img_align_celeba/img_align_celeba/201254.jpg  \n",
            "  inflating: img_align_celeba/img_align_celeba/201255.jpg  \n",
            "  inflating: img_align_celeba/img_align_celeba/201256.jpg  \n",
            "  inflating: img_align_celeba/img_align_celeba/201257.jpg  \n",
            "  inflating: img_align_celeba/img_align_celeba/201258.jpg  \n",
            "  inflating: img_align_celeba/img_align_celeba/201259.jpg  \n",
            "  inflating: img_align_celeba/img_align_celeba/201260.jpg  \n",
            "  inflating: img_align_celeba/img_align_celeba/201261.jpg  \n",
            "  inflating: img_align_celeba/img_align_celeba/201262.jpg  \n",
            "  inflating: img_align_celeba/img_align_celeba/201263.jpg  \n",
            "  inflating: img_align_celeba/img_align_celeba/201264.jpg  \n",
            "  inflating: img_align_celeba/img_align_celeba/201265.jpg  \n",
            "  inflating: img_align_celeba/img_align_celeba/201266.jpg  \n",
            "  inflating: img_align_celeba/img_align_celeba/201267.jpg  \n",
            "  inflating: img_align_celeba/img_align_celeba/201268.jpg  \n",
            "  inflating: img_align_celeba/img_align_celeba/201269.jpg  \n",
            "  inflating: img_align_celeba/img_align_celeba/201270.jpg  \n",
            "  inflating: img_align_celeba/img_align_celeba/201271.jpg  \n",
            "  inflating: img_align_celeba/img_align_celeba/201272.jpg  \n",
            "  inflating: img_align_celeba/img_align_celeba/201273.jpg  \n",
            "  inflating: img_align_celeba/img_align_celeba/201274.jpg  \n",
            "  inflating: img_align_celeba/img_align_celeba/201275.jpg  \n",
            "  inflating: img_align_celeba/img_align_celeba/201276.jpg  \n",
            "  inflating: img_align_celeba/img_align_celeba/201277.jpg  \n",
            "  inflating: img_align_celeba/img_align_celeba/201278.jpg  \n",
            "  inflating: img_align_celeba/img_align_celeba/201279.jpg  \n",
            "  inflating: img_align_celeba/img_align_celeba/201280.jpg  \n",
            "  inflating: img_align_celeba/img_align_celeba/201281.jpg  \n",
            "  inflating: img_align_celeba/img_align_celeba/201282.jpg  \n",
            "  inflating: img_align_celeba/img_align_celeba/201283.jpg  \n",
            "  inflating: img_align_celeba/img_align_celeba/201284.jpg  \n",
            "  inflating: img_align_celeba/img_align_celeba/201285.jpg  \n",
            "  inflating: img_align_celeba/img_align_celeba/201286.jpg  \n",
            "  inflating: img_align_celeba/img_align_celeba/201287.jpg  \n",
            "  inflating: img_align_celeba/img_align_celeba/201288.jpg  \n",
            "  inflating: img_align_celeba/img_align_celeba/201289.jpg  \n",
            "  inflating: img_align_celeba/img_align_celeba/201290.jpg  \n",
            "  inflating: img_align_celeba/img_align_celeba/201291.jpg  \n",
            "  inflating: img_align_celeba/img_align_celeba/201292.jpg  \n",
            "  inflating: img_align_celeba/img_align_celeba/201293.jpg  \n",
            "  inflating: img_align_celeba/img_align_celeba/201294.jpg  \n",
            "  inflating: img_align_celeba/img_align_celeba/201295.jpg  \n",
            "  inflating: img_align_celeba/img_align_celeba/201296.jpg  \n",
            "  inflating: img_align_celeba/img_align_celeba/201297.jpg  \n",
            "  inflating: img_align_celeba/img_align_celeba/201298.jpg  \n",
            "  inflating: img_align_celeba/img_align_celeba/201299.jpg  \n",
            "  inflating: img_align_celeba/img_align_celeba/201300.jpg  \n",
            "  inflating: img_align_celeba/img_align_celeba/201301.jpg  \n",
            "  inflating: img_align_celeba/img_align_celeba/201302.jpg  \n",
            "  inflating: img_align_celeba/img_align_celeba/201303.jpg  \n",
            "  inflating: img_align_celeba/img_align_celeba/201304.jpg  \n",
            "  inflating: img_align_celeba/img_align_celeba/201305.jpg  \n",
            "  inflating: img_align_celeba/img_align_celeba/201306.jpg  \n",
            "  inflating: img_align_celeba/img_align_celeba/201307.jpg  \n",
            "  inflating: img_align_celeba/img_align_celeba/201308.jpg  \n",
            "  inflating: img_align_celeba/img_align_celeba/201309.jpg  \n",
            "  inflating: img_align_celeba/img_align_celeba/201310.jpg  \n",
            "  inflating: img_align_celeba/img_align_celeba/201311.jpg  \n",
            "  inflating: img_align_celeba/img_align_celeba/201312.jpg  \n",
            "  inflating: img_align_celeba/img_align_celeba/201313.jpg  \n",
            "  inflating: img_align_celeba/img_align_celeba/201314.jpg  \n",
            "  inflating: img_align_celeba/img_align_celeba/201315.jpg  \n",
            "  inflating: img_align_celeba/img_align_celeba/201316.jpg  \n",
            "  inflating: img_align_celeba/img_align_celeba/201317.jpg  \n",
            "  inflating: img_align_celeba/img_align_celeba/201318.jpg  \n",
            "  inflating: img_align_celeba/img_align_celeba/201319.jpg  \n",
            "  inflating: img_align_celeba/img_align_celeba/201320.jpg  \n",
            "  inflating: img_align_celeba/img_align_celeba/201321.jpg  \n",
            "  inflating: img_align_celeba/img_align_celeba/201322.jpg  \n",
            "  inflating: img_align_celeba/img_align_celeba/201323.jpg  \n",
            "  inflating: img_align_celeba/img_align_celeba/201324.jpg  \n",
            "  inflating: img_align_celeba/img_align_celeba/201325.jpg  \n",
            "  inflating: img_align_celeba/img_align_celeba/201326.jpg  \n",
            "  inflating: img_align_celeba/img_align_celeba/201327.jpg  \n",
            "  inflating: img_align_celeba/img_align_celeba/201328.jpg  \n",
            "  inflating: img_align_celeba/img_align_celeba/201329.jpg  \n",
            "  inflating: img_align_celeba/img_align_celeba/201330.jpg  \n",
            "  inflating: img_align_celeba/img_align_celeba/201331.jpg  \n",
            "  inflating: img_align_celeba/img_align_celeba/201332.jpg  \n",
            "  inflating: img_align_celeba/img_align_celeba/201333.jpg  \n",
            "  inflating: img_align_celeba/img_align_celeba/201334.jpg  \n",
            "  inflating: img_align_celeba/img_align_celeba/201335.jpg  \n",
            "  inflating: img_align_celeba/img_align_celeba/201336.jpg  \n",
            "  inflating: img_align_celeba/img_align_celeba/201337.jpg  \n",
            "  inflating: img_align_celeba/img_align_celeba/201338.jpg  \n",
            "  inflating: img_align_celeba/img_align_celeba/201339.jpg  \n",
            "  inflating: img_align_celeba/img_align_celeba/201340.jpg  \n",
            "  inflating: img_align_celeba/img_align_celeba/201341.jpg  \n",
            "  inflating: img_align_celeba/img_align_celeba/201342.jpg  \n",
            "  inflating: img_align_celeba/img_align_celeba/201343.jpg  \n",
            "  inflating: img_align_celeba/img_align_celeba/201344.jpg  \n",
            "  inflating: img_align_celeba/img_align_celeba/201345.jpg  \n",
            "  inflating: img_align_celeba/img_align_celeba/201346.jpg  \n",
            "  inflating: img_align_celeba/img_align_celeba/201347.jpg  \n",
            "  inflating: img_align_celeba/img_align_celeba/201348.jpg  \n",
            "  inflating: img_align_celeba/img_align_celeba/201349.jpg  \n",
            "  inflating: img_align_celeba/img_align_celeba/201350.jpg  \n",
            "  inflating: img_align_celeba/img_align_celeba/201351.jpg  \n",
            "  inflating: img_align_celeba/img_align_celeba/201352.jpg  \n",
            "  inflating: img_align_celeba/img_align_celeba/201353.jpg  \n",
            "  inflating: img_align_celeba/img_align_celeba/201354.jpg  \n",
            "  inflating: img_align_celeba/img_align_celeba/201355.jpg  \n",
            "  inflating: img_align_celeba/img_align_celeba/201356.jpg  \n",
            "  inflating: img_align_celeba/img_align_celeba/201357.jpg  \n",
            "  inflating: img_align_celeba/img_align_celeba/201358.jpg  \n",
            "  inflating: img_align_celeba/img_align_celeba/201359.jpg  \n",
            "  inflating: img_align_celeba/img_align_celeba/201360.jpg  \n",
            "  inflating: img_align_celeba/img_align_celeba/201361.jpg  \n",
            "  inflating: img_align_celeba/img_align_celeba/201362.jpg  \n",
            "  inflating: img_align_celeba/img_align_celeba/201363.jpg  \n",
            "  inflating: img_align_celeba/img_align_celeba/201364.jpg  \n",
            "  inflating: img_align_celeba/img_align_celeba/201365.jpg  \n",
            "  inflating: img_align_celeba/img_align_celeba/201366.jpg  \n",
            "  inflating: img_align_celeba/img_align_celeba/201367.jpg  \n",
            "  inflating: img_align_celeba/img_align_celeba/201368.jpg  \n",
            "  inflating: img_align_celeba/img_align_celeba/201369.jpg  \n",
            "  inflating: img_align_celeba/img_align_celeba/201370.jpg  \n",
            "  inflating: img_align_celeba/img_align_celeba/201371.jpg  \n",
            "  inflating: img_align_celeba/img_align_celeba/201372.jpg  \n",
            "  inflating: img_align_celeba/img_align_celeba/201373.jpg  \n",
            "  inflating: img_align_celeba/img_align_celeba/201374.jpg  \n",
            "  inflating: img_align_celeba/img_align_celeba/201375.jpg  \n",
            "  inflating: img_align_celeba/img_align_celeba/201376.jpg  \n",
            "  inflating: img_align_celeba/img_align_celeba/201377.jpg  \n",
            "  inflating: img_align_celeba/img_align_celeba/201378.jpg  \n",
            "  inflating: img_align_celeba/img_align_celeba/201379.jpg  \n",
            "  inflating: img_align_celeba/img_align_celeba/201380.jpg  \n",
            "  inflating: img_align_celeba/img_align_celeba/201381.jpg  \n",
            "  inflating: img_align_celeba/img_align_celeba/201382.jpg  \n",
            "  inflating: img_align_celeba/img_align_celeba/201383.jpg  \n",
            "  inflating: img_align_celeba/img_align_celeba/201384.jpg  \n",
            "  inflating: img_align_celeba/img_align_celeba/201385.jpg  \n",
            "  inflating: img_align_celeba/img_align_celeba/201386.jpg  \n",
            "  inflating: img_align_celeba/img_align_celeba/201387.jpg  \n",
            "  inflating: img_align_celeba/img_align_celeba/201388.jpg  \n",
            "  inflating: img_align_celeba/img_align_celeba/201389.jpg  \n",
            "  inflating: img_align_celeba/img_align_celeba/201390.jpg  \n",
            "  inflating: img_align_celeba/img_align_celeba/201391.jpg  \n",
            "  inflating: img_align_celeba/img_align_celeba/201392.jpg  \n",
            "  inflating: img_align_celeba/img_align_celeba/201393.jpg  \n",
            "  inflating: img_align_celeba/img_align_celeba/201394.jpg  \n",
            "  inflating: img_align_celeba/img_align_celeba/201395.jpg  \n",
            "  inflating: img_align_celeba/img_align_celeba/201396.jpg  \n",
            "  inflating: img_align_celeba/img_align_celeba/201397.jpg  \n",
            "  inflating: img_align_celeba/img_align_celeba/201398.jpg  \n",
            "  inflating: img_align_celeba/img_align_celeba/201399.jpg  \n",
            "  inflating: img_align_celeba/img_align_celeba/201400.jpg  \n",
            "  inflating: img_align_celeba/img_align_celeba/201401.jpg  \n",
            "  inflating: img_align_celeba/img_align_celeba/201402.jpg  \n",
            "  inflating: img_align_celeba/img_align_celeba/201403.jpg  \n",
            "  inflating: img_align_celeba/img_align_celeba/201404.jpg  \n",
            "  inflating: img_align_celeba/img_align_celeba/201405.jpg  \n",
            "  inflating: img_align_celeba/img_align_celeba/201406.jpg  \n",
            "  inflating: img_align_celeba/img_align_celeba/201407.jpg  \n",
            "  inflating: img_align_celeba/img_align_celeba/201408.jpg  \n",
            "  inflating: img_align_celeba/img_align_celeba/201409.jpg  \n",
            "  inflating: img_align_celeba/img_align_celeba/201410.jpg  \n",
            "  inflating: img_align_celeba/img_align_celeba/201411.jpg  \n",
            "  inflating: img_align_celeba/img_align_celeba/201412.jpg  \n",
            "  inflating: img_align_celeba/img_align_celeba/201413.jpg  \n",
            "  inflating: img_align_celeba/img_align_celeba/201414.jpg  \n",
            "  inflating: img_align_celeba/img_align_celeba/201415.jpg  \n",
            "  inflating: img_align_celeba/img_align_celeba/201416.jpg  \n",
            "  inflating: img_align_celeba/img_align_celeba/201417.jpg  \n",
            "  inflating: img_align_celeba/img_align_celeba/201418.jpg  \n",
            "  inflating: img_align_celeba/img_align_celeba/201419.jpg  \n",
            "  inflating: img_align_celeba/img_align_celeba/201420.jpg  \n",
            "  inflating: img_align_celeba/img_align_celeba/201421.jpg  \n",
            "  inflating: img_align_celeba/img_align_celeba/201422.jpg  \n",
            "  inflating: img_align_celeba/img_align_celeba/201423.jpg  \n",
            "  inflating: img_align_celeba/img_align_celeba/201424.jpg  \n",
            "  inflating: img_align_celeba/img_align_celeba/201425.jpg  \n",
            "  inflating: img_align_celeba/img_align_celeba/201426.jpg  \n",
            "  inflating: img_align_celeba/img_align_celeba/201427.jpg  \n",
            "  inflating: img_align_celeba/img_align_celeba/201428.jpg  \n",
            "  inflating: img_align_celeba/img_align_celeba/201429.jpg  \n",
            "  inflating: img_align_celeba/img_align_celeba/201430.jpg  \n",
            "  inflating: img_align_celeba/img_align_celeba/201431.jpg  \n",
            "  inflating: img_align_celeba/img_align_celeba/201432.jpg  \n",
            "  inflating: img_align_celeba/img_align_celeba/201433.jpg  \n",
            "  inflating: img_align_celeba/img_align_celeba/201434.jpg  \n",
            "  inflating: img_align_celeba/img_align_celeba/201435.jpg  \n",
            "  inflating: img_align_celeba/img_align_celeba/201436.jpg  \n",
            "  inflating: img_align_celeba/img_align_celeba/201437.jpg  \n",
            "  inflating: img_align_celeba/img_align_celeba/201438.jpg  \n",
            "  inflating: img_align_celeba/img_align_celeba/201439.jpg  \n",
            "  inflating: img_align_celeba/img_align_celeba/201440.jpg  \n",
            "  inflating: img_align_celeba/img_align_celeba/201441.jpg  \n",
            "  inflating: img_align_celeba/img_align_celeba/201442.jpg  \n",
            "  inflating: img_align_celeba/img_align_celeba/201443.jpg  \n",
            "  inflating: img_align_celeba/img_align_celeba/201444.jpg  \n",
            "  inflating: img_align_celeba/img_align_celeba/201445.jpg  \n",
            "  inflating: img_align_celeba/img_align_celeba/201446.jpg  \n",
            "  inflating: img_align_celeba/img_align_celeba/201447.jpg  \n",
            "  inflating: img_align_celeba/img_align_celeba/201448.jpg  \n",
            "  inflating: img_align_celeba/img_align_celeba/201449.jpg  \n",
            "  inflating: img_align_celeba/img_align_celeba/201450.jpg  \n",
            "  inflating: img_align_celeba/img_align_celeba/201451.jpg  \n",
            "  inflating: img_align_celeba/img_align_celeba/201452.jpg  \n",
            "  inflating: img_align_celeba/img_align_celeba/201453.jpg  \n",
            "  inflating: img_align_celeba/img_align_celeba/201454.jpg  \n",
            "  inflating: img_align_celeba/img_align_celeba/201455.jpg  \n",
            "  inflating: img_align_celeba/img_align_celeba/201456.jpg  \n",
            "  inflating: img_align_celeba/img_align_celeba/201457.jpg  \n",
            "  inflating: img_align_celeba/img_align_celeba/201458.jpg  \n",
            "  inflating: img_align_celeba/img_align_celeba/201459.jpg  \n",
            "  inflating: img_align_celeba/img_align_celeba/201460.jpg  \n",
            "  inflating: img_align_celeba/img_align_celeba/201461.jpg  \n",
            "  inflating: img_align_celeba/img_align_celeba/201462.jpg  \n",
            "  inflating: img_align_celeba/img_align_celeba/201463.jpg  \n",
            "  inflating: img_align_celeba/img_align_celeba/201464.jpg  \n",
            "  inflating: img_align_celeba/img_align_celeba/201465.jpg  \n",
            "  inflating: img_align_celeba/img_align_celeba/201466.jpg  \n",
            "  inflating: img_align_celeba/img_align_celeba/201467.jpg  \n",
            "  inflating: img_align_celeba/img_align_celeba/201468.jpg  \n",
            "  inflating: img_align_celeba/img_align_celeba/201469.jpg  \n",
            "  inflating: img_align_celeba/img_align_celeba/201470.jpg  \n",
            "  inflating: img_align_celeba/img_align_celeba/201471.jpg  \n",
            "  inflating: img_align_celeba/img_align_celeba/201472.jpg  \n",
            "  inflating: img_align_celeba/img_align_celeba/201473.jpg  \n",
            "  inflating: img_align_celeba/img_align_celeba/201474.jpg  \n",
            "  inflating: img_align_celeba/img_align_celeba/201475.jpg  \n",
            "  inflating: img_align_celeba/img_align_celeba/201476.jpg  \n",
            "  inflating: img_align_celeba/img_align_celeba/201477.jpg  \n",
            "  inflating: img_align_celeba/img_align_celeba/201478.jpg  \n",
            "  inflating: img_align_celeba/img_align_celeba/201479.jpg  \n",
            "  inflating: img_align_celeba/img_align_celeba/201480.jpg  \n",
            "  inflating: img_align_celeba/img_align_celeba/201481.jpg  \n",
            "  inflating: img_align_celeba/img_align_celeba/201482.jpg  \n",
            "  inflating: img_align_celeba/img_align_celeba/201483.jpg  \n",
            "  inflating: img_align_celeba/img_align_celeba/201484.jpg  \n",
            "  inflating: img_align_celeba/img_align_celeba/201485.jpg  \n",
            "  inflating: img_align_celeba/img_align_celeba/201486.jpg  \n",
            "  inflating: img_align_celeba/img_align_celeba/201487.jpg  \n",
            "  inflating: img_align_celeba/img_align_celeba/201488.jpg  \n",
            "  inflating: img_align_celeba/img_align_celeba/201489.jpg  \n",
            "  inflating: img_align_celeba/img_align_celeba/201490.jpg  \n",
            "  inflating: img_align_celeba/img_align_celeba/201491.jpg  \n",
            "  inflating: img_align_celeba/img_align_celeba/201492.jpg  \n",
            "  inflating: img_align_celeba/img_align_celeba/201493.jpg  \n",
            "  inflating: img_align_celeba/img_align_celeba/201494.jpg  \n",
            "  inflating: img_align_celeba/img_align_celeba/201495.jpg  \n",
            "  inflating: img_align_celeba/img_align_celeba/201496.jpg  \n",
            "  inflating: img_align_celeba/img_align_celeba/201497.jpg  \n",
            "  inflating: img_align_celeba/img_align_celeba/201498.jpg  \n",
            "  inflating: img_align_celeba/img_align_celeba/201499.jpg  \n",
            "  inflating: img_align_celeba/img_align_celeba/201500.jpg  \n",
            "  inflating: img_align_celeba/img_align_celeba/201501.jpg  \n",
            "  inflating: img_align_celeba/img_align_celeba/201502.jpg  \n",
            "  inflating: img_align_celeba/img_align_celeba/201503.jpg  \n",
            "  inflating: img_align_celeba/img_align_celeba/201504.jpg  \n",
            "  inflating: img_align_celeba/img_align_celeba/201505.jpg  \n",
            "  inflating: img_align_celeba/img_align_celeba/201506.jpg  \n",
            "  inflating: img_align_celeba/img_align_celeba/201507.jpg  \n",
            "  inflating: img_align_celeba/img_align_celeba/201508.jpg  \n",
            "  inflating: img_align_celeba/img_align_celeba/201509.jpg  \n",
            "  inflating: img_align_celeba/img_align_celeba/201510.jpg  \n",
            "  inflating: img_align_celeba/img_align_celeba/201511.jpg  \n",
            "  inflating: img_align_celeba/img_align_celeba/201512.jpg  \n",
            "  inflating: img_align_celeba/img_align_celeba/201513.jpg  \n",
            "  inflating: img_align_celeba/img_align_celeba/201514.jpg  \n",
            "  inflating: img_align_celeba/img_align_celeba/201515.jpg  \n",
            "  inflating: img_align_celeba/img_align_celeba/201516.jpg  \n",
            "  inflating: img_align_celeba/img_align_celeba/201517.jpg  \n",
            "  inflating: img_align_celeba/img_align_celeba/201518.jpg  \n",
            "  inflating: img_align_celeba/img_align_celeba/201519.jpg  \n",
            "  inflating: img_align_celeba/img_align_celeba/201520.jpg  \n",
            "  inflating: img_align_celeba/img_align_celeba/201521.jpg  \n",
            "  inflating: img_align_celeba/img_align_celeba/201522.jpg  \n",
            "  inflating: img_align_celeba/img_align_celeba/201523.jpg  \n",
            "  inflating: img_align_celeba/img_align_celeba/201524.jpg  \n",
            "  inflating: img_align_celeba/img_align_celeba/201525.jpg  \n",
            "  inflating: img_align_celeba/img_align_celeba/201526.jpg  \n",
            "  inflating: img_align_celeba/img_align_celeba/201527.jpg  \n",
            "  inflating: img_align_celeba/img_align_celeba/201528.jpg  \n",
            "  inflating: img_align_celeba/img_align_celeba/201529.jpg  \n",
            "  inflating: img_align_celeba/img_align_celeba/201530.jpg  \n",
            "  inflating: img_align_celeba/img_align_celeba/201531.jpg  \n",
            "  inflating: img_align_celeba/img_align_celeba/201532.jpg  \n",
            "  inflating: img_align_celeba/img_align_celeba/201533.jpg  \n",
            "  inflating: img_align_celeba/img_align_celeba/201534.jpg  \n",
            "  inflating: img_align_celeba/img_align_celeba/201535.jpg  \n",
            "  inflating: img_align_celeba/img_align_celeba/201536.jpg  \n",
            "  inflating: img_align_celeba/img_align_celeba/201537.jpg  \n",
            "  inflating: img_align_celeba/img_align_celeba/201538.jpg  \n",
            "  inflating: img_align_celeba/img_align_celeba/201539.jpg  \n",
            "  inflating: img_align_celeba/img_align_celeba/201540.jpg  \n",
            "  inflating: img_align_celeba/img_align_celeba/201541.jpg  \n",
            "  inflating: img_align_celeba/img_align_celeba/201542.jpg  \n",
            "  inflating: img_align_celeba/img_align_celeba/201543.jpg  \n",
            "  inflating: img_align_celeba/img_align_celeba/201544.jpg  \n",
            "  inflating: img_align_celeba/img_align_celeba/201545.jpg  \n",
            "  inflating: img_align_celeba/img_align_celeba/201546.jpg  \n",
            "  inflating: img_align_celeba/img_align_celeba/201547.jpg  \n",
            "  inflating: img_align_celeba/img_align_celeba/201548.jpg  \n",
            "  inflating: img_align_celeba/img_align_celeba/201549.jpg  \n",
            "  inflating: img_align_celeba/img_align_celeba/201550.jpg  \n",
            "  inflating: img_align_celeba/img_align_celeba/201551.jpg  \n",
            "  inflating: img_align_celeba/img_align_celeba/201552.jpg  \n",
            "  inflating: img_align_celeba/img_align_celeba/201553.jpg  \n",
            "  inflating: img_align_celeba/img_align_celeba/201554.jpg  \n",
            "  inflating: img_align_celeba/img_align_celeba/201555.jpg  \n",
            "  inflating: img_align_celeba/img_align_celeba/201556.jpg  \n",
            "  inflating: img_align_celeba/img_align_celeba/201557.jpg  \n",
            "  inflating: img_align_celeba/img_align_celeba/201558.jpg  \n",
            "  inflating: img_align_celeba/img_align_celeba/201559.jpg  \n",
            "  inflating: img_align_celeba/img_align_celeba/201560.jpg  \n",
            "  inflating: img_align_celeba/img_align_celeba/201561.jpg  \n",
            "  inflating: img_align_celeba/img_align_celeba/201562.jpg  \n",
            "  inflating: img_align_celeba/img_align_celeba/201563.jpg  \n",
            "  inflating: img_align_celeba/img_align_celeba/201564.jpg  \n",
            "  inflating: img_align_celeba/img_align_celeba/201565.jpg  \n",
            "  inflating: img_align_celeba/img_align_celeba/201566.jpg  \n",
            "  inflating: img_align_celeba/img_align_celeba/201567.jpg  \n",
            "  inflating: img_align_celeba/img_align_celeba/201568.jpg  \n",
            "  inflating: img_align_celeba/img_align_celeba/201569.jpg  \n",
            "  inflating: img_align_celeba/img_align_celeba/201570.jpg  \n",
            "  inflating: img_align_celeba/img_align_celeba/201571.jpg  \n",
            "  inflating: img_align_celeba/img_align_celeba/201572.jpg  \n",
            "  inflating: img_align_celeba/img_align_celeba/201573.jpg  \n",
            "  inflating: img_align_celeba/img_align_celeba/201574.jpg  \n",
            "  inflating: img_align_celeba/img_align_celeba/201575.jpg  \n",
            "  inflating: img_align_celeba/img_align_celeba/201576.jpg  \n",
            "  inflating: img_align_celeba/img_align_celeba/201577.jpg  \n",
            "  inflating: img_align_celeba/img_align_celeba/201578.jpg  \n",
            "  inflating: img_align_celeba/img_align_celeba/201579.jpg  \n",
            "  inflating: img_align_celeba/img_align_celeba/201580.jpg  \n",
            "  inflating: img_align_celeba/img_align_celeba/201581.jpg  \n",
            "  inflating: img_align_celeba/img_align_celeba/201582.jpg  \n",
            "  inflating: img_align_celeba/img_align_celeba/201583.jpg  \n",
            "  inflating: img_align_celeba/img_align_celeba/201584.jpg  \n",
            "  inflating: img_align_celeba/img_align_celeba/201585.jpg  \n",
            "  inflating: img_align_celeba/img_align_celeba/201586.jpg  \n",
            "  inflating: img_align_celeba/img_align_celeba/201587.jpg  \n",
            "  inflating: img_align_celeba/img_align_celeba/201588.jpg  \n",
            "  inflating: img_align_celeba/img_align_celeba/201589.jpg  \n",
            "  inflating: img_align_celeba/img_align_celeba/201590.jpg  \n",
            "  inflating: img_align_celeba/img_align_celeba/201591.jpg  \n",
            "  inflating: img_align_celeba/img_align_celeba/201592.jpg  \n",
            "  inflating: img_align_celeba/img_align_celeba/201593.jpg  \n",
            "  inflating: img_align_celeba/img_align_celeba/201594.jpg  \n",
            "  inflating: img_align_celeba/img_align_celeba/201595.jpg  \n",
            "  inflating: img_align_celeba/img_align_celeba/201596.jpg  \n",
            "  inflating: img_align_celeba/img_align_celeba/201597.jpg  \n",
            "  inflating: img_align_celeba/img_align_celeba/201598.jpg  \n",
            "  inflating: img_align_celeba/img_align_celeba/201599.jpg  \n",
            "  inflating: img_align_celeba/img_align_celeba/201600.jpg  \n",
            "  inflating: img_align_celeba/img_align_celeba/201601.jpg  \n",
            "  inflating: img_align_celeba/img_align_celeba/201602.jpg  \n",
            "  inflating: img_align_celeba/img_align_celeba/201603.jpg  \n",
            "  inflating: img_align_celeba/img_align_celeba/201604.jpg  \n",
            "  inflating: img_align_celeba/img_align_celeba/201605.jpg  \n",
            "  inflating: img_align_celeba/img_align_celeba/201606.jpg  \n",
            "  inflating: img_align_celeba/img_align_celeba/201607.jpg  \n",
            "  inflating: img_align_celeba/img_align_celeba/201608.jpg  \n",
            "  inflating: img_align_celeba/img_align_celeba/201609.jpg  \n",
            "  inflating: img_align_celeba/img_align_celeba/201610.jpg  \n",
            "  inflating: img_align_celeba/img_align_celeba/201611.jpg  \n",
            "  inflating: img_align_celeba/img_align_celeba/201612.jpg  \n",
            "  inflating: img_align_celeba/img_align_celeba/201613.jpg  \n",
            "  inflating: img_align_celeba/img_align_celeba/201614.jpg  \n",
            "  inflating: img_align_celeba/img_align_celeba/201615.jpg  \n",
            "  inflating: img_align_celeba/img_align_celeba/201616.jpg  \n",
            "  inflating: img_align_celeba/img_align_celeba/201617.jpg  \n",
            "  inflating: img_align_celeba/img_align_celeba/201618.jpg  \n",
            "  inflating: img_align_celeba/img_align_celeba/201619.jpg  \n",
            "  inflating: img_align_celeba/img_align_celeba/201620.jpg  \n",
            "  inflating: img_align_celeba/img_align_celeba/201621.jpg  \n",
            "  inflating: img_align_celeba/img_align_celeba/201622.jpg  \n",
            "  inflating: img_align_celeba/img_align_celeba/201623.jpg  \n",
            "  inflating: img_align_celeba/img_align_celeba/201624.jpg  \n",
            "  inflating: img_align_celeba/img_align_celeba/201625.jpg  \n",
            "  inflating: img_align_celeba/img_align_celeba/201626.jpg  \n",
            "  inflating: img_align_celeba/img_align_celeba/201627.jpg  \n",
            "  inflating: img_align_celeba/img_align_celeba/201628.jpg  \n",
            "  inflating: img_align_celeba/img_align_celeba/201629.jpg  \n",
            "  inflating: img_align_celeba/img_align_celeba/201630.jpg  \n",
            "  inflating: img_align_celeba/img_align_celeba/201631.jpg  \n",
            "  inflating: img_align_celeba/img_align_celeba/201632.jpg  \n",
            "  inflating: img_align_celeba/img_align_celeba/201633.jpg  \n",
            "  inflating: img_align_celeba/img_align_celeba/201634.jpg  \n",
            "  inflating: img_align_celeba/img_align_celeba/201635.jpg  \n",
            "  inflating: img_align_celeba/img_align_celeba/201636.jpg  \n",
            "  inflating: img_align_celeba/img_align_celeba/201637.jpg  \n",
            "  inflating: img_align_celeba/img_align_celeba/201638.jpg  \n",
            "  inflating: img_align_celeba/img_align_celeba/201639.jpg  \n",
            "  inflating: img_align_celeba/img_align_celeba/201640.jpg  \n",
            "  inflating: img_align_celeba/img_align_celeba/201641.jpg  \n",
            "  inflating: img_align_celeba/img_align_celeba/201642.jpg  \n",
            "  inflating: img_align_celeba/img_align_celeba/201643.jpg  \n",
            "  inflating: img_align_celeba/img_align_celeba/201644.jpg  \n",
            "  inflating: img_align_celeba/img_align_celeba/201645.jpg  \n",
            "  inflating: img_align_celeba/img_align_celeba/201646.jpg  \n",
            "  inflating: img_align_celeba/img_align_celeba/201647.jpg  \n",
            "  inflating: img_align_celeba/img_align_celeba/201648.jpg  \n",
            "  inflating: img_align_celeba/img_align_celeba/201649.jpg  \n",
            "  inflating: img_align_celeba/img_align_celeba/201650.jpg  \n",
            "  inflating: img_align_celeba/img_align_celeba/201651.jpg  \n",
            "  inflating: img_align_celeba/img_align_celeba/201652.jpg  \n",
            "  inflating: img_align_celeba/img_align_celeba/201653.jpg  \n",
            "  inflating: img_align_celeba/img_align_celeba/201654.jpg  \n",
            "  inflating: img_align_celeba/img_align_celeba/201655.jpg  \n",
            "  inflating: img_align_celeba/img_align_celeba/201656.jpg  \n",
            "  inflating: img_align_celeba/img_align_celeba/201657.jpg  \n",
            "  inflating: img_align_celeba/img_align_celeba/201658.jpg  \n",
            "  inflating: img_align_celeba/img_align_celeba/201659.jpg  \n",
            "  inflating: img_align_celeba/img_align_celeba/201660.jpg  \n",
            "  inflating: img_align_celeba/img_align_celeba/201661.jpg  \n",
            "  inflating: img_align_celeba/img_align_celeba/201662.jpg  \n",
            "  inflating: img_align_celeba/img_align_celeba/201663.jpg  \n",
            "  inflating: img_align_celeba/img_align_celeba/201664.jpg  \n",
            "  inflating: img_align_celeba/img_align_celeba/201665.jpg  \n",
            "  inflating: img_align_celeba/img_align_celeba/201666.jpg  \n",
            "  inflating: img_align_celeba/img_align_celeba/201667.jpg  \n",
            "  inflating: img_align_celeba/img_align_celeba/201668.jpg  \n",
            "  inflating: img_align_celeba/img_align_celeba/201669.jpg  \n",
            "  inflating: img_align_celeba/img_align_celeba/201670.jpg  \n",
            "  inflating: img_align_celeba/img_align_celeba/201671.jpg  \n",
            "  inflating: img_align_celeba/img_align_celeba/201672.jpg  \n",
            "  inflating: img_align_celeba/img_align_celeba/201673.jpg  \n",
            "  inflating: img_align_celeba/img_align_celeba/201674.jpg  \n",
            "  inflating: img_align_celeba/img_align_celeba/201675.jpg  \n",
            "  inflating: img_align_celeba/img_align_celeba/201676.jpg  \n",
            "  inflating: img_align_celeba/img_align_celeba/201677.jpg  \n",
            "  inflating: img_align_celeba/img_align_celeba/201678.jpg  \n",
            "  inflating: img_align_celeba/img_align_celeba/201679.jpg  \n",
            "  inflating: img_align_celeba/img_align_celeba/201680.jpg  \n",
            "  inflating: img_align_celeba/img_align_celeba/201681.jpg  \n",
            "  inflating: img_align_celeba/img_align_celeba/201682.jpg  \n",
            "  inflating: img_align_celeba/img_align_celeba/201683.jpg  \n",
            "  inflating: img_align_celeba/img_align_celeba/201684.jpg  \n",
            "  inflating: img_align_celeba/img_align_celeba/201685.jpg  \n",
            "  inflating: img_align_celeba/img_align_celeba/201686.jpg  \n",
            "  inflating: img_align_celeba/img_align_celeba/201687.jpg  \n",
            "  inflating: img_align_celeba/img_align_celeba/201688.jpg  \n",
            "  inflating: img_align_celeba/img_align_celeba/201689.jpg  \n",
            "  inflating: img_align_celeba/img_align_celeba/201690.jpg  \n",
            "  inflating: img_align_celeba/img_align_celeba/201691.jpg  \n",
            "  inflating: img_align_celeba/img_align_celeba/201692.jpg  \n",
            "  inflating: img_align_celeba/img_align_celeba/201693.jpg  \n",
            "  inflating: img_align_celeba/img_align_celeba/201694.jpg  \n",
            "  inflating: img_align_celeba/img_align_celeba/201695.jpg  \n",
            "  inflating: img_align_celeba/img_align_celeba/201696.jpg  \n",
            "  inflating: img_align_celeba/img_align_celeba/201697.jpg  \n",
            "  inflating: img_align_celeba/img_align_celeba/201698.jpg  \n",
            "  inflating: img_align_celeba/img_align_celeba/201699.jpg  \n",
            "  inflating: img_align_celeba/img_align_celeba/201700.jpg  \n",
            "  inflating: img_align_celeba/img_align_celeba/201701.jpg  \n",
            "  inflating: img_align_celeba/img_align_celeba/201702.jpg  \n",
            "  inflating: img_align_celeba/img_align_celeba/201703.jpg  \n",
            "  inflating: img_align_celeba/img_align_celeba/201704.jpg  \n",
            "  inflating: img_align_celeba/img_align_celeba/201705.jpg  \n",
            "  inflating: img_align_celeba/img_align_celeba/201706.jpg  \n",
            "  inflating: img_align_celeba/img_align_celeba/201707.jpg  \n",
            "  inflating: img_align_celeba/img_align_celeba/201708.jpg  \n",
            "  inflating: img_align_celeba/img_align_celeba/201709.jpg  \n",
            "  inflating: img_align_celeba/img_align_celeba/201710.jpg  \n",
            "  inflating: img_align_celeba/img_align_celeba/201711.jpg  \n",
            "  inflating: img_align_celeba/img_align_celeba/201712.jpg  \n",
            "  inflating: img_align_celeba/img_align_celeba/201713.jpg  \n",
            "  inflating: img_align_celeba/img_align_celeba/201714.jpg  \n",
            "  inflating: img_align_celeba/img_align_celeba/201715.jpg  \n",
            "  inflating: img_align_celeba/img_align_celeba/201716.jpg  \n",
            "  inflating: img_align_celeba/img_align_celeba/201717.jpg  \n",
            "  inflating: img_align_celeba/img_align_celeba/201718.jpg  \n",
            "  inflating: img_align_celeba/img_align_celeba/201719.jpg  \n",
            "  inflating: img_align_celeba/img_align_celeba/201720.jpg  \n",
            "  inflating: img_align_celeba/img_align_celeba/201721.jpg  \n",
            "  inflating: img_align_celeba/img_align_celeba/201722.jpg  \n",
            "  inflating: img_align_celeba/img_align_celeba/201723.jpg  \n",
            "  inflating: img_align_celeba/img_align_celeba/201724.jpg  \n",
            "  inflating: img_align_celeba/img_align_celeba/201725.jpg  \n",
            "  inflating: img_align_celeba/img_align_celeba/201726.jpg  \n",
            "  inflating: img_align_celeba/img_align_celeba/201727.jpg  \n",
            "  inflating: img_align_celeba/img_align_celeba/201728.jpg  \n",
            "  inflating: img_align_celeba/img_align_celeba/201729.jpg  \n",
            "  inflating: img_align_celeba/img_align_celeba/201730.jpg  \n",
            "  inflating: img_align_celeba/img_align_celeba/201731.jpg  \n",
            "  inflating: img_align_celeba/img_align_celeba/201732.jpg  \n",
            "  inflating: img_align_celeba/img_align_celeba/201733.jpg  \n",
            "  inflating: img_align_celeba/img_align_celeba/201734.jpg  \n",
            "  inflating: img_align_celeba/img_align_celeba/201735.jpg  \n",
            "  inflating: img_align_celeba/img_align_celeba/201736.jpg  \n",
            "  inflating: img_align_celeba/img_align_celeba/201737.jpg  \n",
            "  inflating: img_align_celeba/img_align_celeba/201738.jpg  \n",
            "  inflating: img_align_celeba/img_align_celeba/201739.jpg  \n",
            "  inflating: img_align_celeba/img_align_celeba/201740.jpg  \n",
            "  inflating: img_align_celeba/img_align_celeba/201741.jpg  \n",
            "  inflating: img_align_celeba/img_align_celeba/201742.jpg  \n",
            "  inflating: img_align_celeba/img_align_celeba/201743.jpg  \n",
            "  inflating: img_align_celeba/img_align_celeba/201744.jpg  \n",
            "  inflating: img_align_celeba/img_align_celeba/201745.jpg  \n",
            "  inflating: img_align_celeba/img_align_celeba/201746.jpg  \n",
            "  inflating: img_align_celeba/img_align_celeba/201747.jpg  \n",
            "  inflating: img_align_celeba/img_align_celeba/201748.jpg  \n",
            "  inflating: img_align_celeba/img_align_celeba/201749.jpg  \n",
            "  inflating: img_align_celeba/img_align_celeba/201750.jpg  \n",
            "  inflating: img_align_celeba/img_align_celeba/201751.jpg  \n",
            "  inflating: img_align_celeba/img_align_celeba/201752.jpg  \n",
            "  inflating: img_align_celeba/img_align_celeba/201753.jpg  \n",
            "  inflating: img_align_celeba/img_align_celeba/201754.jpg  \n",
            "  inflating: img_align_celeba/img_align_celeba/201755.jpg  \n",
            "  inflating: img_align_celeba/img_align_celeba/201756.jpg  \n",
            "  inflating: img_align_celeba/img_align_celeba/201757.jpg  \n",
            "  inflating: img_align_celeba/img_align_celeba/201758.jpg  \n",
            "  inflating: img_align_celeba/img_align_celeba/201759.jpg  \n",
            "  inflating: img_align_celeba/img_align_celeba/201760.jpg  \n",
            "  inflating: img_align_celeba/img_align_celeba/201761.jpg  \n",
            "  inflating: img_align_celeba/img_align_celeba/201762.jpg  \n",
            "  inflating: img_align_celeba/img_align_celeba/201763.jpg  \n",
            "  inflating: img_align_celeba/img_align_celeba/201764.jpg  \n",
            "  inflating: img_align_celeba/img_align_celeba/201765.jpg  \n",
            "  inflating: img_align_celeba/img_align_celeba/201766.jpg  \n",
            "  inflating: img_align_celeba/img_align_celeba/201767.jpg  \n",
            "  inflating: img_align_celeba/img_align_celeba/201768.jpg  \n",
            "  inflating: img_align_celeba/img_align_celeba/201769.jpg  \n",
            "  inflating: img_align_celeba/img_align_celeba/201770.jpg  \n",
            "  inflating: img_align_celeba/img_align_celeba/201771.jpg  \n",
            "  inflating: img_align_celeba/img_align_celeba/201772.jpg  \n",
            "  inflating: img_align_celeba/img_align_celeba/201773.jpg  \n",
            "  inflating: img_align_celeba/img_align_celeba/201774.jpg  \n",
            "  inflating: img_align_celeba/img_align_celeba/201775.jpg  \n",
            "  inflating: img_align_celeba/img_align_celeba/201776.jpg  \n",
            "  inflating: img_align_celeba/img_align_celeba/201777.jpg  \n",
            "  inflating: img_align_celeba/img_align_celeba/201778.jpg  \n",
            "  inflating: img_align_celeba/img_align_celeba/201779.jpg  \n",
            "  inflating: img_align_celeba/img_align_celeba/201780.jpg  \n",
            "  inflating: img_align_celeba/img_align_celeba/201781.jpg  \n",
            "  inflating: img_align_celeba/img_align_celeba/201782.jpg  \n",
            "  inflating: img_align_celeba/img_align_celeba/201783.jpg  \n",
            "  inflating: img_align_celeba/img_align_celeba/201784.jpg  \n",
            "  inflating: img_align_celeba/img_align_celeba/201785.jpg  \n",
            "  inflating: img_align_celeba/img_align_celeba/201786.jpg  \n",
            "  inflating: img_align_celeba/img_align_celeba/201787.jpg  \n",
            "  inflating: img_align_celeba/img_align_celeba/201788.jpg  \n",
            "  inflating: img_align_celeba/img_align_celeba/201789.jpg  \n",
            "  inflating: img_align_celeba/img_align_celeba/201790.jpg  \n",
            "  inflating: img_align_celeba/img_align_celeba/201791.jpg  \n",
            "  inflating: img_align_celeba/img_align_celeba/201792.jpg  \n",
            "  inflating: img_align_celeba/img_align_celeba/201793.jpg  \n",
            "  inflating: img_align_celeba/img_align_celeba/201794.jpg  \n",
            "  inflating: img_align_celeba/img_align_celeba/201795.jpg  \n",
            "  inflating: img_align_celeba/img_align_celeba/201796.jpg  \n",
            "  inflating: img_align_celeba/img_align_celeba/201797.jpg  \n",
            "  inflating: img_align_celeba/img_align_celeba/201798.jpg  \n",
            "  inflating: img_align_celeba/img_align_celeba/201799.jpg  \n",
            "  inflating: img_align_celeba/img_align_celeba/201800.jpg  \n",
            "  inflating: img_align_celeba/img_align_celeba/201801.jpg  \n",
            "  inflating: img_align_celeba/img_align_celeba/201802.jpg  \n",
            "  inflating: img_align_celeba/img_align_celeba/201803.jpg  \n",
            "  inflating: img_align_celeba/img_align_celeba/201804.jpg  \n",
            "  inflating: img_align_celeba/img_align_celeba/201805.jpg  \n",
            "  inflating: img_align_celeba/img_align_celeba/201806.jpg  \n",
            "  inflating: img_align_celeba/img_align_celeba/201807.jpg  \n",
            "  inflating: img_align_celeba/img_align_celeba/201808.jpg  \n",
            "  inflating: img_align_celeba/img_align_celeba/201809.jpg  \n",
            "  inflating: img_align_celeba/img_align_celeba/201810.jpg  \n",
            "  inflating: img_align_celeba/img_align_celeba/201811.jpg  \n",
            "  inflating: img_align_celeba/img_align_celeba/201812.jpg  \n",
            "  inflating: img_align_celeba/img_align_celeba/201813.jpg  \n",
            "  inflating: img_align_celeba/img_align_celeba/201814.jpg  \n",
            "  inflating: img_align_celeba/img_align_celeba/201815.jpg  \n",
            "  inflating: img_align_celeba/img_align_celeba/201816.jpg  \n",
            "  inflating: img_align_celeba/img_align_celeba/201817.jpg  \n",
            "  inflating: img_align_celeba/img_align_celeba/201818.jpg  \n",
            "  inflating: img_align_celeba/img_align_celeba/201819.jpg  \n",
            "  inflating: img_align_celeba/img_align_celeba/201820.jpg  \n",
            "  inflating: img_align_celeba/img_align_celeba/201821.jpg  \n",
            "  inflating: img_align_celeba/img_align_celeba/201822.jpg  \n",
            "  inflating: img_align_celeba/img_align_celeba/201823.jpg  \n",
            "  inflating: img_align_celeba/img_align_celeba/201824.jpg  \n",
            "  inflating: img_align_celeba/img_align_celeba/201825.jpg  \n",
            "  inflating: img_align_celeba/img_align_celeba/201826.jpg  \n",
            "  inflating: img_align_celeba/img_align_celeba/201827.jpg  \n",
            "  inflating: img_align_celeba/img_align_celeba/201828.jpg  \n",
            "  inflating: img_align_celeba/img_align_celeba/201829.jpg  \n",
            "  inflating: img_align_celeba/img_align_celeba/201830.jpg  \n",
            "  inflating: img_align_celeba/img_align_celeba/201831.jpg  \n",
            "  inflating: img_align_celeba/img_align_celeba/201832.jpg  \n",
            "  inflating: img_align_celeba/img_align_celeba/201833.jpg  \n",
            "  inflating: img_align_celeba/img_align_celeba/201834.jpg  \n",
            "  inflating: img_align_celeba/img_align_celeba/201835.jpg  \n",
            "  inflating: img_align_celeba/img_align_celeba/201836.jpg  \n",
            "  inflating: img_align_celeba/img_align_celeba/201837.jpg  \n",
            "  inflating: img_align_celeba/img_align_celeba/201838.jpg  \n",
            "  inflating: img_align_celeba/img_align_celeba/201839.jpg  \n",
            "  inflating: img_align_celeba/img_align_celeba/201840.jpg  \n",
            "  inflating: img_align_celeba/img_align_celeba/201841.jpg  \n",
            "  inflating: img_align_celeba/img_align_celeba/201842.jpg  \n",
            "  inflating: img_align_celeba/img_align_celeba/201843.jpg  \n",
            "  inflating: img_align_celeba/img_align_celeba/201844.jpg  \n",
            "  inflating: img_align_celeba/img_align_celeba/201845.jpg  \n",
            "  inflating: img_align_celeba/img_align_celeba/201846.jpg  \n",
            "  inflating: img_align_celeba/img_align_celeba/201847.jpg  \n",
            "  inflating: img_align_celeba/img_align_celeba/201848.jpg  \n",
            "  inflating: img_align_celeba/img_align_celeba/201849.jpg  \n",
            "  inflating: img_align_celeba/img_align_celeba/201850.jpg  \n",
            "  inflating: img_align_celeba/img_align_celeba/201851.jpg  \n",
            "  inflating: img_align_celeba/img_align_celeba/201852.jpg  \n",
            "  inflating: img_align_celeba/img_align_celeba/201853.jpg  \n",
            "  inflating: img_align_celeba/img_align_celeba/201854.jpg  \n",
            "  inflating: img_align_celeba/img_align_celeba/201855.jpg  \n",
            "  inflating: img_align_celeba/img_align_celeba/201856.jpg  \n",
            "  inflating: img_align_celeba/img_align_celeba/201857.jpg  \n",
            "  inflating: img_align_celeba/img_align_celeba/201858.jpg  \n",
            "  inflating: img_align_celeba/img_align_celeba/201859.jpg  \n",
            "  inflating: img_align_celeba/img_align_celeba/201860.jpg  \n",
            "  inflating: img_align_celeba/img_align_celeba/201861.jpg  \n",
            "  inflating: img_align_celeba/img_align_celeba/201862.jpg  \n",
            "  inflating: img_align_celeba/img_align_celeba/201863.jpg  \n",
            "  inflating: img_align_celeba/img_align_celeba/201864.jpg  \n",
            "  inflating: img_align_celeba/img_align_celeba/201865.jpg  \n",
            "  inflating: img_align_celeba/img_align_celeba/201866.jpg  \n",
            "  inflating: img_align_celeba/img_align_celeba/201867.jpg  \n",
            "  inflating: img_align_celeba/img_align_celeba/201868.jpg  \n",
            "  inflating: img_align_celeba/img_align_celeba/201869.jpg  \n",
            "  inflating: img_align_celeba/img_align_celeba/201870.jpg  \n",
            "  inflating: img_align_celeba/img_align_celeba/201871.jpg  \n",
            "  inflating: img_align_celeba/img_align_celeba/201872.jpg  \n",
            "  inflating: img_align_celeba/img_align_celeba/201873.jpg  \n",
            "  inflating: img_align_celeba/img_align_celeba/201874.jpg  \n",
            "  inflating: img_align_celeba/img_align_celeba/201875.jpg  \n",
            "  inflating: img_align_celeba/img_align_celeba/201876.jpg  \n",
            "  inflating: img_align_celeba/img_align_celeba/201877.jpg  \n",
            "  inflating: img_align_celeba/img_align_celeba/201878.jpg  \n",
            "  inflating: img_align_celeba/img_align_celeba/201879.jpg  \n",
            "  inflating: img_align_celeba/img_align_celeba/201880.jpg  \n",
            "  inflating: img_align_celeba/img_align_celeba/201881.jpg  \n",
            "  inflating: img_align_celeba/img_align_celeba/201882.jpg  \n",
            "  inflating: img_align_celeba/img_align_celeba/201883.jpg  \n",
            "  inflating: img_align_celeba/img_align_celeba/201884.jpg  \n",
            "  inflating: img_align_celeba/img_align_celeba/201885.jpg  \n",
            "  inflating: img_align_celeba/img_align_celeba/201886.jpg  \n",
            "  inflating: img_align_celeba/img_align_celeba/201887.jpg  \n",
            "  inflating: img_align_celeba/img_align_celeba/201888.jpg  \n",
            "  inflating: img_align_celeba/img_align_celeba/201889.jpg  \n",
            "  inflating: img_align_celeba/img_align_celeba/201890.jpg  \n",
            "  inflating: img_align_celeba/img_align_celeba/201891.jpg  \n",
            "  inflating: img_align_celeba/img_align_celeba/201892.jpg  \n",
            "  inflating: img_align_celeba/img_align_celeba/201893.jpg  \n",
            "  inflating: img_align_celeba/img_align_celeba/201894.jpg  \n",
            "  inflating: img_align_celeba/img_align_celeba/201895.jpg  \n",
            "  inflating: img_align_celeba/img_align_celeba/201896.jpg  \n",
            "  inflating: img_align_celeba/img_align_celeba/201897.jpg  \n",
            "  inflating: img_align_celeba/img_align_celeba/201898.jpg  \n",
            "  inflating: img_align_celeba/img_align_celeba/201899.jpg  \n",
            "  inflating: img_align_celeba/img_align_celeba/201900.jpg  \n",
            "  inflating: img_align_celeba/img_align_celeba/201901.jpg  \n",
            "  inflating: img_align_celeba/img_align_celeba/201902.jpg  \n",
            "  inflating: img_align_celeba/img_align_celeba/201903.jpg  \n",
            "  inflating: img_align_celeba/img_align_celeba/201904.jpg  \n",
            "  inflating: img_align_celeba/img_align_celeba/201905.jpg  \n",
            "  inflating: img_align_celeba/img_align_celeba/201906.jpg  \n",
            "  inflating: img_align_celeba/img_align_celeba/201907.jpg  \n",
            "  inflating: img_align_celeba/img_align_celeba/201908.jpg  \n",
            "  inflating: img_align_celeba/img_align_celeba/201909.jpg  \n",
            "  inflating: img_align_celeba/img_align_celeba/201910.jpg  \n",
            "  inflating: img_align_celeba/img_align_celeba/201911.jpg  \n",
            "  inflating: img_align_celeba/img_align_celeba/201912.jpg  \n",
            "  inflating: img_align_celeba/img_align_celeba/201913.jpg  \n",
            "  inflating: img_align_celeba/img_align_celeba/201914.jpg  \n",
            "  inflating: img_align_celeba/img_align_celeba/201915.jpg  \n",
            "  inflating: img_align_celeba/img_align_celeba/201916.jpg  \n",
            "  inflating: img_align_celeba/img_align_celeba/201917.jpg  \n",
            "  inflating: img_align_celeba/img_align_celeba/201918.jpg  \n",
            "  inflating: img_align_celeba/img_align_celeba/201919.jpg  \n",
            "  inflating: img_align_celeba/img_align_celeba/201920.jpg  \n",
            "  inflating: img_align_celeba/img_align_celeba/201921.jpg  \n",
            "  inflating: img_align_celeba/img_align_celeba/201922.jpg  \n",
            "  inflating: img_align_celeba/img_align_celeba/201923.jpg  \n",
            "  inflating: img_align_celeba/img_align_celeba/201924.jpg  \n",
            "  inflating: img_align_celeba/img_align_celeba/201925.jpg  \n",
            "  inflating: img_align_celeba/img_align_celeba/201926.jpg  \n",
            "  inflating: img_align_celeba/img_align_celeba/201927.jpg  \n",
            "  inflating: img_align_celeba/img_align_celeba/201928.jpg  \n",
            "  inflating: img_align_celeba/img_align_celeba/201929.jpg  \n",
            "  inflating: img_align_celeba/img_align_celeba/201930.jpg  \n",
            "  inflating: img_align_celeba/img_align_celeba/201931.jpg  \n",
            "  inflating: img_align_celeba/img_align_celeba/201932.jpg  \n",
            "  inflating: img_align_celeba/img_align_celeba/201933.jpg  \n",
            "  inflating: img_align_celeba/img_align_celeba/201934.jpg  \n",
            "  inflating: img_align_celeba/img_align_celeba/201935.jpg  \n",
            "  inflating: img_align_celeba/img_align_celeba/201936.jpg  \n",
            "  inflating: img_align_celeba/img_align_celeba/201937.jpg  \n",
            "  inflating: img_align_celeba/img_align_celeba/201938.jpg  \n",
            "  inflating: img_align_celeba/img_align_celeba/201939.jpg  \n",
            "  inflating: img_align_celeba/img_align_celeba/201940.jpg  \n",
            "  inflating: img_align_celeba/img_align_celeba/201941.jpg  \n",
            "  inflating: img_align_celeba/img_align_celeba/201942.jpg  \n",
            "  inflating: img_align_celeba/img_align_celeba/201943.jpg  \n",
            "  inflating: img_align_celeba/img_align_celeba/201944.jpg  \n",
            "  inflating: img_align_celeba/img_align_celeba/201945.jpg  \n",
            "  inflating: img_align_celeba/img_align_celeba/201946.jpg  \n",
            "  inflating: img_align_celeba/img_align_celeba/201947.jpg  \n",
            "  inflating: img_align_celeba/img_align_celeba/201948.jpg  \n",
            "  inflating: img_align_celeba/img_align_celeba/201949.jpg  \n",
            "  inflating: img_align_celeba/img_align_celeba/201950.jpg  \n",
            "  inflating: img_align_celeba/img_align_celeba/201951.jpg  \n",
            "  inflating: img_align_celeba/img_align_celeba/201952.jpg  \n",
            "  inflating: img_align_celeba/img_align_celeba/201953.jpg  \n",
            "  inflating: img_align_celeba/img_align_celeba/201954.jpg  \n",
            "  inflating: img_align_celeba/img_align_celeba/201955.jpg  \n",
            "  inflating: img_align_celeba/img_align_celeba/201956.jpg  \n",
            "  inflating: img_align_celeba/img_align_celeba/201957.jpg  \n",
            "  inflating: img_align_celeba/img_align_celeba/201958.jpg  \n",
            "  inflating: img_align_celeba/img_align_celeba/201959.jpg  \n",
            "  inflating: img_align_celeba/img_align_celeba/201960.jpg  \n",
            "  inflating: img_align_celeba/img_align_celeba/201961.jpg  \n",
            "  inflating: img_align_celeba/img_align_celeba/201962.jpg  \n",
            "  inflating: img_align_celeba/img_align_celeba/201963.jpg  \n",
            "  inflating: img_align_celeba/img_align_celeba/201964.jpg  \n",
            "  inflating: img_align_celeba/img_align_celeba/201965.jpg  \n",
            "  inflating: img_align_celeba/img_align_celeba/201966.jpg  \n",
            "  inflating: img_align_celeba/img_align_celeba/201967.jpg  \n",
            "  inflating: img_align_celeba/img_align_celeba/201968.jpg  \n",
            "  inflating: img_align_celeba/img_align_celeba/201969.jpg  \n",
            "  inflating: img_align_celeba/img_align_celeba/201970.jpg  \n",
            "  inflating: img_align_celeba/img_align_celeba/201971.jpg  \n",
            "  inflating: img_align_celeba/img_align_celeba/201972.jpg  \n",
            "  inflating: img_align_celeba/img_align_celeba/201973.jpg  \n",
            "  inflating: img_align_celeba/img_align_celeba/201974.jpg  \n",
            "  inflating: img_align_celeba/img_align_celeba/201975.jpg  \n",
            "  inflating: img_align_celeba/img_align_celeba/201976.jpg  \n",
            "  inflating: img_align_celeba/img_align_celeba/201977.jpg  \n",
            "  inflating: img_align_celeba/img_align_celeba/201978.jpg  \n",
            "  inflating: img_align_celeba/img_align_celeba/201979.jpg  \n",
            "  inflating: img_align_celeba/img_align_celeba/201980.jpg  \n",
            "  inflating: img_align_celeba/img_align_celeba/201981.jpg  \n",
            "  inflating: img_align_celeba/img_align_celeba/201982.jpg  \n",
            "  inflating: img_align_celeba/img_align_celeba/201983.jpg  \n",
            "  inflating: img_align_celeba/img_align_celeba/201984.jpg  \n",
            "  inflating: img_align_celeba/img_align_celeba/201985.jpg  \n",
            "  inflating: img_align_celeba/img_align_celeba/201986.jpg  \n",
            "  inflating: img_align_celeba/img_align_celeba/201987.jpg  \n",
            "  inflating: img_align_celeba/img_align_celeba/201988.jpg  \n",
            "  inflating: img_align_celeba/img_align_celeba/201989.jpg  \n",
            "  inflating: img_align_celeba/img_align_celeba/201990.jpg  \n",
            "  inflating: img_align_celeba/img_align_celeba/201991.jpg  \n",
            "  inflating: img_align_celeba/img_align_celeba/201992.jpg  \n",
            "  inflating: img_align_celeba/img_align_celeba/201993.jpg  \n",
            "  inflating: img_align_celeba/img_align_celeba/201994.jpg  \n",
            "  inflating: img_align_celeba/img_align_celeba/201995.jpg  \n",
            "  inflating: img_align_celeba/img_align_celeba/201996.jpg  \n",
            "  inflating: img_align_celeba/img_align_celeba/201997.jpg  \n",
            "  inflating: img_align_celeba/img_align_celeba/201998.jpg  \n",
            "  inflating: img_align_celeba/img_align_celeba/201999.jpg  \n",
            "  inflating: img_align_celeba/img_align_celeba/202000.jpg  \n",
            "  inflating: img_align_celeba/img_align_celeba/202001.jpg  \n",
            "  inflating: img_align_celeba/img_align_celeba/202002.jpg  \n",
            "  inflating: img_align_celeba/img_align_celeba/202003.jpg  \n",
            "  inflating: img_align_celeba/img_align_celeba/202004.jpg  \n",
            "  inflating: img_align_celeba/img_align_celeba/202005.jpg  \n",
            "  inflating: img_align_celeba/img_align_celeba/202006.jpg  \n",
            "  inflating: img_align_celeba/img_align_celeba/202007.jpg  \n",
            "  inflating: img_align_celeba/img_align_celeba/202008.jpg  \n",
            "  inflating: img_align_celeba/img_align_celeba/202009.jpg  \n",
            "  inflating: img_align_celeba/img_align_celeba/202010.jpg  \n",
            "  inflating: img_align_celeba/img_align_celeba/202011.jpg  \n",
            "  inflating: img_align_celeba/img_align_celeba/202012.jpg  \n",
            "  inflating: img_align_celeba/img_align_celeba/202013.jpg  \n",
            "  inflating: img_align_celeba/img_align_celeba/202014.jpg  \n",
            "  inflating: img_align_celeba/img_align_celeba/202015.jpg  \n",
            "  inflating: img_align_celeba/img_align_celeba/202016.jpg  \n",
            "  inflating: img_align_celeba/img_align_celeba/202017.jpg  \n",
            "  inflating: img_align_celeba/img_align_celeba/202018.jpg  \n",
            "  inflating: img_align_celeba/img_align_celeba/202019.jpg  \n",
            "  inflating: img_align_celeba/img_align_celeba/202020.jpg  \n",
            "  inflating: img_align_celeba/img_align_celeba/202021.jpg  \n",
            "  inflating: img_align_celeba/img_align_celeba/202022.jpg  \n",
            "  inflating: img_align_celeba/img_align_celeba/202023.jpg  \n",
            "  inflating: img_align_celeba/img_align_celeba/202024.jpg  \n",
            "  inflating: img_align_celeba/img_align_celeba/202025.jpg  \n",
            "  inflating: img_align_celeba/img_align_celeba/202026.jpg  \n",
            "  inflating: img_align_celeba/img_align_celeba/202027.jpg  \n",
            "  inflating: img_align_celeba/img_align_celeba/202028.jpg  \n",
            "  inflating: img_align_celeba/img_align_celeba/202029.jpg  \n",
            "  inflating: img_align_celeba/img_align_celeba/202030.jpg  \n",
            "  inflating: img_align_celeba/img_align_celeba/202031.jpg  \n",
            "  inflating: img_align_celeba/img_align_celeba/202032.jpg  \n",
            "  inflating: img_align_celeba/img_align_celeba/202033.jpg  \n",
            "  inflating: img_align_celeba/img_align_celeba/202034.jpg  \n",
            "  inflating: img_align_celeba/img_align_celeba/202035.jpg  \n",
            "  inflating: img_align_celeba/img_align_celeba/202036.jpg  \n",
            "  inflating: img_align_celeba/img_align_celeba/202037.jpg  \n",
            "  inflating: img_align_celeba/img_align_celeba/202038.jpg  \n",
            "  inflating: img_align_celeba/img_align_celeba/202039.jpg  \n",
            "  inflating: img_align_celeba/img_align_celeba/202040.jpg  \n",
            "  inflating: img_align_celeba/img_align_celeba/202041.jpg  \n",
            "  inflating: img_align_celeba/img_align_celeba/202042.jpg  \n",
            "  inflating: img_align_celeba/img_align_celeba/202043.jpg  \n",
            "  inflating: img_align_celeba/img_align_celeba/202044.jpg  \n",
            "  inflating: img_align_celeba/img_align_celeba/202045.jpg  \n",
            "  inflating: img_align_celeba/img_align_celeba/202046.jpg  \n",
            "  inflating: img_align_celeba/img_align_celeba/202047.jpg  \n",
            "  inflating: img_align_celeba/img_align_celeba/202048.jpg  \n",
            "  inflating: img_align_celeba/img_align_celeba/202049.jpg  \n",
            "  inflating: img_align_celeba/img_align_celeba/202050.jpg  \n",
            "  inflating: img_align_celeba/img_align_celeba/202051.jpg  \n",
            "  inflating: img_align_celeba/img_align_celeba/202052.jpg  \n",
            "  inflating: img_align_celeba/img_align_celeba/202053.jpg  \n",
            "  inflating: img_align_celeba/img_align_celeba/202054.jpg  \n",
            "  inflating: img_align_celeba/img_align_celeba/202055.jpg  \n",
            "  inflating: img_align_celeba/img_align_celeba/202056.jpg  \n",
            "  inflating: img_align_celeba/img_align_celeba/202057.jpg  \n",
            "  inflating: img_align_celeba/img_align_celeba/202058.jpg  \n",
            "  inflating: img_align_celeba/img_align_celeba/202059.jpg  \n",
            "  inflating: img_align_celeba/img_align_celeba/202060.jpg  \n",
            "  inflating: img_align_celeba/img_align_celeba/202061.jpg  \n",
            "  inflating: img_align_celeba/img_align_celeba/202062.jpg  \n",
            "  inflating: img_align_celeba/img_align_celeba/202063.jpg  \n",
            "  inflating: img_align_celeba/img_align_celeba/202064.jpg  \n",
            "  inflating: img_align_celeba/img_align_celeba/202065.jpg  \n",
            "  inflating: img_align_celeba/img_align_celeba/202066.jpg  \n",
            "  inflating: img_align_celeba/img_align_celeba/202067.jpg  \n",
            "  inflating: img_align_celeba/img_align_celeba/202068.jpg  \n",
            "  inflating: img_align_celeba/img_align_celeba/202069.jpg  \n",
            "  inflating: img_align_celeba/img_align_celeba/202070.jpg  \n",
            "  inflating: img_align_celeba/img_align_celeba/202071.jpg  \n",
            "  inflating: img_align_celeba/img_align_celeba/202072.jpg  \n",
            "  inflating: img_align_celeba/img_align_celeba/202073.jpg  \n",
            "  inflating: img_align_celeba/img_align_celeba/202074.jpg  \n",
            "  inflating: img_align_celeba/img_align_celeba/202075.jpg  \n",
            "  inflating: img_align_celeba/img_align_celeba/202076.jpg  \n",
            "  inflating: img_align_celeba/img_align_celeba/202077.jpg  \n",
            "  inflating: img_align_celeba/img_align_celeba/202078.jpg  \n",
            "  inflating: img_align_celeba/img_align_celeba/202079.jpg  \n",
            "  inflating: img_align_celeba/img_align_celeba/202080.jpg  \n",
            "  inflating: img_align_celeba/img_align_celeba/202081.jpg  \n",
            "  inflating: img_align_celeba/img_align_celeba/202082.jpg  \n",
            "  inflating: img_align_celeba/img_align_celeba/202083.jpg  \n",
            "  inflating: img_align_celeba/img_align_celeba/202084.jpg  \n",
            "  inflating: img_align_celeba/img_align_celeba/202085.jpg  \n",
            "  inflating: img_align_celeba/img_align_celeba/202086.jpg  \n",
            "  inflating: img_align_celeba/img_align_celeba/202087.jpg  \n",
            "  inflating: img_align_celeba/img_align_celeba/202088.jpg  \n",
            "  inflating: img_align_celeba/img_align_celeba/202089.jpg  \n",
            "  inflating: img_align_celeba/img_align_celeba/202090.jpg  \n",
            "  inflating: img_align_celeba/img_align_celeba/202091.jpg  \n",
            "  inflating: img_align_celeba/img_align_celeba/202092.jpg  \n",
            "  inflating: img_align_celeba/img_align_celeba/202093.jpg  \n",
            "  inflating: img_align_celeba/img_align_celeba/202094.jpg  \n",
            "  inflating: img_align_celeba/img_align_celeba/202095.jpg  \n",
            "  inflating: img_align_celeba/img_align_celeba/202096.jpg  \n",
            "  inflating: img_align_celeba/img_align_celeba/202097.jpg  \n",
            "  inflating: img_align_celeba/img_align_celeba/202098.jpg  \n",
            "  inflating: img_align_celeba/img_align_celeba/202099.jpg  \n",
            "  inflating: img_align_celeba/img_align_celeba/202100.jpg  \n",
            "  inflating: img_align_celeba/img_align_celeba/202101.jpg  \n",
            "  inflating: img_align_celeba/img_align_celeba/202102.jpg  \n",
            "  inflating: img_align_celeba/img_align_celeba/202103.jpg  \n",
            "  inflating: img_align_celeba/img_align_celeba/202104.jpg  \n",
            "  inflating: img_align_celeba/img_align_celeba/202105.jpg  \n",
            "  inflating: img_align_celeba/img_align_celeba/202106.jpg  \n",
            "  inflating: img_align_celeba/img_align_celeba/202107.jpg  \n",
            "  inflating: img_align_celeba/img_align_celeba/202108.jpg  \n",
            "  inflating: img_align_celeba/img_align_celeba/202109.jpg  \n",
            "  inflating: img_align_celeba/img_align_celeba/202110.jpg  \n",
            "  inflating: img_align_celeba/img_align_celeba/202111.jpg  \n",
            "  inflating: img_align_celeba/img_align_celeba/202112.jpg  \n",
            "  inflating: img_align_celeba/img_align_celeba/202113.jpg  \n",
            "  inflating: img_align_celeba/img_align_celeba/202114.jpg  \n",
            "  inflating: img_align_celeba/img_align_celeba/202115.jpg  \n",
            "  inflating: img_align_celeba/img_align_celeba/202116.jpg  \n",
            "  inflating: img_align_celeba/img_align_celeba/202117.jpg  \n",
            "  inflating: img_align_celeba/img_align_celeba/202118.jpg  \n",
            "  inflating: img_align_celeba/img_align_celeba/202119.jpg  \n",
            "  inflating: img_align_celeba/img_align_celeba/202120.jpg  \n",
            "  inflating: img_align_celeba/img_align_celeba/202121.jpg  \n",
            "  inflating: img_align_celeba/img_align_celeba/202122.jpg  \n",
            "  inflating: img_align_celeba/img_align_celeba/202123.jpg  \n",
            "  inflating: img_align_celeba/img_align_celeba/202124.jpg  \n",
            "  inflating: img_align_celeba/img_align_celeba/202125.jpg  \n",
            "  inflating: img_align_celeba/img_align_celeba/202126.jpg  \n",
            "  inflating: img_align_celeba/img_align_celeba/202127.jpg  \n",
            "  inflating: img_align_celeba/img_align_celeba/202128.jpg  \n",
            "  inflating: img_align_celeba/img_align_celeba/202129.jpg  \n",
            "  inflating: img_align_celeba/img_align_celeba/202130.jpg  \n",
            "  inflating: img_align_celeba/img_align_celeba/202131.jpg  \n",
            "  inflating: img_align_celeba/img_align_celeba/202132.jpg  \n",
            "  inflating: img_align_celeba/img_align_celeba/202133.jpg  \n",
            "  inflating: img_align_celeba/img_align_celeba/202134.jpg  \n",
            "  inflating: img_align_celeba/img_align_celeba/202135.jpg  \n",
            "  inflating: img_align_celeba/img_align_celeba/202136.jpg  \n",
            "  inflating: img_align_celeba/img_align_celeba/202137.jpg  \n",
            "  inflating: img_align_celeba/img_align_celeba/202138.jpg  \n",
            "  inflating: img_align_celeba/img_align_celeba/202139.jpg  \n",
            "  inflating: img_align_celeba/img_align_celeba/202140.jpg  \n",
            "  inflating: img_align_celeba/img_align_celeba/202141.jpg  \n",
            "  inflating: img_align_celeba/img_align_celeba/202142.jpg  \n",
            "  inflating: img_align_celeba/img_align_celeba/202143.jpg  \n",
            "  inflating: img_align_celeba/img_align_celeba/202144.jpg  \n",
            "  inflating: img_align_celeba/img_align_celeba/202145.jpg  \n",
            "  inflating: img_align_celeba/img_align_celeba/202146.jpg  \n",
            "  inflating: img_align_celeba/img_align_celeba/202147.jpg  \n",
            "  inflating: img_align_celeba/img_align_celeba/202148.jpg  \n",
            "  inflating: img_align_celeba/img_align_celeba/202149.jpg  \n",
            "  inflating: img_align_celeba/img_align_celeba/202150.jpg  \n",
            "  inflating: img_align_celeba/img_align_celeba/202151.jpg  \n",
            "  inflating: img_align_celeba/img_align_celeba/202152.jpg  \n",
            "  inflating: img_align_celeba/img_align_celeba/202153.jpg  \n",
            "  inflating: img_align_celeba/img_align_celeba/202154.jpg  \n",
            "  inflating: img_align_celeba/img_align_celeba/202155.jpg  \n",
            "  inflating: img_align_celeba/img_align_celeba/202156.jpg  \n",
            "  inflating: img_align_celeba/img_align_celeba/202157.jpg  \n",
            "  inflating: img_align_celeba/img_align_celeba/202158.jpg  \n",
            "  inflating: img_align_celeba/img_align_celeba/202159.jpg  \n",
            "  inflating: img_align_celeba/img_align_celeba/202160.jpg  \n",
            "  inflating: img_align_celeba/img_align_celeba/202161.jpg  \n",
            "  inflating: img_align_celeba/img_align_celeba/202162.jpg  \n",
            "  inflating: img_align_celeba/img_align_celeba/202163.jpg  \n",
            "  inflating: img_align_celeba/img_align_celeba/202164.jpg  \n",
            "  inflating: img_align_celeba/img_align_celeba/202165.jpg  \n",
            "  inflating: img_align_celeba/img_align_celeba/202166.jpg  \n",
            "  inflating: img_align_celeba/img_align_celeba/202167.jpg  \n",
            "  inflating: img_align_celeba/img_align_celeba/202168.jpg  \n",
            "  inflating: img_align_celeba/img_align_celeba/202169.jpg  \n",
            "  inflating: img_align_celeba/img_align_celeba/202170.jpg  \n",
            "  inflating: img_align_celeba/img_align_celeba/202171.jpg  \n",
            "  inflating: img_align_celeba/img_align_celeba/202172.jpg  \n",
            "  inflating: img_align_celeba/img_align_celeba/202173.jpg  \n",
            "  inflating: img_align_celeba/img_align_celeba/202174.jpg  \n",
            "  inflating: img_align_celeba/img_align_celeba/202175.jpg  \n",
            "  inflating: img_align_celeba/img_align_celeba/202176.jpg  \n",
            "  inflating: img_align_celeba/img_align_celeba/202177.jpg  \n",
            "  inflating: img_align_celeba/img_align_celeba/202178.jpg  \n",
            "  inflating: img_align_celeba/img_align_celeba/202179.jpg  \n",
            "  inflating: img_align_celeba/img_align_celeba/202180.jpg  \n",
            "  inflating: img_align_celeba/img_align_celeba/202181.jpg  \n",
            "  inflating: img_align_celeba/img_align_celeba/202182.jpg  \n",
            "  inflating: img_align_celeba/img_align_celeba/202183.jpg  \n",
            "  inflating: img_align_celeba/img_align_celeba/202184.jpg  \n",
            "  inflating: img_align_celeba/img_align_celeba/202185.jpg  \n",
            "  inflating: img_align_celeba/img_align_celeba/202186.jpg  \n",
            "  inflating: img_align_celeba/img_align_celeba/202187.jpg  \n",
            "  inflating: img_align_celeba/img_align_celeba/202188.jpg  \n",
            "  inflating: img_align_celeba/img_align_celeba/202189.jpg  \n",
            "  inflating: img_align_celeba/img_align_celeba/202190.jpg  \n",
            "  inflating: img_align_celeba/img_align_celeba/202191.jpg  \n",
            "  inflating: img_align_celeba/img_align_celeba/202192.jpg  \n",
            "  inflating: img_align_celeba/img_align_celeba/202193.jpg  \n",
            "  inflating: img_align_celeba/img_align_celeba/202194.jpg  \n",
            "  inflating: img_align_celeba/img_align_celeba/202195.jpg  \n",
            "  inflating: img_align_celeba/img_align_celeba/202196.jpg  \n",
            "  inflating: img_align_celeba/img_align_celeba/202197.jpg  \n",
            "  inflating: img_align_celeba/img_align_celeba/202198.jpg  \n",
            "  inflating: img_align_celeba/img_align_celeba/202199.jpg  \n",
            "  inflating: img_align_celeba/img_align_celeba/202200.jpg  \n",
            "  inflating: img_align_celeba/img_align_celeba/202201.jpg  \n",
            "  inflating: img_align_celeba/img_align_celeba/202202.jpg  \n",
            "  inflating: img_align_celeba/img_align_celeba/202203.jpg  \n",
            "  inflating: img_align_celeba/img_align_celeba/202204.jpg  \n",
            "  inflating: img_align_celeba/img_align_celeba/202205.jpg  \n",
            "  inflating: img_align_celeba/img_align_celeba/202206.jpg  \n",
            "  inflating: img_align_celeba/img_align_celeba/202207.jpg  \n",
            "  inflating: img_align_celeba/img_align_celeba/202208.jpg  \n",
            "  inflating: img_align_celeba/img_align_celeba/202209.jpg  \n",
            "  inflating: img_align_celeba/img_align_celeba/202210.jpg  \n",
            "  inflating: img_align_celeba/img_align_celeba/202211.jpg  \n",
            "  inflating: img_align_celeba/img_align_celeba/202212.jpg  \n",
            "  inflating: img_align_celeba/img_align_celeba/202213.jpg  \n",
            "  inflating: img_align_celeba/img_align_celeba/202214.jpg  \n",
            "  inflating: img_align_celeba/img_align_celeba/202215.jpg  \n",
            "  inflating: img_align_celeba/img_align_celeba/202216.jpg  \n",
            "  inflating: img_align_celeba/img_align_celeba/202217.jpg  \n",
            "  inflating: img_align_celeba/img_align_celeba/202218.jpg  \n",
            "  inflating: img_align_celeba/img_align_celeba/202219.jpg  \n",
            "  inflating: img_align_celeba/img_align_celeba/202220.jpg  \n",
            "  inflating: img_align_celeba/img_align_celeba/202221.jpg  \n",
            "  inflating: img_align_celeba/img_align_celeba/202222.jpg  \n",
            "  inflating: img_align_celeba/img_align_celeba/202223.jpg  \n",
            "  inflating: img_align_celeba/img_align_celeba/202224.jpg  \n",
            "  inflating: img_align_celeba/img_align_celeba/202225.jpg  \n",
            "  inflating: img_align_celeba/img_align_celeba/202226.jpg  \n",
            "  inflating: img_align_celeba/img_align_celeba/202227.jpg  \n",
            "  inflating: img_align_celeba/img_align_celeba/202228.jpg  \n",
            "  inflating: img_align_celeba/img_align_celeba/202229.jpg  \n",
            "  inflating: img_align_celeba/img_align_celeba/202230.jpg  \n",
            "  inflating: img_align_celeba/img_align_celeba/202231.jpg  \n",
            "  inflating: img_align_celeba/img_align_celeba/202232.jpg  \n",
            "  inflating: img_align_celeba/img_align_celeba/202233.jpg  \n",
            "  inflating: img_align_celeba/img_align_celeba/202234.jpg  \n",
            "  inflating: img_align_celeba/img_align_celeba/202235.jpg  \n",
            "  inflating: img_align_celeba/img_align_celeba/202236.jpg  \n",
            "  inflating: img_align_celeba/img_align_celeba/202237.jpg  \n",
            "  inflating: img_align_celeba/img_align_celeba/202238.jpg  \n",
            "  inflating: img_align_celeba/img_align_celeba/202239.jpg  \n",
            "  inflating: img_align_celeba/img_align_celeba/202240.jpg  \n",
            "  inflating: img_align_celeba/img_align_celeba/202241.jpg  \n",
            "  inflating: img_align_celeba/img_align_celeba/202242.jpg  \n",
            "  inflating: img_align_celeba/img_align_celeba/202243.jpg  \n",
            "  inflating: img_align_celeba/img_align_celeba/202244.jpg  \n",
            "  inflating: img_align_celeba/img_align_celeba/202245.jpg  \n",
            "  inflating: img_align_celeba/img_align_celeba/202246.jpg  \n",
            "  inflating: img_align_celeba/img_align_celeba/202247.jpg  \n",
            "  inflating: img_align_celeba/img_align_celeba/202248.jpg  \n",
            "  inflating: img_align_celeba/img_align_celeba/202249.jpg  \n",
            "  inflating: img_align_celeba/img_align_celeba/202250.jpg  \n",
            "  inflating: img_align_celeba/img_align_celeba/202251.jpg  \n",
            "  inflating: img_align_celeba/img_align_celeba/202252.jpg  \n",
            "  inflating: img_align_celeba/img_align_celeba/202253.jpg  \n",
            "  inflating: img_align_celeba/img_align_celeba/202254.jpg  \n",
            "  inflating: img_align_celeba/img_align_celeba/202255.jpg  \n",
            "  inflating: img_align_celeba/img_align_celeba/202256.jpg  \n",
            "  inflating: img_align_celeba/img_align_celeba/202257.jpg  \n",
            "  inflating: img_align_celeba/img_align_celeba/202258.jpg  \n",
            "  inflating: img_align_celeba/img_align_celeba/202259.jpg  \n",
            "  inflating: img_align_celeba/img_align_celeba/202260.jpg  \n",
            "  inflating: img_align_celeba/img_align_celeba/202261.jpg  \n",
            "  inflating: img_align_celeba/img_align_celeba/202262.jpg  \n",
            "  inflating: img_align_celeba/img_align_celeba/202263.jpg  \n",
            "  inflating: img_align_celeba/img_align_celeba/202264.jpg  \n",
            "  inflating: img_align_celeba/img_align_celeba/202265.jpg  \n",
            "  inflating: img_align_celeba/img_align_celeba/202266.jpg  \n",
            "  inflating: img_align_celeba/img_align_celeba/202267.jpg  \n",
            "  inflating: img_align_celeba/img_align_celeba/202268.jpg  \n",
            "  inflating: img_align_celeba/img_align_celeba/202269.jpg  \n",
            "  inflating: img_align_celeba/img_align_celeba/202270.jpg  \n",
            "  inflating: img_align_celeba/img_align_celeba/202271.jpg  \n",
            "  inflating: img_align_celeba/img_align_celeba/202272.jpg  \n",
            "  inflating: img_align_celeba/img_align_celeba/202273.jpg  \n",
            "  inflating: img_align_celeba/img_align_celeba/202274.jpg  \n",
            "  inflating: img_align_celeba/img_align_celeba/202275.jpg  \n",
            "  inflating: img_align_celeba/img_align_celeba/202276.jpg  \n",
            "  inflating: img_align_celeba/img_align_celeba/202277.jpg  \n",
            "  inflating: img_align_celeba/img_align_celeba/202278.jpg  \n",
            "  inflating: img_align_celeba/img_align_celeba/202279.jpg  \n",
            "  inflating: img_align_celeba/img_align_celeba/202280.jpg  \n",
            "  inflating: img_align_celeba/img_align_celeba/202281.jpg  \n",
            "  inflating: img_align_celeba/img_align_celeba/202282.jpg  \n",
            "  inflating: img_align_celeba/img_align_celeba/202283.jpg  \n",
            "  inflating: img_align_celeba/img_align_celeba/202284.jpg  \n",
            "  inflating: img_align_celeba/img_align_celeba/202285.jpg  \n",
            "  inflating: img_align_celeba/img_align_celeba/202286.jpg  \n",
            "  inflating: img_align_celeba/img_align_celeba/202287.jpg  \n",
            "  inflating: img_align_celeba/img_align_celeba/202288.jpg  \n",
            "  inflating: img_align_celeba/img_align_celeba/202289.jpg  \n",
            "  inflating: img_align_celeba/img_align_celeba/202290.jpg  \n",
            "  inflating: img_align_celeba/img_align_celeba/202291.jpg  \n",
            "  inflating: img_align_celeba/img_align_celeba/202292.jpg  \n",
            "  inflating: img_align_celeba/img_align_celeba/202293.jpg  \n",
            "  inflating: img_align_celeba/img_align_celeba/202294.jpg  \n",
            "  inflating: img_align_celeba/img_align_celeba/202295.jpg  \n",
            "  inflating: img_align_celeba/img_align_celeba/202296.jpg  \n",
            "  inflating: img_align_celeba/img_align_celeba/202297.jpg  \n",
            "  inflating: img_align_celeba/img_align_celeba/202298.jpg  \n",
            "  inflating: img_align_celeba/img_align_celeba/202299.jpg  \n",
            "  inflating: img_align_celeba/img_align_celeba/202300.jpg  \n",
            "  inflating: img_align_celeba/img_align_celeba/202301.jpg  \n",
            "  inflating: img_align_celeba/img_align_celeba/202302.jpg  \n",
            "  inflating: img_align_celeba/img_align_celeba/202303.jpg  \n",
            "  inflating: img_align_celeba/img_align_celeba/202304.jpg  \n",
            "  inflating: img_align_celeba/img_align_celeba/202305.jpg  \n",
            "  inflating: img_align_celeba/img_align_celeba/202306.jpg  \n",
            "  inflating: img_align_celeba/img_align_celeba/202307.jpg  \n",
            "  inflating: img_align_celeba/img_align_celeba/202308.jpg  \n",
            "  inflating: img_align_celeba/img_align_celeba/202309.jpg  \n",
            "  inflating: img_align_celeba/img_align_celeba/202310.jpg  \n",
            "  inflating: img_align_celeba/img_align_celeba/202311.jpg  \n",
            "  inflating: img_align_celeba/img_align_celeba/202312.jpg  \n",
            "  inflating: img_align_celeba/img_align_celeba/202313.jpg  \n",
            "  inflating: img_align_celeba/img_align_celeba/202314.jpg  \n",
            "  inflating: img_align_celeba/img_align_celeba/202315.jpg  \n",
            "  inflating: img_align_celeba/img_align_celeba/202316.jpg  \n",
            "  inflating: img_align_celeba/img_align_celeba/202317.jpg  \n",
            "  inflating: img_align_celeba/img_align_celeba/202318.jpg  \n",
            "  inflating: img_align_celeba/img_align_celeba/202319.jpg  \n",
            "  inflating: img_align_celeba/img_align_celeba/202320.jpg  \n",
            "  inflating: img_align_celeba/img_align_celeba/202321.jpg  \n",
            "  inflating: img_align_celeba/img_align_celeba/202322.jpg  \n",
            "  inflating: img_align_celeba/img_align_celeba/202323.jpg  \n",
            "  inflating: img_align_celeba/img_align_celeba/202324.jpg  \n",
            "  inflating: img_align_celeba/img_align_celeba/202325.jpg  \n",
            "  inflating: img_align_celeba/img_align_celeba/202326.jpg  \n",
            "  inflating: img_align_celeba/img_align_celeba/202327.jpg  \n",
            "  inflating: img_align_celeba/img_align_celeba/202328.jpg  \n",
            "  inflating: img_align_celeba/img_align_celeba/202329.jpg  \n",
            "  inflating: img_align_celeba/img_align_celeba/202330.jpg  \n",
            "  inflating: img_align_celeba/img_align_celeba/202331.jpg  \n",
            "  inflating: img_align_celeba/img_align_celeba/202332.jpg  \n",
            "  inflating: img_align_celeba/img_align_celeba/202333.jpg  \n",
            "  inflating: img_align_celeba/img_align_celeba/202334.jpg  \n",
            "  inflating: img_align_celeba/img_align_celeba/202335.jpg  \n",
            "  inflating: img_align_celeba/img_align_celeba/202336.jpg  \n",
            "  inflating: img_align_celeba/img_align_celeba/202337.jpg  \n",
            "  inflating: img_align_celeba/img_align_celeba/202338.jpg  \n",
            "  inflating: img_align_celeba/img_align_celeba/202339.jpg  \n",
            "  inflating: img_align_celeba/img_align_celeba/202340.jpg  \n",
            "  inflating: img_align_celeba/img_align_celeba/202341.jpg  \n",
            "  inflating: img_align_celeba/img_align_celeba/202342.jpg  \n",
            "  inflating: img_align_celeba/img_align_celeba/202343.jpg  \n",
            "  inflating: img_align_celeba/img_align_celeba/202344.jpg  \n",
            "  inflating: img_align_celeba/img_align_celeba/202345.jpg  \n",
            "  inflating: img_align_celeba/img_align_celeba/202346.jpg  \n",
            "  inflating: img_align_celeba/img_align_celeba/202347.jpg  \n",
            "  inflating: img_align_celeba/img_align_celeba/202348.jpg  \n",
            "  inflating: img_align_celeba/img_align_celeba/202349.jpg  \n",
            "  inflating: img_align_celeba/img_align_celeba/202350.jpg  \n",
            "  inflating: img_align_celeba/img_align_celeba/202351.jpg  \n",
            "  inflating: img_align_celeba/img_align_celeba/202352.jpg  \n",
            "  inflating: img_align_celeba/img_align_celeba/202353.jpg  \n",
            "  inflating: img_align_celeba/img_align_celeba/202354.jpg  \n",
            "  inflating: img_align_celeba/img_align_celeba/202355.jpg  \n",
            "  inflating: img_align_celeba/img_align_celeba/202356.jpg  \n",
            "  inflating: img_align_celeba/img_align_celeba/202357.jpg  \n",
            "  inflating: img_align_celeba/img_align_celeba/202358.jpg  \n",
            "  inflating: img_align_celeba/img_align_celeba/202359.jpg  \n",
            "  inflating: img_align_celeba/img_align_celeba/202360.jpg  \n",
            "  inflating: img_align_celeba/img_align_celeba/202361.jpg  \n",
            "  inflating: img_align_celeba/img_align_celeba/202362.jpg  \n",
            "  inflating: img_align_celeba/img_align_celeba/202363.jpg  \n",
            "  inflating: img_align_celeba/img_align_celeba/202364.jpg  \n",
            "  inflating: img_align_celeba/img_align_celeba/202365.jpg  \n",
            "  inflating: img_align_celeba/img_align_celeba/202366.jpg  \n",
            "  inflating: img_align_celeba/img_align_celeba/202367.jpg  \n",
            "  inflating: img_align_celeba/img_align_celeba/202368.jpg  \n",
            "  inflating: img_align_celeba/img_align_celeba/202369.jpg  \n",
            "  inflating: img_align_celeba/img_align_celeba/202370.jpg  \n",
            "  inflating: img_align_celeba/img_align_celeba/202371.jpg  \n",
            "  inflating: img_align_celeba/img_align_celeba/202372.jpg  \n",
            "  inflating: img_align_celeba/img_align_celeba/202373.jpg  \n",
            "  inflating: img_align_celeba/img_align_celeba/202374.jpg  \n",
            "  inflating: img_align_celeba/img_align_celeba/202375.jpg  \n",
            "  inflating: img_align_celeba/img_align_celeba/202376.jpg  \n",
            "  inflating: img_align_celeba/img_align_celeba/202377.jpg  \n",
            "  inflating: img_align_celeba/img_align_celeba/202378.jpg  \n",
            "  inflating: img_align_celeba/img_align_celeba/202379.jpg  \n",
            "  inflating: img_align_celeba/img_align_celeba/202380.jpg  \n",
            "  inflating: img_align_celeba/img_align_celeba/202381.jpg  \n",
            "  inflating: img_align_celeba/img_align_celeba/202382.jpg  \n",
            "  inflating: img_align_celeba/img_align_celeba/202383.jpg  \n",
            "  inflating: img_align_celeba/img_align_celeba/202384.jpg  \n",
            "  inflating: img_align_celeba/img_align_celeba/202385.jpg  \n",
            "  inflating: img_align_celeba/img_align_celeba/202386.jpg  \n",
            "  inflating: img_align_celeba/img_align_celeba/202387.jpg  \n",
            "  inflating: img_align_celeba/img_align_celeba/202388.jpg  \n",
            "  inflating: img_align_celeba/img_align_celeba/202389.jpg  \n",
            "  inflating: img_align_celeba/img_align_celeba/202390.jpg  \n",
            "  inflating: img_align_celeba/img_align_celeba/202391.jpg  \n",
            "  inflating: img_align_celeba/img_align_celeba/202392.jpg  \n",
            "  inflating: img_align_celeba/img_align_celeba/202393.jpg  \n",
            "  inflating: img_align_celeba/img_align_celeba/202394.jpg  \n",
            "  inflating: img_align_celeba/img_align_celeba/202395.jpg  \n",
            "  inflating: img_align_celeba/img_align_celeba/202396.jpg  \n",
            "  inflating: img_align_celeba/img_align_celeba/202397.jpg  \n",
            "  inflating: img_align_celeba/img_align_celeba/202398.jpg  \n",
            "  inflating: img_align_celeba/img_align_celeba/202399.jpg  \n",
            "  inflating: img_align_celeba/img_align_celeba/202400.jpg  \n",
            "  inflating: img_align_celeba/img_align_celeba/202401.jpg  \n",
            "  inflating: img_align_celeba/img_align_celeba/202402.jpg  \n",
            "  inflating: img_align_celeba/img_align_celeba/202403.jpg  \n",
            "  inflating: img_align_celeba/img_align_celeba/202404.jpg  \n",
            "  inflating: img_align_celeba/img_align_celeba/202405.jpg  \n",
            "  inflating: img_align_celeba/img_align_celeba/202406.jpg  \n",
            "  inflating: img_align_celeba/img_align_celeba/202407.jpg  \n",
            "  inflating: img_align_celeba/img_align_celeba/202408.jpg  \n",
            "  inflating: img_align_celeba/img_align_celeba/202409.jpg  \n",
            "  inflating: img_align_celeba/img_align_celeba/202410.jpg  \n",
            "  inflating: img_align_celeba/img_align_celeba/202411.jpg  \n",
            "  inflating: img_align_celeba/img_align_celeba/202412.jpg  \n",
            "  inflating: img_align_celeba/img_align_celeba/202413.jpg  \n",
            "  inflating: img_align_celeba/img_align_celeba/202414.jpg  \n",
            "  inflating: img_align_celeba/img_align_celeba/202415.jpg  \n",
            "  inflating: img_align_celeba/img_align_celeba/202416.jpg  \n",
            "  inflating: img_align_celeba/img_align_celeba/202417.jpg  \n",
            "  inflating: img_align_celeba/img_align_celeba/202418.jpg  \n",
            "  inflating: img_align_celeba/img_align_celeba/202419.jpg  \n",
            "  inflating: img_align_celeba/img_align_celeba/202420.jpg  \n",
            "  inflating: img_align_celeba/img_align_celeba/202421.jpg  \n",
            "  inflating: img_align_celeba/img_align_celeba/202422.jpg  \n",
            "  inflating: img_align_celeba/img_align_celeba/202423.jpg  \n",
            "  inflating: img_align_celeba/img_align_celeba/202424.jpg  \n",
            "  inflating: img_align_celeba/img_align_celeba/202425.jpg  \n",
            "  inflating: img_align_celeba/img_align_celeba/202426.jpg  \n",
            "  inflating: img_align_celeba/img_align_celeba/202427.jpg  \n",
            "  inflating: img_align_celeba/img_align_celeba/202428.jpg  \n",
            "  inflating: img_align_celeba/img_align_celeba/202429.jpg  \n",
            "  inflating: img_align_celeba/img_align_celeba/202430.jpg  \n",
            "  inflating: img_align_celeba/img_align_celeba/202431.jpg  \n",
            "  inflating: img_align_celeba/img_align_celeba/202432.jpg  \n",
            "  inflating: img_align_celeba/img_align_celeba/202433.jpg  \n",
            "  inflating: img_align_celeba/img_align_celeba/202434.jpg  \n",
            "  inflating: img_align_celeba/img_align_celeba/202435.jpg  \n",
            "  inflating: img_align_celeba/img_align_celeba/202436.jpg  \n",
            "  inflating: img_align_celeba/img_align_celeba/202437.jpg  \n",
            "  inflating: img_align_celeba/img_align_celeba/202438.jpg  \n",
            "  inflating: img_align_celeba/img_align_celeba/202439.jpg  \n",
            "  inflating: img_align_celeba/img_align_celeba/202440.jpg  \n",
            "  inflating: img_align_celeba/img_align_celeba/202441.jpg  \n",
            "  inflating: img_align_celeba/img_align_celeba/202442.jpg  \n",
            "  inflating: img_align_celeba/img_align_celeba/202443.jpg  \n",
            "  inflating: img_align_celeba/img_align_celeba/202444.jpg  \n",
            "  inflating: img_align_celeba/img_align_celeba/202445.jpg  \n",
            "  inflating: img_align_celeba/img_align_celeba/202446.jpg  \n",
            "  inflating: img_align_celeba/img_align_celeba/202447.jpg  \n",
            "  inflating: img_align_celeba/img_align_celeba/202448.jpg  \n",
            "  inflating: img_align_celeba/img_align_celeba/202449.jpg  \n",
            "  inflating: img_align_celeba/img_align_celeba/202450.jpg  \n",
            "  inflating: img_align_celeba/img_align_celeba/202451.jpg  \n",
            "  inflating: img_align_celeba/img_align_celeba/202452.jpg  \n",
            "  inflating: img_align_celeba/img_align_celeba/202453.jpg  \n",
            "  inflating: img_align_celeba/img_align_celeba/202454.jpg  \n",
            "  inflating: img_align_celeba/img_align_celeba/202455.jpg  \n",
            "  inflating: img_align_celeba/img_align_celeba/202456.jpg  \n",
            "  inflating: img_align_celeba/img_align_celeba/202457.jpg  \n",
            "  inflating: img_align_celeba/img_align_celeba/202458.jpg  \n",
            "  inflating: img_align_celeba/img_align_celeba/202459.jpg  \n",
            "  inflating: img_align_celeba/img_align_celeba/202460.jpg  \n",
            "  inflating: img_align_celeba/img_align_celeba/202461.jpg  \n",
            "  inflating: img_align_celeba/img_align_celeba/202462.jpg  \n",
            "  inflating: img_align_celeba/img_align_celeba/202463.jpg  \n",
            "  inflating: img_align_celeba/img_align_celeba/202464.jpg  \n",
            "  inflating: img_align_celeba/img_align_celeba/202465.jpg  \n",
            "  inflating: img_align_celeba/img_align_celeba/202466.jpg  \n",
            "  inflating: img_align_celeba/img_align_celeba/202467.jpg  \n",
            "  inflating: img_align_celeba/img_align_celeba/202468.jpg  \n",
            "  inflating: img_align_celeba/img_align_celeba/202469.jpg  \n",
            "  inflating: img_align_celeba/img_align_celeba/202470.jpg  \n",
            "  inflating: img_align_celeba/img_align_celeba/202471.jpg  \n",
            "  inflating: img_align_celeba/img_align_celeba/202472.jpg  \n",
            "  inflating: img_align_celeba/img_align_celeba/202473.jpg  \n",
            "  inflating: img_align_celeba/img_align_celeba/202474.jpg  \n",
            "  inflating: img_align_celeba/img_align_celeba/202475.jpg  \n",
            "  inflating: img_align_celeba/img_align_celeba/202476.jpg  \n",
            "  inflating: img_align_celeba/img_align_celeba/202477.jpg  \n",
            "  inflating: img_align_celeba/img_align_celeba/202478.jpg  \n",
            "  inflating: img_align_celeba/img_align_celeba/202479.jpg  \n",
            "  inflating: img_align_celeba/img_align_celeba/202480.jpg  \n",
            "  inflating: img_align_celeba/img_align_celeba/202481.jpg  \n",
            "  inflating: img_align_celeba/img_align_celeba/202482.jpg  \n",
            "  inflating: img_align_celeba/img_align_celeba/202483.jpg  \n",
            "  inflating: img_align_celeba/img_align_celeba/202484.jpg  \n",
            "  inflating: img_align_celeba/img_align_celeba/202485.jpg  \n",
            "  inflating: img_align_celeba/img_align_celeba/202486.jpg  \n",
            "  inflating: img_align_celeba/img_align_celeba/202487.jpg  \n",
            "  inflating: img_align_celeba/img_align_celeba/202488.jpg  \n",
            "  inflating: img_align_celeba/img_align_celeba/202489.jpg  \n",
            "  inflating: img_align_celeba/img_align_celeba/202490.jpg  \n",
            "  inflating: img_align_celeba/img_align_celeba/202491.jpg  \n",
            "  inflating: img_align_celeba/img_align_celeba/202492.jpg  \n",
            "  inflating: img_align_celeba/img_align_celeba/202493.jpg  \n",
            "  inflating: img_align_celeba/img_align_celeba/202494.jpg  \n",
            "  inflating: img_align_celeba/img_align_celeba/202495.jpg  \n",
            "  inflating: img_align_celeba/img_align_celeba/202496.jpg  \n",
            "  inflating: img_align_celeba/img_align_celeba/202497.jpg  \n",
            "  inflating: img_align_celeba/img_align_celeba/202498.jpg  \n",
            "  inflating: img_align_celeba/img_align_celeba/202499.jpg  \n",
            "  inflating: img_align_celeba/img_align_celeba/202500.jpg  \n",
            "  inflating: img_align_celeba/img_align_celeba/202501.jpg  \n",
            "  inflating: img_align_celeba/img_align_celeba/202502.jpg  \n",
            "  inflating: img_align_celeba/img_align_celeba/202503.jpg  \n",
            "  inflating: img_align_celeba/img_align_celeba/202504.jpg  \n",
            "  inflating: img_align_celeba/img_align_celeba/202505.jpg  \n",
            "  inflating: img_align_celeba/img_align_celeba/202506.jpg  \n",
            "  inflating: img_align_celeba/img_align_celeba/202507.jpg  \n",
            "  inflating: img_align_celeba/img_align_celeba/202508.jpg  \n",
            "  inflating: img_align_celeba/img_align_celeba/202509.jpg  \n",
            "  inflating: img_align_celeba/img_align_celeba/202510.jpg  \n",
            "  inflating: img_align_celeba/img_align_celeba/202511.jpg  \n",
            "  inflating: img_align_celeba/img_align_celeba/202512.jpg  \n",
            "  inflating: img_align_celeba/img_align_celeba/202513.jpg  \n",
            "  inflating: img_align_celeba/img_align_celeba/202514.jpg  \n",
            "  inflating: img_align_celeba/img_align_celeba/202515.jpg  \n",
            "  inflating: img_align_celeba/img_align_celeba/202516.jpg  \n",
            "  inflating: img_align_celeba/img_align_celeba/202517.jpg  \n",
            "  inflating: img_align_celeba/img_align_celeba/202518.jpg  \n",
            "  inflating: img_align_celeba/img_align_celeba/202519.jpg  \n",
            "  inflating: img_align_celeba/img_align_celeba/202520.jpg  \n",
            "  inflating: img_align_celeba/img_align_celeba/202521.jpg  \n",
            "  inflating: img_align_celeba/img_align_celeba/202522.jpg  \n",
            "  inflating: img_align_celeba/img_align_celeba/202523.jpg  \n",
            "  inflating: img_align_celeba/img_align_celeba/202524.jpg  \n",
            "  inflating: img_align_celeba/img_align_celeba/202525.jpg  \n",
            "  inflating: img_align_celeba/img_align_celeba/202526.jpg  \n",
            "  inflating: img_align_celeba/img_align_celeba/202527.jpg  \n",
            "  inflating: img_align_celeba/img_align_celeba/202528.jpg  \n",
            "  inflating: img_align_celeba/img_align_celeba/202529.jpg  \n",
            "  inflating: img_align_celeba/img_align_celeba/202530.jpg  \n",
            "  inflating: img_align_celeba/img_align_celeba/202531.jpg  \n",
            "  inflating: img_align_celeba/img_align_celeba/202532.jpg  \n",
            "  inflating: img_align_celeba/img_align_celeba/202533.jpg  \n",
            "  inflating: img_align_celeba/img_align_celeba/202534.jpg  \n",
            "  inflating: img_align_celeba/img_align_celeba/202535.jpg  \n",
            "  inflating: img_align_celeba/img_align_celeba/202536.jpg  \n",
            "  inflating: img_align_celeba/img_align_celeba/202537.jpg  \n",
            "  inflating: img_align_celeba/img_align_celeba/202538.jpg  \n",
            "  inflating: img_align_celeba/img_align_celeba/202539.jpg  \n",
            "  inflating: img_align_celeba/img_align_celeba/202540.jpg  \n",
            "  inflating: img_align_celeba/img_align_celeba/202541.jpg  \n",
            "  inflating: img_align_celeba/img_align_celeba/202542.jpg  \n",
            "  inflating: img_align_celeba/img_align_celeba/202543.jpg  \n",
            "  inflating: img_align_celeba/img_align_celeba/202544.jpg  \n",
            "  inflating: img_align_celeba/img_align_celeba/202545.jpg  \n",
            "  inflating: img_align_celeba/img_align_celeba/202546.jpg  \n",
            "  inflating: img_align_celeba/img_align_celeba/202547.jpg  \n",
            "  inflating: img_align_celeba/img_align_celeba/202548.jpg  \n",
            "  inflating: img_align_celeba/img_align_celeba/202549.jpg  \n",
            "  inflating: img_align_celeba/img_align_celeba/202550.jpg  \n",
            "  inflating: img_align_celeba/img_align_celeba/202551.jpg  \n",
            "  inflating: img_align_celeba/img_align_celeba/202552.jpg  \n",
            "  inflating: img_align_celeba/img_align_celeba/202553.jpg  \n",
            "  inflating: img_align_celeba/img_align_celeba/202554.jpg  \n",
            "  inflating: img_align_celeba/img_align_celeba/202555.jpg  \n",
            "  inflating: img_align_celeba/img_align_celeba/202556.jpg  \n",
            "  inflating: img_align_celeba/img_align_celeba/202557.jpg  \n",
            "  inflating: img_align_celeba/img_align_celeba/202558.jpg  \n",
            "  inflating: img_align_celeba/img_align_celeba/202559.jpg  \n",
            "  inflating: img_align_celeba/img_align_celeba/202560.jpg  \n",
            "  inflating: img_align_celeba/img_align_celeba/202561.jpg  \n",
            "  inflating: img_align_celeba/img_align_celeba/202562.jpg  \n",
            "  inflating: img_align_celeba/img_align_celeba/202563.jpg  \n",
            "  inflating: img_align_celeba/img_align_celeba/202564.jpg  \n",
            "  inflating: img_align_celeba/img_align_celeba/202565.jpg  \n",
            "  inflating: img_align_celeba/img_align_celeba/202566.jpg  \n",
            "  inflating: img_align_celeba/img_align_celeba/202567.jpg  \n",
            "  inflating: img_align_celeba/img_align_celeba/202568.jpg  \n",
            "  inflating: img_align_celeba/img_align_celeba/202569.jpg  \n",
            "  inflating: img_align_celeba/img_align_celeba/202570.jpg  \n",
            "  inflating: img_align_celeba/img_align_celeba/202571.jpg  \n",
            "  inflating: img_align_celeba/img_align_celeba/202572.jpg  \n",
            "  inflating: img_align_celeba/img_align_celeba/202573.jpg  \n",
            "  inflating: img_align_celeba/img_align_celeba/202574.jpg  \n",
            "  inflating: img_align_celeba/img_align_celeba/202575.jpg  \n",
            "  inflating: img_align_celeba/img_align_celeba/202576.jpg  \n",
            "  inflating: img_align_celeba/img_align_celeba/202577.jpg  \n",
            "  inflating: img_align_celeba/img_align_celeba/202578.jpg  \n",
            "  inflating: img_align_celeba/img_align_celeba/202579.jpg  \n",
            "  inflating: img_align_celeba/img_align_celeba/202580.jpg  \n",
            "  inflating: img_align_celeba/img_align_celeba/202581.jpg  \n",
            "  inflating: img_align_celeba/img_align_celeba/202582.jpg  \n",
            "  inflating: img_align_celeba/img_align_celeba/202583.jpg  \n",
            "  inflating: img_align_celeba/img_align_celeba/202584.jpg  \n",
            "  inflating: img_align_celeba/img_align_celeba/202585.jpg  \n",
            "  inflating: img_align_celeba/img_align_celeba/202586.jpg  \n",
            "  inflating: img_align_celeba/img_align_celeba/202587.jpg  \n",
            "  inflating: img_align_celeba/img_align_celeba/202588.jpg  \n",
            "  inflating: img_align_celeba/img_align_celeba/202589.jpg  \n",
            "  inflating: img_align_celeba/img_align_celeba/202590.jpg  \n",
            "  inflating: img_align_celeba/img_align_celeba/202591.jpg  \n",
            "  inflating: img_align_celeba/img_align_celeba/202592.jpg  \n",
            "  inflating: img_align_celeba/img_align_celeba/202593.jpg  \n",
            "  inflating: img_align_celeba/img_align_celeba/202594.jpg  \n",
            "  inflating: img_align_celeba/img_align_celeba/202595.jpg  \n",
            "  inflating: img_align_celeba/img_align_celeba/202596.jpg  \n",
            "  inflating: img_align_celeba/img_align_celeba/202597.jpg  \n",
            "  inflating: img_align_celeba/img_align_celeba/202598.jpg  \n",
            "  inflating: img_align_celeba/img_align_celeba/202599.jpg  \n",
            "  inflating: list_attr_celeba.csv    \n",
            "  inflating: list_bbox_celeba.csv    \n",
            "  inflating: list_eval_partition.csv  \n",
            "  inflating: list_landmarks_align_celeba.csv  \n"
          ]
        }
      ]
    },
    {
      "cell_type": "markdown",
      "source": [
        "preprocessing"
      ],
      "metadata": {
        "id": "SeYK0xBXhXYw"
      }
    },
    {
      "cell_type": "code",
      "source": [
        "import random\n",
        "import os\n",
        "path = \"/content/img_align_celeba/img_align_celeba\"\n",
        "files = os.listdir(path)\n",
        "stack = None\n",
        "# Create an array of file names\n",
        "blur_range = (0, 10)\n",
        "downsample_range = (1, 4)\n",
        "color_jitter_range = (0, 50)\n",
        "noise_range = (0, 20)\n",
        "jpeg_compression_range = (0, 50)\n",
        "\n",
        "# Randomly apply degradations\n",
        "stack = []\n",
        "for pth  in files:\n",
        "  if random.random() > 0.9:\n",
        "    img = cv2.imread(path + \"/\" +pth)\n",
        "    rimg = img\n",
        "    blur_kernel_size = random.randint(blur_range[0], blur_range[1])\n",
        "    img = cv2.GaussianBlur(img, (5, 5), 0)\n",
        "\n",
        "    downsample_factor = random.randint(downsample_range[0], downsample_range[1])\n",
        "    img = cv2.resize(img, (img.shape[1] // downsample_factor, img.shape[0] // downsample_factor))\n",
        "\n",
        "\n",
        "\n",
        "    if random.choice([True, False]):\n",
        "        noise_scale = random.randint(noise_range[0], noise_range[1])\n",
        "        noise = np.random.normal(scale=noise_scale, size=img.shape)\n",
        "        img = img.astype(np.float32) + noise\n",
        "        img = np.clip(img, 0, 255).astype(np.uint8)\n",
        "\n",
        "    if random.choice([True, False]):\n",
        "        jpeg_compression_quality = random.randint(jpeg_compression_range[0], jpeg_compression_range[1])\n",
        "        _, img_encoded = cv2.imencode('.jpg', img, [cv2.IMWRITE_JPEG_QUALITY, jpeg_compression_quality])\n",
        "        img = cv2.imdecode(img_encoded, cv2.IMREAD_COLOR)\n",
        "\n",
        "    if stack is None:\n",
        "        stack = img\n",
        "    else:\n",
        "        stack.append((img,rimg))\n"
      ],
      "metadata": {
        "id": "ZRWutrQGoM6c"
      },
      "execution_count": null,
      "outputs": []
    },
    {
      "cell_type": "code",
      "source": [
        "len(stack[int(len(stack)*0.99):])"
      ],
      "metadata": {
        "id": "FvnrF7hKclub",
        "colab": {
          "base_uri": "https://localhost:8080/"
        },
        "outputId": "39881b51-eb58-4077-f6fb-faaec6eb2d0e"
      },
      "execution_count": null,
      "outputs": [
        {
          "output_type": "execute_result",
          "data": {
            "text/plain": [
              "203"
            ]
          },
          "metadata": {},
          "execution_count": 16
        }
      ]
    },
    {
      "cell_type": "markdown",
      "source": [
        "# Calculate FID"
      ],
      "metadata": {
        "id": "ymSeRXaUklex"
      }
    },
    {
      "cell_type": "markdown",
      "source": [
        "calculate FID of our model"
      ],
      "metadata": {
        "id": "mmcqBx7zhaMh"
      }
    },
    {
      "cell_type": "code",
      "source": [
        "import numpy\n",
        "from numpy import cov\n",
        "from numpy import trace\n",
        "from numpy import iscomplexobj\n",
        "from numpy import asarray\n",
        "from numpy.random import randint\n",
        "from scipy.linalg import sqrtm\n",
        "from keras.applications.inception_v3 import InceptionV3\n",
        "from keras.applications.inception_v3 import preprocess_input\n",
        "from keras.datasets.mnist import load_data\n",
        "from skimage.transform import resize\n",
        "\n",
        "# scale an array of images to a new size\n",
        "def scale_images(images, new_shape):\n",
        "\timages_list = list()\n",
        "\tfor image in images:\n",
        "\t\t# resize with nearest neighbor interpolation\n",
        "\t\tnew_image = resize(image, new_shape, 0)\n",
        "\t\t# store\n",
        "\t\timages_list.append(new_image)\n",
        "\treturn asarray(images_list)\n",
        "\n",
        "# calculate frechet inception distance\n",
        "def calculate_fid(model, images1, images2):\n",
        "\t# calculate activations\n",
        "\tact1 = model.predict(images1)\n",
        "\tact2 = model.predict(images2)\n",
        "\t# calculate mean and covariance statistics\n",
        "\tmu1, sigma1 = act1.mean(axis=0), cov(act1, rowvar=False)\n",
        "\tmu2, sigma2 = act2.mean(axis=0), cov(act2, rowvar=False)\n",
        "\t# calculate sum squared difference between means\n",
        "\tssdiff = numpy.sum((mu1 - mu2)**2.0)\n",
        "\t# calculate sqrt of product between cov\n",
        "\tcovmean = sqrtm(sigma1.dot(sigma2))\n",
        "\t# check and correct imaginary numbers from sqrt\n",
        "\tif iscomplexobj(covmean):\n",
        "\t\tcovmean = covmean.real\n",
        "\t# calculate score\n",
        "\tfid = ssdiff + trace(sigma1 + sigma2 - 2.0 * covmean)\n",
        "\treturn fid\n",
        "fids = []\n",
        "# prepare the inception v3 model\n",
        "model = InceptionV3(include_top=False, pooling='avg', input_shape=(299,299,3))\n",
        "# define two fake collections of images\n",
        "for i in stack[int(len(stack)*0.99):]:\n",
        "  \n",
        "  images1 = numpy.array(restorer.infer(i[0]))\n",
        "  images1 = cv2.resize(images1,(10,32),3)\n",
        "\n",
        "  images2 = i[1]\n",
        "  images2 = cv2.resize(images2,(10,32),3)\n",
        "  print('Prepared', images1.shape, images2.shape)\n",
        "  # convert integer to floating point values\n",
        "  images1 = images1.astype('float32')\n",
        "  images2 = images2.astype('float32')\n",
        "  # resize images\n",
        "  images1 = scale_images(images1, (299,299,3))\n",
        "  images2 = scale_images(images2, (299,299,3))\n",
        "  print('Scaled', images1.shape, images2.shape)\n",
        "  # pre-process images\n",
        "  images1 = preprocess_input(images1)\n",
        "  images2 = preprocess_input(images2)\n",
        "  # fid between images1 and images2\n",
        "  fid = calculate_fid(model, images1, images2)\n",
        "  fids.append(fid)\n",
        "  print('FID (different): %.3f' % fid)\n",
        "print(np.mean(np.array(fids)))"
      ],
      "metadata": {
        "id": "LBk3ieGt35Ou",
        "colab": {
          "base_uri": "https://localhost:8080/",
          "height": 363
        },
        "outputId": "2ffd89d9-03e7-4e46-bef4-dc918502d192"
      },
      "execution_count": null,
      "outputs": [
        {
          "output_type": "error",
          "ename": "KeyboardInterrupt",
          "evalue": "ignored",
          "traceback": [
            "\u001b[0;31m---------------------------------------------------------------------------\u001b[0m",
            "\u001b[0;31mKeyboardInterrupt\u001b[0m                         Traceback (most recent call last)",
            "\u001b[0;32m<ipython-input-21-9a1557c81f80>\u001b[0m in \u001b[0;36m<cell line: 8>\u001b[0;34m()\u001b[0m\n\u001b[1;32m      6\u001b[0m \u001b[0;32mfrom\u001b[0m \u001b[0mnumpy\u001b[0m\u001b[0;34m.\u001b[0m\u001b[0mrandom\u001b[0m \u001b[0;32mimport\u001b[0m \u001b[0mrandint\u001b[0m\u001b[0;34m\u001b[0m\u001b[0;34m\u001b[0m\u001b[0m\n\u001b[1;32m      7\u001b[0m \u001b[0;32mfrom\u001b[0m \u001b[0mscipy\u001b[0m\u001b[0;34m.\u001b[0m\u001b[0mlinalg\u001b[0m \u001b[0;32mimport\u001b[0m \u001b[0msqrtm\u001b[0m\u001b[0;34m\u001b[0m\u001b[0;34m\u001b[0m\u001b[0m\n\u001b[0;32m----> 8\u001b[0;31m \u001b[0;32mfrom\u001b[0m \u001b[0mkeras\u001b[0m\u001b[0;34m.\u001b[0m\u001b[0mapplications\u001b[0m\u001b[0;34m.\u001b[0m\u001b[0minception_v3\u001b[0m \u001b[0;32mimport\u001b[0m \u001b[0mInceptionV3\u001b[0m\u001b[0;34m\u001b[0m\u001b[0;34m\u001b[0m\u001b[0m\n\u001b[0m\u001b[1;32m      9\u001b[0m \u001b[0;32mfrom\u001b[0m \u001b[0mkeras\u001b[0m\u001b[0;34m.\u001b[0m\u001b[0mapplications\u001b[0m\u001b[0;34m.\u001b[0m\u001b[0minception_v3\u001b[0m \u001b[0;32mimport\u001b[0m \u001b[0mpreprocess_input\u001b[0m\u001b[0;34m\u001b[0m\u001b[0;34m\u001b[0m\u001b[0m\n\u001b[1;32m     10\u001b[0m \u001b[0;32mfrom\u001b[0m \u001b[0mkeras\u001b[0m\u001b[0;34m.\u001b[0m\u001b[0mdatasets\u001b[0m\u001b[0;34m.\u001b[0m\u001b[0mmnist\u001b[0m \u001b[0;32mimport\u001b[0m \u001b[0mload_data\u001b[0m\u001b[0;34m\u001b[0m\u001b[0;34m\u001b[0m\u001b[0m\n",
            "\u001b[0;32m/usr/local/lib/python3.10/dist-packages/keras/__init__.py\u001b[0m in \u001b[0;36m<module>\u001b[0;34m\u001b[0m\n\u001b[1;32m     19\u001b[0m \"\"\"\n\u001b[1;32m     20\u001b[0m \u001b[0;32mfrom\u001b[0m \u001b[0mkeras\u001b[0m \u001b[0;32mimport\u001b[0m \u001b[0mdistribute\u001b[0m\u001b[0;34m\u001b[0m\u001b[0;34m\u001b[0m\u001b[0m\n\u001b[0;32m---> 21\u001b[0;31m \u001b[0;32mfrom\u001b[0m \u001b[0mkeras\u001b[0m \u001b[0;32mimport\u001b[0m \u001b[0mmodels\u001b[0m\u001b[0;34m\u001b[0m\u001b[0;34m\u001b[0m\u001b[0m\n\u001b[0m\u001b[1;32m     22\u001b[0m \u001b[0;32mfrom\u001b[0m \u001b[0mkeras\u001b[0m\u001b[0;34m.\u001b[0m\u001b[0mengine\u001b[0m\u001b[0;34m.\u001b[0m\u001b[0minput_layer\u001b[0m \u001b[0;32mimport\u001b[0m \u001b[0mInput\u001b[0m\u001b[0;34m\u001b[0m\u001b[0;34m\u001b[0m\u001b[0m\n\u001b[1;32m     23\u001b[0m \u001b[0;32mfrom\u001b[0m \u001b[0mkeras\u001b[0m\u001b[0;34m.\u001b[0m\u001b[0mengine\u001b[0m\u001b[0;34m.\u001b[0m\u001b[0msequential\u001b[0m \u001b[0;32mimport\u001b[0m \u001b[0mSequential\u001b[0m\u001b[0;34m\u001b[0m\u001b[0;34m\u001b[0m\u001b[0m\n",
            "\u001b[0;32m/usr/local/lib/python3.10/dist-packages/keras/models/__init__.py\u001b[0m in \u001b[0;36m<module>\u001b[0;34m\u001b[0m\n\u001b[1;32m     16\u001b[0m \u001b[0;34m\u001b[0m\u001b[0m\n\u001b[1;32m     17\u001b[0m \u001b[0;34m\u001b[0m\u001b[0m\n\u001b[0;32m---> 18\u001b[0;31m \u001b[0;32mfrom\u001b[0m \u001b[0mkeras\u001b[0m\u001b[0;34m.\u001b[0m\u001b[0mengine\u001b[0m\u001b[0;34m.\u001b[0m\u001b[0mfunctional\u001b[0m \u001b[0;32mimport\u001b[0m \u001b[0mFunctional\u001b[0m\u001b[0;34m\u001b[0m\u001b[0;34m\u001b[0m\u001b[0m\n\u001b[0m\u001b[1;32m     19\u001b[0m \u001b[0;32mfrom\u001b[0m \u001b[0mkeras\u001b[0m\u001b[0;34m.\u001b[0m\u001b[0mengine\u001b[0m\u001b[0;34m.\u001b[0m\u001b[0msequential\u001b[0m \u001b[0;32mimport\u001b[0m \u001b[0mSequential\u001b[0m\u001b[0;34m\u001b[0m\u001b[0;34m\u001b[0m\u001b[0m\n\u001b[1;32m     20\u001b[0m \u001b[0;32mfrom\u001b[0m \u001b[0mkeras\u001b[0m\u001b[0;34m.\u001b[0m\u001b[0mengine\u001b[0m\u001b[0;34m.\u001b[0m\u001b[0mtraining\u001b[0m \u001b[0;32mimport\u001b[0m \u001b[0mModel\u001b[0m\u001b[0;34m\u001b[0m\u001b[0;34m\u001b[0m\u001b[0m\n",
            "\u001b[0;32m/usr/local/lib/python3.10/dist-packages/keras/engine/functional.py\u001b[0m in \u001b[0;36m<module>\u001b[0;34m\u001b[0m\n\u001b[1;32m     22\u001b[0m \u001b[0;32mimport\u001b[0m \u001b[0mwarnings\u001b[0m\u001b[0;34m\u001b[0m\u001b[0;34m\u001b[0m\u001b[0m\n\u001b[1;32m     23\u001b[0m \u001b[0;34m\u001b[0m\u001b[0m\n\u001b[0;32m---> 24\u001b[0;31m \u001b[0;32mimport\u001b[0m \u001b[0mtensorflow\u001b[0m\u001b[0;34m.\u001b[0m\u001b[0mcompat\u001b[0m\u001b[0;34m.\u001b[0m\u001b[0mv2\u001b[0m \u001b[0;32mas\u001b[0m \u001b[0mtf\u001b[0m\u001b[0;34m\u001b[0m\u001b[0;34m\u001b[0m\u001b[0m\n\u001b[0m\u001b[1;32m     25\u001b[0m \u001b[0;34m\u001b[0m\u001b[0m\n\u001b[1;32m     26\u001b[0m \u001b[0;32mfrom\u001b[0m \u001b[0mkeras\u001b[0m \u001b[0;32mimport\u001b[0m \u001b[0mbackend\u001b[0m\u001b[0;34m\u001b[0m\u001b[0;34m\u001b[0m\u001b[0m\n",
            "\u001b[0;32m/usr/local/lib/python3.10/dist-packages/tensorflow/__init__.py\u001b[0m in \u001b[0;36m<module>\u001b[0;34m\u001b[0m\n\u001b[1;32m     35\u001b[0m \u001b[0;32mimport\u001b[0m \u001b[0mtyping\u001b[0m \u001b[0;32mas\u001b[0m \u001b[0m_typing\u001b[0m\u001b[0;34m\u001b[0m\u001b[0;34m\u001b[0m\u001b[0m\n\u001b[1;32m     36\u001b[0m \u001b[0;34m\u001b[0m\u001b[0m\n\u001b[0;32m---> 37\u001b[0;31m \u001b[0;32mfrom\u001b[0m \u001b[0mtensorflow\u001b[0m\u001b[0;34m.\u001b[0m\u001b[0mpython\u001b[0m\u001b[0;34m.\u001b[0m\u001b[0mtools\u001b[0m \u001b[0;32mimport\u001b[0m \u001b[0mmodule_util\u001b[0m \u001b[0;32mas\u001b[0m \u001b[0m_module_util\u001b[0m\u001b[0;34m\u001b[0m\u001b[0;34m\u001b[0m\u001b[0m\n\u001b[0m\u001b[1;32m     38\u001b[0m \u001b[0;32mfrom\u001b[0m \u001b[0mtensorflow\u001b[0m\u001b[0;34m.\u001b[0m\u001b[0mpython\u001b[0m\u001b[0;34m.\u001b[0m\u001b[0mutil\u001b[0m\u001b[0;34m.\u001b[0m\u001b[0mlazy_loader\u001b[0m \u001b[0;32mimport\u001b[0m \u001b[0mLazyLoader\u001b[0m \u001b[0;32mas\u001b[0m \u001b[0m_LazyLoader\u001b[0m\u001b[0;34m\u001b[0m\u001b[0;34m\u001b[0m\u001b[0m\n\u001b[1;32m     39\u001b[0m \u001b[0;34m\u001b[0m\u001b[0m\n",
            "\u001b[0;32m/usr/local/lib/python3.10/dist-packages/tensorflow/python/__init__.py\u001b[0m in \u001b[0;36m<module>\u001b[0;34m\u001b[0m\n\u001b[1;32m     34\u001b[0m \u001b[0;31m# pylint: disable=wildcard-import,g-bad-import-order,g-import-not-at-top\u001b[0m\u001b[0;34m\u001b[0m\u001b[0;34m\u001b[0m\u001b[0m\n\u001b[1;32m     35\u001b[0m \u001b[0;34m\u001b[0m\u001b[0m\n\u001b[0;32m---> 36\u001b[0;31m \u001b[0;32mfrom\u001b[0m \u001b[0mtensorflow\u001b[0m\u001b[0;34m.\u001b[0m\u001b[0mpython\u001b[0m \u001b[0;32mimport\u001b[0m \u001b[0mpywrap_tensorflow\u001b[0m \u001b[0;32mas\u001b[0m \u001b[0m_pywrap_tensorflow\u001b[0m\u001b[0;34m\u001b[0m\u001b[0;34m\u001b[0m\u001b[0m\n\u001b[0m\u001b[1;32m     37\u001b[0m \u001b[0;32mfrom\u001b[0m \u001b[0mtensorflow\u001b[0m\u001b[0;34m.\u001b[0m\u001b[0mpython\u001b[0m\u001b[0;34m.\u001b[0m\u001b[0meager\u001b[0m \u001b[0;32mimport\u001b[0m \u001b[0mcontext\u001b[0m\u001b[0;34m\u001b[0m\u001b[0;34m\u001b[0m\u001b[0m\n\u001b[1;32m     38\u001b[0m \u001b[0;34m\u001b[0m\u001b[0m\n",
            "\u001b[0;32m/usr/local/lib/python3.10/dist-packages/tensorflow/python/pywrap_tensorflow.py\u001b[0m in \u001b[0;36m<module>\u001b[0;34m\u001b[0m\n\u001b[1;32m     24\u001b[0m \u001b[0;34m\u001b[0m\u001b[0m\n\u001b[1;32m     25\u001b[0m \u001b[0;31m# Perform pre-load sanity checks in order to produce a more actionable error.\u001b[0m\u001b[0;34m\u001b[0m\u001b[0;34m\u001b[0m\u001b[0m\n\u001b[0;32m---> 26\u001b[0;31m \u001b[0mself_check\u001b[0m\u001b[0;34m.\u001b[0m\u001b[0mpreload_check\u001b[0m\u001b[0;34m(\u001b[0m\u001b[0;34m)\u001b[0m\u001b[0;34m\u001b[0m\u001b[0;34m\u001b[0m\u001b[0m\n\u001b[0m\u001b[1;32m     27\u001b[0m \u001b[0;34m\u001b[0m\u001b[0m\n\u001b[1;32m     28\u001b[0m \u001b[0;31m# pylint: disable=wildcard-import,g-import-not-at-top,unused-import,line-too-long\u001b[0m\u001b[0;34m\u001b[0m\u001b[0;34m\u001b[0m\u001b[0m\n",
            "\u001b[0;32m/usr/local/lib/python3.10/dist-packages/tensorflow/python/platform/self_check.py\u001b[0m in \u001b[0;36mpreload_check\u001b[0;34m()\u001b[0m\n\u001b[1;32m     61\u001b[0m     \u001b[0;31m# incompatibilities before we trigger them (which would typically result in\u001b[0m\u001b[0;34m\u001b[0m\u001b[0;34m\u001b[0m\u001b[0m\n\u001b[1;32m     62\u001b[0m     \u001b[0;31m# SIGILL).\u001b[0m\u001b[0;34m\u001b[0m\u001b[0;34m\u001b[0m\u001b[0m\n\u001b[0;32m---> 63\u001b[0;31m     \u001b[0;32mfrom\u001b[0m \u001b[0mtensorflow\u001b[0m\u001b[0;34m.\u001b[0m\u001b[0mpython\u001b[0m\u001b[0;34m.\u001b[0m\u001b[0mplatform\u001b[0m \u001b[0;32mimport\u001b[0m \u001b[0m_pywrap_cpu_feature_guard\u001b[0m\u001b[0;34m\u001b[0m\u001b[0;34m\u001b[0m\u001b[0m\n\u001b[0m\u001b[1;32m     64\u001b[0m     \u001b[0m_pywrap_cpu_feature_guard\u001b[0m\u001b[0;34m.\u001b[0m\u001b[0mInfoAboutUnusedCPUFeatures\u001b[0m\u001b[0;34m(\u001b[0m\u001b[0;34m)\u001b[0m\u001b[0;34m\u001b[0m\u001b[0;34m\u001b[0m\u001b[0m\n",
            "\u001b[0;31mKeyboardInterrupt\u001b[0m: "
          ]
        }
      ]
    },
    {
      "cell_type": "markdown",
      "source": [
        "FID of Original model"
      ],
      "metadata": {
        "id": "m_Gh5OKRxrSr"
      }
    },
    {
      "cell_type": "code",
      "source": [
        "import numpy\n",
        "from numpy import cov\n",
        "from numpy import trace\n",
        "from numpy import iscomplexobj\n",
        "from numpy import asarray\n",
        "from numpy.random import randint\n",
        "from scipy.linalg import sqrtm\n",
        "from keras.applications.inception_v3 import InceptionV3\n",
        "from keras.applications.inception_v3 import preprocess_input\n",
        "from keras.datasets.mnist import load_data\n",
        "from skimage.transform import resize\n",
        "\n",
        "# scale an array of images to a new size\n",
        "def scale_images(images, new_shape):\n",
        "\timages_list = list()\n",
        "\tfor image in images:\n",
        "\t\t# resize with nearest neighbor interpolation\n",
        "\t\tnew_image = resize(image, new_shape, 0)\n",
        "\t\t# store\n",
        "\t\timages_list.append(new_image)\n",
        "\treturn asarray(images_list)\n",
        "\n",
        "# calculate frechet inception distance\n",
        "def calculate_fid(model, images1, images2):\n",
        "\t# calculate activations\n",
        "\tact1 = model.predict(images1)\n",
        "\tact2 = model.predict(images2)\n",
        "\t# calculate mean and covariance statistics\n",
        "\tmu1, sigma1 = act1.mean(axis=0), cov(act1, rowvar=False)\n",
        "\tmu2, sigma2 = act2.mean(axis=0), cov(act2, rowvar=False)\n",
        "\t# calculate sum squared difference between means\n",
        "\tssdiff = numpy.sum((mu1 - mu2)**2.0)\n",
        "\t# calculate sqrt of product between cov\n",
        "\tcovmean = sqrtm(sigma1.dot(sigma2))\n",
        "\t# check and correct imaginary numbers from sqrt\n",
        "\tif iscomplexobj(covmean):\n",
        "\t\tcovmean = covmean.real\n",
        "\t# calculate score\n",
        "\tfid = ssdiff + trace(sigma1 + sigma2 - 2.0 * covmean)\n",
        "\treturn fid\n",
        "fids = []\n",
        "# prepare the inception v3 model\n",
        "model = InceptionV3(include_top=False, pooling='avg', input_shape=(299,299,3))\n",
        "arch = 'og'\n",
        "channel_multiplier = 2\n",
        "model_name = 'GFPGANCleanv1-NoCE-C2'\n",
        "url = 'https://github.com/TencentARC/GFPGAN/releases/download/v0.2.0/GFPGANCleanv1-NoCE-C2.pth'\n",
        "gfpgan = GFPGAN(\n",
        "        model_path=url,\n",
        "        upscale=2,\n",
        "        arch=arch,\n",
        "        channel_multiplier=channel_multiplier,\n",
        "        bg_upsampler=None)\n",
        "# define two fake collections of images\n",
        "for i in stack[int(len(stack)*0.99):]:\n",
        "  \n",
        "  images1 = numpy.array(gfpgan.infer(i[0]))\n",
        "  images1 = cv2.resize(images1,(10,32),3)\n",
        "\n",
        "  images2 = i[1]\n",
        "  images2 = cv2.resize(images2,(10,32),3)\n",
        "  print('Prepared', images1.shape, images2.shape)\n",
        "  # convert integer to floating point values\n",
        "  images1 = images1.astype('float32')\n",
        "  images2 = images2.astype('float32')\n",
        "  # resize images\n",
        "  images1 = scale_images(images1, (299,299,3))\n",
        "  images2 = scale_images(images2, (299,299,3))\n",
        "  print('Scaled', images1.shape, images2.shape)\n",
        "  # pre-process images\n",
        "  images1 = preprocess_input(images1)\n",
        "  images2 = preprocess_input(images2)\n",
        "  # fid between images1 and images2\n",
        "  fid = calculate_fid(model, images1, images2)\n",
        "  fids.append(fid)\n",
        "  print('FID (different): %.3f' % fid)\n",
        "print(np.mean(np.array(fids)))"
      ],
      "metadata": {
        "id": "p0AR-HsAxt6M"
      },
      "execution_count": null,
      "outputs": []
    },
    {
      "cell_type": "markdown",
      "source": [
        "# calculate other losses "
      ],
      "metadata": {
        "id": "Tn6vkiWQshyQ"
      }
    },
    {
      "cell_type": "markdown",
      "source": [
        "LPIPS loss "
      ],
      "metadata": {
        "id": "jvxt98lGk5op"
      }
    },
    {
      "cell_type": "code",
      "source": [
        "import lpips\n",
        "from skimage.transform import resize\n",
        "from numpy import cov\n",
        "from numpy import trace\n",
        "from numpy import iscomplexobj\n",
        "from numpy import asarray\n",
        "from numpy.random import randint\n",
        "from scipy.linalg import sqrtm\n",
        "import tqdm\n",
        "\n",
        "loss_fn_vgg = lpips.LPIPS(net='vgg') \n",
        "\n",
        "\n",
        "def calculate_lpips(loss_fn_vgg, images1, images2):\n",
        "  loss = loss_fn_vgg(lpips.im2tensor(images1), lpips.im2tensor(images2))\n",
        "  \n",
        "  return loss\n",
        "def scale_images(images, new_shape):\n",
        "\timages_list = list()\n",
        "\tfor image in images:\n",
        "\t\t# resize with nearest neighbor interpolation\n",
        "\t\tnew_image = resize(image, new_shape, 0)\n",
        "\t\t# store\n",
        "\t\timages_list.append(new_image)\n",
        "\treturn asarray(images_list)\n",
        "\n",
        "lpips_losses = []\n",
        "\n",
        "for i in tqdm.tqdm(stack[int(len(stack)*0.99):]):\n",
        "  img1 = restorer.infer(i[0])\n",
        "  img2 = cv2.resize(i[1],(img1.shape[1],img1.shape[0]))\n",
        "  ls = calculate_lpips(loss_fn_vgg,img1,img2)\n",
        "  \n",
        "  lpips_losses.append(ls)\n",
        "print(\"LPIPS of our model\",np.mean(np.array([i.detach().numpy() for i in lpips_losses ] )))\n"
      ],
      "metadata": {
        "colab": {
          "base_uri": "https://localhost:8080/"
        },
        "id": "q6xuGxHtshTp",
        "outputId": "8c7908f9-e25e-450f-b32f-fb4efe4a78c5"
      },
      "execution_count": null,
      "outputs": [
        {
          "output_type": "stream",
          "name": "stdout",
          "text": [
            "Setting up [LPIPS] perceptual loss: trunk [vgg], v[0.1], spatial [off]\n"
          ]
        },
        {
          "output_type": "stream",
          "name": "stderr",
          "text": [
            "/usr/local/lib/python3.10/dist-packages/torchvision/models/_utils.py:223: UserWarning: Arguments other than a weight enum or `None` for 'weights' are deprecated since 0.13 and may be removed in the future. The current behavior is equivalent to passing `weights=VGG16_Weights.IMAGENET1K_V1`. You can also use `weights=VGG16_Weights.DEFAULT` to get the most up-to-date weights.\n",
            "  warnings.warn(msg)\n",
            "Downloading: \"https://download.pytorch.org/models/vgg16-397923af.pth\" to /root/.cache/torch/hub/checkpoints/vgg16-397923af.pth\n",
            "100%|██████████| 528M/528M [00:02<00:00, 265MB/s]\n"
          ]
        },
        {
          "output_type": "stream",
          "name": "stdout",
          "text": [
            "Loading model from: /usr/local/lib/python3.10/dist-packages/lpips/weights/v0.1/vgg.pth\n"
          ]
        },
        {
          "output_type": "stream",
          "name": "stderr",
          "text": [
            "\r  0%|          | 0/202 [00:00<?, ?it/s]"
          ]
        },
        {
          "output_type": "stream",
          "name": "stdout",
          "text": [
            "\tTile 1/1\n"
          ]
        },
        {
          "output_type": "stream",
          "name": "stderr",
          "text": [
            "\r  0%|          | 1/202 [00:10<33:55, 10.13s/it]"
          ]
        },
        {
          "output_type": "stream",
          "name": "stdout",
          "text": [
            "\tTile 1/1\n"
          ]
        },
        {
          "output_type": "stream",
          "name": "stderr",
          "text": [
            "\r  1%|          | 2/202 [00:11<16:23,  4.92s/it]"
          ]
        },
        {
          "output_type": "stream",
          "name": "stdout",
          "text": [
            "\tTile 1/1\n"
          ]
        },
        {
          "output_type": "stream",
          "name": "stderr",
          "text": [
            "\r  1%|▏         | 3/202 [00:25<29:54,  9.02s/it]"
          ]
        },
        {
          "output_type": "stream",
          "name": "stdout",
          "text": [
            "\tTile 1/1\n"
          ]
        },
        {
          "output_type": "stream",
          "name": "stderr",
          "text": [
            "\r  2%|▏         | 4/202 [00:38<35:11, 10.66s/it]"
          ]
        },
        {
          "output_type": "stream",
          "name": "stdout",
          "text": [
            "\tTile 1/1\n"
          ]
        },
        {
          "output_type": "stream",
          "name": "stderr",
          "text": [
            "\r  2%|▏         | 5/202 [00:51<37:53, 11.54s/it]"
          ]
        },
        {
          "output_type": "stream",
          "name": "stdout",
          "text": [
            "\tTile 1/1\n"
          ]
        },
        {
          "output_type": "stream",
          "name": "stderr",
          "text": [
            "\r  3%|▎         | 6/202 [01:04<39:45, 12.17s/it]"
          ]
        },
        {
          "output_type": "stream",
          "name": "stdout",
          "text": [
            "\tTile 1/1\n"
          ]
        },
        {
          "output_type": "stream",
          "name": "stderr",
          "text": [
            "\r  3%|▎         | 7/202 [01:13<35:40, 10.97s/it]"
          ]
        },
        {
          "output_type": "stream",
          "name": "stdout",
          "text": [
            "\tTile 1/1\n"
          ]
        },
        {
          "output_type": "stream",
          "name": "stderr",
          "text": [
            "\r  4%|▍         | 8/202 [01:22<33:54, 10.49s/it]"
          ]
        },
        {
          "output_type": "stream",
          "name": "stdout",
          "text": [
            "\tTile 1/1\n"
          ]
        },
        {
          "output_type": "stream",
          "name": "stderr",
          "text": [
            "\r  4%|▍         | 9/202 [01:31<32:06,  9.98s/it]"
          ]
        },
        {
          "output_type": "stream",
          "name": "stdout",
          "text": [
            "\tTile 1/1\n"
          ]
        },
        {
          "output_type": "stream",
          "name": "stderr",
          "text": [
            "\r  5%|▍         | 10/202 [01:45<35:14, 11.01s/it]"
          ]
        },
        {
          "output_type": "stream",
          "name": "stdout",
          "text": [
            "\tTile 1/1\n"
          ]
        },
        {
          "output_type": "stream",
          "name": "stderr",
          "text": [
            "\r  5%|▌         | 11/202 [01:53<32:49, 10.31s/it]"
          ]
        },
        {
          "output_type": "stream",
          "name": "stdout",
          "text": [
            "\tTile 1/1\n"
          ]
        },
        {
          "output_type": "stream",
          "name": "stderr",
          "text": [
            "  6%|▋         | 13/202 [02:03<22:07,  7.02s/it]"
          ]
        },
        {
          "output_type": "stream",
          "name": "stdout",
          "text": [
            "\tTile 1/1\n",
            "\tTile 1/1\n"
          ]
        },
        {
          "output_type": "stream",
          "name": "stderr",
          "text": [
            "\r  7%|▋         | 14/202 [02:16<27:39,  8.83s/it]"
          ]
        },
        {
          "output_type": "stream",
          "name": "stdout",
          "text": [
            "\tTile 1/1\n"
          ]
        },
        {
          "output_type": "stream",
          "name": "stderr",
          "text": [
            "\r  7%|▋         | 15/202 [02:29<31:21, 10.06s/it]"
          ]
        },
        {
          "output_type": "stream",
          "name": "stdout",
          "text": [
            "\tTile 1/1\n"
          ]
        },
        {
          "output_type": "stream",
          "name": "stderr",
          "text": [
            "\r  8%|▊         | 16/202 [02:29<22:25,  7.23s/it]"
          ]
        },
        {
          "output_type": "stream",
          "name": "stdout",
          "text": [
            "\tTile 1/1\n"
          ]
        },
        {
          "output_type": "stream",
          "name": "stderr",
          "text": [
            "\r  8%|▊         | 17/202 [02:39<24:28,  7.94s/it]"
          ]
        },
        {
          "output_type": "stream",
          "name": "stdout",
          "text": [
            "\tTile 1/1\n"
          ]
        },
        {
          "output_type": "stream",
          "name": "stderr",
          "text": [
            "\r  9%|▉         | 18/202 [02:52<28:52,  9.42s/it]"
          ]
        },
        {
          "output_type": "stream",
          "name": "stdout",
          "text": [
            "\tTile 1/1\n"
          ]
        },
        {
          "output_type": "stream",
          "name": "stderr",
          "text": [
            "\r  9%|▉         | 19/202 [03:00<27:35,  9.04s/it]"
          ]
        },
        {
          "output_type": "stream",
          "name": "stdout",
          "text": [
            "\tTile 1/1\n"
          ]
        },
        {
          "output_type": "stream",
          "name": "stderr",
          "text": [
            "\r 10%|▉         | 20/202 [03:10<27:58,  9.22s/it]"
          ]
        },
        {
          "output_type": "stream",
          "name": "stdout",
          "text": [
            "\tTile 1/1\n"
          ]
        },
        {
          "output_type": "stream",
          "name": "stderr",
          "text": [
            "\r 10%|█         | 21/202 [03:18<27:24,  9.09s/it]"
          ]
        },
        {
          "output_type": "stream",
          "name": "stdout",
          "text": [
            "\tTile 1/1\n"
          ]
        },
        {
          "output_type": "stream",
          "name": "stderr",
          "text": [
            "\r 11%|█         | 22/202 [03:31<30:41, 10.23s/it]"
          ]
        },
        {
          "output_type": "stream",
          "name": "stdout",
          "text": [
            "\tTile 1/1\n"
          ]
        },
        {
          "output_type": "stream",
          "name": "stderr",
          "text": [
            "\r 11%|█▏        | 23/202 [03:40<28:47,  9.65s/it]"
          ]
        },
        {
          "output_type": "stream",
          "name": "stdout",
          "text": [
            "\tTile 1/1\n"
          ]
        },
        {
          "output_type": "stream",
          "name": "stderr",
          "text": [
            "\r 12%|█▏        | 24/202 [03:48<27:51,  9.39s/it]"
          ]
        },
        {
          "output_type": "stream",
          "name": "stdout",
          "text": [
            "\tTile 1/1\n"
          ]
        },
        {
          "output_type": "stream",
          "name": "stderr",
          "text": [
            "\r 12%|█▏        | 25/202 [03:57<26:42,  9.05s/it]"
          ]
        },
        {
          "output_type": "stream",
          "name": "stdout",
          "text": [
            "\tTile 1/1\n"
          ]
        },
        {
          "output_type": "stream",
          "name": "stderr",
          "text": [
            "\r 13%|█▎        | 26/202 [04:06<26:45,  9.12s/it]"
          ]
        },
        {
          "output_type": "stream",
          "name": "stdout",
          "text": [
            "\tTile 1/1\n"
          ]
        },
        {
          "output_type": "stream",
          "name": "stderr",
          "text": [
            "\r 13%|█▎        | 27/202 [04:15<27:01,  9.26s/it]"
          ]
        },
        {
          "output_type": "stream",
          "name": "stdout",
          "text": [
            "\tTile 1/1\n"
          ]
        },
        {
          "output_type": "stream",
          "name": "stderr",
          "text": [
            "\r 14%|█▍        | 28/202 [04:28<30:02, 10.36s/it]"
          ]
        },
        {
          "output_type": "stream",
          "name": "stdout",
          "text": [
            "\tTile 1/1\n"
          ]
        },
        {
          "output_type": "stream",
          "name": "stderr",
          "text": [
            " 15%|█▍        | 30/202 [04:38<20:24,  7.12s/it]"
          ]
        },
        {
          "output_type": "stream",
          "name": "stdout",
          "text": [
            "\tTile 1/1\n",
            "\tTile 1/1\n"
          ]
        },
        {
          "output_type": "stream",
          "name": "stderr",
          "text": [
            "\r 15%|█▌        | 31/202 [04:47<22:04,  7.75s/it]"
          ]
        },
        {
          "output_type": "stream",
          "name": "stdout",
          "text": [
            "\tTile 1/1\n"
          ]
        },
        {
          "output_type": "stream",
          "name": "stderr",
          "text": [
            " 16%|█▋        | 33/202 [04:57<16:42,  5.93s/it]"
          ]
        },
        {
          "output_type": "stream",
          "name": "stdout",
          "text": [
            "\tTile 1/1\n",
            "\tTile 1/1\n"
          ]
        },
        {
          "output_type": "stream",
          "name": "stderr",
          "text": [
            "\r 17%|█▋        | 34/202 [05:07<19:45,  7.06s/it]"
          ]
        },
        {
          "output_type": "stream",
          "name": "stdout",
          "text": [
            "\tTile 1/1\n"
          ]
        },
        {
          "output_type": "stream",
          "name": "stderr",
          "text": [
            "\r 17%|█▋        | 35/202 [05:20<24:31,  8.81s/it]"
          ]
        },
        {
          "output_type": "stream",
          "name": "stdout",
          "text": [
            "\tTile 1/1\n"
          ]
        },
        {
          "output_type": "stream",
          "name": "stderr",
          "text": [
            "\r 18%|█▊        | 36/202 [05:28<24:15,  8.77s/it]"
          ]
        },
        {
          "output_type": "stream",
          "name": "stdout",
          "text": [
            "\tTile 1/1\n"
          ]
        },
        {
          "output_type": "stream",
          "name": "stderr",
          "text": [
            "\r 18%|█▊        | 37/202 [05:38<24:51,  9.04s/it]"
          ]
        },
        {
          "output_type": "stream",
          "name": "stdout",
          "text": [
            "\tTile 1/1\n"
          ]
        },
        {
          "output_type": "stream",
          "name": "stderr",
          "text": [
            "\r 19%|█▉        | 38/202 [05:47<25:01,  9.16s/it]"
          ]
        },
        {
          "output_type": "stream",
          "name": "stdout",
          "text": [
            "\tTile 1/1\n"
          ]
        },
        {
          "output_type": "stream",
          "name": "stderr",
          "text": [
            "\r 19%|█▉        | 39/202 [05:57<24:47,  9.12s/it]"
          ]
        },
        {
          "output_type": "stream",
          "name": "stdout",
          "text": [
            "\tTile 1/1\n"
          ]
        },
        {
          "output_type": "stream",
          "name": "stderr",
          "text": [
            "\r 20%|█▉        | 40/202 [06:06<24:33,  9.10s/it]"
          ]
        },
        {
          "output_type": "stream",
          "name": "stdout",
          "text": [
            "\tTile 1/1\n"
          ]
        },
        {
          "output_type": "stream",
          "name": "stderr",
          "text": [
            "\r 20%|██        | 41/202 [06:14<24:07,  8.99s/it]"
          ]
        },
        {
          "output_type": "stream",
          "name": "stdout",
          "text": [
            "\tTile 1/1\n"
          ]
        },
        {
          "output_type": "stream",
          "name": "stderr",
          "text": [
            "\r 21%|██        | 42/202 [06:23<23:40,  8.88s/it]"
          ]
        },
        {
          "output_type": "stream",
          "name": "stdout",
          "text": [
            "\tTile 1/1\n"
          ]
        },
        {
          "output_type": "stream",
          "name": "stderr",
          "text": [
            "\r 21%|██▏       | 43/202 [06:36<26:34, 10.03s/it]"
          ]
        },
        {
          "output_type": "stream",
          "name": "stdout",
          "text": [
            "\tTile 1/1\n"
          ]
        },
        {
          "output_type": "stream",
          "name": "stderr",
          "text": [
            "\r 22%|██▏       | 44/202 [06:49<28:46, 10.93s/it]"
          ]
        },
        {
          "output_type": "stream",
          "name": "stdout",
          "text": [
            "\tTile 1/1\n"
          ]
        },
        {
          "output_type": "stream",
          "name": "stderr",
          "text": [
            "\r 22%|██▏       | 45/202 [06:58<27:39, 10.57s/it]"
          ]
        },
        {
          "output_type": "stream",
          "name": "stdout",
          "text": [
            "\tTile 1/1\n"
          ]
        },
        {
          "output_type": "stream",
          "name": "stderr",
          "text": [
            "\r 23%|██▎       | 46/202 [07:06<25:32,  9.83s/it]"
          ]
        },
        {
          "output_type": "stream",
          "name": "stdout",
          "text": [
            "\tTile 1/1\n"
          ]
        },
        {
          "output_type": "stream",
          "name": "stderr",
          "text": [
            "\r 23%|██▎       | 47/202 [07:16<25:21,  9.82s/it]"
          ]
        },
        {
          "output_type": "stream",
          "name": "stdout",
          "text": [
            "\tTile 1/1\n"
          ]
        },
        {
          "output_type": "stream",
          "name": "stderr",
          "text": [
            "\r 24%|██▍       | 48/202 [07:25<24:40,  9.61s/it]"
          ]
        },
        {
          "output_type": "stream",
          "name": "stdout",
          "text": [
            "\tTile 1/1\n"
          ]
        },
        {
          "output_type": "stream",
          "name": "stderr",
          "text": [
            "\r 24%|██▍       | 49/202 [07:34<23:33,  9.24s/it]"
          ]
        },
        {
          "output_type": "stream",
          "name": "stdout",
          "text": [
            "\tTile 1/1\n"
          ]
        },
        {
          "output_type": "stream",
          "name": "stderr",
          "text": [
            "\r 25%|██▍       | 50/202 [07:43<23:09,  9.14s/it]"
          ]
        },
        {
          "output_type": "stream",
          "name": "stdout",
          "text": [
            "\tTile 1/1\n"
          ]
        },
        {
          "output_type": "stream",
          "name": "stderr",
          "text": [
            "\r 25%|██▌       | 51/202 [07:56<25:53, 10.29s/it]"
          ]
        },
        {
          "output_type": "stream",
          "name": "stdout",
          "text": [
            "\tTile 1/1\n"
          ]
        },
        {
          "output_type": "stream",
          "name": "stderr",
          "text": [
            "\r 26%|██▌       | 52/202 [08:05<24:46,  9.91s/it]"
          ]
        },
        {
          "output_type": "stream",
          "name": "stdout",
          "text": [
            "\tTile 1/1\n"
          ]
        },
        {
          "output_type": "stream",
          "name": "stderr",
          "text": [
            "\r 26%|██▌       | 53/202 [08:18<26:59, 10.87s/it]"
          ]
        },
        {
          "output_type": "stream",
          "name": "stdout",
          "text": [
            "\tTile 1/1\n"
          ]
        },
        {
          "output_type": "stream",
          "name": "stderr",
          "text": [
            "\r 27%|██▋       | 54/202 [08:31<28:20, 11.49s/it]"
          ]
        },
        {
          "output_type": "stream",
          "name": "stdout",
          "text": [
            "\tTile 1/1\n"
          ]
        },
        {
          "output_type": "stream",
          "name": "stderr",
          "text": [
            "\r 27%|██▋       | 55/202 [08:43<29:01, 11.85s/it]"
          ]
        },
        {
          "output_type": "stream",
          "name": "stdout",
          "text": [
            "\tTile 1/1\n"
          ]
        },
        {
          "output_type": "stream",
          "name": "stderr",
          "text": [
            "\r 28%|██▊       | 56/202 [08:56<29:25, 12.09s/it]"
          ]
        },
        {
          "output_type": "stream",
          "name": "stdout",
          "text": [
            "\tTile 1/1\n"
          ]
        },
        {
          "output_type": "stream",
          "name": "stderr",
          "text": [
            " 29%|██▊       | 58/202 [09:05<18:39,  7.78s/it]"
          ]
        },
        {
          "output_type": "stream",
          "name": "stdout",
          "text": [
            "\tTile 1/1\n",
            "\tTile 1/1\n"
          ]
        },
        {
          "output_type": "stream",
          "name": "stderr",
          "text": [
            "\r 29%|██▉       | 59/202 [09:13<19:11,  8.05s/it]"
          ]
        },
        {
          "output_type": "stream",
          "name": "stdout",
          "text": [
            "\tTile 1/1\n"
          ]
        },
        {
          "output_type": "stream",
          "name": "stderr",
          "text": [
            "\r 30%|██▉       | 60/202 [09:30<25:02, 10.58s/it]"
          ]
        },
        {
          "output_type": "stream",
          "name": "stdout",
          "text": [
            "\tTile 1/1\n"
          ]
        },
        {
          "output_type": "stream",
          "name": "stderr",
          "text": [
            "\r 30%|███       | 61/202 [09:41<25:19, 10.78s/it]"
          ]
        },
        {
          "output_type": "stream",
          "name": "stdout",
          "text": [
            "\tTile 1/1\n"
          ]
        },
        {
          "output_type": "stream",
          "name": "stderr",
          "text": [
            "\r 31%|███       | 62/202 [09:55<27:12, 11.66s/it]"
          ]
        },
        {
          "output_type": "stream",
          "name": "stdout",
          "text": [
            "\tTile 1/1\n"
          ]
        },
        {
          "output_type": "stream",
          "name": "stderr",
          "text": [
            "\r 31%|███       | 63/202 [10:09<28:27, 12.28s/it]"
          ]
        },
        {
          "output_type": "stream",
          "name": "stdout",
          "text": [
            "\tTile 1/1\n"
          ]
        },
        {
          "output_type": "stream",
          "name": "stderr",
          "text": [
            "\r 32%|███▏      | 64/202 [10:17<25:38, 11.15s/it]"
          ]
        },
        {
          "output_type": "stream",
          "name": "stdout",
          "text": [
            "\tTile 1/1\n"
          ]
        },
        {
          "output_type": "stream",
          "name": "stderr",
          "text": [
            "\r 32%|███▏      | 65/202 [10:27<24:30, 10.73s/it]"
          ]
        },
        {
          "output_type": "stream",
          "name": "stdout",
          "text": [
            "\tTile 1/1\n"
          ]
        },
        {
          "output_type": "stream",
          "name": "stderr",
          "text": [
            "\r 33%|███▎      | 66/202 [10:37<23:40, 10.45s/it]"
          ]
        },
        {
          "output_type": "stream",
          "name": "stdout",
          "text": [
            "\tTile 1/1\n"
          ]
        },
        {
          "output_type": "stream",
          "name": "stderr",
          "text": [
            "\r 33%|███▎      | 67/202 [10:47<23:22, 10.39s/it]"
          ]
        },
        {
          "output_type": "stream",
          "name": "stdout",
          "text": [
            "\tTile 1/1\n"
          ]
        },
        {
          "output_type": "stream",
          "name": "stderr",
          "text": [
            "\r 34%|███▎      | 68/202 [10:56<22:26, 10.05s/it]"
          ]
        },
        {
          "output_type": "stream",
          "name": "stdout",
          "text": [
            "\tTile 1/1\n"
          ]
        },
        {
          "output_type": "stream",
          "name": "stderr",
          "text": [
            "\r 34%|███▍      | 69/202 [11:10<24:50, 11.21s/it]"
          ]
        },
        {
          "output_type": "stream",
          "name": "stdout",
          "text": [
            "\tTile 1/1\n"
          ]
        },
        {
          "output_type": "stream",
          "name": "stderr",
          "text": [
            "\r 35%|███▍      | 70/202 [11:19<23:26, 10.66s/it]"
          ]
        },
        {
          "output_type": "stream",
          "name": "stdout",
          "text": [
            "\tTile 1/1\n"
          ]
        },
        {
          "output_type": "stream",
          "name": "stderr",
          "text": [
            "\r 35%|███▌      | 71/202 [11:29<22:45, 10.42s/it]"
          ]
        },
        {
          "output_type": "stream",
          "name": "stdout",
          "text": [
            "\tTile 1/1\n"
          ]
        },
        {
          "output_type": "stream",
          "name": "stderr",
          "text": [
            "\r 36%|███▌      | 72/202 [11:30<16:17,  7.52s/it]"
          ]
        },
        {
          "output_type": "stream",
          "name": "stdout",
          "text": [
            "\tTile 1/1\n"
          ]
        },
        {
          "output_type": "stream",
          "name": "stderr",
          "text": [
            "\r 36%|███▌      | 73/202 [11:43<19:42,  9.17s/it]"
          ]
        },
        {
          "output_type": "stream",
          "name": "stdout",
          "text": [
            "\tTile 1/1\n"
          ]
        },
        {
          "output_type": "stream",
          "name": "stderr",
          "text": [
            "\r 37%|███▋      | 74/202 [11:53<19:49,  9.29s/it]"
          ]
        },
        {
          "output_type": "stream",
          "name": "stdout",
          "text": [
            "\tTile 1/1\n"
          ]
        },
        {
          "output_type": "stream",
          "name": "stderr",
          "text": [
            "\r 37%|███▋      | 75/202 [12:06<22:25, 10.60s/it]"
          ]
        },
        {
          "output_type": "stream",
          "name": "stdout",
          "text": [
            "\tTile 1/1\n"
          ]
        },
        {
          "output_type": "stream",
          "name": "stderr",
          "text": [
            "\r 38%|███▊      | 76/202 [12:17<22:01, 10.49s/it]"
          ]
        },
        {
          "output_type": "stream",
          "name": "stdout",
          "text": [
            "\tTile 1/1\n"
          ]
        },
        {
          "output_type": "stream",
          "name": "stderr",
          "text": [
            "\r 38%|███▊      | 77/202 [12:30<23:42, 11.38s/it]"
          ]
        },
        {
          "output_type": "stream",
          "name": "stdout",
          "text": [
            "\tTile 1/1\n"
          ]
        },
        {
          "output_type": "stream",
          "name": "stderr",
          "text": [
            "\r 39%|███▊      | 78/202 [12:41<23:01, 11.14s/it]"
          ]
        },
        {
          "output_type": "stream",
          "name": "stdout",
          "text": [
            "\tTile 1/1\n"
          ]
        },
        {
          "output_type": "stream",
          "name": "stderr",
          "text": [
            "\r 39%|███▉      | 79/202 [12:51<22:15, 10.86s/it]"
          ]
        },
        {
          "output_type": "stream",
          "name": "stdout",
          "text": [
            "\tTile 1/1\n"
          ]
        },
        {
          "output_type": "stream",
          "name": "stderr",
          "text": [
            "\r 40%|███▉      | 80/202 [13:00<21:11, 10.42s/it]"
          ]
        },
        {
          "output_type": "stream",
          "name": "stdout",
          "text": [
            "\tTile 1/1\n"
          ]
        },
        {
          "output_type": "stream",
          "name": "stderr",
          "text": [
            "\r 40%|████      | 81/202 [13:10<20:28, 10.15s/it]"
          ]
        },
        {
          "output_type": "stream",
          "name": "stdout",
          "text": [
            "\tTile 1/1\n"
          ]
        },
        {
          "output_type": "stream",
          "name": "stderr",
          "text": [
            "\r 41%|████      | 82/202 [13:19<19:43,  9.86s/it]"
          ]
        },
        {
          "output_type": "stream",
          "name": "stdout",
          "text": [
            "\tTile 1/1\n"
          ]
        },
        {
          "output_type": "stream",
          "name": "stderr",
          "text": [
            "\r 41%|████      | 83/202 [13:32<21:39, 10.92s/it]"
          ]
        },
        {
          "output_type": "stream",
          "name": "stdout",
          "text": [
            "\tTile 1/1\n"
          ]
        },
        {
          "output_type": "stream",
          "name": "stderr",
          "text": [
            "\r 42%|████▏     | 84/202 [13:46<22:55, 11.66s/it]"
          ]
        },
        {
          "output_type": "stream",
          "name": "stdout",
          "text": [
            "\tTile 1/1\n"
          ]
        },
        {
          "output_type": "stream",
          "name": "stderr",
          "text": [
            "\r 42%|████▏     | 85/202 [13:59<23:51, 12.24s/it]"
          ]
        },
        {
          "output_type": "stream",
          "name": "stdout",
          "text": [
            "\tTile 1/1\n"
          ]
        },
        {
          "output_type": "stream",
          "name": "stderr",
          "text": [
            "\r 43%|████▎     | 86/202 [14:08<21:43, 11.24s/it]"
          ]
        },
        {
          "output_type": "stream",
          "name": "stdout",
          "text": [
            "\tTile 1/1\n"
          ]
        },
        {
          "output_type": "stream",
          "name": "stderr",
          "text": [
            "\r 43%|████▎     | 87/202 [14:18<20:29, 10.69s/it]"
          ]
        },
        {
          "output_type": "stream",
          "name": "stdout",
          "text": [
            "\tTile 1/1\n"
          ]
        },
        {
          "output_type": "stream",
          "name": "stderr",
          "text": [
            "\r 44%|████▎     | 88/202 [14:27<19:45, 10.40s/it]"
          ]
        },
        {
          "output_type": "stream",
          "name": "stdout",
          "text": [
            "\tTile 1/1\n"
          ]
        },
        {
          "output_type": "stream",
          "name": "stderr",
          "text": [
            "\r 44%|████▍     | 89/202 [14:36<18:34,  9.86s/it]"
          ]
        },
        {
          "output_type": "stream",
          "name": "stdout",
          "text": [
            "\tTile 1/1\n"
          ]
        },
        {
          "output_type": "stream",
          "name": "stderr",
          "text": [
            "\r 45%|████▍     | 90/202 [14:46<18:31,  9.93s/it]"
          ]
        },
        {
          "output_type": "stream",
          "name": "stdout",
          "text": [
            "\tTile 1/1\n"
          ]
        },
        {
          "output_type": "stream",
          "name": "stderr",
          "text": [
            "\r 45%|████▌     | 91/202 [15:09<25:26, 13.75s/it]"
          ]
        },
        {
          "output_type": "stream",
          "name": "stdout",
          "text": [
            "\tTile 1/1\n"
          ]
        },
        {
          "output_type": "stream",
          "name": "stderr",
          "text": [
            "\r 46%|████▌     | 92/202 [15:22<25:07, 13.70s/it]"
          ]
        },
        {
          "output_type": "stream",
          "name": "stdout",
          "text": [
            "\tTile 1/1\n"
          ]
        },
        {
          "output_type": "stream",
          "name": "stderr",
          "text": [
            "\r 46%|████▌     | 93/202 [15:31<22:11, 12.22s/it]"
          ]
        },
        {
          "output_type": "stream",
          "name": "stdout",
          "text": [
            "\tTile 1/1\n"
          ]
        },
        {
          "output_type": "stream",
          "name": "stderr",
          "text": [
            "\r 47%|████▋     | 94/202 [15:36<18:06, 10.06s/it]"
          ]
        },
        {
          "output_type": "stream",
          "name": "stdout",
          "text": [
            "\tTile 1/1\n"
          ]
        },
        {
          "output_type": "stream",
          "name": "stderr",
          "text": [
            "\r 47%|████▋     | 95/202 [15:46<17:49,  9.99s/it]"
          ]
        },
        {
          "output_type": "stream",
          "name": "stdout",
          "text": [
            "\tTile 1/1\n"
          ]
        },
        {
          "output_type": "stream",
          "name": "stderr",
          "text": [
            " 48%|████▊     | 97/202 [15:56<12:17,  7.02s/it]"
          ]
        },
        {
          "output_type": "stream",
          "name": "stdout",
          "text": [
            "\tTile 1/1\n",
            "\tTile 1/1\n"
          ]
        },
        {
          "output_type": "stream",
          "name": "stderr",
          "text": [
            "\r 49%|████▊     | 98/202 [16:05<13:26,  7.75s/it]"
          ]
        },
        {
          "output_type": "stream",
          "name": "stdout",
          "text": [
            "\tTile 1/1\n"
          ]
        },
        {
          "output_type": "stream",
          "name": "stderr",
          "text": [
            "\r 49%|████▉     | 99/202 [16:14<13:35,  7.92s/it]"
          ]
        },
        {
          "output_type": "stream",
          "name": "stdout",
          "text": [
            "\tTile 1/1\n"
          ]
        },
        {
          "output_type": "stream",
          "name": "stderr",
          "text": [
            "\r 50%|████▉     | 100/202 [16:23<14:16,  8.39s/it]"
          ]
        },
        {
          "output_type": "stream",
          "name": "stdout",
          "text": [
            "\tTile 1/1\n"
          ]
        },
        {
          "output_type": "stream",
          "name": "stderr",
          "text": [
            "\r 50%|█████     | 101/202 [16:32<14:30,  8.62s/it]"
          ]
        },
        {
          "output_type": "stream",
          "name": "stdout",
          "text": [
            "\tTile 1/1\n"
          ]
        },
        {
          "output_type": "stream",
          "name": "stderr",
          "text": [
            "\r 50%|█████     | 102/202 [16:41<14:16,  8.56s/it]"
          ]
        },
        {
          "output_type": "stream",
          "name": "stdout",
          "text": [
            "\tTile 1/1\n"
          ]
        },
        {
          "output_type": "stream",
          "name": "stderr",
          "text": [
            "\r 51%|█████     | 103/202 [16:50<14:36,  8.85s/it]"
          ]
        },
        {
          "output_type": "stream",
          "name": "stdout",
          "text": [
            "\tTile 1/1\n"
          ]
        },
        {
          "output_type": "stream",
          "name": "stderr",
          "text": [
            "\r 51%|█████▏    | 104/202 [17:00<15:00,  9.18s/it]"
          ]
        },
        {
          "output_type": "stream",
          "name": "stdout",
          "text": [
            "\tTile 1/1\n"
          ]
        },
        {
          "output_type": "stream",
          "name": "stderr",
          "text": [
            "\r 52%|█████▏    | 105/202 [17:05<12:40,  7.84s/it]"
          ]
        },
        {
          "output_type": "stream",
          "name": "stdout",
          "text": [
            "\tTile 1/1\n"
          ]
        },
        {
          "output_type": "stream",
          "name": "stderr",
          "text": [
            "\r 52%|█████▏    | 106/202 [17:14<13:22,  8.36s/it]"
          ]
        },
        {
          "output_type": "stream",
          "name": "stdout",
          "text": [
            "\tTile 1/1\n"
          ]
        },
        {
          "output_type": "stream",
          "name": "stderr",
          "text": [
            "\r 53%|█████▎    | 107/202 [17:23<13:25,  8.48s/it]"
          ]
        },
        {
          "output_type": "stream",
          "name": "stdout",
          "text": [
            "\tTile 1/1\n"
          ]
        },
        {
          "output_type": "stream",
          "name": "stderr",
          "text": [
            "\r 53%|█████▎    | 108/202 [17:32<13:32,  8.65s/it]"
          ]
        },
        {
          "output_type": "stream",
          "name": "stdout",
          "text": [
            "\tTile 1/1\n"
          ]
        },
        {
          "output_type": "stream",
          "name": "stderr",
          "text": [
            "\r 54%|█████▍    | 109/202 [17:41<13:35,  8.77s/it]"
          ]
        },
        {
          "output_type": "stream",
          "name": "stdout",
          "text": [
            "\tTile 1/1\n"
          ]
        },
        {
          "output_type": "stream",
          "name": "stderr",
          "text": [
            "\r 54%|█████▍    | 110/202 [17:50<13:26,  8.77s/it]"
          ]
        },
        {
          "output_type": "stream",
          "name": "stdout",
          "text": [
            "\tTile 1/1\n"
          ]
        },
        {
          "output_type": "stream",
          "name": "stderr",
          "text": [
            "\r 55%|█████▍    | 111/202 [18:04<15:28, 10.20s/it]"
          ]
        },
        {
          "output_type": "stream",
          "name": "stdout",
          "text": [
            "\tTile 1/1\n"
          ]
        },
        {
          "output_type": "stream",
          "name": "stderr",
          "text": [
            "\r 55%|█████▌    | 112/202 [18:17<16:56, 11.29s/it]"
          ]
        },
        {
          "output_type": "stream",
          "name": "stdout",
          "text": [
            "\tTile 1/1\n"
          ]
        },
        {
          "output_type": "stream",
          "name": "stderr",
          "text": [
            "\r 56%|█████▌    | 113/202 [18:27<16:11, 10.91s/it]"
          ]
        },
        {
          "output_type": "stream",
          "name": "stdout",
          "text": [
            "\tTile 1/1\n"
          ]
        },
        {
          "output_type": "stream",
          "name": "stderr",
          "text": [
            "\r 56%|█████▋    | 114/202 [18:37<15:30, 10.57s/it]"
          ]
        },
        {
          "output_type": "stream",
          "name": "stdout",
          "text": [
            "\tTile 1/1\n"
          ]
        },
        {
          "output_type": "stream",
          "name": "stderr",
          "text": [
            "\r 57%|█████▋    | 115/202 [18:46<14:31, 10.02s/it]"
          ]
        },
        {
          "output_type": "stream",
          "name": "stdout",
          "text": [
            "\tTile 1/1\n"
          ]
        },
        {
          "output_type": "stream",
          "name": "stderr",
          "text": [
            "\r 57%|█████▋    | 116/202 [18:51<12:09,  8.48s/it]"
          ]
        },
        {
          "output_type": "stream",
          "name": "stdout",
          "text": [
            "\tTile 1/1\n"
          ]
        },
        {
          "output_type": "stream",
          "name": "stderr",
          "text": [
            "\r 58%|█████▊    | 117/202 [19:00<12:09,  8.59s/it]"
          ]
        },
        {
          "output_type": "stream",
          "name": "stdout",
          "text": [
            "\tTile 1/1\n"
          ]
        },
        {
          "output_type": "stream",
          "name": "stderr",
          "text": [
            "\r 58%|█████▊    | 118/202 [19:13<13:49,  9.88s/it]"
          ]
        },
        {
          "output_type": "stream",
          "name": "stdout",
          "text": [
            "\tTile 1/1\n"
          ]
        },
        {
          "output_type": "stream",
          "name": "stderr",
          "text": [
            "\r 59%|█████▉    | 119/202 [19:25<14:49, 10.71s/it]"
          ]
        },
        {
          "output_type": "stream",
          "name": "stdout",
          "text": [
            "\tTile 1/1\n"
          ]
        },
        {
          "output_type": "stream",
          "name": "stderr",
          "text": [
            "\r 59%|█████▉    | 120/202 [19:36<14:30, 10.61s/it]"
          ]
        },
        {
          "output_type": "stream",
          "name": "stdout",
          "text": [
            "\tTile 1/1\n"
          ]
        },
        {
          "output_type": "stream",
          "name": "stderr",
          "text": [
            "\r 60%|█████▉    | 121/202 [19:52<16:38, 12.33s/it]"
          ]
        },
        {
          "output_type": "stream",
          "name": "stdout",
          "text": [
            "\tTile 1/1\n"
          ]
        },
        {
          "output_type": "stream",
          "name": "stderr",
          "text": [
            "\r 60%|██████    | 122/202 [20:03<15:45, 11.82s/it]"
          ]
        },
        {
          "output_type": "stream",
          "name": "stdout",
          "text": [
            "\tTile 1/1\n"
          ]
        },
        {
          "output_type": "stream",
          "name": "stderr",
          "text": [
            " 61%|██████▏   | 124/202 [20:17<11:31,  8.87s/it]"
          ]
        },
        {
          "output_type": "stream",
          "name": "stdout",
          "text": [
            "\tTile 1/1\n",
            "\tTile 1/1\n"
          ]
        },
        {
          "output_type": "stream",
          "name": "stderr",
          "text": [
            "\r 62%|██████▏   | 125/202 [20:27<11:39,  9.08s/it]"
          ]
        },
        {
          "output_type": "stream",
          "name": "stdout",
          "text": [
            "\tTile 1/1\n"
          ]
        },
        {
          "output_type": "stream",
          "name": "stderr",
          "text": [
            "\r 62%|██████▏   | 126/202 [20:40<13:17, 10.49s/it]"
          ]
        },
        {
          "output_type": "stream",
          "name": "stdout",
          "text": [
            "\tTile 1/1\n"
          ]
        },
        {
          "output_type": "stream",
          "name": "stderr",
          "text": [
            "\r 63%|██████▎   | 127/202 [20:55<14:30, 11.61s/it]"
          ]
        },
        {
          "output_type": "stream",
          "name": "stdout",
          "text": [
            "\tTile 1/1\n"
          ]
        },
        {
          "output_type": "stream",
          "name": "stderr",
          "text": [
            " 64%|██████▍   | 129/202 [21:03<09:14,  7.60s/it]"
          ]
        },
        {
          "output_type": "stream",
          "name": "stdout",
          "text": [
            "\tTile 1/1\n",
            "\tTile 1/1\n"
          ]
        },
        {
          "output_type": "stream",
          "name": "stderr",
          "text": [
            "\r 64%|██████▍   | 130/202 [21:17<11:13,  9.36s/it]"
          ]
        },
        {
          "output_type": "stream",
          "name": "stdout",
          "text": [
            "\tTile 1/1\n"
          ]
        },
        {
          "output_type": "stream",
          "name": "stderr",
          "text": [
            "\r 65%|██████▍   | 131/202 [21:27<11:24,  9.64s/it]"
          ]
        },
        {
          "output_type": "stream",
          "name": "stdout",
          "text": [
            "\tTile 1/1\n"
          ]
        },
        {
          "output_type": "stream",
          "name": "stderr",
          "text": [
            "\r 65%|██████▌   | 132/202 [21:41<12:35, 10.80s/it]"
          ]
        },
        {
          "output_type": "stream",
          "name": "stdout",
          "text": [
            "\tTile 1/1\n"
          ]
        },
        {
          "output_type": "stream",
          "name": "stderr",
          "text": [
            "\r 66%|██████▌   | 133/202 [21:55<13:30, 11.75s/it]"
          ]
        },
        {
          "output_type": "stream",
          "name": "stdout",
          "text": [
            "\tTile 1/1\n"
          ]
        },
        {
          "output_type": "stream",
          "name": "stderr",
          "text": [
            "\r 66%|██████▋   | 134/202 [22:05<12:48, 11.30s/it]"
          ]
        },
        {
          "output_type": "stream",
          "name": "stdout",
          "text": [
            "\tTile 1/1\n"
          ]
        },
        {
          "output_type": "stream",
          "name": "stderr",
          "text": [
            "\r 67%|██████▋   | 135/202 [22:14<11:42, 10.49s/it]"
          ]
        },
        {
          "output_type": "stream",
          "name": "stdout",
          "text": [
            "\tTile 1/1\n"
          ]
        },
        {
          "output_type": "stream",
          "name": "stderr",
          "text": [
            "\r 67%|██████▋   | 136/202 [22:27<12:35, 11.45s/it]"
          ]
        },
        {
          "output_type": "stream",
          "name": "stdout",
          "text": [
            "\tTile 1/1\n"
          ]
        },
        {
          "output_type": "stream",
          "name": "stderr",
          "text": [
            " 68%|██████▊   | 138/202 [22:41<09:10,  8.60s/it]"
          ]
        },
        {
          "output_type": "stream",
          "name": "stdout",
          "text": [
            "\tTile 1/1\n",
            "\tTile 1/1\n"
          ]
        },
        {
          "output_type": "stream",
          "name": "stderr",
          "text": [
            "\r 69%|██████▉   | 139/202 [22:50<09:11,  8.75s/it]"
          ]
        },
        {
          "output_type": "stream",
          "name": "stdout",
          "text": [
            "\tTile 1/1\n"
          ]
        },
        {
          "output_type": "stream",
          "name": "stderr",
          "text": [
            "\r 69%|██████▉   | 140/202 [23:00<09:27,  9.15s/it]"
          ]
        },
        {
          "output_type": "stream",
          "name": "stdout",
          "text": [
            "\tTile 1/1\n"
          ]
        },
        {
          "output_type": "stream",
          "name": "stderr",
          "text": [
            "\r 70%|██████▉   | 141/202 [23:09<09:05,  8.94s/it]"
          ]
        },
        {
          "output_type": "stream",
          "name": "stdout",
          "text": [
            "\tTile 1/1\n"
          ]
        },
        {
          "output_type": "stream",
          "name": "stderr",
          "text": [
            " 71%|███████   | 143/202 [23:23<07:16,  7.40s/it]"
          ]
        },
        {
          "output_type": "stream",
          "name": "stdout",
          "text": [
            "\tTile 1/1\n",
            "\tTile 1/1\n"
          ]
        },
        {
          "output_type": "stream",
          "name": "stderr",
          "text": [
            "\r 71%|███████▏  | 144/202 [23:32<07:39,  7.92s/it]"
          ]
        },
        {
          "output_type": "stream",
          "name": "stdout",
          "text": [
            "\tTile 1/1\n"
          ]
        },
        {
          "output_type": "stream",
          "name": "stderr",
          "text": [
            "\r 72%|███████▏  | 145/202 [23:41<07:54,  8.32s/it]"
          ]
        },
        {
          "output_type": "stream",
          "name": "stdout",
          "text": [
            "\tTile 1/1\n"
          ]
        },
        {
          "output_type": "stream",
          "name": "stderr",
          "text": [
            "\r 72%|███████▏  | 146/202 [23:50<07:49,  8.39s/it]"
          ]
        },
        {
          "output_type": "stream",
          "name": "stdout",
          "text": [
            "\tTile 1/1\n"
          ]
        },
        {
          "output_type": "stream",
          "name": "stderr",
          "text": [
            "\r 73%|███████▎  | 147/202 [24:00<08:04,  8.80s/it]"
          ]
        },
        {
          "output_type": "stream",
          "name": "stdout",
          "text": [
            "\tTile 1/1\n"
          ]
        },
        {
          "output_type": "stream",
          "name": "stderr",
          "text": [
            "\r 73%|███████▎  | 148/202 [24:09<07:59,  8.89s/it]"
          ]
        },
        {
          "output_type": "stream",
          "name": "stdout",
          "text": [
            "\tTile 1/1\n"
          ]
        },
        {
          "output_type": "stream",
          "name": "stderr",
          "text": [
            "\r 74%|███████▍  | 149/202 [24:18<07:48,  8.85s/it]"
          ]
        },
        {
          "output_type": "stream",
          "name": "stdout",
          "text": [
            "\tTile 1/1\n"
          ]
        },
        {
          "output_type": "stream",
          "name": "stderr",
          "text": [
            "\r 74%|███████▍  | 150/202 [24:27<07:51,  9.08s/it]"
          ]
        },
        {
          "output_type": "stream",
          "name": "stdout",
          "text": [
            "\tTile 1/1\n"
          ]
        },
        {
          "output_type": "stream",
          "name": "stderr",
          "text": [
            "\r 75%|███████▍  | 151/202 [24:37<07:50,  9.22s/it]"
          ]
        },
        {
          "output_type": "stream",
          "name": "stdout",
          "text": [
            "\tTile 1/1\n"
          ]
        },
        {
          "output_type": "stream",
          "name": "stderr",
          "text": [
            " 76%|███████▌  | 153/202 [24:51<06:07,  7.50s/it]"
          ]
        },
        {
          "output_type": "stream",
          "name": "stdout",
          "text": [
            "\tTile 1/1\n",
            "\tTile 1/1\n"
          ]
        },
        {
          "output_type": "stream",
          "name": "stderr",
          "text": [
            "\r 76%|███████▌  | 154/202 [25:01<06:35,  8.24s/it]"
          ]
        },
        {
          "output_type": "stream",
          "name": "stdout",
          "text": [
            "\tTile 1/1\n"
          ]
        },
        {
          "output_type": "stream",
          "name": "stderr",
          "text": [
            "\r 77%|███████▋  | 155/202 [25:14<07:40,  9.80s/it]"
          ]
        },
        {
          "output_type": "stream",
          "name": "stdout",
          "text": [
            "\tTile 1/1\n"
          ]
        },
        {
          "output_type": "stream",
          "name": "stderr",
          "text": [
            "\r 77%|███████▋  | 156/202 [25:23<07:21,  9.60s/it]"
          ]
        },
        {
          "output_type": "stream",
          "name": "stdout",
          "text": [
            "\tTile 1/1\n"
          ]
        },
        {
          "output_type": "stream",
          "name": "stderr",
          "text": [
            "\r 78%|███████▊  | 157/202 [25:37<08:02, 10.71s/it]"
          ]
        },
        {
          "output_type": "stream",
          "name": "stdout",
          "text": [
            "\tTile 1/1\n"
          ]
        },
        {
          "output_type": "stream",
          "name": "stderr",
          "text": [
            "\r 78%|███████▊  | 158/202 [25:50<08:24, 11.46s/it]"
          ]
        },
        {
          "output_type": "stream",
          "name": "stdout",
          "text": [
            "\tTile 1/1\n"
          ]
        },
        {
          "output_type": "stream",
          "name": "stderr",
          "text": [
            "\r 79%|███████▊  | 159/202 [26:00<07:54, 11.03s/it]"
          ]
        },
        {
          "output_type": "stream",
          "name": "stdout",
          "text": [
            "\tTile 1/1\n"
          ]
        },
        {
          "output_type": "stream",
          "name": "stderr",
          "text": [
            "\r 79%|███████▉  | 160/202 [26:09<07:18, 10.43s/it]"
          ]
        },
        {
          "output_type": "stream",
          "name": "stdout",
          "text": [
            "\tTile 1/1\n"
          ]
        },
        {
          "output_type": "stream",
          "name": "stderr",
          "text": [
            "\r 80%|███████▉  | 161/202 [26:19<06:58, 10.22s/it]"
          ]
        },
        {
          "output_type": "stream",
          "name": "stdout",
          "text": [
            "\tTile 1/1\n"
          ]
        },
        {
          "output_type": "stream",
          "name": "stderr",
          "text": [
            "\r 80%|████████  | 162/202 [26:32<07:26, 11.15s/it]"
          ]
        },
        {
          "output_type": "stream",
          "name": "stdout",
          "text": [
            "\tTile 1/1\n"
          ]
        },
        {
          "output_type": "stream",
          "name": "stderr",
          "text": [
            "\r 81%|████████  | 163/202 [26:45<07:38, 11.76s/it]"
          ]
        },
        {
          "output_type": "stream",
          "name": "stdout",
          "text": [
            "\tTile 1/1\n"
          ]
        },
        {
          "output_type": "stream",
          "name": "stderr",
          "text": [
            "\r 81%|████████  | 164/202 [26:54<06:58, 11.01s/it]"
          ]
        },
        {
          "output_type": "stream",
          "name": "stdout",
          "text": [
            "\tTile 1/1\n"
          ]
        },
        {
          "output_type": "stream",
          "name": "stderr",
          "text": [
            "\r 82%|████████▏ | 165/202 [27:08<07:09, 11.62s/it]"
          ]
        },
        {
          "output_type": "stream",
          "name": "stdout",
          "text": [
            "\tTile 1/1\n"
          ]
        },
        {
          "output_type": "stream",
          "name": "stderr",
          "text": [
            "\r 82%|████████▏ | 166/202 [27:16<06:29, 10.83s/it]"
          ]
        },
        {
          "output_type": "stream",
          "name": "stdout",
          "text": [
            "\tTile 1/1\n"
          ]
        },
        {
          "output_type": "stream",
          "name": "stderr",
          "text": [
            "\r 83%|████████▎ | 167/202 [27:30<06:43, 11.54s/it]"
          ]
        },
        {
          "output_type": "stream",
          "name": "stdout",
          "text": [
            "\tTile 1/1\n"
          ]
        },
        {
          "output_type": "stream",
          "name": "stderr",
          "text": [
            "\r 83%|████████▎ | 168/202 [27:39<06:04, 10.73s/it]"
          ]
        },
        {
          "output_type": "stream",
          "name": "stdout",
          "text": [
            "\tTile 1/1\n"
          ]
        },
        {
          "output_type": "stream",
          "name": "stderr",
          "text": [
            "\r 84%|████████▎ | 169/202 [27:47<05:35, 10.17s/it]"
          ]
        },
        {
          "output_type": "stream",
          "name": "stdout",
          "text": [
            "\tTile 1/1\n"
          ]
        },
        {
          "output_type": "stream",
          "name": "stderr",
          "text": [
            "\r 84%|████████▍ | 170/202 [27:56<05:08,  9.64s/it]"
          ]
        },
        {
          "output_type": "stream",
          "name": "stdout",
          "text": [
            "\tTile 1/1\n"
          ]
        },
        {
          "output_type": "stream",
          "name": "stderr",
          "text": [
            "\r 85%|████████▍ | 171/202 [28:09<05:33, 10.77s/it]"
          ]
        },
        {
          "output_type": "stream",
          "name": "stdout",
          "text": [
            "\tTile 1/1\n"
          ]
        },
        {
          "output_type": "stream",
          "name": "stderr",
          "text": [
            "\r 85%|████████▌ | 172/202 [28:18<05:09, 10.33s/it]"
          ]
        },
        {
          "output_type": "stream",
          "name": "stdout",
          "text": [
            "\tTile 1/1\n"
          ]
        },
        {
          "output_type": "stream",
          "name": "stderr",
          "text": [
            " 86%|████████▌ | 174/202 [28:32<03:45,  8.04s/it]"
          ]
        },
        {
          "output_type": "stream",
          "name": "stdout",
          "text": [
            "\tTile 1/1\n",
            "\tTile 1/1\n"
          ]
        },
        {
          "output_type": "stream",
          "name": "stderr",
          "text": [
            "\r 87%|████████▋ | 175/202 [28:42<03:46,  8.40s/it]"
          ]
        },
        {
          "output_type": "stream",
          "name": "stdout",
          "text": [
            "\tTile 1/1\n"
          ]
        },
        {
          "output_type": "stream",
          "name": "stderr",
          "text": [
            "\r 87%|████████▋ | 176/202 [28:50<03:37,  8.37s/it]"
          ]
        },
        {
          "output_type": "stream",
          "name": "stdout",
          "text": [
            "\tTile 1/1\n"
          ]
        },
        {
          "output_type": "stream",
          "name": "stderr",
          "text": [
            "\r 88%|████████▊ | 177/202 [28:59<03:34,  8.57s/it]"
          ]
        },
        {
          "output_type": "stream",
          "name": "stdout",
          "text": [
            "\tTile 1/1\n"
          ]
        },
        {
          "output_type": "stream",
          "name": "stderr",
          "text": [
            "\r 88%|████████▊ | 178/202 [29:08<03:28,  8.67s/it]"
          ]
        },
        {
          "output_type": "stream",
          "name": "stdout",
          "text": [
            "\tTile 1/1\n"
          ]
        },
        {
          "output_type": "stream",
          "name": "stderr",
          "text": [
            "\r 89%|████████▊ | 179/202 [29:16<03:15,  8.51s/it]"
          ]
        },
        {
          "output_type": "stream",
          "name": "stdout",
          "text": [
            "\tTile 1/1\n"
          ]
        },
        {
          "output_type": "stream",
          "name": "stderr",
          "text": [
            "\r 89%|████████▉ | 180/202 [29:29<03:36,  9.85s/it]"
          ]
        },
        {
          "output_type": "stream",
          "name": "stdout",
          "text": [
            "\tTile 1/1\n"
          ]
        },
        {
          "output_type": "stream",
          "name": "stderr",
          "text": [
            " 90%|█████████ | 182/202 [29:38<02:16,  6.83s/it]"
          ]
        },
        {
          "output_type": "stream",
          "name": "stdout",
          "text": [
            "\tTile 1/1\n",
            "\tTile 1/1\n"
          ]
        },
        {
          "output_type": "stream",
          "name": "stderr",
          "text": [
            "\r 91%|█████████ | 183/202 [29:47<02:20,  7.40s/it]"
          ]
        },
        {
          "output_type": "stream",
          "name": "stdout",
          "text": [
            "\tTile 1/1\n"
          ]
        },
        {
          "output_type": "stream",
          "name": "stderr",
          "text": [
            "\r 91%|█████████ | 184/202 [29:58<02:32,  8.46s/it]"
          ]
        },
        {
          "output_type": "stream",
          "name": "stdout",
          "text": [
            "\tTile 1/1\n"
          ]
        },
        {
          "output_type": "stream",
          "name": "stderr",
          "text": [
            "\r 92%|█████████▏| 185/202 [30:14<03:02, 10.75s/it]"
          ]
        },
        {
          "output_type": "stream",
          "name": "stdout",
          "text": [
            "\tTile 1/1\n"
          ]
        },
        {
          "output_type": "stream",
          "name": "stderr",
          "text": [
            "\r 92%|█████████▏| 186/202 [30:25<02:50, 10.66s/it]"
          ]
        },
        {
          "output_type": "stream",
          "name": "stdout",
          "text": [
            "\tTile 1/1\n"
          ]
        },
        {
          "output_type": "stream",
          "name": "stderr",
          "text": [
            "\r 93%|█████████▎| 187/202 [30:35<02:37, 10.52s/it]"
          ]
        },
        {
          "output_type": "stream",
          "name": "stdout",
          "text": [
            "\tTile 1/1\n"
          ]
        },
        {
          "output_type": "stream",
          "name": "stderr",
          "text": [
            "\r 93%|█████████▎| 188/202 [30:44<02:20, 10.03s/it]"
          ]
        },
        {
          "output_type": "stream",
          "name": "stdout",
          "text": [
            "\tTile 1/1\n"
          ]
        },
        {
          "output_type": "stream",
          "name": "stderr",
          "text": [
            "\r 94%|█████████▎| 189/202 [30:54<02:12, 10.21s/it]"
          ]
        },
        {
          "output_type": "stream",
          "name": "stdout",
          "text": [
            "\tTile 1/1\n"
          ]
        },
        {
          "output_type": "stream",
          "name": "stderr",
          "text": [
            "\r 94%|█████████▍| 190/202 [31:04<02:01, 10.11s/it]"
          ]
        },
        {
          "output_type": "stream",
          "name": "stdout",
          "text": [
            "\tTile 1/1\n"
          ]
        },
        {
          "output_type": "stream",
          "name": "stderr",
          "text": [
            "\r 95%|█████████▍| 191/202 [31:18<02:02, 11.17s/it]"
          ]
        },
        {
          "output_type": "stream",
          "name": "stdout",
          "text": [
            "\tTile 1/1\n"
          ]
        },
        {
          "output_type": "stream",
          "name": "stderr",
          "text": [
            "\r 95%|█████████▌| 192/202 [31:27<01:45, 10.52s/it]"
          ]
        },
        {
          "output_type": "stream",
          "name": "stdout",
          "text": [
            "\tTile 1/1\n"
          ]
        },
        {
          "output_type": "stream",
          "name": "stderr",
          "text": [
            "\r 96%|█████████▌| 193/202 [31:36<01:30, 10.08s/it]"
          ]
        },
        {
          "output_type": "stream",
          "name": "stdout",
          "text": [
            "\tTile 1/1\n"
          ]
        },
        {
          "output_type": "stream",
          "name": "stderr",
          "text": [
            "\r 96%|█████████▌| 194/202 [31:50<01:29, 11.20s/it]"
          ]
        },
        {
          "output_type": "stream",
          "name": "stdout",
          "text": [
            "\tTile 1/1\n"
          ]
        },
        {
          "output_type": "stream",
          "name": "stderr",
          "text": [
            "\r 97%|█████████▋| 195/202 [31:50<00:56,  8.03s/it]"
          ]
        },
        {
          "output_type": "stream",
          "name": "stdout",
          "text": [
            "\tTile 1/1\n"
          ]
        },
        {
          "output_type": "stream",
          "name": "stderr",
          "text": [
            "\r 97%|█████████▋| 196/202 [32:00<00:51,  8.54s/it]"
          ]
        },
        {
          "output_type": "stream",
          "name": "stdout",
          "text": [
            "\tTile 1/1\n"
          ]
        },
        {
          "output_type": "stream",
          "name": "stderr",
          "text": [
            "\r 98%|█████████▊| 197/202 [32:10<00:44,  8.99s/it]"
          ]
        },
        {
          "output_type": "stream",
          "name": "stdout",
          "text": [
            "\tTile 1/1\n"
          ]
        },
        {
          "output_type": "stream",
          "name": "stderr",
          "text": [
            "\r 98%|█████████▊| 198/202 [32:19<00:35,  8.98s/it]"
          ]
        },
        {
          "output_type": "stream",
          "name": "stdout",
          "text": [
            "\tTile 1/1\n"
          ]
        },
        {
          "output_type": "stream",
          "name": "stderr",
          "text": [
            "\r 99%|█████████▊| 199/202 [32:33<00:31, 10.38s/it]"
          ]
        },
        {
          "output_type": "stream",
          "name": "stdout",
          "text": [
            "\tTile 1/1\n"
          ]
        },
        {
          "output_type": "stream",
          "name": "stderr",
          "text": [
            "\r 99%|█████████▉| 200/202 [32:46<00:22, 11.34s/it]"
          ]
        },
        {
          "output_type": "stream",
          "name": "stdout",
          "text": [
            "\tTile 1/1\n"
          ]
        },
        {
          "output_type": "stream",
          "name": "stderr",
          "text": [
            "100%|██████████| 202/202 [32:57<00:00,  9.79s/it]"
          ]
        },
        {
          "output_type": "stream",
          "name": "stdout",
          "text": [
            "\tTile 1/1\n",
            "LPIPS of our model 0.25606406\n"
          ]
        },
        {
          "output_type": "stream",
          "name": "stderr",
          "text": [
            "\n"
          ]
        }
      ]
    },
    {
      "cell_type": "code",
      "source": [
        "import lpips\n",
        "from skimage.transform import resize\n",
        "from numpy import cov\n",
        "from numpy import trace\n",
        "from numpy import iscomplexobj\n",
        "from numpy import asarray\n",
        "from numpy.random import randint\n",
        "from scipy.linalg import sqrtm\n",
        "import tqdm\n",
        "\n",
        "loss_fn_vgg = lpips.LPIPS(net='vgg') \n",
        "arch = 'og'\n",
        "channel_multiplier = 2\n",
        "model_name = 'GFPGANCleanv1-NoCE-C2'\n",
        "url = 'https://github.com/TencentARC/GFPGAN/releases/download/v0.2.0/GFPGANCleanv1-NoCE-C2.pth'\n",
        "gfpgan = GFPGAN(\n",
        "        model_path=url,\n",
        "        upscale=2,\n",
        "        arch=arch,\n",
        "        channel_multiplier=channel_multiplier,\n",
        "        bg_upsampler=None)\n",
        "\n",
        "def calculate_lpips(loss_fn_vgg, images1, images2):\n",
        "  loss = loss_fn_vgg(lpips.im2tensor(images1), lpips.im2tensor(images2))\n",
        "  \n",
        "  return loss\n",
        "def scale_images(images, new_shape):\n",
        "\timages_list = list()\n",
        "\tfor image in images:\n",
        "\t\t# resize with nearest neighbor interpolation\n",
        "\t\tnew_image = resize(image, new_shape, 0)\n",
        "\t\t# store\n",
        "\t\timages_list.append(new_image)\n",
        "\treturn asarray(images_list)\n",
        "\n",
        "lpips_losses_og = []\n",
        "\n",
        "for i in tqdm.tqdm(stack[int(len(stack)*0.99):]):\n",
        "  img0 = gfpgan.infer(i[0])\n",
        "  img2 = cv2.resize(i[1],(img0.shape[1],img0.shape[0]))\n",
        "  lss = calculate_lpips(loss_fn_vgg,img0,img2)\n",
        "\n",
        "  lpips_losses_og.append(lss)\n",
        "print(\"LPIPS of original model\",np.mean(np.array([i.detach().numpy() for i in lpips_losses_og ] )))\n"
      ],
      "metadata": {
        "colab": {
          "base_uri": "https://localhost:8080/"
        },
        "id": "S7C2khy3ZQKq",
        "outputId": "2fda0c27-1d80-4726-b7ed-e85dcacbd2ac"
      },
      "execution_count": null,
      "outputs": [
        {
          "output_type": "stream",
          "name": "stdout",
          "text": [
            "Setting up [LPIPS] perceptual loss: trunk [vgg], v[0.1], spatial [off]\n",
            "Loading model from: /usr/local/lib/python3.10/dist-packages/lpips/weights/v0.1/vgg.pth\n",
            "Downloading: \"https://github.com/TencentARC/GFPGAN/releases/download/v0.2.0/GFPGANCleanv1-NoCE-C2.pth\" to /content/gfpgan/weights/GFPGANCleanv1-NoCE-C2.pth\n",
            "\n"
          ]
        },
        {
          "output_type": "stream",
          "name": "stderr",
          "text": [
            "100%|██████████| 332M/332M [00:06<00:00, 51.1MB/s]\n",
            "100%|██████████| 202/202 [28:42<00:00,  8.53s/it]"
          ]
        },
        {
          "output_type": "stream",
          "name": "stdout",
          "text": [
            "LPIPS of our model 0.25606406\n"
          ]
        },
        {
          "output_type": "stream",
          "name": "stderr",
          "text": [
            "\n"
          ]
        }
      ]
    },
    {
      "cell_type": "code",
      "source": [
        "print(\"LPIPS of our model\",np.mean(np.array([i.detach().numpy() for i in lpips_losses ] )))\n",
        "print(\"LPIPS of original model\",np.mean(np.array([i.detach().numpy() for i in lpips_losses_og ])))"
      ],
      "metadata": {
        "colab": {
          "base_uri": "https://localhost:8080/"
        },
        "id": "o6rx44eRB1SE",
        "outputId": "13743542-61b6-4fcf-c882-1358e7e3d7ca"
      },
      "execution_count": null,
      "outputs": [
        {
          "output_type": "stream",
          "name": "stdout",
          "text": [
            "LPIPS of our model 0.26242232\n",
            "LPIPS of original model 0.30109927\n"
          ]
        }
      ]
    },
    {
      "cell_type": "markdown",
      "source": [
        "calculate SSIM"
      ],
      "metadata": {
        "id": "qu_RfB52CX91"
      }
    },
    {
      "cell_type": "code",
      "source": [
        "\n",
        "from skimage.transform import resize\n",
        "from numpy import cov\n",
        "from numpy import trace\n",
        "from numpy import iscomplexobj\n",
        "from numpy import asarray\n",
        "from numpy.random import randint\n",
        "from scipy.linalg import sqrtm\n",
        "import tqdm\n",
        "from keras.preprocessing import image\n",
        "from skimage.metrics import structural_similarity as  ssim\n",
        "\n",
        "arch = 'og'\n",
        "channel_multiplier = 2\n",
        "model_name = 'GFPGANCleanv1-NoCE-C2'\n",
        "url = 'https://github.com/TencentARC/GFPGAN/releases/download/v0.2.0/GFPGANCleanv1-NoCE-C2.pth'\n",
        "gfpgan = GFPGAN(\n",
        "        model_path=url,\n",
        "        upscale=2,\n",
        "        arch=arch,\n",
        "        channel_multiplier=channel_multiplier,\n",
        "        bg_upsampler=None)\n",
        "\n",
        "def calculate_ssim(images1, images2):\n",
        "  loss = ssim(images1, images2, win_size=1,use_sample_covariance=False,  )\n",
        "#  print(loss)\n",
        "  return loss\n",
        "\n",
        "def scale_images(images, new_shape):\n",
        "\timages_list = list()\n",
        "\tfor image in images:\n",
        "\t\t# resize with nearest neighbor interpolation\n",
        "\t\tnew_image = resize(image, new_shape, 0)\n",
        "\t\t# store\n",
        "\t\timages_list.append(new_image)\n",
        "\treturn asarray(images_list)\n",
        "\n",
        "ssim_losses = []\n",
        "ssim_losses_og = []\n",
        "\n",
        "for i in tqdm.tqdm(stack[int(len(stack)*0.99):]):\n",
        "  img0 = gfpgan.infer(i[0])\n",
        "  img1 = restorer.infer(i[0])\n",
        "  img2 = cv2.resize(i[1],(img0.shape[1],img0.shape[0]))\n",
        "  ls = calculate_ssim(img1,img2)\n",
        "  lss = calculate_ssim(img0,img2)\n",
        "  \n",
        "  ssim_losses.append(ls)\n",
        "  ssim_losses_og.append(lss)\n",
        "print(\"ssim of our model\",np.mean(np.array(ssim_losses)))\n",
        "print(\"ssim of original model\",np.mean(np.array(ssim_losses_og)))\n",
        "\n"
      ],
      "metadata": {
        "id": "PQCFOBaNs11T",
        "colab": {
          "base_uri": "https://localhost:8080/",
          "height": 1000
        },
        "outputId": "9fbe35b7-f697-4c5f-b448-67fb609cab5a"
      },
      "execution_count": null,
      "outputs": [
        {
          "metadata": {
            "tags": null
          },
          "name": "stderr",
          "output_type": "stream",
          "text": [
            "\r  0%|          | 0/203 [00:00<?, ?it/s]"
          ]
        },
        {
          "metadata": {
            "tags": null
          },
          "name": "stdout",
          "output_type": "stream",
          "text": [
            "\tTile 1/1\n"
          ]
        },
        {
          "metadata": {
            "tags": null
          },
          "name": "stderr",
          "output_type": "stream",
          "text": [
            "\r  0%|          | 1/203 [00:23<1:17:56, 23.15s/it]"
          ]
        },
        {
          "metadata": {
            "tags": null
          },
          "name": "stdout",
          "output_type": "stream",
          "text": [
            "\tTile 1/1\n"
          ]
        },
        {
          "metadata": {
            "tags": null
          },
          "name": "stderr",
          "output_type": "stream",
          "text": [
            "\r  1%|          | 2/203 [00:50<1:25:17, 25.46s/it]"
          ]
        },
        {
          "metadata": {
            "tags": null
          },
          "name": "stdout",
          "output_type": "stream",
          "text": [
            "\tTile 1/1\n"
          ]
        },
        {
          "metadata": {
            "tags": null
          },
          "name": "stderr",
          "output_type": "stream",
          "text": [
            "\r  1%|▏         | 3/203 [01:14<1:23:47, 25.14s/it]"
          ]
        },
        {
          "metadata": {
            "tags": null
          },
          "name": "stdout",
          "output_type": "stream",
          "text": [
            "\tTile 1/1\n"
          ]
        },
        {
          "metadata": {
            "tags": null
          },
          "name": "stderr",
          "output_type": "stream",
          "text": [
            "\r  2%|▏         | 4/203 [01:37<1:20:22, 24.23s/it]"
          ]
        },
        {
          "metadata": {
            "tags": null
          },
          "name": "stdout",
          "output_type": "stream",
          "text": [
            "\tTile 1/1\n"
          ]
        },
        {
          "metadata": {
            "tags": null
          },
          "name": "stderr",
          "output_type": "stream",
          "text": [
            "\r  2%|▏         | 5/203 [02:01<1:19:18, 24.03s/it]"
          ]
        },
        {
          "metadata": {
            "tags": null
          },
          "name": "stdout",
          "output_type": "stream",
          "text": [
            "\tTile 1/1\n"
          ]
        },
        {
          "metadata": {
            "tags": null
          },
          "name": "stderr",
          "output_type": "stream",
          "text": [
            "\r  3%|▎         | 6/203 [02:23<1:17:10, 23.51s/it]"
          ]
        },
        {
          "metadata": {
            "tags": null
          },
          "name": "stdout",
          "output_type": "stream",
          "text": [
            "\tTile 1/1\n"
          ]
        },
        {
          "metadata": {
            "tags": null
          },
          "name": "stderr",
          "output_type": "stream",
          "text": [
            "\r  3%|▎         | 7/203 [02:51<1:20:51, 24.75s/it]"
          ]
        },
        {
          "metadata": {
            "tags": null
          },
          "name": "stdout",
          "output_type": "stream",
          "text": [
            "\tTile 1/1\n"
          ]
        },
        {
          "metadata": {
            "tags": null
          },
          "name": "stderr",
          "output_type": "stream",
          "text": [
            "\r  4%|▍         | 8/203 [03:18<1:23:16, 25.62s/it]"
          ]
        },
        {
          "metadata": {
            "tags": null
          },
          "name": "stdout",
          "output_type": "stream",
          "text": [
            "\tTile 1/1\n"
          ]
        },
        {
          "metadata": {
            "tags": null
          },
          "name": "stderr",
          "output_type": "stream",
          "text": [
            "\r  4%|▍         | 9/203 [03:42<1:21:00, 25.05s/it]"
          ]
        },
        {
          "metadata": {
            "tags": null
          },
          "name": "stdout",
          "output_type": "stream",
          "text": [
            "\tTile 1/1\n"
          ]
        },
        {
          "metadata": {
            "tags": null
          },
          "name": "stderr",
          "output_type": "stream",
          "text": [
            "\r  5%|▍         | 10/203 [04:05<1:18:07, 24.29s/it]"
          ]
        },
        {
          "metadata": {
            "tags": null
          },
          "name": "stdout",
          "output_type": "stream",
          "text": [
            "\tTile 1/1\n"
          ]
        },
        {
          "metadata": {
            "tags": null
          },
          "name": "stderr",
          "output_type": "stream",
          "text": [
            "\r  5%|▌         | 11/203 [04:32<1:20:35, 25.19s/it]"
          ]
        },
        {
          "metadata": {
            "tags": null
          },
          "name": "stdout",
          "output_type": "stream",
          "text": [
            "\tTile 1/1\n"
          ]
        },
        {
          "metadata": {
            "tags": null
          },
          "name": "stderr",
          "output_type": "stream",
          "text": [
            "\r  6%|▌         | 12/203 [04:56<1:18:53, 24.78s/it]"
          ]
        },
        {
          "metadata": {
            "tags": null
          },
          "name": "stdout",
          "output_type": "stream",
          "text": [
            "\tTile 1/1\n"
          ]
        },
        {
          "metadata": {
            "tags": null
          },
          "name": "stderr",
          "output_type": "stream",
          "text": [
            "\r  6%|▋         | 13/203 [05:23<1:20:37, 25.46s/it]"
          ]
        },
        {
          "metadata": {
            "tags": null
          },
          "name": "stdout",
          "output_type": "stream",
          "text": [
            "\tTile 1/1\n"
          ]
        },
        {
          "metadata": {
            "tags": null
          },
          "name": "stderr",
          "output_type": "stream",
          "text": [
            "  7%|▋         | 15/203 [05:50<57:24, 18.32s/it]  "
          ]
        },
        {
          "metadata": {
            "tags": null
          },
          "name": "stdout",
          "output_type": "stream",
          "text": [
            "\tTile 1/1\n",
            "\tTile 1/1\n"
          ]
        },
        {
          "metadata": {
            "tags": null
          },
          "name": "stderr",
          "output_type": "stream",
          "text": [
            "\r  8%|▊         | 16/203 [06:14<1:02:03, 19.91s/it]"
          ]
        },
        {
          "metadata": {
            "tags": null
          },
          "name": "stdout",
          "output_type": "stream",
          "text": [
            "\tTile 1/1\n"
          ]
        },
        {
          "metadata": {
            "tags": null
          },
          "name": "stderr",
          "output_type": "stream",
          "text": [
            "\r  8%|▊         | 17/203 [06:39<1:06:09, 21.34s/it]"
          ]
        },
        {
          "metadata": {
            "tags": null
          },
          "name": "stdout",
          "output_type": "stream",
          "text": [
            "\tTile 1/1\n"
          ]
        },
        {
          "metadata": {
            "tags": null
          },
          "name": "stderr",
          "output_type": "stream",
          "text": [
            "\r  9%|▉         | 18/203 [07:03<1:08:18, 22.15s/it]"
          ]
        },
        {
          "metadata": {
            "tags": null
          },
          "name": "stdout",
          "output_type": "stream",
          "text": [
            "\tTile 1/1\n"
          ]
        },
        {
          "metadata": {
            "tags": null
          },
          "name": "stderr",
          "output_type": "stream",
          "text": [
            " 10%|▉         | 20/203 [07:27<48:30, 15.91s/it]  "
          ]
        },
        {
          "metadata": {
            "tags": null
          },
          "name": "stdout",
          "output_type": "stream",
          "text": [
            "\tTile 1/1\n",
            "\tTile 1/1\n"
          ]
        },
        {
          "metadata": {
            "tags": null
          },
          "name": "stderr",
          "output_type": "stream",
          "text": [
            "\r 10%|█         | 21/203 [07:51<55:47, 18.39s/it]"
          ]
        },
        {
          "metadata": {
            "tags": null
          },
          "name": "stdout",
          "output_type": "stream",
          "text": [
            "\tTile 1/1\n"
          ]
        },
        {
          "metadata": {
            "tags": null
          },
          "name": "stderr",
          "output_type": "stream",
          "text": [
            "\r 11%|█         | 22/203 [08:15<1:00:35, 20.09s/it]"
          ]
        },
        {
          "metadata": {
            "tags": null
          },
          "name": "stdout",
          "output_type": "stream",
          "text": [
            "\tTile 1/1\n"
          ]
        },
        {
          "metadata": {
            "tags": null
          },
          "name": "stderr",
          "output_type": "stream",
          "text": [
            "\r 11%|█▏        | 23/203 [08:38<1:03:07, 21.04s/it]"
          ]
        },
        {
          "metadata": {
            "tags": null
          },
          "name": "stdout",
          "output_type": "stream",
          "text": [
            "\tTile 1/1\n"
          ]
        },
        {
          "metadata": {
            "tags": null
          },
          "name": "stderr",
          "output_type": "stream",
          "text": [
            "\r 12%|█▏        | 24/203 [09:06<1:08:46, 23.05s/it]"
          ]
        },
        {
          "metadata": {
            "tags": null
          },
          "name": "stdout",
          "output_type": "stream",
          "text": [
            "\tTile 1/1\n"
          ]
        },
        {
          "metadata": {
            "tags": null
          },
          "name": "stderr",
          "output_type": "stream",
          "text": [
            "\r 12%|█▏        | 25/203 [09:33<1:12:33, 24.46s/it]"
          ]
        },
        {
          "metadata": {
            "tags": null
          },
          "name": "stdout",
          "output_type": "stream",
          "text": [
            "\tTile 1/1\n"
          ]
        },
        {
          "metadata": {
            "tags": null
          },
          "name": "stderr",
          "output_type": "stream",
          "text": [
            "\r 13%|█▎        | 26/203 [09:57<1:11:24, 24.21s/it]"
          ]
        },
        {
          "metadata": {
            "tags": null
          },
          "name": "stdout",
          "output_type": "stream",
          "text": [
            "\tTile 1/1\n"
          ]
        },
        {
          "metadata": {
            "tags": null
          },
          "name": "stderr",
          "output_type": "stream",
          "text": [
            "\r 13%|█▎        | 27/203 [10:24<1:13:19, 25.00s/it]"
          ]
        },
        {
          "metadata": {
            "tags": null
          },
          "name": "stdout",
          "output_type": "stream",
          "text": [
            "\tTile 1/1\n"
          ]
        },
        {
          "metadata": {
            "tags": null
          },
          "name": "stderr",
          "output_type": "stream",
          "text": [
            "\r 14%|█▍        | 28/203 [10:48<1:12:14, 24.77s/it]"
          ]
        },
        {
          "metadata": {
            "tags": null
          },
          "name": "stdout",
          "output_type": "stream",
          "text": [
            "\tTile 1/1\n"
          ]
        },
        {
          "metadata": {
            "tags": null
          },
          "name": "stderr",
          "output_type": "stream",
          "text": [
            "\r 14%|█▍        | 29/203 [11:12<1:11:22, 24.61s/it]"
          ]
        },
        {
          "metadata": {
            "tags": null
          },
          "name": "stdout",
          "output_type": "stream",
          "text": [
            "\tTile 1/1\n"
          ]
        },
        {
          "metadata": {
            "tags": null
          },
          "name": "stderr",
          "output_type": "stream",
          "text": [
            "\r 15%|█▍        | 30/203 [11:35<1:09:08, 23.98s/it]"
          ]
        },
        {
          "output_type": "stream",
          "name": "stdout",
          "text": [
            "\tTile 1/1\n"
          ]
        },
        {
          "output_type": "stream",
          "name": "stderr",
          "text": [
            "\r 15%|█▌        | 31/203 [12:14<1:21:34, 28.46s/it]"
          ]
        },
        {
          "output_type": "stream",
          "name": "stdout",
          "text": [
            "\tTile 1/1\n"
          ]
        },
        {
          "output_type": "stream",
          "name": "stderr",
          "text": [
            "\r 16%|█▌        | 32/203 [12:37<1:16:22, 26.80s/it]"
          ]
        },
        {
          "output_type": "stream",
          "name": "stdout",
          "text": [
            "\tTile 1/1\n"
          ]
        },
        {
          "output_type": "stream",
          "name": "stderr",
          "text": [
            "\r 16%|█▋        | 33/203 [13:04<1:16:34, 27.03s/it]"
          ]
        },
        {
          "output_type": "stream",
          "name": "stdout",
          "text": [
            "\tTile 1/1\n"
          ]
        },
        {
          "output_type": "stream",
          "name": "stderr",
          "text": [
            "\r 17%|█▋        | 34/203 [13:32<1:16:30, 27.16s/it]"
          ]
        },
        {
          "output_type": "stream",
          "name": "stdout",
          "text": [
            "\tTile 1/1\n"
          ]
        },
        {
          "output_type": "stream",
          "name": "stderr",
          "text": [
            "\r 17%|█▋        | 35/203 [14:00<1:16:45, 27.42s/it]"
          ]
        },
        {
          "output_type": "stream",
          "name": "stdout",
          "text": [
            "\tTile 1/1\n"
          ]
        },
        {
          "output_type": "stream",
          "name": "stderr",
          "text": [
            "\r 18%|█▊        | 36/203 [14:25<1:14:06, 26.63s/it]"
          ]
        },
        {
          "output_type": "stream",
          "name": "stdout",
          "text": [
            "\tTile 1/1\n"
          ]
        },
        {
          "output_type": "stream",
          "name": "stderr",
          "text": [
            "\r 18%|█▊        | 37/203 [14:52<1:13:58, 26.74s/it]"
          ]
        },
        {
          "output_type": "stream",
          "name": "stdout",
          "text": [
            "\tTile 1/1\n"
          ]
        },
        {
          "output_type": "stream",
          "name": "stderr",
          "text": [
            "\r 19%|█▊        | 38/203 [15:16<1:11:27, 25.98s/it]"
          ]
        },
        {
          "output_type": "stream",
          "name": "stdout",
          "text": [
            "\tTile 1/1\n"
          ]
        },
        {
          "output_type": "stream",
          "name": "stderr",
          "text": [
            "\r 19%|█▉        | 39/203 [15:40<1:09:27, 25.41s/it]"
          ]
        },
        {
          "output_type": "stream",
          "name": "stdout",
          "text": [
            "\tTile 1/1\n"
          ]
        },
        {
          "output_type": "stream",
          "name": "stderr",
          "text": [
            "\r 20%|█▉        | 40/203 [16:04<1:07:39, 24.91s/it]"
          ]
        },
        {
          "output_type": "stream",
          "name": "stdout",
          "text": [
            "\tTile 1/1\n"
          ]
        },
        {
          "output_type": "stream",
          "name": "stderr",
          "text": [
            "\r 20%|██        | 41/203 [16:28<1:06:45, 24.73s/it]"
          ]
        },
        {
          "output_type": "stream",
          "name": "stdout",
          "text": [
            "\tTile 1/1\n"
          ]
        },
        {
          "output_type": "stream",
          "name": "stderr",
          "text": [
            "\r 21%|██        | 42/203 [16:55<1:08:18, 25.45s/it]"
          ]
        },
        {
          "output_type": "stream",
          "name": "stdout",
          "text": [
            "\tTile 1/1\n"
          ]
        },
        {
          "output_type": "stream",
          "name": "stderr",
          "text": [
            "\r 21%|██        | 43/203 [17:19<1:06:35, 24.97s/it]"
          ]
        },
        {
          "output_type": "stream",
          "name": "stdout",
          "text": [
            "\tTile 1/1\n"
          ]
        },
        {
          "output_type": "stream",
          "name": "stderr",
          "text": [
            "\r 22%|██▏       | 44/203 [17:42<1:04:28, 24.33s/it]"
          ]
        },
        {
          "output_type": "stream",
          "name": "stdout",
          "text": [
            "\tTile 1/1\n"
          ]
        },
        {
          "output_type": "stream",
          "name": "stderr",
          "text": [
            "\r 22%|██▏       | 45/203 [18:06<1:04:16, 24.41s/it]"
          ]
        },
        {
          "output_type": "stream",
          "name": "stdout",
          "text": [
            "\tTile 1/1\n"
          ]
        },
        {
          "output_type": "stream",
          "name": "stderr",
          "text": [
            " 23%|██▎       | 47/203 [18:31<44:54, 17.27s/it]  "
          ]
        },
        {
          "output_type": "stream",
          "name": "stdout",
          "text": [
            "\tTile 1/1\n",
            "\tTile 1/1\n"
          ]
        },
        {
          "output_type": "stream",
          "name": "stderr",
          "text": [
            "\r 24%|██▎       | 48/203 [18:55<49:48, 19.28s/it]"
          ]
        },
        {
          "output_type": "stream",
          "name": "stdout",
          "text": [
            "\tTile 1/1\n"
          ]
        },
        {
          "output_type": "stream",
          "name": "stderr",
          "text": [
            "\r 24%|██▍       | 49/203 [19:19<52:49, 20.58s/it]"
          ]
        },
        {
          "output_type": "stream",
          "name": "stdout",
          "text": [
            "\tTile 1/1\n"
          ]
        },
        {
          "output_type": "stream",
          "name": "stderr",
          "text": [
            " 25%|██▌       | 51/203 [19:48<41:48, 16.50s/it]"
          ]
        },
        {
          "output_type": "stream",
          "name": "stdout",
          "text": [
            "\tTile 1/1\n",
            "\tTile 1/1\n"
          ]
        },
        {
          "output_type": "stream",
          "name": "stderr",
          "text": [
            "\r 26%|██▌       | 52/203 [20:15<49:42, 19.75s/it]"
          ]
        },
        {
          "output_type": "stream",
          "name": "stdout",
          "text": [
            "\tTile 1/1\n"
          ]
        },
        {
          "output_type": "stream",
          "name": "stderr",
          "text": [
            "\r 26%|██▌       | 53/203 [20:42<55:01, 22.01s/it]"
          ]
        },
        {
          "output_type": "stream",
          "name": "stdout",
          "text": [
            "\tTile 1/1\n"
          ]
        },
        {
          "output_type": "stream",
          "name": "stderr",
          "text": [
            "\r 27%|██▋       | 54/203 [21:07<56:28, 22.74s/it]"
          ]
        },
        {
          "output_type": "stream",
          "name": "stdout",
          "text": [
            "\tTile 1/1\n"
          ]
        },
        {
          "output_type": "stream",
          "name": "stderr",
          "text": [
            "\r 27%|██▋       | 55/203 [21:31<57:19, 23.24s/it]"
          ]
        },
        {
          "output_type": "stream",
          "name": "stdout",
          "text": [
            "\tTile 1/1\n"
          ]
        },
        {
          "output_type": "stream",
          "name": "stderr",
          "text": [
            "\r 28%|██▊       | 56/203 [21:56<57:48, 23.59s/it]"
          ]
        },
        {
          "output_type": "stream",
          "name": "stdout",
          "text": [
            "\tTile 1/1\n"
          ]
        },
        {
          "output_type": "stream",
          "name": "stderr",
          "text": [
            "\r 28%|██▊       | 57/203 [22:19<57:02, 23.44s/it]"
          ]
        },
        {
          "output_type": "stream",
          "name": "stdout",
          "text": [
            "\tTile 1/1\n"
          ]
        },
        {
          "output_type": "stream",
          "name": "stderr",
          "text": [
            "\r 29%|██▊       | 58/203 [22:46<59:37, 24.67s/it]"
          ]
        },
        {
          "output_type": "stream",
          "name": "stdout",
          "text": [
            "\tTile 1/1\n"
          ]
        },
        {
          "output_type": "stream",
          "name": "stderr",
          "text": [
            "\r 29%|██▉       | 59/203 [23:14<1:01:10, 25.49s/it]"
          ]
        },
        {
          "output_type": "stream",
          "name": "stdout",
          "text": [
            "\tTile 1/1\n"
          ]
        },
        {
          "output_type": "stream",
          "name": "stderr",
          "text": [
            "\r 30%|██▉       | 60/203 [23:41<1:02:24, 26.19s/it]"
          ]
        },
        {
          "output_type": "stream",
          "name": "stdout",
          "text": [
            "\tTile 1/1\n"
          ]
        },
        {
          "output_type": "stream",
          "name": "stderr",
          "text": [
            "\r 30%|███       | 61/203 [24:06<1:00:52, 25.72s/it]"
          ]
        },
        {
          "output_type": "stream",
          "name": "stdout",
          "text": [
            "\tTile 1/1\n"
          ]
        },
        {
          "output_type": "stream",
          "name": "stderr",
          "text": [
            "\r 31%|███       | 62/203 [24:31<59:59, 25.53s/it]  "
          ]
        },
        {
          "output_type": "stream",
          "name": "stdout",
          "text": [
            "\tTile 1/1\n"
          ]
        },
        {
          "output_type": "stream",
          "name": "stderr",
          "text": [
            "\r 31%|███       | 63/203 [24:59<1:01:17, 26.27s/it]"
          ]
        },
        {
          "output_type": "stream",
          "name": "stdout",
          "text": [
            "\tTile 1/1\n"
          ]
        },
        {
          "output_type": "stream",
          "name": "stderr",
          "text": [
            "\r 32%|███▏      | 64/203 [25:23<59:09, 25.54s/it]  "
          ]
        },
        {
          "output_type": "stream",
          "name": "stdout",
          "text": [
            "\tTile 1/1\n"
          ]
        },
        {
          "output_type": "stream",
          "name": "stderr",
          "text": [
            "\r 32%|███▏      | 65/203 [25:48<58:18, 25.36s/it]"
          ]
        },
        {
          "output_type": "stream",
          "name": "stdout",
          "text": [
            "\tTile 1/1\n"
          ]
        },
        {
          "output_type": "stream",
          "name": "stderr",
          "text": [
            "\r 33%|███▎      | 66/203 [26:12<57:20, 25.12s/it]"
          ]
        },
        {
          "output_type": "stream",
          "name": "stdout",
          "text": [
            "\tTile 1/1\n"
          ]
        },
        {
          "output_type": "stream",
          "name": "stderr",
          "text": [
            "\r 33%|███▎      | 67/203 [26:38<57:11, 25.23s/it]"
          ]
        },
        {
          "output_type": "stream",
          "name": "stdout",
          "text": [
            "\tTile 1/1\n"
          ]
        },
        {
          "output_type": "stream",
          "name": "stderr",
          "text": [
            "\r 33%|███▎      | 68/203 [27:03<56:39, 25.18s/it]"
          ]
        },
        {
          "output_type": "stream",
          "name": "stdout",
          "text": [
            "\tTile 1/1\n"
          ]
        },
        {
          "output_type": "stream",
          "name": "stderr",
          "text": [
            "\r 34%|███▍      | 69/203 [27:26<54:48, 24.54s/it]"
          ]
        },
        {
          "output_type": "stream",
          "name": "stdout",
          "text": [
            "\tTile 1/1\n"
          ]
        },
        {
          "output_type": "stream",
          "name": "stderr",
          "text": [
            "\r 34%|███▍      | 70/203 [27:51<54:25, 24.55s/it]"
          ]
        },
        {
          "output_type": "stream",
          "name": "stdout",
          "text": [
            "\tTile 1/1\n"
          ]
        },
        {
          "output_type": "stream",
          "name": "stderr",
          "text": [
            "\r 34%|███▍      | 70/203 [28:10<53:31, 24.15s/it]\n"
          ]
        },
        {
          "output_type": "error",
          "ename": "KeyboardInterrupt",
          "evalue": "ignored",
          "traceback": [
            "\u001b[0;31m---------------------------------------------------------------------------\u001b[0m",
            "\u001b[0;31mKeyboardInterrupt\u001b[0m                         Traceback (most recent call last)",
            "\u001b[0;32m<ipython-input-24-8591bda9db7b>\u001b[0m in \u001b[0;36m<cell line: 40>\u001b[0;34m()\u001b[0m\n\u001b[1;32m     40\u001b[0m \u001b[0;32mfor\u001b[0m \u001b[0mi\u001b[0m \u001b[0;32min\u001b[0m \u001b[0mtqdm\u001b[0m\u001b[0;34m.\u001b[0m\u001b[0mtqdm\u001b[0m\u001b[0;34m(\u001b[0m\u001b[0mstack\u001b[0m\u001b[0;34m[\u001b[0m\u001b[0mint\u001b[0m\u001b[0;34m(\u001b[0m\u001b[0mlen\u001b[0m\u001b[0;34m(\u001b[0m\u001b[0mstack\u001b[0m\u001b[0;34m)\u001b[0m\u001b[0;34m*\u001b[0m\u001b[0;36m0.99\u001b[0m\u001b[0;34m)\u001b[0m\u001b[0;34m:\u001b[0m\u001b[0;34m]\u001b[0m\u001b[0;34m)\u001b[0m\u001b[0;34m:\u001b[0m\u001b[0;34m\u001b[0m\u001b[0;34m\u001b[0m\u001b[0m\n\u001b[1;32m     41\u001b[0m   \u001b[0mimg0\u001b[0m \u001b[0;34m=\u001b[0m \u001b[0mgfpgan\u001b[0m\u001b[0;34m.\u001b[0m\u001b[0minfer\u001b[0m\u001b[0;34m(\u001b[0m\u001b[0mi\u001b[0m\u001b[0;34m[\u001b[0m\u001b[0;36m0\u001b[0m\u001b[0;34m]\u001b[0m\u001b[0;34m)\u001b[0m\u001b[0;34m\u001b[0m\u001b[0;34m\u001b[0m\u001b[0m\n\u001b[0;32m---> 42\u001b[0;31m   \u001b[0mimg1\u001b[0m \u001b[0;34m=\u001b[0m \u001b[0mrestorer\u001b[0m\u001b[0;34m.\u001b[0m\u001b[0minfer\u001b[0m\u001b[0;34m(\u001b[0m\u001b[0mi\u001b[0m\u001b[0;34m[\u001b[0m\u001b[0;36m0\u001b[0m\u001b[0;34m]\u001b[0m\u001b[0;34m)\u001b[0m\u001b[0;34m\u001b[0m\u001b[0;34m\u001b[0m\u001b[0m\n\u001b[0m\u001b[1;32m     43\u001b[0m   \u001b[0mimg2\u001b[0m \u001b[0;34m=\u001b[0m \u001b[0mcv2\u001b[0m\u001b[0;34m.\u001b[0m\u001b[0mresize\u001b[0m\u001b[0;34m(\u001b[0m\u001b[0mi\u001b[0m\u001b[0;34m[\u001b[0m\u001b[0;36m1\u001b[0m\u001b[0;34m]\u001b[0m\u001b[0;34m,\u001b[0m\u001b[0;34m(\u001b[0m\u001b[0mimg0\u001b[0m\u001b[0;34m.\u001b[0m\u001b[0mshape\u001b[0m\u001b[0;34m[\u001b[0m\u001b[0;36m1\u001b[0m\u001b[0;34m]\u001b[0m\u001b[0;34m,\u001b[0m\u001b[0mimg0\u001b[0m\u001b[0;34m.\u001b[0m\u001b[0mshape\u001b[0m\u001b[0;34m[\u001b[0m\u001b[0;36m0\u001b[0m\u001b[0;34m]\u001b[0m\u001b[0;34m)\u001b[0m\u001b[0;34m)\u001b[0m\u001b[0;34m\u001b[0m\u001b[0;34m\u001b[0m\u001b[0m\n\u001b[1;32m     44\u001b[0m   \u001b[0mls\u001b[0m \u001b[0;34m=\u001b[0m \u001b[0mcalculate_ssim\u001b[0m\u001b[0;34m(\u001b[0m\u001b[0mimg1\u001b[0m\u001b[0;34m,\u001b[0m\u001b[0mimg2\u001b[0m\u001b[0;34m)\u001b[0m\u001b[0;34m\u001b[0m\u001b[0;34m\u001b[0m\u001b[0m\n",
            "\u001b[0;32m<ipython-input-8-c394c7631197>\u001b[0m in \u001b[0;36minfer\u001b[0;34m(self, img)\u001b[0m\n\u001b[1;32m    131\u001b[0m             \u001b[0;32mreturn\u001b[0m \u001b[0mself\u001b[0m\u001b[0;34m.\u001b[0m\u001b[0mface_helper\u001b[0m\u001b[0;34m.\u001b[0m\u001b[0mcropped_faces\u001b[0m\u001b[0;34m,\u001b[0m \u001b[0mself\u001b[0m\u001b[0;34m.\u001b[0m\u001b[0mface_helper\u001b[0m\u001b[0;34m.\u001b[0m\u001b[0mrestored_faces\u001b[0m\u001b[0;34m,\u001b[0m \u001b[0;32mNone\u001b[0m\u001b[0;34m\u001b[0m\u001b[0;34m\u001b[0m\u001b[0m\n\u001b[1;32m    132\u001b[0m     \u001b[0;32mdef\u001b[0m \u001b[0minfer\u001b[0m\u001b[0;34m(\u001b[0m\u001b[0mself\u001b[0m\u001b[0;34m,\u001b[0m\u001b[0mimg\u001b[0m\u001b[0;34m)\u001b[0m\u001b[0;34m:\u001b[0m\u001b[0;34m\u001b[0m\u001b[0;34m\u001b[0m\u001b[0m\n\u001b[0;32m--> 133\u001b[0;31m       \u001b[0;32mreturn\u001b[0m \u001b[0mself\u001b[0m\u001b[0;34m.\u001b[0m\u001b[0menhance\u001b[0m\u001b[0;34m(\u001b[0m\u001b[0mimg\u001b[0m\u001b[0;34m)\u001b[0m\u001b[0;34m[\u001b[0m\u001b[0;36m2\u001b[0m\u001b[0;34m]\u001b[0m\u001b[0;34m\u001b[0m\u001b[0;34m\u001b[0m\u001b[0m\n\u001b[0m\u001b[1;32m    134\u001b[0m \u001b[0;34m\u001b[0m\u001b[0m\n\u001b[1;32m    135\u001b[0m \u001b[0;34m\u001b[0m\u001b[0m\n",
            "\u001b[0;32m/usr/local/lib/python3.10/dist-packages/torch/utils/_contextlib.py\u001b[0m in \u001b[0;36mdecorate_context\u001b[0;34m(*args, **kwargs)\u001b[0m\n\u001b[1;32m    113\u001b[0m     \u001b[0;32mdef\u001b[0m \u001b[0mdecorate_context\u001b[0m\u001b[0;34m(\u001b[0m\u001b[0;34m*\u001b[0m\u001b[0margs\u001b[0m\u001b[0;34m,\u001b[0m \u001b[0;34m**\u001b[0m\u001b[0mkwargs\u001b[0m\u001b[0;34m)\u001b[0m\u001b[0;34m:\u001b[0m\u001b[0;34m\u001b[0m\u001b[0;34m\u001b[0m\u001b[0m\n\u001b[1;32m    114\u001b[0m         \u001b[0;32mwith\u001b[0m \u001b[0mctx_factory\u001b[0m\u001b[0;34m(\u001b[0m\u001b[0;34m)\u001b[0m\u001b[0;34m:\u001b[0m\u001b[0;34m\u001b[0m\u001b[0;34m\u001b[0m\u001b[0m\n\u001b[0;32m--> 115\u001b[0;31m             \u001b[0;32mreturn\u001b[0m \u001b[0mfunc\u001b[0m\u001b[0;34m(\u001b[0m\u001b[0;34m*\u001b[0m\u001b[0margs\u001b[0m\u001b[0;34m,\u001b[0m \u001b[0;34m**\u001b[0m\u001b[0mkwargs\u001b[0m\u001b[0;34m)\u001b[0m\u001b[0;34m\u001b[0m\u001b[0;34m\u001b[0m\u001b[0m\n\u001b[0m\u001b[1;32m    116\u001b[0m \u001b[0;34m\u001b[0m\u001b[0m\n\u001b[1;32m    117\u001b[0m     \u001b[0;32mreturn\u001b[0m \u001b[0mdecorate_context\u001b[0m\u001b[0;34m\u001b[0m\u001b[0;34m\u001b[0m\u001b[0m\n",
            "\u001b[0;32m<ipython-input-8-c394c7631197>\u001b[0m in \u001b[0;36menhance\u001b[0;34m(self, img, has_aligned, only_center_face, paste_back, weight)\u001b[0m\n\u001b[1;32m    126\u001b[0m             \u001b[0mself\u001b[0m\u001b[0;34m.\u001b[0m\u001b[0mface_helper\u001b[0m\u001b[0;34m.\u001b[0m\u001b[0mget_inverse_affine\u001b[0m\u001b[0;34m(\u001b[0m\u001b[0;32mNone\u001b[0m\u001b[0;34m)\u001b[0m\u001b[0;34m\u001b[0m\u001b[0;34m\u001b[0m\u001b[0m\n\u001b[1;32m    127\u001b[0m             \u001b[0;31m# paste each restored face to the input image\u001b[0m\u001b[0;34m\u001b[0m\u001b[0;34m\u001b[0m\u001b[0m\n\u001b[0;32m--> 128\u001b[0;31m             \u001b[0mrestored_img\u001b[0m \u001b[0;34m=\u001b[0m \u001b[0mself\u001b[0m\u001b[0;34m.\u001b[0m\u001b[0mface_helper\u001b[0m\u001b[0;34m.\u001b[0m\u001b[0mpaste_faces_to_input_image\u001b[0m\u001b[0;34m(\u001b[0m\u001b[0mupsample_img\u001b[0m\u001b[0;34m=\u001b[0m\u001b[0mbg_img\u001b[0m\u001b[0;34m)\u001b[0m\u001b[0;34m\u001b[0m\u001b[0;34m\u001b[0m\u001b[0m\n\u001b[0m\u001b[1;32m    129\u001b[0m             \u001b[0;32mreturn\u001b[0m \u001b[0mself\u001b[0m\u001b[0;34m.\u001b[0m\u001b[0mface_helper\u001b[0m\u001b[0;34m.\u001b[0m\u001b[0mcropped_faces\u001b[0m\u001b[0;34m,\u001b[0m \u001b[0mself\u001b[0m\u001b[0;34m.\u001b[0m\u001b[0mface_helper\u001b[0m\u001b[0;34m.\u001b[0m\u001b[0mrestored_faces\u001b[0m\u001b[0;34m,\u001b[0m \u001b[0mrestored_img\u001b[0m\u001b[0;34m\u001b[0m\u001b[0;34m\u001b[0m\u001b[0m\n\u001b[1;32m    130\u001b[0m         \u001b[0;32melse\u001b[0m\u001b[0;34m:\u001b[0m\u001b[0;34m\u001b[0m\u001b[0;34m\u001b[0m\u001b[0m\n",
            "\u001b[0;32m/usr/local/lib/python3.10/dist-packages/facexlib/utils/face_restoration_helper.py\u001b[0m in \u001b[0;36mpaste_faces_to_input_image\u001b[0;34m(self, save_path, upsample_img)\u001b[0m\n\u001b[1;32m    307\u001b[0m                 \u001b[0mface_input\u001b[0m \u001b[0;34m=\u001b[0m \u001b[0mtorch\u001b[0m\u001b[0;34m.\u001b[0m\u001b[0munsqueeze\u001b[0m\u001b[0;34m(\u001b[0m\u001b[0mface_input\u001b[0m\u001b[0;34m,\u001b[0m \u001b[0;36m0\u001b[0m\u001b[0;34m)\u001b[0m\u001b[0;34m.\u001b[0m\u001b[0mto\u001b[0m\u001b[0;34m(\u001b[0m\u001b[0mself\u001b[0m\u001b[0;34m.\u001b[0m\u001b[0mdevice\u001b[0m\u001b[0;34m)\u001b[0m\u001b[0;34m\u001b[0m\u001b[0;34m\u001b[0m\u001b[0m\n\u001b[1;32m    308\u001b[0m                 \u001b[0;32mwith\u001b[0m \u001b[0mtorch\u001b[0m\u001b[0;34m.\u001b[0m\u001b[0mno_grad\u001b[0m\u001b[0;34m(\u001b[0m\u001b[0;34m)\u001b[0m\u001b[0;34m:\u001b[0m\u001b[0;34m\u001b[0m\u001b[0;34m\u001b[0m\u001b[0m\n\u001b[0;32m--> 309\u001b[0;31m                     \u001b[0mout\u001b[0m \u001b[0;34m=\u001b[0m \u001b[0mself\u001b[0m\u001b[0;34m.\u001b[0m\u001b[0mface_parse\u001b[0m\u001b[0;34m(\u001b[0m\u001b[0mface_input\u001b[0m\u001b[0;34m)\u001b[0m\u001b[0;34m[\u001b[0m\u001b[0;36m0\u001b[0m\u001b[0;34m]\u001b[0m\u001b[0;34m\u001b[0m\u001b[0;34m\u001b[0m\u001b[0m\n\u001b[0m\u001b[1;32m    310\u001b[0m                 \u001b[0mout\u001b[0m \u001b[0;34m=\u001b[0m \u001b[0mout\u001b[0m\u001b[0;34m.\u001b[0m\u001b[0margmax\u001b[0m\u001b[0;34m(\u001b[0m\u001b[0mdim\u001b[0m\u001b[0;34m=\u001b[0m\u001b[0;36m1\u001b[0m\u001b[0;34m)\u001b[0m\u001b[0;34m.\u001b[0m\u001b[0msqueeze\u001b[0m\u001b[0;34m(\u001b[0m\u001b[0;34m)\u001b[0m\u001b[0;34m.\u001b[0m\u001b[0mcpu\u001b[0m\u001b[0;34m(\u001b[0m\u001b[0;34m)\u001b[0m\u001b[0;34m.\u001b[0m\u001b[0mnumpy\u001b[0m\u001b[0;34m(\u001b[0m\u001b[0;34m)\u001b[0m\u001b[0;34m\u001b[0m\u001b[0;34m\u001b[0m\u001b[0m\n\u001b[1;32m    311\u001b[0m \u001b[0;34m\u001b[0m\u001b[0m\n",
            "\u001b[0;32m/usr/local/lib/python3.10/dist-packages/torch/nn/modules/module.py\u001b[0m in \u001b[0;36m_call_impl\u001b[0;34m(self, *args, **kwargs)\u001b[0m\n\u001b[1;32m   1499\u001b[0m                 \u001b[0;32mor\u001b[0m \u001b[0m_global_backward_pre_hooks\u001b[0m \u001b[0;32mor\u001b[0m \u001b[0m_global_backward_hooks\u001b[0m\u001b[0;34m\u001b[0m\u001b[0;34m\u001b[0m\u001b[0m\n\u001b[1;32m   1500\u001b[0m                 or _global_forward_hooks or _global_forward_pre_hooks):\n\u001b[0;32m-> 1501\u001b[0;31m             \u001b[0;32mreturn\u001b[0m \u001b[0mforward_call\u001b[0m\u001b[0;34m(\u001b[0m\u001b[0;34m*\u001b[0m\u001b[0margs\u001b[0m\u001b[0;34m,\u001b[0m \u001b[0;34m**\u001b[0m\u001b[0mkwargs\u001b[0m\u001b[0;34m)\u001b[0m\u001b[0;34m\u001b[0m\u001b[0;34m\u001b[0m\u001b[0m\n\u001b[0m\u001b[1;32m   1502\u001b[0m         \u001b[0;31m# Do not call functions when jit is used\u001b[0m\u001b[0;34m\u001b[0m\u001b[0;34m\u001b[0m\u001b[0m\n\u001b[1;32m   1503\u001b[0m         \u001b[0mfull_backward_hooks\u001b[0m\u001b[0;34m,\u001b[0m \u001b[0mnon_full_backward_hooks\u001b[0m \u001b[0;34m=\u001b[0m \u001b[0;34m[\u001b[0m\u001b[0;34m]\u001b[0m\u001b[0;34m,\u001b[0m \u001b[0;34m[\u001b[0m\u001b[0;34m]\u001b[0m\u001b[0;34m\u001b[0m\u001b[0;34m\u001b[0m\u001b[0m\n",
            "\u001b[0;32m/usr/local/lib/python3.10/dist-packages/facexlib/parsing/parsenet.py\u001b[0m in \u001b[0;36mforward\u001b[0;34m(self, x)\u001b[0m\n\u001b[1;32m    187\u001b[0m \u001b[0;34m\u001b[0m\u001b[0m\n\u001b[1;32m    188\u001b[0m     \u001b[0;32mdef\u001b[0m \u001b[0mforward\u001b[0m\u001b[0;34m(\u001b[0m\u001b[0mself\u001b[0m\u001b[0;34m,\u001b[0m \u001b[0mx\u001b[0m\u001b[0;34m)\u001b[0m\u001b[0;34m:\u001b[0m\u001b[0;34m\u001b[0m\u001b[0;34m\u001b[0m\u001b[0m\n\u001b[0;32m--> 189\u001b[0;31m         \u001b[0mfeat\u001b[0m \u001b[0;34m=\u001b[0m \u001b[0mself\u001b[0m\u001b[0;34m.\u001b[0m\u001b[0mencoder\u001b[0m\u001b[0;34m(\u001b[0m\u001b[0mx\u001b[0m\u001b[0;34m)\u001b[0m\u001b[0;34m\u001b[0m\u001b[0;34m\u001b[0m\u001b[0m\n\u001b[0m\u001b[1;32m    190\u001b[0m         \u001b[0mx\u001b[0m \u001b[0;34m=\u001b[0m \u001b[0mfeat\u001b[0m \u001b[0;34m+\u001b[0m \u001b[0mself\u001b[0m\u001b[0;34m.\u001b[0m\u001b[0mbody\u001b[0m\u001b[0;34m(\u001b[0m\u001b[0mfeat\u001b[0m\u001b[0;34m)\u001b[0m\u001b[0;34m\u001b[0m\u001b[0;34m\u001b[0m\u001b[0m\n\u001b[1;32m    191\u001b[0m         \u001b[0mx\u001b[0m \u001b[0;34m=\u001b[0m \u001b[0mself\u001b[0m\u001b[0;34m.\u001b[0m\u001b[0mdecoder\u001b[0m\u001b[0;34m(\u001b[0m\u001b[0mx\u001b[0m\u001b[0;34m)\u001b[0m\u001b[0;34m\u001b[0m\u001b[0;34m\u001b[0m\u001b[0m\n",
            "\u001b[0;32m/usr/local/lib/python3.10/dist-packages/torch/nn/modules/module.py\u001b[0m in \u001b[0;36m_call_impl\u001b[0;34m(self, *args, **kwargs)\u001b[0m\n\u001b[1;32m   1499\u001b[0m                 \u001b[0;32mor\u001b[0m \u001b[0m_global_backward_pre_hooks\u001b[0m \u001b[0;32mor\u001b[0m \u001b[0m_global_backward_hooks\u001b[0m\u001b[0;34m\u001b[0m\u001b[0;34m\u001b[0m\u001b[0m\n\u001b[1;32m   1500\u001b[0m                 or _global_forward_hooks or _global_forward_pre_hooks):\n\u001b[0;32m-> 1501\u001b[0;31m             \u001b[0;32mreturn\u001b[0m \u001b[0mforward_call\u001b[0m\u001b[0;34m(\u001b[0m\u001b[0;34m*\u001b[0m\u001b[0margs\u001b[0m\u001b[0;34m,\u001b[0m \u001b[0;34m**\u001b[0m\u001b[0mkwargs\u001b[0m\u001b[0;34m)\u001b[0m\u001b[0;34m\u001b[0m\u001b[0;34m\u001b[0m\u001b[0m\n\u001b[0m\u001b[1;32m   1502\u001b[0m         \u001b[0;31m# Do not call functions when jit is used\u001b[0m\u001b[0;34m\u001b[0m\u001b[0;34m\u001b[0m\u001b[0m\n\u001b[1;32m   1503\u001b[0m         \u001b[0mfull_backward_hooks\u001b[0m\u001b[0;34m,\u001b[0m \u001b[0mnon_full_backward_hooks\u001b[0m \u001b[0;34m=\u001b[0m \u001b[0;34m[\u001b[0m\u001b[0;34m]\u001b[0m\u001b[0;34m,\u001b[0m \u001b[0;34m[\u001b[0m\u001b[0;34m]\u001b[0m\u001b[0;34m\u001b[0m\u001b[0;34m\u001b[0m\u001b[0m\n",
            "\u001b[0;32m/usr/local/lib/python3.10/dist-packages/torch/nn/modules/container.py\u001b[0m in \u001b[0;36mforward\u001b[0;34m(self, input)\u001b[0m\n\u001b[1;32m    215\u001b[0m     \u001b[0;32mdef\u001b[0m \u001b[0mforward\u001b[0m\u001b[0;34m(\u001b[0m\u001b[0mself\u001b[0m\u001b[0;34m,\u001b[0m \u001b[0minput\u001b[0m\u001b[0;34m)\u001b[0m\u001b[0;34m:\u001b[0m\u001b[0;34m\u001b[0m\u001b[0;34m\u001b[0m\u001b[0m\n\u001b[1;32m    216\u001b[0m         \u001b[0;32mfor\u001b[0m \u001b[0mmodule\u001b[0m \u001b[0;32min\u001b[0m \u001b[0mself\u001b[0m\u001b[0;34m:\u001b[0m\u001b[0;34m\u001b[0m\u001b[0;34m\u001b[0m\u001b[0m\n\u001b[0;32m--> 217\u001b[0;31m             \u001b[0minput\u001b[0m \u001b[0;34m=\u001b[0m \u001b[0mmodule\u001b[0m\u001b[0;34m(\u001b[0m\u001b[0minput\u001b[0m\u001b[0;34m)\u001b[0m\u001b[0;34m\u001b[0m\u001b[0;34m\u001b[0m\u001b[0m\n\u001b[0m\u001b[1;32m    218\u001b[0m         \u001b[0;32mreturn\u001b[0m \u001b[0minput\u001b[0m\u001b[0;34m\u001b[0m\u001b[0;34m\u001b[0m\u001b[0m\n\u001b[1;32m    219\u001b[0m \u001b[0;34m\u001b[0m\u001b[0m\n",
            "\u001b[0;32m/usr/local/lib/python3.10/dist-packages/torch/nn/modules/module.py\u001b[0m in \u001b[0;36m_call_impl\u001b[0;34m(self, *args, **kwargs)\u001b[0m\n\u001b[1;32m   1499\u001b[0m                 \u001b[0;32mor\u001b[0m \u001b[0m_global_backward_pre_hooks\u001b[0m \u001b[0;32mor\u001b[0m \u001b[0m_global_backward_hooks\u001b[0m\u001b[0;34m\u001b[0m\u001b[0;34m\u001b[0m\u001b[0m\n\u001b[1;32m   1500\u001b[0m                 or _global_forward_hooks or _global_forward_pre_hooks):\n\u001b[0;32m-> 1501\u001b[0;31m             \u001b[0;32mreturn\u001b[0m \u001b[0mforward_call\u001b[0m\u001b[0;34m(\u001b[0m\u001b[0;34m*\u001b[0m\u001b[0margs\u001b[0m\u001b[0;34m,\u001b[0m \u001b[0;34m**\u001b[0m\u001b[0mkwargs\u001b[0m\u001b[0;34m)\u001b[0m\u001b[0;34m\u001b[0m\u001b[0;34m\u001b[0m\u001b[0m\n\u001b[0m\u001b[1;32m   1502\u001b[0m         \u001b[0;31m# Do not call functions when jit is used\u001b[0m\u001b[0;34m\u001b[0m\u001b[0;34m\u001b[0m\u001b[0m\n\u001b[1;32m   1503\u001b[0m         \u001b[0mfull_backward_hooks\u001b[0m\u001b[0;34m,\u001b[0m \u001b[0mnon_full_backward_hooks\u001b[0m \u001b[0;34m=\u001b[0m \u001b[0;34m[\u001b[0m\u001b[0;34m]\u001b[0m\u001b[0;34m,\u001b[0m \u001b[0;34m[\u001b[0m\u001b[0;34m]\u001b[0m\u001b[0;34m\u001b[0m\u001b[0;34m\u001b[0m\u001b[0m\n",
            "\u001b[0;32m/usr/local/lib/python3.10/dist-packages/facexlib/parsing/parsenet.py\u001b[0m in \u001b[0;36mforward\u001b[0;34m(self, x)\u001b[0m\n\u001b[1;32m    134\u001b[0m \u001b[0;34m\u001b[0m\u001b[0m\n\u001b[1;32m    135\u001b[0m         \u001b[0mres\u001b[0m \u001b[0;34m=\u001b[0m \u001b[0mself\u001b[0m\u001b[0;34m.\u001b[0m\u001b[0mconv1\u001b[0m\u001b[0;34m(\u001b[0m\u001b[0mx\u001b[0m\u001b[0;34m)\u001b[0m\u001b[0;34m\u001b[0m\u001b[0;34m\u001b[0m\u001b[0m\n\u001b[0;32m--> 136\u001b[0;31m         \u001b[0mres\u001b[0m \u001b[0;34m=\u001b[0m \u001b[0mself\u001b[0m\u001b[0;34m.\u001b[0m\u001b[0mconv2\u001b[0m\u001b[0;34m(\u001b[0m\u001b[0mres\u001b[0m\u001b[0;34m)\u001b[0m\u001b[0;34m\u001b[0m\u001b[0;34m\u001b[0m\u001b[0m\n\u001b[0m\u001b[1;32m    137\u001b[0m         \u001b[0;32mreturn\u001b[0m \u001b[0midentity\u001b[0m \u001b[0;34m+\u001b[0m \u001b[0mres\u001b[0m\u001b[0;34m\u001b[0m\u001b[0;34m\u001b[0m\u001b[0m\n\u001b[1;32m    138\u001b[0m \u001b[0;34m\u001b[0m\u001b[0m\n",
            "\u001b[0;32m/usr/local/lib/python3.10/dist-packages/torch/nn/modules/module.py\u001b[0m in \u001b[0;36m_call_impl\u001b[0;34m(self, *args, **kwargs)\u001b[0m\n\u001b[1;32m   1499\u001b[0m                 \u001b[0;32mor\u001b[0m \u001b[0m_global_backward_pre_hooks\u001b[0m \u001b[0;32mor\u001b[0m \u001b[0m_global_backward_hooks\u001b[0m\u001b[0;34m\u001b[0m\u001b[0;34m\u001b[0m\u001b[0m\n\u001b[1;32m   1500\u001b[0m                 or _global_forward_hooks or _global_forward_pre_hooks):\n\u001b[0;32m-> 1501\u001b[0;31m             \u001b[0;32mreturn\u001b[0m \u001b[0mforward_call\u001b[0m\u001b[0;34m(\u001b[0m\u001b[0;34m*\u001b[0m\u001b[0margs\u001b[0m\u001b[0;34m,\u001b[0m \u001b[0;34m**\u001b[0m\u001b[0mkwargs\u001b[0m\u001b[0;34m)\u001b[0m\u001b[0;34m\u001b[0m\u001b[0;34m\u001b[0m\u001b[0m\n\u001b[0m\u001b[1;32m   1502\u001b[0m         \u001b[0;31m# Do not call functions when jit is used\u001b[0m\u001b[0;34m\u001b[0m\u001b[0;34m\u001b[0m\u001b[0m\n\u001b[1;32m   1503\u001b[0m         \u001b[0mfull_backward_hooks\u001b[0m\u001b[0;34m,\u001b[0m \u001b[0mnon_full_backward_hooks\u001b[0m \u001b[0;34m=\u001b[0m \u001b[0;34m[\u001b[0m\u001b[0;34m]\u001b[0m\u001b[0;34m,\u001b[0m \u001b[0;34m[\u001b[0m\u001b[0;34m]\u001b[0m\u001b[0;34m\u001b[0m\u001b[0;34m\u001b[0m\u001b[0m\n",
            "\u001b[0;32m/usr/local/lib/python3.10/dist-packages/facexlib/parsing/parsenet.py\u001b[0m in \u001b[0;36mforward\u001b[0;34m(self, x)\u001b[0m\n\u001b[1;32m    104\u001b[0m         \u001b[0mout\u001b[0m \u001b[0;34m=\u001b[0m \u001b[0mself\u001b[0m\u001b[0;34m.\u001b[0m\u001b[0mscale_func\u001b[0m\u001b[0;34m(\u001b[0m\u001b[0mx\u001b[0m\u001b[0;34m)\u001b[0m\u001b[0;34m\u001b[0m\u001b[0;34m\u001b[0m\u001b[0m\n\u001b[1;32m    105\u001b[0m         \u001b[0;32mif\u001b[0m \u001b[0mself\u001b[0m\u001b[0;34m.\u001b[0m\u001b[0muse_pad\u001b[0m\u001b[0;34m:\u001b[0m\u001b[0;34m\u001b[0m\u001b[0;34m\u001b[0m\u001b[0m\n\u001b[0;32m--> 106\u001b[0;31m             \u001b[0mout\u001b[0m \u001b[0;34m=\u001b[0m \u001b[0mself\u001b[0m\u001b[0;34m.\u001b[0m\u001b[0mreflection_pad\u001b[0m\u001b[0;34m(\u001b[0m\u001b[0mout\u001b[0m\u001b[0;34m)\u001b[0m\u001b[0;34m\u001b[0m\u001b[0;34m\u001b[0m\u001b[0m\n\u001b[0m\u001b[1;32m    107\u001b[0m         \u001b[0mout\u001b[0m \u001b[0;34m=\u001b[0m \u001b[0mself\u001b[0m\u001b[0;34m.\u001b[0m\u001b[0mconv2d\u001b[0m\u001b[0;34m(\u001b[0m\u001b[0mout\u001b[0m\u001b[0;34m)\u001b[0m\u001b[0;34m\u001b[0m\u001b[0;34m\u001b[0m\u001b[0m\n\u001b[1;32m    108\u001b[0m         \u001b[0mout\u001b[0m \u001b[0;34m=\u001b[0m \u001b[0mself\u001b[0m\u001b[0;34m.\u001b[0m\u001b[0mnorm\u001b[0m\u001b[0;34m(\u001b[0m\u001b[0mout\u001b[0m\u001b[0;34m)\u001b[0m\u001b[0;34m\u001b[0m\u001b[0;34m\u001b[0m\u001b[0m\n",
            "\u001b[0;32m/usr/local/lib/python3.10/dist-packages/torch/nn/modules/module.py\u001b[0m in \u001b[0;36m_call_impl\u001b[0;34m(self, *args, **kwargs)\u001b[0m\n\u001b[1;32m   1499\u001b[0m                 \u001b[0;32mor\u001b[0m \u001b[0m_global_backward_pre_hooks\u001b[0m \u001b[0;32mor\u001b[0m \u001b[0m_global_backward_hooks\u001b[0m\u001b[0;34m\u001b[0m\u001b[0;34m\u001b[0m\u001b[0m\n\u001b[1;32m   1500\u001b[0m                 or _global_forward_hooks or _global_forward_pre_hooks):\n\u001b[0;32m-> 1501\u001b[0;31m             \u001b[0;32mreturn\u001b[0m \u001b[0mforward_call\u001b[0m\u001b[0;34m(\u001b[0m\u001b[0;34m*\u001b[0m\u001b[0margs\u001b[0m\u001b[0;34m,\u001b[0m \u001b[0;34m**\u001b[0m\u001b[0mkwargs\u001b[0m\u001b[0;34m)\u001b[0m\u001b[0;34m\u001b[0m\u001b[0;34m\u001b[0m\u001b[0m\n\u001b[0m\u001b[1;32m   1502\u001b[0m         \u001b[0;31m# Do not call functions when jit is used\u001b[0m\u001b[0;34m\u001b[0m\u001b[0;34m\u001b[0m\u001b[0m\n\u001b[1;32m   1503\u001b[0m         \u001b[0mfull_backward_hooks\u001b[0m\u001b[0;34m,\u001b[0m \u001b[0mnon_full_backward_hooks\u001b[0m \u001b[0;34m=\u001b[0m \u001b[0;34m[\u001b[0m\u001b[0;34m]\u001b[0m\u001b[0;34m,\u001b[0m \u001b[0;34m[\u001b[0m\u001b[0;34m]\u001b[0m\u001b[0;34m\u001b[0m\u001b[0;34m\u001b[0m\u001b[0m\n",
            "\u001b[0;32m/usr/local/lib/python3.10/dist-packages/torch/nn/modules/padding.py\u001b[0m in \u001b[0;36mforward\u001b[0;34m(self, input)\u001b[0m\n\u001b[1;32m    176\u001b[0m \u001b[0;34m\u001b[0m\u001b[0m\n\u001b[1;32m    177\u001b[0m     \u001b[0;32mdef\u001b[0m \u001b[0mforward\u001b[0m\u001b[0;34m(\u001b[0m\u001b[0mself\u001b[0m\u001b[0;34m,\u001b[0m \u001b[0minput\u001b[0m\u001b[0;34m:\u001b[0m \u001b[0mTensor\u001b[0m\u001b[0;34m)\u001b[0m \u001b[0;34m->\u001b[0m \u001b[0mTensor\u001b[0m\u001b[0;34m:\u001b[0m\u001b[0;34m\u001b[0m\u001b[0;34m\u001b[0m\u001b[0m\n\u001b[0;32m--> 178\u001b[0;31m         \u001b[0;32mreturn\u001b[0m \u001b[0mF\u001b[0m\u001b[0;34m.\u001b[0m\u001b[0mpad\u001b[0m\u001b[0;34m(\u001b[0m\u001b[0minput\u001b[0m\u001b[0;34m,\u001b[0m \u001b[0mself\u001b[0m\u001b[0;34m.\u001b[0m\u001b[0mpadding\u001b[0m\u001b[0;34m,\u001b[0m \u001b[0;34m'reflect'\u001b[0m\u001b[0;34m)\u001b[0m\u001b[0;34m\u001b[0m\u001b[0;34m\u001b[0m\u001b[0m\n\u001b[0m\u001b[1;32m    179\u001b[0m \u001b[0;34m\u001b[0m\u001b[0m\n\u001b[1;32m    180\u001b[0m     \u001b[0;32mdef\u001b[0m \u001b[0mextra_repr\u001b[0m\u001b[0;34m(\u001b[0m\u001b[0mself\u001b[0m\u001b[0;34m)\u001b[0m \u001b[0;34m->\u001b[0m \u001b[0mstr\u001b[0m\u001b[0;34m:\u001b[0m\u001b[0;34m\u001b[0m\u001b[0;34m\u001b[0m\u001b[0m\n",
            "\u001b[0;31mKeyboardInterrupt\u001b[0m: "
          ]
        }
      ]
    },
    {
      "cell_type": "code",
      "source": [
        "print(\"ssim of our model\",np.mean(np.array(ssim_losses)))\n",
        "print(\"ssim of original model\",np.mean(np.array(ssim_losses_og)))\n"
      ],
      "metadata": {
        "id": "6QAd8fVWckwl",
        "outputId": "970a8696-4991-452b-9fde-803434770dd1",
        "colab": {
          "base_uri": "https://localhost:8080/"
        }
      },
      "execution_count": null,
      "outputs": [
        {
          "output_type": "stream",
          "name": "stdout",
          "text": [
            "ssim of our model 0.9534172123610725\n",
            "ssim of original model 0.9485069342432839\n"
          ]
        }
      ]
    }
  ]
}